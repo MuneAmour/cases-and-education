{
 "cells": [
  {
   "cell_type": "markdown",
   "id": "4170fd38",
   "metadata": {},
   "source": [
    "# Урок 1, Pandas"
   ]
  },
  {
   "cell_type": "code",
   "execution_count": null,
   "id": "b4a19557",
   "metadata": {},
   "outputs": [],
   "source": [
    "#Итог урока\n",
    "#Кортеж - ы = (1,2,3,4,5)\n",
    "#Серия - лейбл и его индексы\n",
    "#Коллекция - содержит значения словаря и дает на выходе данные в виде []\n",
    "#Словарь - ключ- значение. на выходе подается через {}"
   ]
  },
  {
   "cell_type": "code",
   "execution_count": null,
   "id": "b110b436",
   "metadata": {},
   "outputs": [],
   "source": [
    "import pandas as pd\n",
    "import numpy as np"
   ]
  },
  {
   "cell_type": "code",
   "execution_count": null,
   "id": "9d701495",
   "metadata": {},
   "outputs": [],
   "source": [
    "students_perfomance = pd.read_csv('C:/Users/Melihov_OO/Downloads/StudentsPerformance.csv')"
   ]
  },
  {
   "cell_type": "code",
   "execution_count": null,
   "id": "b5f80831",
   "metadata": {},
   "outputs": [],
   "source": [
    "students_perfomance"
   ]
  },
  {
   "cell_type": "code",
   "execution_count": null,
   "id": "e5accf0a",
   "metadata": {},
   "outputs": [],
   "source": [
    "students_perfomance.describe()"
   ]
  },
  {
   "cell_type": "code",
   "execution_count": null,
   "id": "a510f381",
   "metadata": {},
   "outputs": [],
   "source": [
    "students_perfomance.dtypes\n",
    "#Атрибут (необходимо смотреть курс по базе программирования питон). Тк это атрибут, то скобки не вызываются\n",
    "# Types позволяет посмотреть типы данных, хранящихся в датафрейме"
   ]
  },
  {
   "cell_type": "code",
   "execution_count": null,
   "id": "5b2f4b89",
   "metadata": {},
   "outputs": [],
   "source": [
    "students_perfomance.groupby('gender').aggregate({'writing score' : 'mean'})\n",
    "# goupby позволяет сгруппировать данные, а aggregate провести вычислительные действия над числовыми данными, \n",
    "# подверженными группировке, в данном случае mean - средняя"
   ]
  },
  {
   "cell_type": "code",
   "execution_count": null,
   "id": "f1b9eee5",
   "metadata": {},
   "outputs": [],
   "source": [
    "students_perfomance.iloc[0:5, 0:3]\n",
    "# ILOC - INTEGER LOCATION \\\\ Мы обратились сначала к строкам (0 - 5), а потом к столбцам (0 - 3)"
   ]
  },
  {
   "cell_type": "code",
   "execution_count": null,
   "id": "d6a37de6",
   "metadata": {},
   "outputs": [],
   "source": [
    "students_perfomance_small = students_perfomance.iloc[[0, 3, 4, 7, 8]]\n",
    "students_perfomance_small"
   ]
  },
  {
   "cell_type": "code",
   "execution_count": null,
   "id": "34529686",
   "metadata": {},
   "outputs": [],
   "source": [
    "students_perfomance_small.index = [\"Cersei\", \"Tywin\", \"Gregor\", \"Joffrey\", \"Ilyn Payne\"]\n",
    "students_perfomance_small\n",
    "# INDEX // Присваивает в качестве аргумента то, что мы захотим, в данном случае имена"
   ]
  },
  {
   "cell_type": "code",
   "execution_count": null,
   "id": "65d5cbbb",
   "metadata": {},
   "outputs": [],
   "source": [
    "students_perfomance_small.loc[['Cersei', 'Joffrey'], ['gender', 'writing score']]\n",
    "# LOC // обращается к лэйблам - названиям столбцов или индексов (добавили ранее)\n"
   ]
  },
  {
   "cell_type": "code",
   "execution_count": null,
   "id": "f5942682",
   "metadata": {},
   "outputs": [],
   "source": [
    "students_perfomance_small.iloc[:,1]\n",
    "#Вызывается \"серия\", то есть лейбл и его индексы\n",
    "#Соответственно \"Датафрейм\" это набор серий"
   ]
  },
  {
   "cell_type": "code",
   "execution_count": null,
   "id": "6c9b5848",
   "metadata": {},
   "outputs": [],
   "source": [
    "my_series_1 = pd.Series([1, 2, 3], index = [\"Cersei\",\"Tywin\", \"Gregor\"])\n",
    "my_series_2 = pd.Series([4, 5, 6], index = [\"Cersei\",\"Tywin\", \"Gregor\"])\n",
    "#создаем \"СЕРИИ\""
   ]
  },
  {
   "cell_type": "code",
   "execution_count": null,
   "id": "2fca8925",
   "metadata": {},
   "outputs": [],
   "source": [
    "pd.DataFrame({'Col_name_1': my_series_1, 'Col_name_2' : my_series_2})\n",
    "#Создаем \"Датафрейм\""
   ]
  },
  {
   "cell_type": "code",
   "execution_count": null,
   "id": "2168979a",
   "metadata": {},
   "outputs": [],
   "source": [
    "students_perfomance_small[['gender']]\n",
    "# Одна квадратная скобка - серия, а две  - датафрейм\n"
   ]
  },
  {
   "cell_type": "code",
   "execution_count": null,
   "id": "7b848eed",
   "metadata": {},
   "outputs": [],
   "source": [
    "students_perfomance_small.shape"
   ]
  },
  {
   "cell_type": "markdown",
   "id": "264537a5",
   "metadata": {},
   "source": [
    "# Задача 1"
   ]
  },
  {
   "cell_type": "code",
   "execution_count": null,
   "id": "60829848",
   "metadata": {},
   "outputs": [],
   "source": [
    "titanic = pd.read_csv('C:/Users/Melihov_OO/Downloads/titanic.csv')\n",
    "titanic"
   ]
  },
  {
   "cell_type": "code",
   "execution_count": null,
   "id": "865f6441",
   "metadata": {},
   "outputs": [],
   "source": [
    "titanic.info"
   ]
  },
  {
   "cell_type": "markdown",
   "id": "c5a0d462",
   "metadata": {},
   "source": [
    "# Урок 2 Фильтрация"
   ]
  },
  {
   "cell_type": "code",
   "execution_count": null,
   "id": "f6b4f6c5",
   "metadata": {},
   "outputs": [],
   "source": [
    "students_perfomance.loc[students_perfomance['writing score'] > mean_writing_score]\n",
    "# Фильтрация в Pandas"
   ]
  },
  {
   "cell_type": "code",
   "execution_count": null,
   "id": "8b978de6",
   "metadata": {},
   "outputs": [],
   "source": [
    "mean_writing_score = students_perfomance['writing score'].mean()\n",
    "# Нашли среднюю"
   ]
  },
  {
   "cell_type": "code",
   "execution_count": null,
   "id": "189020cd",
   "metadata": {},
   "outputs": [],
   "source": [
    "students_perfomance['writing score'].mean()"
   ]
  },
  {
   "cell_type": "code",
   "execution_count": null,
   "id": "87b0e971",
   "metadata": {},
   "outputs": [],
   "source": [
    "querry = students_perfomance.loc[(students_perfomance['writing score'] > mean_writing_score) & (students_perfomance.gender == 'female')]\n",
    "# Фильтр комбинированный с И(&)"
   ]
  },
  {
   "cell_type": "code",
   "execution_count": null,
   "id": "5727d5a4",
   "metadata": {},
   "outputs": [],
   "source": [
    "querry.head()"
   ]
  },
  {
   "cell_type": "markdown",
   "id": "81ef1d1e",
   "metadata": {},
   "source": [
    "Задача 1\n"
   ]
  },
  {
   "cell_type": "code",
   "execution_count": null,
   "id": "b511dbfd",
   "metadata": {},
   "outputs": [],
   "source": [
    "count_lunch = students_perfomance['lunch'].count()"
   ]
  },
  {
   "cell_type": "code",
   "execution_count": null,
   "id": "a8f3d615",
   "metadata": {},
   "outputs": [],
   "source": [
    "print(students_perfomance.lunch[students_perfomance.lunch == 'free/reduced'].count()/students_perfomance['lunch'].count())\n",
    "#необходимо было найти значение по фильтру и поделить на общее количество\n",
    "#В левой части отфильтровал данные по признаку фри/редьюс и поделил на количество значений столбца"
   ]
  },
  {
   "cell_type": "code",
   "execution_count": null,
   "id": "0b7f4622",
   "metadata": {},
   "outputs": [],
   "source": [
    "students_perfomance.groupby('lunch').aggregate({'math score':['count', 'mean', 'std'], 'reading score':['count', 'mean', 'std'], 'writing score' :['count', 'mean', 'std']})\n",
    "#Необходимо было найти 3 расчетных значения для всех типов ланча у студентов\n",
    "# Для начала группировка, потом аггрегация и внутри ее создаем словарь из расчетных показателей и расчитываемых величин"
   ]
  },
  {
   "cell_type": "code",
   "execution_count": null,
   "id": "9d9dda17",
   "metadata": {},
   "outputs": [],
   "source": [
    "# = students_perfomance \\\n",
    "    .rename(columns =  \n",
    "           {'parental level of education': 'parental_level_of_education',\n",
    "           'test preparation course': 'test_preparation_course',\n",
    "           'math score': 'math_score',\n",
    "           'reading score': 'reading_score',\n",
    "           'writing score': 'writing_score'})\n",
    "students_perfomance\n",
    "# RENAME // Переименовали столбы для более удобного обращения к ним "
   ]
  },
  {
   "cell_type": "code",
   "execution_count": null,
   "id": "278a3211",
   "metadata": {},
   "outputs": [],
   "source": [
    "students_perfomance.query('gender == \"female\" & writing_score > 78')\n",
    "# Метод фильтрации через QUERY"
   ]
  },
  {
   "cell_type": "code",
   "execution_count": null,
   "id": "7aec35a8",
   "metadata": {},
   "outputs": [],
   "source": [
    "students_perfomance[students_perfomance['parental_level_of_education'].isin([\"bachelor's degree\", \"master's degree\"])]"
   ]
  },
  {
   "cell_type": "code",
   "execution_count": null,
   "id": "c1315aa0",
   "metadata": {},
   "outputs": [],
   "source": [
    "score_columns = [i for i in list(students_perfomance) if 'score' in i ] \n",
    "#Отбор столбцов в таблице по слову SCORE с помощью цикла"
   ]
  },
  {
   "cell_type": "code",
   "execution_count": null,
   "id": "ba377880",
   "metadata": {},
   "outputs": [],
   "source": [
    "students_perfomance_small.filter(like = 'e', axis = 0)\n",
    "#Фильтрация с помощью FILTER, где можно указать регулярку через LIKE и условием строки/столбика - AXIS (1 - столбец, 0 - строка)\n"
   ]
  },
  {
   "cell_type": "markdown",
   "id": "012b21fe",
   "metadata": {},
   "source": [
    "# Урок 3 - агрегация "
   ]
  },
  {
   "cell_type": "code",
   "execution_count": null,
   "id": "158c7220",
   "metadata": {},
   "outputs": [],
   "source": [
    "students_perfomance.groupby('gender', as_index = False) \\\n",
    "    .aggregate({'math_score': 'mean', 'reading_score': 'mean'}) \\\n",
    "    .rename(columns = {'math_score': 'mean_math_score','reading_score': 'mean_reading_score'})\n",
    "#Пример агрегации для альтернативного представления после групбай нужно поставить as_index = False"
   ]
  },
  {
   "cell_type": "code",
   "execution_count": null,
   "id": "a13b84db",
   "metadata": {},
   "outputs": [],
   "source": [
    "mean_score = students_perfomance.groupby(['gender','race/ethnicity'], as_index = False) \\\n",
    "    .aggregate({'math_score': 'mean', 'reading_score': 'mean'}) \\\n",
    "    .rename(columns = {'math_score': 'mean_math_score','reading_score': 'mean_reading_score'})\n",
    "    \n",
    "#Пример агрегации с двумя переменными\n",
    "mean_score"
   ]
  },
  {
   "cell_type": "code",
   "execution_count": null,
   "id": "10968e28",
   "metadata": {},
   "outputs": [],
   "source": [
    "mean_score.index\n"
   ]
  },
  {
   "cell_type": "code",
   "execution_count": null,
   "id": "8b45aab5",
   "metadata": {},
   "outputs": [],
   "source": [
    "students_perfomance.sort_values(['gender','math_score'], ascending=False) \\\n",
    "    .groupby('gender').head(5)\n",
    "# отсортировали по полу и оценкам, сгруппировали по полу и выдали 5 записей от каждой группы"
   ]
  },
  {
   "cell_type": "code",
   "execution_count": null,
   "id": "bcb3e464",
   "metadata": {},
   "outputs": [],
   "source": []
  },
  {
   "cell_type": "code",
   "execution_count": null,
   "id": "e958d3bf",
   "metadata": {},
   "outputs": [],
   "source": [
    "students_perfomance['total_score'] = students_perfomance.reading_score + students_perfomance.writing_score + students_perfomance.math_score\n",
    "students_perfomance\n",
    "#Метод добавления нового столбца и заполнения его данными в лоб"
   ]
  },
  {
   "cell_type": "code",
   "execution_count": null,
   "id": "27764f85",
   "metadata": {},
   "outputs": [],
   "source": [
    "students_perfomance = students_perfomance.assign(total_score_log = np.log(students_perfomance.total_score))\n",
    "students_perfomance\n",
    "#Добавили столбец, который берет логарифм от тотал скор"
   ]
  },
  {
   "cell_type": "code",
   "execution_count": null,
   "id": "f585b684",
   "metadata": {},
   "outputs": [],
   "source": [
    "students_perfomance.drop(['total_score_log'], axis = 1)"
   ]
  },
  {
   "cell_type": "markdown",
   "id": "c0507e47",
   "metadata": {},
   "source": [
    "# Задача 2 "
   ]
  },
  {
   "cell_type": "code",
   "execution_count": null,
   "id": "db55efef",
   "metadata": {},
   "outputs": [],
   "source": [
    "dota_hero_stats = pd.read_csv('C:/Users/Melihov_OO/Downloads/dota_hero_stats.csv')\n",
    "dota_hero_stats"
   ]
  },
  {
   "cell_type": "code",
   "execution_count": null,
   "id": "80031e23",
   "metadata": {},
   "outputs": [],
   "source": [
    "dota_hero_stats.groupby('legs').aggregate({'legs': 'count'}) \\\n",
    "    .rename(columns = {'legs': 'count_legs'})"
   ]
  },
  {
   "cell_type": "code",
   "execution_count": null,
   "id": "6c52584c",
   "metadata": {},
   "outputs": [],
   "source": [
    "dota_attr = dota_hero_stats.groupby(['attack_type', 'primary_attr'])\\\n",
    "    .aggregate({'primary_attr': 'count', 'attack_type': 'count'})\n",
    "dota_attr\n"
   ]
  },
  {
   "cell_type": "markdown",
   "id": "d7743d87",
   "metadata": {},
   "source": [
    "# Задача 3"
   ]
  },
  {
   "cell_type": "code",
   "execution_count": null,
   "id": "ba0fb468",
   "metadata": {},
   "outputs": [],
   "source": [
    "accountancy = pd.read_csv('C:/Users/Melihov_OO/Downloads/accountancy.csv')\n",
    "accountancy.head()"
   ]
  },
  {
   "cell_type": "code",
   "execution_count": null,
   "id": "a8e0f2f0",
   "metadata": {},
   "outputs": [],
   "source": [
    "accountancy.groupby(['Type', 'Executor'], as_index = False).aggregate({'Salary': 'mean'}) \\\n",
    "    .rename(columns = {'Salary': 'mean_salary_of_group'})"
   ]
  },
  {
   "cell_type": "code",
   "execution_count": null,
   "id": "42ae87b1",
   "metadata": {},
   "outputs": [],
   "source": [
    "file = 'http://stepik.org/media/attachments/course/4852/algae.csv'\n",
    "\n",
    "\n",
    "df =pd.read_csv(file)\n",
    "\n",
    "mean_concentrations =df.groupby(['genus'], as_index = False)\\\n",
    "    .aggregate(\n",
    "    mean_suc = ('sucrose', 'mean'),\n",
    "    mean_alanin = ('alanin', 'mean'),\n",
    "    mean_citrate = ('citrate', 'mean'),\n",
    "    mean_glucose = ('glucose', 'mean'),\n",
    "    mean_oleic_acid = ('oleic_acid', 'mean')\n",
    ")"
   ]
  },
  {
   "cell_type": "markdown",
   "id": "2a65dc16",
   "metadata": {},
   "source": [
    "# Урок 4. Визуализации"
   ]
  },
  {
   "cell_type": "code",
   "execution_count": null,
   "id": "775657fe",
   "metadata": {},
   "outputs": [],
   "source": [
    "%matplotlib inline\n",
    "import matplotlib as plt\n",
    "import seaborn as sns"
   ]
  },
  {
   "cell_type": "code",
   "execution_count": null,
   "id": "887e17cc",
   "metadata": {},
   "outputs": [],
   "source": [
    "students_perfomance.math_score.hist()\n",
    "#Гистограмма"
   ]
  },
  {
   "cell_type": "code",
   "execution_count": null,
   "id": "128f197c",
   "metadata": {},
   "outputs": [],
   "source": [
    "students_perfomance.plot.scatter(x= 'math_score', y= 'reading_score')"
   ]
  },
  {
   "cell_type": "code",
   "execution_count": null,
   "id": "8f717870",
   "metadata": {},
   "outputs": [],
   "source": [
    "ax = sns.lmplot(x= 'math_score', y= 'reading_score',hue = 'gender', data = students_perfomance, fit_reg = False)\n",
    "ax.set_xlabels('Math score')\n",
    "ax.set_ylabels('Reading score')"
   ]
  },
  {
   "cell_type": "code",
   "execution_count": null,
   "id": "8b22d014",
   "metadata": {},
   "outputs": [],
   "source": [
    "inc = pd.read_csv('C:/Users/Melihov_OO/Downloads/income.csv')"
   ]
  },
  {
   "cell_type": "code",
   "execution_count": null,
   "id": "ce76ccc7",
   "metadata": {},
   "outputs": [],
   "source": [
    "sns.lineplot(data = inc)"
   ]
  },
  {
   "cell_type": "code",
   "execution_count": null,
   "id": "d4131879",
   "metadata": {},
   "outputs": [],
   "source": [
    "df = pd.read_csv('C:/Users/Melihov_OO/Downloads/dataset_209770_6.txt', sep = ' ')\n",
    "df.head()"
   ]
  },
  {
   "cell_type": "code",
   "execution_count": null,
   "id": "61cb2546",
   "metadata": {},
   "outputs": [],
   "source": [
    "df.plot.scatter(x= 'x', y= 'y')"
   ]
  },
  {
   "cell_type": "code",
   "execution_count": null,
   "id": "c5753008",
   "metadata": {},
   "outputs": [],
   "source": [
    "genome_matrix = pd.read_csv('C:/Users/Melihov_OO/Downloads/genome_matrix.csv', index_col=0)\n",
    "genome_matrix\n"
   ]
  },
  {
   "cell_type": "code",
   "execution_count": null,
   "id": "2c424d5e",
   "metadata": {},
   "outputs": [],
   "source": [
    "\n",
    "ax = sns.heatmap(data=genome_matrix, annot=True, cmap=\"viridis\", linewidths=.5);\n",
    "\n",
    "ax.xaxis.set_ticks_position('top')\n",
    "\n",
    "ax.xaxis.set_tick_params(rotation=90)"
   ]
  },
  {
   "cell_type": "code",
   "execution_count": null,
   "id": "dd784876",
   "metadata": {},
   "outputs": [],
   "source": [
    "dota_hero_stats = pd.read_csv('C:/Users/Melihov_OO/Downloads/dota_hero_stats.csv')\n",
    "dota_hero_stats"
   ]
  },
  {
   "cell_type": "code",
   "execution_count": null,
   "id": "c07f891e",
   "metadata": {},
   "outputs": [],
   "source": [
    "dota_hero_stats.mode()"
   ]
  },
  {
   "cell_type": "code",
   "execution_count": null,
   "id": "799a51e5",
   "metadata": {},
   "outputs": [],
   "source": [
    "dota_hero_stats['cnt'] = dota_hero_stats.roles.str.count(',')+1\n",
    "\n",
    "dota_hero_stats"
   ]
  },
  {
   "cell_type": "code",
   "execution_count": null,
   "id": "6fc28f69",
   "metadata": {},
   "outputs": [],
   "source": [
    "count_d = dota_hero_stats.groupby(['cnt', 'primary_attr'], as_index = False).aggregate({'cnt': 'count'})\\\n",
    "    .rename(columns = {'cnt': 'COUNT'})\n",
    "count_d.groupby('primary_attr', as_index = False).aggregate({'COUNT': 'sum'})\n",
    "count_d.COUNT.hist()\n",
    "#sns.histplot(data=count_d, y=\"cnt\")"
   ]
  },
  {
   "cell_type": "code",
   "execution_count": null,
   "id": "96511f2f",
   "metadata": {},
   "outputs": [],
   "source": [
    "dota_hero_stats['roles']"
   ]
  },
  {
   "cell_type": "code",
   "execution_count": null,
   "id": "50aed453",
   "metadata": {},
   "outputs": [],
   "source": [
    "iris = pd.read_csv('C:/Users/Melihov_OO/Downloads/iris.csv')\n",
    "iris.head()"
   ]
  },
  {
   "cell_type": "code",
   "execution_count": null,
   "id": "4042e59f",
   "metadata": {},
   "outputs": [],
   "source": [
    "iris = sns.load_dataset(\"iris\")\n",
    "sns.kdeplot(data=iris)"
   ]
  },
  {
   "cell_type": "code",
   "execution_count": null,
   "id": "cc4d5157",
   "metadata": {},
   "outputs": [],
   "source": [
    "iris_violin_plot['','']"
   ]
  },
  {
   "cell_type": "code",
   "execution_count": null,
   "id": "abd05092",
   "metadata": {},
   "outputs": [],
   "source": [
    "sns.violinplot(y = iris[\"petal_length\"], orient = 'v')"
   ]
  },
  {
   "cell_type": "code",
   "execution_count": null,
   "id": "ac6644b7",
   "metadata": {},
   "outputs": [],
   "source": [
    "sns.pairplot(iris, hue=\"species\", diag_kind=\"hist\")"
   ]
  },
  {
   "cell_type": "code",
   "execution_count": null,
   "id": "96220300",
   "metadata": {
    "scrolled": true
   },
   "outputs": [],
   "source": [
    "#создаем \"СЕРИИ\"\n",
    "\n",
    "my_data_2 = pd.Series(['A', 'A', 'B', 'B'], index = [\"1\", \"2\", \"3\", \"4\"])\n",
    "my_data_1 = pd.Series([10, 14, 12, 23], index = [\"A\", \"A\", \"B\", \"B\"])\n",
    "# Создаем датафрейм\n",
    "pd.DataFrame({'type': my_data_1, 'value': my_data_2})"
   ]
  },
  {
   "cell_type": "markdown",
   "id": "7449103e",
   "metadata": {},
   "source": [
    "# Задача 2"
   ]
  },
  {
   "cell_type": "code",
   "execution_count": 109,
   "id": "268d1c94",
   "metadata": {},
   "outputs": [
    {
     "data": {
      "text/html": [
       "<div>\n",
       "<style scoped>\n",
       "    .dataframe tbody tr th:only-of-type {\n",
       "        vertical-align: middle;\n",
       "    }\n",
       "\n",
       "    .dataframe tbody tr th {\n",
       "        vertical-align: top;\n",
       "    }\n",
       "\n",
       "    .dataframe thead th {\n",
       "        text-align: right;\n",
       "    }\n",
       "</style>\n",
       "<table border=\"1\" class=\"dataframe\">\n",
       "  <thead>\n",
       "    <tr style=\"text-align: right;\">\n",
       "      <th></th>\n",
       "      <th>V1</th>\n",
       "      <th>V2</th>\n",
       "      <th>V3</th>\n",
       "      <th>V4</th>\n",
       "    </tr>\n",
       "  </thead>\n",
       "  <tbody>\n",
       "    <tr>\n",
       "      <th>0</th>\n",
       "      <td>2</td>\n",
       "      <td>13.0</td>\n",
       "      <td>B</td>\n",
       "      <td>1.0</td>\n",
       "    </tr>\n",
       "    <tr>\n",
       "      <th>1</th>\n",
       "      <td>-1</td>\n",
       "      <td>7.0</td>\n",
       "      <td>B</td>\n",
       "      <td>1.0</td>\n",
       "    </tr>\n",
       "    <tr>\n",
       "      <th>2</th>\n",
       "      <td>0</td>\n",
       "      <td>11.0</td>\n",
       "      <td>A</td>\n",
       "      <td>0.0</td>\n",
       "    </tr>\n",
       "    <tr>\n",
       "      <th>3</th>\n",
       "      <td>2</td>\n",
       "      <td>11.0</td>\n",
       "      <td>A</td>\n",
       "      <td>2.0</td>\n",
       "    </tr>\n",
       "    <tr>\n",
       "      <th>4</th>\n",
       "      <td>0</td>\n",
       "      <td>10.0</td>\n",
       "      <td>B</td>\n",
       "      <td>-1.0</td>\n",
       "    </tr>\n",
       "    <tr>\n",
       "      <th>...</th>\n",
       "      <td>...</td>\n",
       "      <td>...</td>\n",
       "      <td>...</td>\n",
       "      <td>...</td>\n",
       "    </tr>\n",
       "    <tr>\n",
       "      <th>495</th>\n",
       "      <td>1</td>\n",
       "      <td>8.0</td>\n",
       "      <td>A</td>\n",
       "      <td>-1.0</td>\n",
       "    </tr>\n",
       "    <tr>\n",
       "      <th>496</th>\n",
       "      <td>3</td>\n",
       "      <td>8.0</td>\n",
       "      <td>A</td>\n",
       "      <td>1.0</td>\n",
       "    </tr>\n",
       "    <tr>\n",
       "      <th>497</th>\n",
       "      <td>-1</td>\n",
       "      <td>11.0</td>\n",
       "      <td>B</td>\n",
       "      <td>2.0</td>\n",
       "    </tr>\n",
       "    <tr>\n",
       "      <th>498</th>\n",
       "      <td>1</td>\n",
       "      <td>11.0</td>\n",
       "      <td>A</td>\n",
       "      <td>2.0</td>\n",
       "    </tr>\n",
       "    <tr>\n",
       "      <th>499</th>\n",
       "      <td>0</td>\n",
       "      <td>8.0</td>\n",
       "      <td>B</td>\n",
       "      <td>1.0</td>\n",
       "    </tr>\n",
       "  </tbody>\n",
       "</table>\n",
       "<p>500 rows × 4 columns</p>\n",
       "</div>"
      ],
      "text/plain": [
       "     V1    V2 V3   V4\n",
       "0     2  13.0  B  1.0\n",
       "1    -1   7.0  B  1.0\n",
       "2     0  11.0  A  0.0\n",
       "3     2  11.0  A  2.0\n",
       "4     0  10.0  B -1.0\n",
       "..   ..   ... ..  ...\n",
       "495   1   8.0  A -1.0\n",
       "496   3   8.0  A  1.0\n",
       "497  -1  11.0  B  2.0\n",
       "498   1  11.0  A  2.0\n",
       "499   0   8.0  B  1.0\n",
       "\n",
       "[500 rows x 4 columns]"
      ]
     },
     "execution_count": 109,
     "metadata": {},
     "output_type": "execute_result"
    }
   ],
   "source": [
    "\n",
    "my_stat = pd.read_csv('C:/Users/Melihov_OO/Downloads/my_stat.csv')\n",
    "my_stat"
   ]
  },
  {
   "cell_type": "code",
   "execution_count": 110,
   "id": "44f986af",
   "metadata": {},
   "outputs": [
    {
     "data": {
      "text/html": [
       "<div>\n",
       "<style scoped>\n",
       "    .dataframe tbody tr th:only-of-type {\n",
       "        vertical-align: middle;\n",
       "    }\n",
       "\n",
       "    .dataframe tbody tr th {\n",
       "        vertical-align: top;\n",
       "    }\n",
       "\n",
       "    .dataframe thead th {\n",
       "        text-align: right;\n",
       "    }\n",
       "</style>\n",
       "<table border=\"1\" class=\"dataframe\">\n",
       "  <thead>\n",
       "    <tr style=\"text-align: right;\">\n",
       "      <th></th>\n",
       "      <th>V2</th>\n",
       "      <th>V4</th>\n",
       "    </tr>\n",
       "  </thead>\n",
       "  <tbody>\n",
       "    <tr>\n",
       "      <th>0</th>\n",
       "      <td>13.0</td>\n",
       "      <td>1.0</td>\n",
       "    </tr>\n",
       "    <tr>\n",
       "      <th>2</th>\n",
       "      <td>11.0</td>\n",
       "      <td>0.0</td>\n",
       "    </tr>\n",
       "    <tr>\n",
       "      <th>3</th>\n",
       "      <td>11.0</td>\n",
       "      <td>2.0</td>\n",
       "    </tr>\n",
       "    <tr>\n",
       "      <th>4</th>\n",
       "      <td>10.0</td>\n",
       "      <td>-1.0</td>\n",
       "    </tr>\n",
       "    <tr>\n",
       "      <th>6</th>\n",
       "      <td>9.0</td>\n",
       "      <td>2.0</td>\n",
       "    </tr>\n",
       "    <tr>\n",
       "      <th>...</th>\n",
       "      <td>...</td>\n",
       "      <td>...</td>\n",
       "    </tr>\n",
       "    <tr>\n",
       "      <th>495</th>\n",
       "      <td>8.0</td>\n",
       "      <td>-1.0</td>\n",
       "    </tr>\n",
       "    <tr>\n",
       "      <th>496</th>\n",
       "      <td>8.0</td>\n",
       "      <td>1.0</td>\n",
       "    </tr>\n",
       "    <tr>\n",
       "      <th>497</th>\n",
       "      <td>11.0</td>\n",
       "      <td>2.0</td>\n",
       "    </tr>\n",
       "    <tr>\n",
       "      <th>498</th>\n",
       "      <td>11.0</td>\n",
       "      <td>2.0</td>\n",
       "    </tr>\n",
       "    <tr>\n",
       "      <th>499</th>\n",
       "      <td>8.0</td>\n",
       "      <td>1.0</td>\n",
       "    </tr>\n",
       "  </tbody>\n",
       "</table>\n",
       "<p>498 rows × 2 columns</p>\n",
       "</div>"
      ],
      "text/plain": [
       "       V2   V4\n",
       "0    13.0  1.0\n",
       "2    11.0  0.0\n",
       "3    11.0  2.0\n",
       "4    10.0 -1.0\n",
       "6     9.0  2.0\n",
       "..    ...  ...\n",
       "495   8.0 -1.0\n",
       "496   8.0  1.0\n",
       "497  11.0  2.0\n",
       "498  11.0  2.0\n",
       "499   8.0  1.0\n",
       "\n",
       "[498 rows x 2 columns]"
      ]
     },
     "execution_count": 110,
     "metadata": {},
     "output_type": "execute_result"
    }
   ],
   "source": [
    "subset_1 = my_stat[['V1','V3']].iloc[0:11]\n",
    "subset_1\n",
    "subset_2 = my_stat[['V2','V4']].drop([1, 5], axis=0)\n",
    "subset_2\n"
   ]
  },
  {
   "cell_type": "code",
   "execution_count": null,
   "id": "768debf0",
   "metadata": {},
   "outputs": [],
   "source": [
    "s_1 = my_stat.loc[(my_stat['V1'] > 0) & (my_stat.V3 == 'A')]\n",
    "s_1\n",
    "s_2 = my_stat.loc[(my_stat['V2'] != 10) | (my_stat['V4'] >= 1)]\n",
    "s_2"
   ]
  },
  {
   "cell_type": "code",
   "execution_count": null,
   "id": "1520ac73",
   "metadata": {},
   "outputs": [],
   "source": []
  },
  {
   "cell_type": "code",
   "execution_count": null,
   "id": "4dfbface",
   "metadata": {},
   "outputs": [],
   "source": [
    "#Теперь давайте преобразуем наши данные. \n",
    "#В переменной my_stat лежат данные с которыми вам необходимо проделать следующее дейтвие. \n",
    "#В этих данных (my_stat) создайте две новые переменных: V5 = V1 + V4\n",
    "#V6 = натуральный логарифм переменной V2\n",
    "\n",
    "my_stat['V5'] = my_stat.V1 + my_stat.V4\n",
    "my_stat = my_stat.assign(V6 = np.log(my_stat.V2))\n",
    "my_stat"
   ]
  },
  {
   "cell_type": "code",
   "execution_count": null,
   "id": "b61c918a",
   "metadata": {},
   "outputs": [],
   "source": [
    "my_stat.rename(columns = {'V1': 'session_value', 'V2':'group','V3':'time','V4':'n_users'})"
   ]
  },
  {
   "cell_type": "code",
   "execution_count": null,
   "id": "4fda9883",
   "metadata": {},
   "outputs": [],
   "source": [
    "my_stat = pd.read_csv('C:/Users/Melihov_OO/Downloads/my_stat_1.csv')\n",
    "my_stat_1 = my_stat.fillna(0)\n",
    "my_stat_1"
   ]
  },
  {
   "cell_type": "code",
   "execution_count": null,
   "id": "1555a956",
   "metadata": {},
   "outputs": [],
   "source": [
    "my_stat_2 = my_stat_1.loc[(my_stat_1['n_users'] > 0)]\n",
    "med = my_stat_2['n_users'].median()\n",
    "my_stat_1['n_users'] = np.where(my_stat_1.n_users < 0, med, my_stat_1.n_users)\n",
    "my_stat_1"
   ]
  },
  {
   "cell_type": "code",
   "execution_count": null,
   "id": "ca2ae377",
   "metadata": {},
   "outputs": [],
   "source": [
    "mean_session_value_data = my_stat.groupby('group', as_index = False).agg({'session_value': 'mean'})\n",
    "mean_session_value_data.rename(columns = {'session_value': 'mean_session_value'})"
   ]
  },
  {
   "cell_type": "code",
   "execution_count": null,
   "id": "7e2ae9df",
   "metadata": {},
   "outputs": [],
   "source": [
    "my_stat['session_value'] = my_stat['session_value'].fillna(0)\n",
    "my_stat.loc[my_stat[\"n_users\"] < 0, \"n_users\"] = \\\n",
    "    my_stat.loc[my_stat[\"n_users\"] >= 0, \"n_users\"].median()"
   ]
  },
  {
   "cell_type": "markdown",
   "id": "301cfe9f",
   "metadata": {},
   "source": [
    "#  Stepik ML contest Блок 2 // Дата препроцессинг\n"
   ]
  },
  {
   "cell_type": "code",
   "execution_count": 3,
   "id": "5a81821d",
   "metadata": {},
   "outputs": [],
   "source": [
    "import pandas as pd\n",
    "import numpy as np\n",
    "%matplotlib inline\n",
    "import matplotlib.pyplot as plt\n",
    "import seaborn as sns"
   ]
  },
  {
   "cell_type": "code",
   "execution_count": 4,
   "id": "926d29a2",
   "metadata": {},
   "outputs": [],
   "source": [
    "#Настройка для размера графика\n",
    "sns.set(rc = {'figure.figsize': (9,6)})"
   ]
  },
  {
   "cell_type": "code",
   "execution_count": 5,
   "id": "9720d97b",
   "metadata": {},
   "outputs": [],
   "source": [
    "#Читаем файл\n",
    "events_data = pd.read_csv('C:/Users/Melihov_OO/Downloads/event_data_train.csv')\n",
    "submissions_data = pd.read_csv('C:/Users/Melihov_OO/Downloads/submissions_data_train.csv')"
   ]
  },
  {
   "cell_type": "code",
   "execution_count": 6,
   "id": "c30b2c60",
   "metadata": {},
   "outputs": [
    {
     "data": {
      "text/html": [
       "<div>\n",
       "<style scoped>\n",
       "    .dataframe tbody tr th:only-of-type {\n",
       "        vertical-align: middle;\n",
       "    }\n",
       "\n",
       "    .dataframe tbody tr th {\n",
       "        vertical-align: top;\n",
       "    }\n",
       "\n",
       "    .dataframe thead th {\n",
       "        text-align: right;\n",
       "    }\n",
       "</style>\n",
       "<table border=\"1\" class=\"dataframe\">\n",
       "  <thead>\n",
       "    <tr style=\"text-align: right;\">\n",
       "      <th></th>\n",
       "      <th>step_id</th>\n",
       "      <th>timestamp</th>\n",
       "      <th>action</th>\n",
       "      <th>user_id</th>\n",
       "    </tr>\n",
       "  </thead>\n",
       "  <tbody>\n",
       "    <tr>\n",
       "      <th>0</th>\n",
       "      <td>32815</td>\n",
       "      <td>1434340848</td>\n",
       "      <td>viewed</td>\n",
       "      <td>17632</td>\n",
       "    </tr>\n",
       "    <tr>\n",
       "      <th>1</th>\n",
       "      <td>32815</td>\n",
       "      <td>1434340848</td>\n",
       "      <td>passed</td>\n",
       "      <td>17632</td>\n",
       "    </tr>\n",
       "    <tr>\n",
       "      <th>2</th>\n",
       "      <td>32815</td>\n",
       "      <td>1434340848</td>\n",
       "      <td>discovered</td>\n",
       "      <td>17632</td>\n",
       "    </tr>\n",
       "    <tr>\n",
       "      <th>3</th>\n",
       "      <td>32811</td>\n",
       "      <td>1434340895</td>\n",
       "      <td>discovered</td>\n",
       "      <td>17632</td>\n",
       "    </tr>\n",
       "    <tr>\n",
       "      <th>4</th>\n",
       "      <td>32811</td>\n",
       "      <td>1434340895</td>\n",
       "      <td>viewed</td>\n",
       "      <td>17632</td>\n",
       "    </tr>\n",
       "    <tr>\n",
       "      <th>5</th>\n",
       "      <td>32811</td>\n",
       "      <td>1434340895</td>\n",
       "      <td>passed</td>\n",
       "      <td>17632</td>\n",
       "    </tr>\n",
       "    <tr>\n",
       "      <th>6</th>\n",
       "      <td>32929</td>\n",
       "      <td>1434340921</td>\n",
       "      <td>discovered</td>\n",
       "      <td>17632</td>\n",
       "    </tr>\n",
       "    <tr>\n",
       "      <th>7</th>\n",
       "      <td>32929</td>\n",
       "      <td>1434340921</td>\n",
       "      <td>viewed</td>\n",
       "      <td>17632</td>\n",
       "    </tr>\n",
       "    <tr>\n",
       "      <th>8</th>\n",
       "      <td>32929</td>\n",
       "      <td>1434340939</td>\n",
       "      <td>started_attempt</td>\n",
       "      <td>17632</td>\n",
       "    </tr>\n",
       "    <tr>\n",
       "      <th>9</th>\n",
       "      <td>32929</td>\n",
       "      <td>1434340944</td>\n",
       "      <td>passed</td>\n",
       "      <td>17632</td>\n",
       "    </tr>\n",
       "  </tbody>\n",
       "</table>\n",
       "</div>"
      ],
      "text/plain": [
       "   step_id   timestamp           action  user_id\n",
       "0    32815  1434340848           viewed    17632\n",
       "1    32815  1434340848           passed    17632\n",
       "2    32815  1434340848       discovered    17632\n",
       "3    32811  1434340895       discovered    17632\n",
       "4    32811  1434340895           viewed    17632\n",
       "5    32811  1434340895           passed    17632\n",
       "6    32929  1434340921       discovered    17632\n",
       "7    32929  1434340921           viewed    17632\n",
       "8    32929  1434340939  started_attempt    17632\n",
       "9    32929  1434340944           passed    17632"
      ]
     },
     "execution_count": 6,
     "metadata": {},
     "output_type": "execute_result"
    }
   ],
   "source": [
    "#Первый взгляд\n",
    "events_data.head(10)"
   ]
  },
  {
   "cell_type": "code",
   "execution_count": 7,
   "id": "e59d0f7e",
   "metadata": {},
   "outputs": [],
   "source": [
    "#Создаем дату из таймстампа\n",
    "events_data['date'] = pd.to_datetime(events_data.timestamp, unit = 's')"
   ]
  },
  {
   "cell_type": "code",
   "execution_count": 6,
   "id": "e39dc277",
   "metadata": {},
   "outputs": [
    {
     "data": {
      "text/plain": [
       "Timestamp('2015-06-15 04:00:48')"
      ]
     },
     "execution_count": 6,
     "metadata": {},
     "output_type": "execute_result"
    }
   ],
   "source": [
    "#Посмотреть мин макс для данных\n",
    "events_data.date.max()\n",
    "events_data.date.min()\n"
   ]
  },
  {
   "cell_type": "code",
   "execution_count": 8,
   "id": "189399d4",
   "metadata": {},
   "outputs": [],
   "source": [
    "#Добавили день\n",
    "events_data['day'] = events_data.date.dt.date"
   ]
  },
  {
   "cell_type": "code",
   "execution_count": 9,
   "id": "c91c1041",
   "metadata": {},
   "outputs": [
    {
     "data": {
      "text/plain": [
       "<AxesSubplot:xlabel='day'>"
      ]
     },
     "execution_count": 9,
     "metadata": {},
     "output_type": "execute_result"
    },
    {
     "data": {
      "image/png": "[encoded data removed]",
      "text/plain": [
       "<Figure size 648x432 with 1 Axes>"
      ]
     },
     "metadata": {},
     "output_type": "display_data"
    }
   ],
   "source": [
    "#График для проверкиб осознания данных\n",
    "events_data.groupby('day') \\\n",
    "    .user_id.nunique().plot()"
   ]
  },
  {
   "cell_type": "code",
   "execution_count": 10,
   "id": "80fe0271",
   "metadata": {},
   "outputs": [
    {
     "data": {
      "text/plain": [
       "<AxesSubplot:>"
      ]
     },
     "execution_count": 10,
     "metadata": {},
     "output_type": "execute_result"
    },
    {
     "data": {
      "image/png": "[encoded data removed]",
      "text/plain": [
       "<Figure size 648x432 with 1 Axes>"
      ]
     },
     "metadata": {},
     "output_type": "display_data"
    }
   ],
   "source": [
    "events_data[events_data.action == 'passed'] \\\n",
    "    .groupby('user_id', as_index = False) \\\n",
    "    .agg({'step_id': 'count'}) \\\n",
    "    .rename(columns = {'step_id': 'passed_steps'}).passed_steps.hist()"
   ]
  },
  {
   "cell_type": "code",
   "execution_count": 11,
   "id": "6f91c46e",
   "metadata": {},
   "outputs": [
    {
     "data": {
      "text/html": [
       "<div>\n",
       "<style scoped>\n",
       "    .dataframe tbody tr th:only-of-type {\n",
       "        vertical-align: middle;\n",
       "    }\n",
       "\n",
       "    .dataframe tbody tr th {\n",
       "        vertical-align: top;\n",
       "    }\n",
       "\n",
       "    .dataframe thead th {\n",
       "        text-align: right;\n",
       "    }\n",
       "</style>\n",
       "<table border=\"1\" class=\"dataframe\">\n",
       "  <thead>\n",
       "    <tr style=\"text-align: right;\">\n",
       "      <th>action</th>\n",
       "      <th>user_id</th>\n",
       "      <th>discovered</th>\n",
       "      <th>passed</th>\n",
       "      <th>started_attempt</th>\n",
       "      <th>viewed</th>\n",
       "    </tr>\n",
       "  </thead>\n",
       "  <tbody>\n",
       "    <tr>\n",
       "      <th>0</th>\n",
       "      <td>1</td>\n",
       "      <td>1</td>\n",
       "      <td>0</td>\n",
       "      <td>0</td>\n",
       "      <td>1</td>\n",
       "    </tr>\n",
       "    <tr>\n",
       "      <th>1</th>\n",
       "      <td>2</td>\n",
       "      <td>9</td>\n",
       "      <td>9</td>\n",
       "      <td>2</td>\n",
       "      <td>10</td>\n",
       "    </tr>\n",
       "    <tr>\n",
       "      <th>2</th>\n",
       "      <td>3</td>\n",
       "      <td>91</td>\n",
       "      <td>87</td>\n",
       "      <td>30</td>\n",
       "      <td>192</td>\n",
       "    </tr>\n",
       "    <tr>\n",
       "      <th>3</th>\n",
       "      <td>5</td>\n",
       "      <td>11</td>\n",
       "      <td>11</td>\n",
       "      <td>4</td>\n",
       "      <td>12</td>\n",
       "    </tr>\n",
       "    <tr>\n",
       "      <th>4</th>\n",
       "      <td>7</td>\n",
       "      <td>1</td>\n",
       "      <td>1</td>\n",
       "      <td>0</td>\n",
       "      <td>1</td>\n",
       "    </tr>\n",
       "    <tr>\n",
       "      <th>...</th>\n",
       "      <td>...</td>\n",
       "      <td>...</td>\n",
       "      <td>...</td>\n",
       "      <td>...</td>\n",
       "      <td>...</td>\n",
       "    </tr>\n",
       "    <tr>\n",
       "      <th>19229</th>\n",
       "      <td>26790</td>\n",
       "      <td>8</td>\n",
       "      <td>8</td>\n",
       "      <td>1</td>\n",
       "      <td>9</td>\n",
       "    </tr>\n",
       "    <tr>\n",
       "      <th>19230</th>\n",
       "      <td>26793</td>\n",
       "      <td>1</td>\n",
       "      <td>0</td>\n",
       "      <td>1</td>\n",
       "      <td>1</td>\n",
       "    </tr>\n",
       "    <tr>\n",
       "      <th>19231</th>\n",
       "      <td>26794</td>\n",
       "      <td>69</td>\n",
       "      <td>69</td>\n",
       "      <td>34</td>\n",
       "      <td>180</td>\n",
       "    </tr>\n",
       "    <tr>\n",
       "      <th>19232</th>\n",
       "      <td>26797</td>\n",
       "      <td>10</td>\n",
       "      <td>10</td>\n",
       "      <td>2</td>\n",
       "      <td>13</td>\n",
       "    </tr>\n",
       "    <tr>\n",
       "      <th>19233</th>\n",
       "      <td>26798</td>\n",
       "      <td>12</td>\n",
       "      <td>12</td>\n",
       "      <td>3</td>\n",
       "      <td>12</td>\n",
       "    </tr>\n",
       "  </tbody>\n",
       "</table>\n",
       "<p>19234 rows × 5 columns</p>\n",
       "</div>"
      ],
      "text/plain": [
       "action  user_id  discovered  passed  started_attempt  viewed\n",
       "0             1           1       0                0       1\n",
       "1             2           9       9                2      10\n",
       "2             3          91      87               30     192\n",
       "3             5          11      11                4      12\n",
       "4             7           1       1                0       1\n",
       "...         ...         ...     ...              ...     ...\n",
       "19229     26790           8       8                1       9\n",
       "19230     26793           1       0                1       1\n",
       "19231     26794          69      69               34     180\n",
       "19232     26797          10      10                2      13\n",
       "19233     26798          12      12                3      12\n",
       "\n",
       "[19234 rows x 5 columns]"
      ]
     },
     "execution_count": 11,
     "metadata": {},
     "output_type": "execute_result"
    }
   ],
   "source": [
    "user_events_data = events_data.pivot_table(index = 'user_id', \n",
    "                        columns = 'action', \n",
    "                        values = 'step_id', \n",
    "                        aggfunc = 'count', \n",
    "                       fill_value = 0).reset_index()\n",
    "user_events_data"
   ]
  },
  {
   "cell_type": "code",
   "execution_count": 13,
   "id": "d503cf9f",
   "metadata": {},
   "outputs": [
    {
     "data": {
      "text/plain": [
       "<AxesSubplot:>"
      ]
     },
     "execution_count": 13,
     "metadata": {},
     "output_type": "execute_result"
    },
    {
     "data": {
      "image/png": "[encoded data removed]",
      "text/plain": [
       "<Figure size 648x432 with 1 Axes>"
      ]
     },
     "metadata": {},
     "output_type": "display_data"
    }
   ],
   "source": [
    "events_data.pivot_table(index = 'user_id', \n",
    "                        columns = 'action', \n",
    "                        values = 'step_id', \n",
    "                        aggfunc = 'count', \n",
    "                       fill_value = 0).reset_index().discovered.hist()"
   ]
  },
  {
   "cell_type": "code",
   "execution_count": 14,
   "id": "017f1eb1",
   "metadata": {},
   "outputs": [],
   "source": [
    "submissions_data['date'] = pd.to_datetime(events_data.timestamp, unit = 's')\n",
    "submissions_data['day'] = submissions_data.date.dt.date"
   ]
  },
  {
   "cell_type": "code",
   "execution_count": 12,
   "id": "669b8e22",
   "metadata": {},
   "outputs": [
    {
     "data": {
      "text/html": [
       "<div>\n",
       "<style scoped>\n",
       "    .dataframe tbody tr th:only-of-type {\n",
       "        vertical-align: middle;\n",
       "    }\n",
       "\n",
       "    .dataframe tbody tr th {\n",
       "        vertical-align: top;\n",
       "    }\n",
       "\n",
       "    .dataframe thead th {\n",
       "        text-align: right;\n",
       "    }\n",
       "</style>\n",
       "<table border=\"1\" class=\"dataframe\">\n",
       "  <thead>\n",
       "    <tr style=\"text-align: right;\">\n",
       "      <th></th>\n",
       "      <th>step_id</th>\n",
       "      <th>timestamp</th>\n",
       "      <th>submission_status</th>\n",
       "      <th>user_id</th>\n",
       "      <th>date</th>\n",
       "      <th>day</th>\n",
       "    </tr>\n",
       "  </thead>\n",
       "  <tbody>\n",
       "    <tr>\n",
       "      <th>0</th>\n",
       "      <td>31971</td>\n",
       "      <td>1434349275</td>\n",
       "      <td>correct</td>\n",
       "      <td>15853</td>\n",
       "      <td>2015-06-15 04:00:48</td>\n",
       "      <td>2015-06-15</td>\n",
       "    </tr>\n",
       "    <tr>\n",
       "      <th>1</th>\n",
       "      <td>31972</td>\n",
       "      <td>1434348300</td>\n",
       "      <td>correct</td>\n",
       "      <td>15853</td>\n",
       "      <td>2015-06-15 04:00:48</td>\n",
       "      <td>2015-06-15</td>\n",
       "    </tr>\n",
       "    <tr>\n",
       "      <th>2</th>\n",
       "      <td>31972</td>\n",
       "      <td>1478852149</td>\n",
       "      <td>wrong</td>\n",
       "      <td>15853</td>\n",
       "      <td>2015-06-15 04:00:48</td>\n",
       "      <td>2015-06-15</td>\n",
       "    </tr>\n",
       "    <tr>\n",
       "      <th>3</th>\n",
       "      <td>31972</td>\n",
       "      <td>1478852164</td>\n",
       "      <td>correct</td>\n",
       "      <td>15853</td>\n",
       "      <td>2015-06-15 04:01:35</td>\n",
       "      <td>2015-06-15</td>\n",
       "    </tr>\n",
       "    <tr>\n",
       "      <th>4</th>\n",
       "      <td>31976</td>\n",
       "      <td>1434348123</td>\n",
       "      <td>wrong</td>\n",
       "      <td>15853</td>\n",
       "      <td>2015-06-15 04:01:35</td>\n",
       "      <td>2015-06-15</td>\n",
       "    </tr>\n",
       "    <tr>\n",
       "      <th>...</th>\n",
       "      <td>...</td>\n",
       "      <td>...</td>\n",
       "      <td>...</td>\n",
       "      <td>...</td>\n",
       "      <td>...</td>\n",
       "      <td>...</td>\n",
       "    </tr>\n",
       "    <tr>\n",
       "      <th>509099</th>\n",
       "      <td>120745</td>\n",
       "      <td>1501946959</td>\n",
       "      <td>wrong</td>\n",
       "      <td>2615</td>\n",
       "      <td>2015-07-11 13:40:14</td>\n",
       "      <td>2015-07-11</td>\n",
       "    </tr>\n",
       "    <tr>\n",
       "      <th>509100</th>\n",
       "      <td>120745</td>\n",
       "      <td>1503059927</td>\n",
       "      <td>correct</td>\n",
       "      <td>13177</td>\n",
       "      <td>2015-07-11 13:40:14</td>\n",
       "      <td>2015-07-11</td>\n",
       "    </tr>\n",
       "    <tr>\n",
       "      <th>509101</th>\n",
       "      <td>120745</td>\n",
       "      <td>1506348153</td>\n",
       "      <td>wrong</td>\n",
       "      <td>15253</td>\n",
       "      <td>2015-07-11 13:40:19</td>\n",
       "      <td>2015-07-11</td>\n",
       "    </tr>\n",
       "    <tr>\n",
       "      <th>509102</th>\n",
       "      <td>120745</td>\n",
       "      <td>1523035316</td>\n",
       "      <td>wrong</td>\n",
       "      <td>1424</td>\n",
       "      <td>2015-07-11 13:40:19</td>\n",
       "      <td>2015-07-11</td>\n",
       "    </tr>\n",
       "    <tr>\n",
       "      <th>509103</th>\n",
       "      <td>120745</td>\n",
       "      <td>1523382825</td>\n",
       "      <td>wrong</td>\n",
       "      <td>9422</td>\n",
       "      <td>2015-07-11 13:40:19</td>\n",
       "      <td>2015-07-11</td>\n",
       "    </tr>\n",
       "  </tbody>\n",
       "</table>\n",
       "<p>509104 rows × 6 columns</p>\n",
       "</div>"
      ],
      "text/plain": [
       "        step_id   timestamp submission_status  user_id                date  \\\n",
       "0         31971  1434349275           correct    15853 2015-06-15 04:00:48   \n",
       "1         31972  1434348300           correct    15853 2015-06-15 04:00:48   \n",
       "2         31972  1478852149             wrong    15853 2015-06-15 04:00:48   \n",
       "3         31972  1478852164           correct    15853 2015-06-15 04:01:35   \n",
       "4         31976  1434348123             wrong    15853 2015-06-15 04:01:35   \n",
       "...         ...         ...               ...      ...                 ...   \n",
       "509099   120745  1501946959             wrong     2615 2015-07-11 13:40:14   \n",
       "509100   120745  1503059927           correct    13177 2015-07-11 13:40:14   \n",
       "509101   120745  1506348153             wrong    15253 2015-07-11 13:40:19   \n",
       "509102   120745  1523035316             wrong     1424 2015-07-11 13:40:19   \n",
       "509103   120745  1523382825             wrong     9422 2015-07-11 13:40:19   \n",
       "\n",
       "               day  \n",
       "0       2015-06-15  \n",
       "1       2015-06-15  \n",
       "2       2015-06-15  \n",
       "3       2015-06-15  \n",
       "4       2015-06-15  \n",
       "...            ...  \n",
       "509099  2015-07-11  \n",
       "509100  2015-07-11  \n",
       "509101  2015-07-11  \n",
       "509102  2015-07-11  \n",
       "509103  2015-07-11  \n",
       "\n",
       "[509104 rows x 6 columns]"
      ]
     },
     "execution_count": 12,
     "metadata": {},
     "output_type": "execute_result"
    }
   ],
   "source": [
    "submissions_data"
   ]
  },
  {
   "cell_type": "code",
   "execution_count": 15,
   "id": "4e2e5365",
   "metadata": {},
   "outputs": [],
   "source": [
    "user_scores = submissions_data.pivot_table(index = 'user_id', \n",
    "                                            columns = 'submission_status', \n",
    "                                            values = 'step_id', \n",
    "                                            aggfunc = 'count', \n",
    "                       fill_value = 0).reset_index()\n"
   ]
  },
  {
   "cell_type": "code",
   "execution_count": 16,
   "id": "050504d9",
   "metadata": {},
   "outputs": [],
   "source": [
    "gap_data = events_data[['user_id','day', 'timestamp']].drop_duplicates(subset = ['user_id','day'])\\\n",
    "    .groupby('user_id')['timestamp'].apply(list)\\\n",
    "    .apply(np.diff).values"
   ]
  },
  {
   "cell_type": "code",
   "execution_count": 17,
   "id": "91117e2c",
   "metadata": {},
   "outputs": [],
   "source": [
    "gap_data = pd.Series(np.concatenate(gap_data, axis = 0))"
   ]
  },
  {
   "cell_type": "code",
   "execution_count": 18,
   "id": "441e4cf7",
   "metadata": {},
   "outputs": [],
   "source": [
    "gap_data = gap_data / (24 * 60 * 60)\n"
   ]
  },
  {
   "cell_type": "code",
   "execution_count": 19,
   "id": "88276e06",
   "metadata": {},
   "outputs": [
    {
     "data": {
      "text/plain": [
       "0    56.060208\n",
       "1    79.852419\n",
       "2     2.112083\n",
       "3     1.084606\n",
       "4    32.047106\n",
       "dtype: float64"
      ]
     },
     "execution_count": 19,
     "metadata": {},
     "output_type": "execute_result"
    }
   ],
   "source": [
    "gap_data[gap_data < 200].head()"
   ]
  },
  {
   "cell_type": "code",
   "execution_count": 20,
   "id": "617c8c6e",
   "metadata": {},
   "outputs": [
    {
     "data": {
      "text/plain": [
       "18.325995370370403"
      ]
     },
     "execution_count": 20,
     "metadata": {},
     "output_type": "execute_result"
    }
   ],
   "source": [
    "gap_data.quantile(0.90)"
   ]
  },
  {
   "cell_type": "code",
   "execution_count": 19,
   "id": "33978b05",
   "metadata": {},
   "outputs": [
    {
     "data": {
      "text/plain": [
       "2592000"
      ]
     },
     "execution_count": 19,
     "metadata": {},
     "output_type": "execute_result"
    }
   ],
   "source": [
    "30* 24 * 60* 60"
   ]
  },
  {
   "cell_type": "code",
   "execution_count": 21,
   "id": "78976d75",
   "metadata": {},
   "outputs": [
    {
     "data": {
      "text/html": [
       "<div>\n",
       "<style scoped>\n",
       "    .dataframe tbody tr th:only-of-type {\n",
       "        vertical-align: middle;\n",
       "    }\n",
       "\n",
       "    .dataframe tbody tr th {\n",
       "        vertical-align: top;\n",
       "    }\n",
       "\n",
       "    .dataframe thead th {\n",
       "        text-align: right;\n",
       "    }\n",
       "</style>\n",
       "<table border=\"1\" class=\"dataframe\">\n",
       "  <thead>\n",
       "    <tr style=\"text-align: right;\">\n",
       "      <th></th>\n",
       "      <th>step_id</th>\n",
       "      <th>timestamp</th>\n",
       "      <th>action</th>\n",
       "      <th>user_id</th>\n",
       "      <th>date</th>\n",
       "      <th>day</th>\n",
       "    </tr>\n",
       "  </thead>\n",
       "  <tbody>\n",
       "    <tr>\n",
       "      <th>3480698</th>\n",
       "      <td>33375</td>\n",
       "      <td>1526772685</td>\n",
       "      <td>viewed</td>\n",
       "      <td>11677</td>\n",
       "      <td>2018-05-19 23:31:25</td>\n",
       "      <td>2018-05-19</td>\n",
       "    </tr>\n",
       "    <tr>\n",
       "      <th>3480699</th>\n",
       "      <td>32815</td>\n",
       "      <td>1526772750</td>\n",
       "      <td>viewed</td>\n",
       "      <td>5198</td>\n",
       "      <td>2018-05-19 23:32:30</td>\n",
       "      <td>2018-05-19</td>\n",
       "    </tr>\n",
       "    <tr>\n",
       "      <th>3480700</th>\n",
       "      <td>32815</td>\n",
       "      <td>1526772750</td>\n",
       "      <td>discovered</td>\n",
       "      <td>5198</td>\n",
       "      <td>2018-05-19 23:32:30</td>\n",
       "      <td>2018-05-19</td>\n",
       "    </tr>\n",
       "    <tr>\n",
       "      <th>3480701</th>\n",
       "      <td>32815</td>\n",
       "      <td>1526772750</td>\n",
       "      <td>passed</td>\n",
       "      <td>5198</td>\n",
       "      <td>2018-05-19 23:32:30</td>\n",
       "      <td>2018-05-19</td>\n",
       "    </tr>\n",
       "    <tr>\n",
       "      <th>3480702</th>\n",
       "      <td>33892</td>\n",
       "      <td>1526772811</td>\n",
       "      <td>viewed</td>\n",
       "      <td>18526</td>\n",
       "      <td>2018-05-19 23:33:31</td>\n",
       "      <td>2018-05-19</td>\n",
       "    </tr>\n",
       "  </tbody>\n",
       "</table>\n",
       "</div>"
      ],
      "text/plain": [
       "         step_id   timestamp      action  user_id                date  \\\n",
       "3480698    33375  1526772685      viewed    11677 2018-05-19 23:31:25   \n",
       "3480699    32815  1526772750      viewed     5198 2018-05-19 23:32:30   \n",
       "3480700    32815  1526772750  discovered     5198 2018-05-19 23:32:30   \n",
       "3480701    32815  1526772750      passed     5198 2018-05-19 23:32:30   \n",
       "3480702    33892  1526772811      viewed    18526 2018-05-19 23:33:31   \n",
       "\n",
       "                day  \n",
       "3480698  2018-05-19  \n",
       "3480699  2018-05-19  \n",
       "3480700  2018-05-19  \n",
       "3480701  2018-05-19  \n",
       "3480702  2018-05-19  "
      ]
     },
     "execution_count": 21,
     "metadata": {},
     "output_type": "execute_result"
    }
   ],
   "source": [
    "events_data.tail()"
   ]
  },
  {
   "cell_type": "code",
   "execution_count": 22,
   "id": "d68dd7c4",
   "metadata": {},
   "outputs": [],
   "source": [
    "users_data = events_data.groupby('user_id', as_index = False) \\\n",
    "    .agg({'timestamp': 'max'}).rename(columns = {'timestamp': 'last_timestamp'})"
   ]
  },
  {
   "cell_type": "code",
   "execution_count": 23,
   "id": "ff1b1620",
   "metadata": {},
   "outputs": [],
   "source": [
    "now = 1526772811\n",
    "drop_out_treshhold = 2592000"
   ]
  },
  {
   "cell_type": "code",
   "execution_count": 24,
   "id": "aaac4f54",
   "metadata": {},
   "outputs": [],
   "source": [
    "users_data['is_gone_user'] = (now - users_data.last_timestamp) > drop_out_treshhold\n"
   ]
  },
  {
   "cell_type": "code",
   "execution_count": 25,
   "id": "e256cfaa",
   "metadata": {},
   "outputs": [
    {
     "data": {
      "text/html": [
       "<div>\n",
       "<style scoped>\n",
       "    .dataframe tbody tr th:only-of-type {\n",
       "        vertical-align: middle;\n",
       "    }\n",
       "\n",
       "    .dataframe tbody tr th {\n",
       "        vertical-align: top;\n",
       "    }\n",
       "\n",
       "    .dataframe thead th {\n",
       "        text-align: right;\n",
       "    }\n",
       "</style>\n",
       "<table border=\"1\" class=\"dataframe\">\n",
       "  <thead>\n",
       "    <tr style=\"text-align: right;\">\n",
       "      <th>submission_status</th>\n",
       "      <th>user_id</th>\n",
       "      <th>correct</th>\n",
       "      <th>wrong</th>\n",
       "    </tr>\n",
       "  </thead>\n",
       "  <tbody>\n",
       "    <tr>\n",
       "      <th>0</th>\n",
       "      <td>2</td>\n",
       "      <td>2</td>\n",
       "      <td>0</td>\n",
       "    </tr>\n",
       "    <tr>\n",
       "      <th>1</th>\n",
       "      <td>3</td>\n",
       "      <td>29</td>\n",
       "      <td>23</td>\n",
       "    </tr>\n",
       "    <tr>\n",
       "      <th>2</th>\n",
       "      <td>5</td>\n",
       "      <td>2</td>\n",
       "      <td>2</td>\n",
       "    </tr>\n",
       "    <tr>\n",
       "      <th>3</th>\n",
       "      <td>8</td>\n",
       "      <td>9</td>\n",
       "      <td>21</td>\n",
       "    </tr>\n",
       "    <tr>\n",
       "      <th>4</th>\n",
       "      <td>14</td>\n",
       "      <td>0</td>\n",
       "      <td>1</td>\n",
       "    </tr>\n",
       "  </tbody>\n",
       "</table>\n",
       "</div>"
      ],
      "text/plain": [
       "submission_status  user_id  correct  wrong\n",
       "0                        2        2      0\n",
       "1                        3       29     23\n",
       "2                        5        2      2\n",
       "3                        8        9     21\n",
       "4                       14        0      1"
      ]
     },
     "execution_count": 25,
     "metadata": {},
     "output_type": "execute_result"
    }
   ],
   "source": [
    "user_scores.head()"
   ]
  },
  {
   "cell_type": "code",
   "execution_count": 26,
   "id": "2d1c5841",
   "metadata": {},
   "outputs": [],
   "source": [
    "users_data = users_data.merge(user_scores,on = 'user_id', how = 'outer')"
   ]
  },
  {
   "cell_type": "code",
   "execution_count": 27,
   "id": "e4a40476",
   "metadata": {},
   "outputs": [],
   "source": [
    "users_data = users_data.fillna(0)"
   ]
  },
  {
   "cell_type": "code",
   "execution_count": 28,
   "id": "f6c6a2f0",
   "metadata": {},
   "outputs": [],
   "source": [
    "users_data = users_data.merge(user_events_data, on = 'user_id', how = 'outer')\n",
    "\n",
    "\n"
   ]
  },
  {
   "cell_type": "code",
   "execution_count": 29,
   "id": "aa223e66",
   "metadata": {},
   "outputs": [
    {
     "data": {
      "text/html": [
       "<div>\n",
       "<style scoped>\n",
       "    .dataframe tbody tr th:only-of-type {\n",
       "        vertical-align: middle;\n",
       "    }\n",
       "\n",
       "    .dataframe tbody tr th {\n",
       "        vertical-align: top;\n",
       "    }\n",
       "\n",
       "    .dataframe thead th {\n",
       "        text-align: right;\n",
       "    }\n",
       "</style>\n",
       "<table border=\"1\" class=\"dataframe\">\n",
       "  <thead>\n",
       "    <tr style=\"text-align: right;\">\n",
       "      <th></th>\n",
       "      <th>user_id</th>\n",
       "      <th>last_timestamp</th>\n",
       "      <th>is_gone_user</th>\n",
       "      <th>correct</th>\n",
       "      <th>wrong</th>\n",
       "      <th>discovered</th>\n",
       "      <th>passed</th>\n",
       "      <th>started_attempt</th>\n",
       "      <th>viewed</th>\n",
       "    </tr>\n",
       "  </thead>\n",
       "  <tbody>\n",
       "    <tr>\n",
       "      <th>0</th>\n",
       "      <td>1</td>\n",
       "      <td>1472827464</td>\n",
       "      <td>True</td>\n",
       "      <td>0.0</td>\n",
       "      <td>0.0</td>\n",
       "      <td>1</td>\n",
       "      <td>0</td>\n",
       "      <td>0</td>\n",
       "      <td>1</td>\n",
       "    </tr>\n",
       "    <tr>\n",
       "      <th>1</th>\n",
       "      <td>2</td>\n",
       "      <td>1519226966</td>\n",
       "      <td>True</td>\n",
       "      <td>2.0</td>\n",
       "      <td>0.0</td>\n",
       "      <td>9</td>\n",
       "      <td>9</td>\n",
       "      <td>2</td>\n",
       "      <td>10</td>\n",
       "    </tr>\n",
       "    <tr>\n",
       "      <th>2</th>\n",
       "      <td>3</td>\n",
       "      <td>1444581588</td>\n",
       "      <td>True</td>\n",
       "      <td>29.0</td>\n",
       "      <td>23.0</td>\n",
       "      <td>91</td>\n",
       "      <td>87</td>\n",
       "      <td>30</td>\n",
       "      <td>192</td>\n",
       "    </tr>\n",
       "    <tr>\n",
       "      <th>3</th>\n",
       "      <td>5</td>\n",
       "      <td>1499859939</td>\n",
       "      <td>True</td>\n",
       "      <td>2.0</td>\n",
       "      <td>2.0</td>\n",
       "      <td>11</td>\n",
       "      <td>11</td>\n",
       "      <td>4</td>\n",
       "      <td>12</td>\n",
       "    </tr>\n",
       "    <tr>\n",
       "      <th>4</th>\n",
       "      <td>7</td>\n",
       "      <td>1521634660</td>\n",
       "      <td>True</td>\n",
       "      <td>0.0</td>\n",
       "      <td>0.0</td>\n",
       "      <td>1</td>\n",
       "      <td>1</td>\n",
       "      <td>0</td>\n",
       "      <td>1</td>\n",
       "    </tr>\n",
       "    <tr>\n",
       "      <th>...</th>\n",
       "      <td>...</td>\n",
       "      <td>...</td>\n",
       "      <td>...</td>\n",
       "      <td>...</td>\n",
       "      <td>...</td>\n",
       "      <td>...</td>\n",
       "      <td>...</td>\n",
       "      <td>...</td>\n",
       "      <td>...</td>\n",
       "    </tr>\n",
       "    <tr>\n",
       "      <th>19229</th>\n",
       "      <td>26790</td>\n",
       "      <td>1517495987</td>\n",
       "      <td>True</td>\n",
       "      <td>1.0</td>\n",
       "      <td>0.0</td>\n",
       "      <td>8</td>\n",
       "      <td>8</td>\n",
       "      <td>1</td>\n",
       "      <td>9</td>\n",
       "    </tr>\n",
       "    <tr>\n",
       "      <th>19230</th>\n",
       "      <td>26793</td>\n",
       "      <td>1510225034</td>\n",
       "      <td>True</td>\n",
       "      <td>0.0</td>\n",
       "      <td>0.0</td>\n",
       "      <td>1</td>\n",
       "      <td>0</td>\n",
       "      <td>1</td>\n",
       "      <td>1</td>\n",
       "    </tr>\n",
       "    <tr>\n",
       "      <th>19231</th>\n",
       "      <td>26794</td>\n",
       "      <td>1512035039</td>\n",
       "      <td>True</td>\n",
       "      <td>33.0</td>\n",
       "      <td>9.0</td>\n",
       "      <td>69</td>\n",
       "      <td>69</td>\n",
       "      <td>34</td>\n",
       "      <td>180</td>\n",
       "    </tr>\n",
       "    <tr>\n",
       "      <th>19232</th>\n",
       "      <td>26797</td>\n",
       "      <td>1509995096</td>\n",
       "      <td>True</td>\n",
       "      <td>2.0</td>\n",
       "      <td>0.0</td>\n",
       "      <td>10</td>\n",
       "      <td>10</td>\n",
       "      <td>2</td>\n",
       "      <td>13</td>\n",
       "    </tr>\n",
       "    <tr>\n",
       "      <th>19233</th>\n",
       "      <td>26798</td>\n",
       "      <td>1520978742</td>\n",
       "      <td>True</td>\n",
       "      <td>2.0</td>\n",
       "      <td>1.0</td>\n",
       "      <td>12</td>\n",
       "      <td>12</td>\n",
       "      <td>3</td>\n",
       "      <td>12</td>\n",
       "    </tr>\n",
       "  </tbody>\n",
       "</table>\n",
       "<p>19234 rows × 9 columns</p>\n",
       "</div>"
      ],
      "text/plain": [
       "       user_id  last_timestamp  is_gone_user  correct  wrong  discovered  \\\n",
       "0            1      1472827464          True      0.0    0.0           1   \n",
       "1            2      1519226966          True      2.0    0.0           9   \n",
       "2            3      1444581588          True     29.0   23.0          91   \n",
       "3            5      1499859939          True      2.0    2.0          11   \n",
       "4            7      1521634660          True      0.0    0.0           1   \n",
       "...        ...             ...           ...      ...    ...         ...   \n",
       "19229    26790      1517495987          True      1.0    0.0           8   \n",
       "19230    26793      1510225034          True      0.0    0.0           1   \n",
       "19231    26794      1512035039          True     33.0    9.0          69   \n",
       "19232    26797      1509995096          True      2.0    0.0          10   \n",
       "19233    26798      1520978742          True      2.0    1.0          12   \n",
       "\n",
       "       passed  started_attempt  viewed  \n",
       "0           0                0       1  \n",
       "1           9                2      10  \n",
       "2          87               30     192  \n",
       "3          11                4      12  \n",
       "4           1                0       1  \n",
       "...       ...              ...     ...  \n",
       "19229       8                1       9  \n",
       "19230       0                1       1  \n",
       "19231      69               34     180  \n",
       "19232      10                2      13  \n",
       "19233      12                3      12  \n",
       "\n",
       "[19234 rows x 9 columns]"
      ]
     },
     "execution_count": 29,
     "metadata": {},
     "output_type": "execute_result"
    }
   ],
   "source": [
    "users_data"
   ]
  },
  {
   "cell_type": "code",
   "execution_count": 30,
   "id": "3726668a",
   "metadata": {},
   "outputs": [
    {
     "data": {
      "text/html": [
       "<div>\n",
       "<style scoped>\n",
       "    .dataframe tbody tr th:only-of-type {\n",
       "        vertical-align: middle;\n",
       "    }\n",
       "\n",
       "    .dataframe tbody tr th {\n",
       "        vertical-align: top;\n",
       "    }\n",
       "\n",
       "    .dataframe thead th {\n",
       "        text-align: right;\n",
       "    }\n",
       "</style>\n",
       "<table border=\"1\" class=\"dataframe\">\n",
       "  <thead>\n",
       "    <tr style=\"text-align: right;\">\n",
       "      <th></th>\n",
       "      <th>user_id</th>\n",
       "      <th>day</th>\n",
       "    </tr>\n",
       "  </thead>\n",
       "  <tbody>\n",
       "    <tr>\n",
       "      <th>0</th>\n",
       "      <td>1</td>\n",
       "      <td>1</td>\n",
       "    </tr>\n",
       "    <tr>\n",
       "      <th>1</th>\n",
       "      <td>2</td>\n",
       "      <td>2</td>\n",
       "    </tr>\n",
       "    <tr>\n",
       "      <th>2</th>\n",
       "      <td>3</td>\n",
       "      <td>7</td>\n",
       "    </tr>\n",
       "    <tr>\n",
       "      <th>3</th>\n",
       "      <td>5</td>\n",
       "      <td>2</td>\n",
       "    </tr>\n",
       "    <tr>\n",
       "      <th>4</th>\n",
       "      <td>7</td>\n",
       "      <td>1</td>\n",
       "    </tr>\n",
       "    <tr>\n",
       "      <th>...</th>\n",
       "      <td>...</td>\n",
       "      <td>...</td>\n",
       "    </tr>\n",
       "    <tr>\n",
       "      <th>19229</th>\n",
       "      <td>26790</td>\n",
       "      <td>4</td>\n",
       "    </tr>\n",
       "    <tr>\n",
       "      <th>19230</th>\n",
       "      <td>26793</td>\n",
       "      <td>1</td>\n",
       "    </tr>\n",
       "    <tr>\n",
       "      <th>19231</th>\n",
       "      <td>26794</td>\n",
       "      <td>9</td>\n",
       "    </tr>\n",
       "    <tr>\n",
       "      <th>19232</th>\n",
       "      <td>26797</td>\n",
       "      <td>2</td>\n",
       "    </tr>\n",
       "    <tr>\n",
       "      <th>19233</th>\n",
       "      <td>26798</td>\n",
       "      <td>1</td>\n",
       "    </tr>\n",
       "  </tbody>\n",
       "</table>\n",
       "<p>19234 rows × 2 columns</p>\n",
       "</div>"
      ],
      "text/plain": [
       "       user_id  day\n",
       "0            1    1\n",
       "1            2    2\n",
       "2            3    7\n",
       "3            5    2\n",
       "4            7    1\n",
       "...        ...  ...\n",
       "19229    26790    4\n",
       "19230    26793    1\n",
       "19231    26794    9\n",
       "19232    26797    2\n",
       "19233    26798    1\n",
       "\n",
       "[19234 rows x 2 columns]"
      ]
     },
     "execution_count": 30,
     "metadata": {},
     "output_type": "execute_result"
    }
   ],
   "source": [
    "users_days = events_data.groupby('user_id').day.nunique().to_frame().reset_index()\n",
    "users_days"
   ]
  },
  {
   "cell_type": "code",
   "execution_count": 31,
   "id": "a10b9170",
   "metadata": {},
   "outputs": [],
   "source": [
    "users_data = users_data.merge(users_days, on = 'user_id', how = 'outer')"
   ]
  },
  {
   "cell_type": "code",
   "execution_count": 32,
   "id": "a1d9de0f",
   "metadata": {},
   "outputs": [
    {
     "data": {
      "text/html": [
       "<div>\n",
       "<style scoped>\n",
       "    .dataframe tbody tr th:only-of-type {\n",
       "        vertical-align: middle;\n",
       "    }\n",
       "\n",
       "    .dataframe tbody tr th {\n",
       "        vertical-align: top;\n",
       "    }\n",
       "\n",
       "    .dataframe thead th {\n",
       "        text-align: right;\n",
       "    }\n",
       "</style>\n",
       "<table border=\"1\" class=\"dataframe\">\n",
       "  <thead>\n",
       "    <tr style=\"text-align: right;\">\n",
       "      <th></th>\n",
       "      <th>user_id</th>\n",
       "      <th>last_timestamp</th>\n",
       "      <th>is_gone_user</th>\n",
       "      <th>correct</th>\n",
       "      <th>wrong</th>\n",
       "      <th>discovered</th>\n",
       "      <th>passed</th>\n",
       "      <th>started_attempt</th>\n",
       "      <th>viewed</th>\n",
       "      <th>day</th>\n",
       "    </tr>\n",
       "  </thead>\n",
       "  <tbody>\n",
       "    <tr>\n",
       "      <th>0</th>\n",
       "      <td>1</td>\n",
       "      <td>1472827464</td>\n",
       "      <td>True</td>\n",
       "      <td>0.0</td>\n",
       "      <td>0.0</td>\n",
       "      <td>1</td>\n",
       "      <td>0</td>\n",
       "      <td>0</td>\n",
       "      <td>1</td>\n",
       "      <td>1</td>\n",
       "    </tr>\n",
       "    <tr>\n",
       "      <th>1</th>\n",
       "      <td>2</td>\n",
       "      <td>1519226966</td>\n",
       "      <td>True</td>\n",
       "      <td>2.0</td>\n",
       "      <td>0.0</td>\n",
       "      <td>9</td>\n",
       "      <td>9</td>\n",
       "      <td>2</td>\n",
       "      <td>10</td>\n",
       "      <td>2</td>\n",
       "    </tr>\n",
       "    <tr>\n",
       "      <th>2</th>\n",
       "      <td>3</td>\n",
       "      <td>1444581588</td>\n",
       "      <td>True</td>\n",
       "      <td>29.0</td>\n",
       "      <td>23.0</td>\n",
       "      <td>91</td>\n",
       "      <td>87</td>\n",
       "      <td>30</td>\n",
       "      <td>192</td>\n",
       "      <td>7</td>\n",
       "    </tr>\n",
       "    <tr>\n",
       "      <th>3</th>\n",
       "      <td>5</td>\n",
       "      <td>1499859939</td>\n",
       "      <td>True</td>\n",
       "      <td>2.0</td>\n",
       "      <td>2.0</td>\n",
       "      <td>11</td>\n",
       "      <td>11</td>\n",
       "      <td>4</td>\n",
       "      <td>12</td>\n",
       "      <td>2</td>\n",
       "    </tr>\n",
       "    <tr>\n",
       "      <th>4</th>\n",
       "      <td>7</td>\n",
       "      <td>1521634660</td>\n",
       "      <td>True</td>\n",
       "      <td>0.0</td>\n",
       "      <td>0.0</td>\n",
       "      <td>1</td>\n",
       "      <td>1</td>\n",
       "      <td>0</td>\n",
       "      <td>1</td>\n",
       "      <td>1</td>\n",
       "    </tr>\n",
       "    <tr>\n",
       "      <th>...</th>\n",
       "      <td>...</td>\n",
       "      <td>...</td>\n",
       "      <td>...</td>\n",
       "      <td>...</td>\n",
       "      <td>...</td>\n",
       "      <td>...</td>\n",
       "      <td>...</td>\n",
       "      <td>...</td>\n",
       "      <td>...</td>\n",
       "      <td>...</td>\n",
       "    </tr>\n",
       "    <tr>\n",
       "      <th>19229</th>\n",
       "      <td>26790</td>\n",
       "      <td>1517495987</td>\n",
       "      <td>True</td>\n",
       "      <td>1.0</td>\n",
       "      <td>0.0</td>\n",
       "      <td>8</td>\n",
       "      <td>8</td>\n",
       "      <td>1</td>\n",
       "      <td>9</td>\n",
       "      <td>4</td>\n",
       "    </tr>\n",
       "    <tr>\n",
       "      <th>19230</th>\n",
       "      <td>26793</td>\n",
       "      <td>1510225034</td>\n",
       "      <td>True</td>\n",
       "      <td>0.0</td>\n",
       "      <td>0.0</td>\n",
       "      <td>1</td>\n",
       "      <td>0</td>\n",
       "      <td>1</td>\n",
       "      <td>1</td>\n",
       "      <td>1</td>\n",
       "    </tr>\n",
       "    <tr>\n",
       "      <th>19231</th>\n",
       "      <td>26794</td>\n",
       "      <td>1512035039</td>\n",
       "      <td>True</td>\n",
       "      <td>33.0</td>\n",
       "      <td>9.0</td>\n",
       "      <td>69</td>\n",
       "      <td>69</td>\n",
       "      <td>34</td>\n",
       "      <td>180</td>\n",
       "      <td>9</td>\n",
       "    </tr>\n",
       "    <tr>\n",
       "      <th>19232</th>\n",
       "      <td>26797</td>\n",
       "      <td>1509995096</td>\n",
       "      <td>True</td>\n",
       "      <td>2.0</td>\n",
       "      <td>0.0</td>\n",
       "      <td>10</td>\n",
       "      <td>10</td>\n",
       "      <td>2</td>\n",
       "      <td>13</td>\n",
       "      <td>2</td>\n",
       "    </tr>\n",
       "    <tr>\n",
       "      <th>19233</th>\n",
       "      <td>26798</td>\n",
       "      <td>1520978742</td>\n",
       "      <td>True</td>\n",
       "      <td>2.0</td>\n",
       "      <td>1.0</td>\n",
       "      <td>12</td>\n",
       "      <td>12</td>\n",
       "      <td>3</td>\n",
       "      <td>12</td>\n",
       "      <td>1</td>\n",
       "    </tr>\n",
       "  </tbody>\n",
       "</table>\n",
       "<p>19234 rows × 10 columns</p>\n",
       "</div>"
      ],
      "text/plain": [
       "       user_id  last_timestamp  is_gone_user  correct  wrong  discovered  \\\n",
       "0            1      1472827464          True      0.0    0.0           1   \n",
       "1            2      1519226966          True      2.0    0.0           9   \n",
       "2            3      1444581588          True     29.0   23.0          91   \n",
       "3            5      1499859939          True      2.0    2.0          11   \n",
       "4            7      1521634660          True      0.0    0.0           1   \n",
       "...        ...             ...           ...      ...    ...         ...   \n",
       "19229    26790      1517495987          True      1.0    0.0           8   \n",
       "19230    26793      1510225034          True      0.0    0.0           1   \n",
       "19231    26794      1512035039          True     33.0    9.0          69   \n",
       "19232    26797      1509995096          True      2.0    0.0          10   \n",
       "19233    26798      1520978742          True      2.0    1.0          12   \n",
       "\n",
       "       passed  started_attempt  viewed  day  \n",
       "0           0                0       1    1  \n",
       "1           9                2      10    2  \n",
       "2          87               30     192    7  \n",
       "3          11                4      12    2  \n",
       "4           1                0       1    1  \n",
       "...       ...              ...     ...  ...  \n",
       "19229       8                1       9    4  \n",
       "19230       0                1       1    1  \n",
       "19231      69               34     180    9  \n",
       "19232      10                2      13    2  \n",
       "19233      12                3      12    1  \n",
       "\n",
       "[19234 rows x 10 columns]"
      ]
     },
     "execution_count": 32,
     "metadata": {},
     "output_type": "execute_result"
    }
   ],
   "source": [
    "users_data"
   ]
  },
  {
   "cell_type": "code",
   "execution_count": 33,
   "id": "374cb0ed",
   "metadata": {},
   "outputs": [],
   "source": [
    "users_data['passed_course'] = users_data.passed > 170"
   ]
  },
  {
   "cell_type": "code",
   "execution_count": 34,
   "id": "b25a1706",
   "metadata": {},
   "outputs": [
    {
     "data": {
      "text/html": [
       "<div>\n",
       "<style scoped>\n",
       "    .dataframe tbody tr th:only-of-type {\n",
       "        vertical-align: middle;\n",
       "    }\n",
       "\n",
       "    .dataframe tbody tr th {\n",
       "        vertical-align: top;\n",
       "    }\n",
       "\n",
       "    .dataframe thead th {\n",
       "        text-align: right;\n",
       "    }\n",
       "</style>\n",
       "<table border=\"1\" class=\"dataframe\">\n",
       "  <thead>\n",
       "    <tr style=\"text-align: right;\">\n",
       "      <th></th>\n",
       "      <th>user_id</th>\n",
       "      <th>last_timestamp</th>\n",
       "      <th>is_gone_user</th>\n",
       "      <th>correct</th>\n",
       "      <th>wrong</th>\n",
       "      <th>discovered</th>\n",
       "      <th>passed</th>\n",
       "      <th>started_attempt</th>\n",
       "      <th>viewed</th>\n",
       "      <th>day</th>\n",
       "    </tr>\n",
       "    <tr>\n",
       "      <th>passed_course</th>\n",
       "      <th></th>\n",
       "      <th></th>\n",
       "      <th></th>\n",
       "      <th></th>\n",
       "      <th></th>\n",
       "      <th></th>\n",
       "      <th></th>\n",
       "      <th></th>\n",
       "      <th></th>\n",
       "      <th></th>\n",
       "    </tr>\n",
       "  </thead>\n",
       "  <tbody>\n",
       "    <tr>\n",
       "      <th>False</th>\n",
       "      <td>17809</td>\n",
       "      <td>17809</td>\n",
       "      <td>17809</td>\n",
       "      <td>17809</td>\n",
       "      <td>17809</td>\n",
       "      <td>17809</td>\n",
       "      <td>17809</td>\n",
       "      <td>17809</td>\n",
       "      <td>17809</td>\n",
       "      <td>17809</td>\n",
       "    </tr>\n",
       "    <tr>\n",
       "      <th>True</th>\n",
       "      <td>1425</td>\n",
       "      <td>1425</td>\n",
       "      <td>1425</td>\n",
       "      <td>1425</td>\n",
       "      <td>1425</td>\n",
       "      <td>1425</td>\n",
       "      <td>1425</td>\n",
       "      <td>1425</td>\n",
       "      <td>1425</td>\n",
       "      <td>1425</td>\n",
       "    </tr>\n",
       "  </tbody>\n",
       "</table>\n",
       "</div>"
      ],
      "text/plain": [
       "               user_id  last_timestamp  is_gone_user  correct  wrong  \\\n",
       "passed_course                                                          \n",
       "False            17809           17809         17809    17809  17809   \n",
       "True              1425            1425          1425     1425   1425   \n",
       "\n",
       "               discovered  passed  started_attempt  viewed    day  \n",
       "passed_course                                                      \n",
       "False               17809   17809            17809   17809  17809  \n",
       "True                 1425    1425             1425    1425   1425  "
      ]
     },
     "execution_count": 34,
     "metadata": {},
     "output_type": "execute_result"
    }
   ],
   "source": [
    "users_data.groupby('passed_course').count()"
   ]
  },
  {
   "cell_type": "code",
   "execution_count": 53,
   "id": "2671a18e",
   "metadata": {},
   "outputs": [
    {
     "data": {
      "text/html": [
       "<div>\n",
       "<style scoped>\n",
       "    .dataframe tbody tr th:only-of-type {\n",
       "        vertical-align: middle;\n",
       "    }\n",
       "\n",
       "    .dataframe tbody tr th {\n",
       "        vertical-align: top;\n",
       "    }\n",
       "\n",
       "    .dataframe thead th {\n",
       "        text-align: right;\n",
       "    }\n",
       "</style>\n",
       "<table border=\"1\" class=\"dataframe\">\n",
       "  <thead>\n",
       "    <tr style=\"text-align: right;\">\n",
       "      <th></th>\n",
       "      <th>user_id</th>\n",
       "      <th>last_timestamp</th>\n",
       "      <th>is_gone_user</th>\n",
       "      <th>correct</th>\n",
       "      <th>wrong</th>\n",
       "      <th>discovered</th>\n",
       "      <th>passed</th>\n",
       "      <th>started_attempt</th>\n",
       "      <th>viewed</th>\n",
       "      <th>day</th>\n",
       "      <th>passed_course</th>\n",
       "    </tr>\n",
       "  </thead>\n",
       "  <tbody>\n",
       "    <tr>\n",
       "      <th>0</th>\n",
       "      <td>1</td>\n",
       "      <td>1472827464</td>\n",
       "      <td>True</td>\n",
       "      <td>0.0</td>\n",
       "      <td>0.0</td>\n",
       "      <td>1</td>\n",
       "      <td>0</td>\n",
       "      <td>0</td>\n",
       "      <td>1</td>\n",
       "      <td>1</td>\n",
       "      <td>False</td>\n",
       "    </tr>\n",
       "    <tr>\n",
       "      <th>1</th>\n",
       "      <td>2</td>\n",
       "      <td>1519226966</td>\n",
       "      <td>True</td>\n",
       "      <td>2.0</td>\n",
       "      <td>0.0</td>\n",
       "      <td>9</td>\n",
       "      <td>9</td>\n",
       "      <td>2</td>\n",
       "      <td>10</td>\n",
       "      <td>2</td>\n",
       "      <td>False</td>\n",
       "    </tr>\n",
       "    <tr>\n",
       "      <th>2</th>\n",
       "      <td>3</td>\n",
       "      <td>1444581588</td>\n",
       "      <td>True</td>\n",
       "      <td>29.0</td>\n",
       "      <td>23.0</td>\n",
       "      <td>91</td>\n",
       "      <td>87</td>\n",
       "      <td>30</td>\n",
       "      <td>192</td>\n",
       "      <td>7</td>\n",
       "      <td>False</td>\n",
       "    </tr>\n",
       "    <tr>\n",
       "      <th>3</th>\n",
       "      <td>5</td>\n",
       "      <td>1499859939</td>\n",
       "      <td>True</td>\n",
       "      <td>2.0</td>\n",
       "      <td>2.0</td>\n",
       "      <td>11</td>\n",
       "      <td>11</td>\n",
       "      <td>4</td>\n",
       "      <td>12</td>\n",
       "      <td>2</td>\n",
       "      <td>False</td>\n",
       "    </tr>\n",
       "    <tr>\n",
       "      <th>4</th>\n",
       "      <td>7</td>\n",
       "      <td>1521634660</td>\n",
       "      <td>True</td>\n",
       "      <td>0.0</td>\n",
       "      <td>0.0</td>\n",
       "      <td>1</td>\n",
       "      <td>1</td>\n",
       "      <td>0</td>\n",
       "      <td>1</td>\n",
       "      <td>1</td>\n",
       "      <td>False</td>\n",
       "    </tr>\n",
       "    <tr>\n",
       "      <th>...</th>\n",
       "      <td>...</td>\n",
       "      <td>...</td>\n",
       "      <td>...</td>\n",
       "      <td>...</td>\n",
       "      <td>...</td>\n",
       "      <td>...</td>\n",
       "      <td>...</td>\n",
       "      <td>...</td>\n",
       "      <td>...</td>\n",
       "      <td>...</td>\n",
       "      <td>...</td>\n",
       "    </tr>\n",
       "    <tr>\n",
       "      <th>19229</th>\n",
       "      <td>26790</td>\n",
       "      <td>1517495987</td>\n",
       "      <td>True</td>\n",
       "      <td>1.0</td>\n",
       "      <td>0.0</td>\n",
       "      <td>8</td>\n",
       "      <td>8</td>\n",
       "      <td>1</td>\n",
       "      <td>9</td>\n",
       "      <td>4</td>\n",
       "      <td>False</td>\n",
       "    </tr>\n",
       "    <tr>\n",
       "      <th>19230</th>\n",
       "      <td>26793</td>\n",
       "      <td>1510225034</td>\n",
       "      <td>True</td>\n",
       "      <td>0.0</td>\n",
       "      <td>0.0</td>\n",
       "      <td>1</td>\n",
       "      <td>0</td>\n",
       "      <td>1</td>\n",
       "      <td>1</td>\n",
       "      <td>1</td>\n",
       "      <td>False</td>\n",
       "    </tr>\n",
       "    <tr>\n",
       "      <th>19231</th>\n",
       "      <td>26794</td>\n",
       "      <td>1512035039</td>\n",
       "      <td>True</td>\n",
       "      <td>33.0</td>\n",
       "      <td>9.0</td>\n",
       "      <td>69</td>\n",
       "      <td>69</td>\n",
       "      <td>34</td>\n",
       "      <td>180</td>\n",
       "      <td>9</td>\n",
       "      <td>False</td>\n",
       "    </tr>\n",
       "    <tr>\n",
       "      <th>19232</th>\n",
       "      <td>26797</td>\n",
       "      <td>1509995096</td>\n",
       "      <td>True</td>\n",
       "      <td>2.0</td>\n",
       "      <td>0.0</td>\n",
       "      <td>10</td>\n",
       "      <td>10</td>\n",
       "      <td>2</td>\n",
       "      <td>13</td>\n",
       "      <td>2</td>\n",
       "      <td>False</td>\n",
       "    </tr>\n",
       "    <tr>\n",
       "      <th>19233</th>\n",
       "      <td>26798</td>\n",
       "      <td>1520978742</td>\n",
       "      <td>True</td>\n",
       "      <td>2.0</td>\n",
       "      <td>1.0</td>\n",
       "      <td>12</td>\n",
       "      <td>12</td>\n",
       "      <td>3</td>\n",
       "      <td>12</td>\n",
       "      <td>1</td>\n",
       "      <td>False</td>\n",
       "    </tr>\n",
       "  </tbody>\n",
       "</table>\n",
       "<p>19234 rows × 11 columns</p>\n",
       "</div>"
      ],
      "text/plain": [
       "       user_id  last_timestamp  is_gone_user  correct  wrong  discovered  \\\n",
       "0            1      1472827464          True      0.0    0.0           1   \n",
       "1            2      1519226966          True      2.0    0.0           9   \n",
       "2            3      1444581588          True     29.0   23.0          91   \n",
       "3            5      1499859939          True      2.0    2.0          11   \n",
       "4            7      1521634660          True      0.0    0.0           1   \n",
       "...        ...             ...           ...      ...    ...         ...   \n",
       "19229    26790      1517495987          True      1.0    0.0           8   \n",
       "19230    26793      1510225034          True      0.0    0.0           1   \n",
       "19231    26794      1512035039          True     33.0    9.0          69   \n",
       "19232    26797      1509995096          True      2.0    0.0          10   \n",
       "19233    26798      1520978742          True      2.0    1.0          12   \n",
       "\n",
       "       passed  started_attempt  viewed  day  passed_course  \n",
       "0           0                0       1    1          False  \n",
       "1           9                2      10    2          False  \n",
       "2          87               30     192    7          False  \n",
       "3          11                4      12    2          False  \n",
       "4           1                0       1    1          False  \n",
       "...       ...              ...     ...  ...            ...  \n",
       "19229       8                1       9    4          False  \n",
       "19230       0                1       1    1          False  \n",
       "19231      69               34     180    9          False  \n",
       "19232      10                2      13    2          False  \n",
       "19233      12                3      12    1          False  \n",
       "\n",
       "[19234 rows x 11 columns]"
      ]
     },
     "execution_count": 53,
     "metadata": {},
     "output_type": "execute_result"
    }
   ],
   "source": [
    "users_data"
   ]
  },
  {
   "cell_type": "markdown",
   "id": "b893208e",
   "metadata": {},
   "source": [
    "# ML Data contest 2\\\\ Обучение модели"
   ]
  },
  {
   "cell_type": "code",
   "execution_count": 35,
   "id": "c9bd6745",
   "metadata": {},
   "outputs": [
    {
     "data": {
      "text/html": [
       "<div>\n",
       "<style scoped>\n",
       "    .dataframe tbody tr th:only-of-type {\n",
       "        vertical-align: middle;\n",
       "    }\n",
       "\n",
       "    .dataframe tbody tr th {\n",
       "        vertical-align: top;\n",
       "    }\n",
       "\n",
       "    .dataframe thead th {\n",
       "        text-align: right;\n",
       "    }\n",
       "</style>\n",
       "<table border=\"1\" class=\"dataframe\">\n",
       "  <thead>\n",
       "    <tr style=\"text-align: right;\">\n",
       "      <th></th>\n",
       "      <th>user_id</th>\n",
       "      <th>last_timestamp</th>\n",
       "      <th>is_gone_user</th>\n",
       "      <th>correct</th>\n",
       "      <th>wrong</th>\n",
       "      <th>discovered</th>\n",
       "      <th>passed</th>\n",
       "      <th>started_attempt</th>\n",
       "      <th>viewed</th>\n",
       "      <th>day</th>\n",
       "      <th>passed_course</th>\n",
       "    </tr>\n",
       "  </thead>\n",
       "  <tbody>\n",
       "    <tr>\n",
       "      <th>0</th>\n",
       "      <td>1</td>\n",
       "      <td>1472827464</td>\n",
       "      <td>True</td>\n",
       "      <td>0.0</td>\n",
       "      <td>0.0</td>\n",
       "      <td>1</td>\n",
       "      <td>0</td>\n",
       "      <td>0</td>\n",
       "      <td>1</td>\n",
       "      <td>1</td>\n",
       "      <td>False</td>\n",
       "    </tr>\n",
       "    <tr>\n",
       "      <th>1</th>\n",
       "      <td>2</td>\n",
       "      <td>1519226966</td>\n",
       "      <td>True</td>\n",
       "      <td>2.0</td>\n",
       "      <td>0.0</td>\n",
       "      <td>9</td>\n",
       "      <td>9</td>\n",
       "      <td>2</td>\n",
       "      <td>10</td>\n",
       "      <td>2</td>\n",
       "      <td>False</td>\n",
       "    </tr>\n",
       "    <tr>\n",
       "      <th>2</th>\n",
       "      <td>3</td>\n",
       "      <td>1444581588</td>\n",
       "      <td>True</td>\n",
       "      <td>29.0</td>\n",
       "      <td>23.0</td>\n",
       "      <td>91</td>\n",
       "      <td>87</td>\n",
       "      <td>30</td>\n",
       "      <td>192</td>\n",
       "      <td>7</td>\n",
       "      <td>False</td>\n",
       "    </tr>\n",
       "    <tr>\n",
       "      <th>3</th>\n",
       "      <td>5</td>\n",
       "      <td>1499859939</td>\n",
       "      <td>True</td>\n",
       "      <td>2.0</td>\n",
       "      <td>2.0</td>\n",
       "      <td>11</td>\n",
       "      <td>11</td>\n",
       "      <td>4</td>\n",
       "      <td>12</td>\n",
       "      <td>2</td>\n",
       "      <td>False</td>\n",
       "    </tr>\n",
       "    <tr>\n",
       "      <th>4</th>\n",
       "      <td>7</td>\n",
       "      <td>1521634660</td>\n",
       "      <td>True</td>\n",
       "      <td>0.0</td>\n",
       "      <td>0.0</td>\n",
       "      <td>1</td>\n",
       "      <td>1</td>\n",
       "      <td>0</td>\n",
       "      <td>1</td>\n",
       "      <td>1</td>\n",
       "      <td>False</td>\n",
       "    </tr>\n",
       "    <tr>\n",
       "      <th>...</th>\n",
       "      <td>...</td>\n",
       "      <td>...</td>\n",
       "      <td>...</td>\n",
       "      <td>...</td>\n",
       "      <td>...</td>\n",
       "      <td>...</td>\n",
       "      <td>...</td>\n",
       "      <td>...</td>\n",
       "      <td>...</td>\n",
       "      <td>...</td>\n",
       "      <td>...</td>\n",
       "    </tr>\n",
       "    <tr>\n",
       "      <th>19229</th>\n",
       "      <td>26790</td>\n",
       "      <td>1517495987</td>\n",
       "      <td>True</td>\n",
       "      <td>1.0</td>\n",
       "      <td>0.0</td>\n",
       "      <td>8</td>\n",
       "      <td>8</td>\n",
       "      <td>1</td>\n",
       "      <td>9</td>\n",
       "      <td>4</td>\n",
       "      <td>False</td>\n",
       "    </tr>\n",
       "    <tr>\n",
       "      <th>19230</th>\n",
       "      <td>26793</td>\n",
       "      <td>1510225034</td>\n",
       "      <td>True</td>\n",
       "      <td>0.0</td>\n",
       "      <td>0.0</td>\n",
       "      <td>1</td>\n",
       "      <td>0</td>\n",
       "      <td>1</td>\n",
       "      <td>1</td>\n",
       "      <td>1</td>\n",
       "      <td>False</td>\n",
       "    </tr>\n",
       "    <tr>\n",
       "      <th>19231</th>\n",
       "      <td>26794</td>\n",
       "      <td>1512035039</td>\n",
       "      <td>True</td>\n",
       "      <td>33.0</td>\n",
       "      <td>9.0</td>\n",
       "      <td>69</td>\n",
       "      <td>69</td>\n",
       "      <td>34</td>\n",
       "      <td>180</td>\n",
       "      <td>9</td>\n",
       "      <td>False</td>\n",
       "    </tr>\n",
       "    <tr>\n",
       "      <th>19232</th>\n",
       "      <td>26797</td>\n",
       "      <td>1509995096</td>\n",
       "      <td>True</td>\n",
       "      <td>2.0</td>\n",
       "      <td>0.0</td>\n",
       "      <td>10</td>\n",
       "      <td>10</td>\n",
       "      <td>2</td>\n",
       "      <td>13</td>\n",
       "      <td>2</td>\n",
       "      <td>False</td>\n",
       "    </tr>\n",
       "    <tr>\n",
       "      <th>19233</th>\n",
       "      <td>26798</td>\n",
       "      <td>1520978742</td>\n",
       "      <td>True</td>\n",
       "      <td>2.0</td>\n",
       "      <td>1.0</td>\n",
       "      <td>12</td>\n",
       "      <td>12</td>\n",
       "      <td>3</td>\n",
       "      <td>12</td>\n",
       "      <td>1</td>\n",
       "      <td>False</td>\n",
       "    </tr>\n",
       "  </tbody>\n",
       "</table>\n",
       "<p>19234 rows × 11 columns</p>\n",
       "</div>"
      ],
      "text/plain": [
       "       user_id  last_timestamp  is_gone_user  correct  wrong  discovered  \\\n",
       "0            1      1472827464          True      0.0    0.0           1   \n",
       "1            2      1519226966          True      2.0    0.0           9   \n",
       "2            3      1444581588          True     29.0   23.0          91   \n",
       "3            5      1499859939          True      2.0    2.0          11   \n",
       "4            7      1521634660          True      0.0    0.0           1   \n",
       "...        ...             ...           ...      ...    ...         ...   \n",
       "19229    26790      1517495987          True      1.0    0.0           8   \n",
       "19230    26793      1510225034          True      0.0    0.0           1   \n",
       "19231    26794      1512035039          True     33.0    9.0          69   \n",
       "19232    26797      1509995096          True      2.0    0.0          10   \n",
       "19233    26798      1520978742          True      2.0    1.0          12   \n",
       "\n",
       "       passed  started_attempt  viewed  day  passed_course  \n",
       "0           0                0       1    1          False  \n",
       "1           9                2      10    2          False  \n",
       "2          87               30     192    7          False  \n",
       "3          11                4      12    2          False  \n",
       "4           1                0       1    1          False  \n",
       "...       ...              ...     ...  ...            ...  \n",
       "19229       8                1       9    4          False  \n",
       "19230       0                1       1    1          False  \n",
       "19231      69               34     180    9          False  \n",
       "19232      10                2      13    2          False  \n",
       "19233      12                3      12    1          False  \n",
       "\n",
       "[19234 rows x 11 columns]"
      ]
     },
     "execution_count": 35,
     "metadata": {},
     "output_type": "execute_result"
    }
   ],
   "source": [
    "users_data"
   ]
  },
  {
   "cell_type": "code",
   "execution_count": 36,
   "id": "b7b1ad5c",
   "metadata": {},
   "outputs": [
    {
     "data": {
      "text/plain": [
       "<AxesSubplot:>"
      ]
     },
     "execution_count": 36,
     "metadata": {},
     "output_type": "execute_result"
    },
    {
     "data": {
      "image/png": "[encoded data removed]",
      "text/plain": [
       "<Figure size 648x432 with 1 Axes>"
      ]
     },
     "metadata": {},
     "output_type": "display_data"
    }
   ],
   "source": [
    "users_data[users_data.passed_course].day.hist()"
   ]
  },
  {
   "cell_type": "code",
   "execution_count": 41,
   "id": "30d61ff0",
   "metadata": {},
   "outputs": [],
   "source": [
    "user_min_time = events_data.groupby('user_id', as_index = False)\\\n",
    "    .agg({'timestamp': 'min'}) \\\n",
    "    .rename({'timestamp': 'min_timestamp'}, axis = 1)"
   ]
  },
  {
   "cell_type": "code",
   "execution_count": 42,
   "id": "59aad14b",
   "metadata": {},
   "outputs": [],
   "source": [
    "users_data = users_data.merge(user_min_time, how = 'outer')"
   ]
  },
  {
   "cell_type": "code",
   "execution_count": 44,
   "id": "c3d80e95",
   "metadata": {},
   "outputs": [],
   "source": [
    "events_data_train = pd.DataFrame()"
   ]
  },
  {
   "cell_type": "code",
   "execution_count": 50,
   "id": "9758a151",
   "metadata": {},
   "outputs": [],
   "source": [
    "    # Способ топорный и долгий.\n",
    "    # Цикл \n",
    "for user_id in users_data.user_id:\n",
    "    # отобрать пользователей c минимальным временем\n",
    "    min_user_time = users_data[users_data.user_id == user_id].min_timestamp.item()\n",
    "    # Создаем переменную с порогом времени\n",
    "    time_treshhold = min_user_time + 3 * 60 * 60\n",
    "    # фильтруем\n",
    "    user_events_data = events_data[(events_data.user_id == user_id) & (events_data.timestamp < time_treshhold)]\n",
    "    \n",
    "    # Наращиваем таблицу\n",
    "    events_data_train = events_data_train.append(user_events_data)\n",
    "    "
   ]
  },
  {
   "cell_type": "code",
   "execution_count": null,
   "id": "00fd6878",
   "metadata": {},
   "outputs": [],
   "source": [
    " # Православный метод\n",
    "events_data_train = event_data[]"
   ]
  },
  {
   "cell_type": "code",
   "execution_count": 52,
   "id": "bdb221a1",
   "metadata": {},
   "outputs": [],
   "source": [
    "events_data['user_time'] = events_data.user_id.map(str) + '_' + events_data.timestamp.map(str)\n"
   ]
  },
  {
   "cell_type": "code",
   "execution_count": 55,
   "id": "4e6ff716",
   "metadata": {},
   "outputs": [
    {
     "data": {
      "text/plain": [
       "1521234963"
      ]
     },
     "execution_count": 55,
     "metadata": {},
     "output_type": "execute_result"
    }
   ],
   "source": [
    "learning_time_treshhold = min_user_time + 3 * 24 * 60 * 60\n",
    "learning_time_treshhold"
   ]
  },
  {
   "cell_type": "code",
   "execution_count": 57,
   "id": "5a4d055e",
   "metadata": {},
   "outputs": [],
   "source": [
    "user_learning_time_treshhold = user_min_time.user_id.map(str) + '_' + (user_min_time.min_timestamp + learning_time_treshhold).map(str)"
   ]
  },
  {
   "cell_type": "code",
   "execution_count": 59,
   "id": "ab06cfb3",
   "metadata": {},
   "outputs": [],
   "source": [
    "user_min_time['user_learning_time_treshhold'] = user_learning_time_treshhold"
   ]
  },
  {
   "cell_type": "code",
   "execution_count": 65,
   "id": "d654b132",
   "metadata": {},
   "outputs": [
    {
     "data": {
      "text/html": [
       "<div>\n",
       "<style scoped>\n",
       "    .dataframe tbody tr th:only-of-type {\n",
       "        vertical-align: middle;\n",
       "    }\n",
       "\n",
       "    .dataframe tbody tr th {\n",
       "        vertical-align: top;\n",
       "    }\n",
       "\n",
       "    .dataframe thead th {\n",
       "        text-align: right;\n",
       "    }\n",
       "</style>\n",
       "<table border=\"1\" class=\"dataframe\">\n",
       "  <thead>\n",
       "    <tr style=\"text-align: right;\">\n",
       "      <th></th>\n",
       "      <th>step_id</th>\n",
       "      <th>timestamp</th>\n",
       "      <th>action</th>\n",
       "      <th>user_id</th>\n",
       "      <th>date</th>\n",
       "      <th>day</th>\n",
       "      <th>user_time</th>\n",
       "      <th>user_learning_time_treshhold</th>\n",
       "    </tr>\n",
       "  </thead>\n",
       "  <tbody>\n",
       "    <tr>\n",
       "      <th>0</th>\n",
       "      <td>32815</td>\n",
       "      <td>1434340848</td>\n",
       "      <td>viewed</td>\n",
       "      <td>17632</td>\n",
       "      <td>2015-06-15 04:00:48</td>\n",
       "      <td>2015-06-15</td>\n",
       "      <td>17632_1434340848</td>\n",
       "      <td>17632_2955575811</td>\n",
       "    </tr>\n",
       "    <tr>\n",
       "      <th>1</th>\n",
       "      <td>32815</td>\n",
       "      <td>1434340848</td>\n",
       "      <td>passed</td>\n",
       "      <td>17632</td>\n",
       "      <td>2015-06-15 04:00:48</td>\n",
       "      <td>2015-06-15</td>\n",
       "      <td>17632_1434340848</td>\n",
       "      <td>17632_2955575811</td>\n",
       "    </tr>\n",
       "    <tr>\n",
       "      <th>2</th>\n",
       "      <td>32815</td>\n",
       "      <td>1434340848</td>\n",
       "      <td>discovered</td>\n",
       "      <td>17632</td>\n",
       "      <td>2015-06-15 04:00:48</td>\n",
       "      <td>2015-06-15</td>\n",
       "      <td>17632_1434340848</td>\n",
       "      <td>17632_2955575811</td>\n",
       "    </tr>\n",
       "    <tr>\n",
       "      <th>3</th>\n",
       "      <td>32811</td>\n",
       "      <td>1434340895</td>\n",
       "      <td>discovered</td>\n",
       "      <td>17632</td>\n",
       "      <td>2015-06-15 04:01:35</td>\n",
       "      <td>2015-06-15</td>\n",
       "      <td>17632_1434340895</td>\n",
       "      <td>17632_2955575811</td>\n",
       "    </tr>\n",
       "    <tr>\n",
       "      <th>4</th>\n",
       "      <td>32811</td>\n",
       "      <td>1434340895</td>\n",
       "      <td>viewed</td>\n",
       "      <td>17632</td>\n",
       "      <td>2015-06-15 04:01:35</td>\n",
       "      <td>2015-06-15</td>\n",
       "      <td>17632_1434340895</td>\n",
       "      <td>17632_2955575811</td>\n",
       "    </tr>\n",
       "    <tr>\n",
       "      <th>...</th>\n",
       "      <td>...</td>\n",
       "      <td>...</td>\n",
       "      <td>...</td>\n",
       "      <td>...</td>\n",
       "      <td>...</td>\n",
       "      <td>...</td>\n",
       "      <td>...</td>\n",
       "      <td>...</td>\n",
       "    </tr>\n",
       "    <tr>\n",
       "      <th>3480698</th>\n",
       "      <td>32814</td>\n",
       "      <td>1526762783</td>\n",
       "      <td>discovered</td>\n",
       "      <td>943</td>\n",
       "      <td>2018-05-19 20:46:23</td>\n",
       "      <td>2018-05-19</td>\n",
       "      <td>943_1526762783</td>\n",
       "      <td>943_3047997627</td>\n",
       "    </tr>\n",
       "    <tr>\n",
       "      <th>3480699</th>\n",
       "      <td>32814</td>\n",
       "      <td>1526762783</td>\n",
       "      <td>passed</td>\n",
       "      <td>943</td>\n",
       "      <td>2018-05-19 20:46:23</td>\n",
       "      <td>2018-05-19</td>\n",
       "      <td>943_1526762783</td>\n",
       "      <td>943_3047997627</td>\n",
       "    </tr>\n",
       "    <tr>\n",
       "      <th>3480700</th>\n",
       "      <td>32815</td>\n",
       "      <td>1526772750</td>\n",
       "      <td>viewed</td>\n",
       "      <td>5198</td>\n",
       "      <td>2018-05-19 23:32:30</td>\n",
       "      <td>2018-05-19</td>\n",
       "      <td>5198_1526772750</td>\n",
       "      <td>5198_3048007713</td>\n",
       "    </tr>\n",
       "    <tr>\n",
       "      <th>3480701</th>\n",
       "      <td>32815</td>\n",
       "      <td>1526772750</td>\n",
       "      <td>discovered</td>\n",
       "      <td>5198</td>\n",
       "      <td>2018-05-19 23:32:30</td>\n",
       "      <td>2018-05-19</td>\n",
       "      <td>5198_1526772750</td>\n",
       "      <td>5198_3048007713</td>\n",
       "    </tr>\n",
       "    <tr>\n",
       "      <th>3480702</th>\n",
       "      <td>32815</td>\n",
       "      <td>1526772750</td>\n",
       "      <td>passed</td>\n",
       "      <td>5198</td>\n",
       "      <td>2018-05-19 23:32:30</td>\n",
       "      <td>2018-05-19</td>\n",
       "      <td>5198_1526772750</td>\n",
       "      <td>5198_3048007713</td>\n",
       "    </tr>\n",
       "  </tbody>\n",
       "</table>\n",
       "<p>3480703 rows × 8 columns</p>\n",
       "</div>"
      ],
      "text/plain": [
       "         step_id   timestamp      action  user_id                date  \\\n",
       "0          32815  1434340848      viewed    17632 2015-06-15 04:00:48   \n",
       "1          32815  1434340848      passed    17632 2015-06-15 04:00:48   \n",
       "2          32815  1434340848  discovered    17632 2015-06-15 04:00:48   \n",
       "3          32811  1434340895  discovered    17632 2015-06-15 04:01:35   \n",
       "4          32811  1434340895      viewed    17632 2015-06-15 04:01:35   \n",
       "...          ...         ...         ...      ...                 ...   \n",
       "3480698    32814  1526762783  discovered      943 2018-05-19 20:46:23   \n",
       "3480699    32814  1526762783      passed      943 2018-05-19 20:46:23   \n",
       "3480700    32815  1526772750      viewed     5198 2018-05-19 23:32:30   \n",
       "3480701    32815  1526772750  discovered     5198 2018-05-19 23:32:30   \n",
       "3480702    32815  1526772750      passed     5198 2018-05-19 23:32:30   \n",
       "\n",
       "                day         user_time user_learning_time_treshhold  \n",
       "0        2015-06-15  17632_1434340848             17632_2955575811  \n",
       "1        2015-06-15  17632_1434340848             17632_2955575811  \n",
       "2        2015-06-15  17632_1434340848             17632_2955575811  \n",
       "3        2015-06-15  17632_1434340895             17632_2955575811  \n",
       "4        2015-06-15  17632_1434340895             17632_2955575811  \n",
       "...             ...               ...                          ...  \n",
       "3480698  2018-05-19    943_1526762783               943_3047997627  \n",
       "3480699  2018-05-19    943_1526762783               943_3047997627  \n",
       "3480700  2018-05-19   5198_1526772750              5198_3048007713  \n",
       "3480701  2018-05-19   5198_1526772750              5198_3048007713  \n",
       "3480702  2018-05-19   5198_1526772750              5198_3048007713  \n",
       "\n",
       "[3480703 rows x 8 columns]"
      ]
     },
     "execution_count": 65,
     "metadata": {},
     "output_type": "execute_result"
    }
   ],
   "source": [
    "events_data = events_data.merge(user_min_time[['user_id', 'user_learning_time_treshhold']], how = 'outer')\n",
    "events_data"
   ]
  },
  {
   "cell_type": "code",
   "execution_count": 81,
   "id": "7ae4fc0f",
   "metadata": {},
   "outputs": [],
   "source": [
    "events_data_train = events_data[events_data.user_time <= events_data.user_learning_time_treshhold]"
   ]
  },
  {
   "cell_type": "code",
   "execution_count": null,
   "id": "914133bf",
   "metadata": {},
   "outputs": [],
   "source": []
  },
  {
   "cell_type": "markdown",
   "id": "ba20805a",
   "metadata": {},
   "source": [
    "# минизадачка по поиску самого сложного задания"
   ]
  },
  {
   "cell_type": "code",
   "execution_count": 114,
   "id": "a959578a",
   "metadata": {},
   "outputs": [
    {
     "data": {
      "text/html": [
       "<div>\n",
       "<style scoped>\n",
       "    .dataframe tbody tr th:only-of-type {\n",
       "        vertical-align: middle;\n",
       "    }\n",
       "\n",
       "    .dataframe tbody tr th {\n",
       "        vertical-align: top;\n",
       "    }\n",
       "\n",
       "    .dataframe thead th {\n",
       "        text-align: right;\n",
       "    }\n",
       "</style>\n",
       "<table border=\"1\" class=\"dataframe\">\n",
       "  <thead>\n",
       "    <tr style=\"text-align: right;\">\n",
       "      <th></th>\n",
       "      <th>step_id</th>\n",
       "      <th>timestamp</th>\n",
       "      <th>submission_status</th>\n",
       "      <th>user_id</th>\n",
       "      <th>date</th>\n",
       "      <th>day</th>\n",
       "    </tr>\n",
       "  </thead>\n",
       "  <tbody>\n",
       "    <tr>\n",
       "      <th>2</th>\n",
       "      <td>31972</td>\n",
       "      <td>1478852149</td>\n",
       "      <td>wrong</td>\n",
       "      <td>15853</td>\n",
       "      <td>2015-06-15 04:00:48</td>\n",
       "      <td>2015-06-15</td>\n",
       "    </tr>\n",
       "    <tr>\n",
       "      <th>4</th>\n",
       "      <td>31976</td>\n",
       "      <td>1434348123</td>\n",
       "      <td>wrong</td>\n",
       "      <td>15853</td>\n",
       "      <td>2015-06-15 04:01:35</td>\n",
       "      <td>2015-06-15</td>\n",
       "    </tr>\n",
       "    <tr>\n",
       "      <th>15</th>\n",
       "      <td>32031</td>\n",
       "      <td>1434363465</td>\n",
       "      <td>wrong</td>\n",
       "      <td>15853</td>\n",
       "      <td>2015-06-15 04:03:36</td>\n",
       "      <td>2015-06-15</td>\n",
       "    </tr>\n",
       "    <tr>\n",
       "      <th>33</th>\n",
       "      <td>32795</td>\n",
       "      <td>1434520465</td>\n",
       "      <td>wrong</td>\n",
       "      <td>15853</td>\n",
       "      <td>2015-06-15 04:09:45</td>\n",
       "      <td>2015-06-15</td>\n",
       "    </tr>\n",
       "    <tr>\n",
       "      <th>38</th>\n",
       "      <td>32812</td>\n",
       "      <td>1434346160</td>\n",
       "      <td>wrong</td>\n",
       "      <td>15853</td>\n",
       "      <td>2015-06-15 04:18:51</td>\n",
       "      <td>2015-06-15</td>\n",
       "    </tr>\n",
       "    <tr>\n",
       "      <th>...</th>\n",
       "      <td>...</td>\n",
       "      <td>...</td>\n",
       "      <td>...</td>\n",
       "      <td>...</td>\n",
       "      <td>...</td>\n",
       "      <td>...</td>\n",
       "    </tr>\n",
       "    <tr>\n",
       "      <th>509096</th>\n",
       "      <td>120745</td>\n",
       "      <td>1500154509</td>\n",
       "      <td>wrong</td>\n",
       "      <td>3310</td>\n",
       "      <td>2015-07-11 13:39:55</td>\n",
       "      <td>2015-07-11</td>\n",
       "    </tr>\n",
       "    <tr>\n",
       "      <th>509099</th>\n",
       "      <td>120745</td>\n",
       "      <td>1501946959</td>\n",
       "      <td>wrong</td>\n",
       "      <td>2615</td>\n",
       "      <td>2015-07-11 13:40:14</td>\n",
       "      <td>2015-07-11</td>\n",
       "    </tr>\n",
       "    <tr>\n",
       "      <th>509101</th>\n",
       "      <td>120745</td>\n",
       "      <td>1506348153</td>\n",
       "      <td>wrong</td>\n",
       "      <td>15253</td>\n",
       "      <td>2015-07-11 13:40:19</td>\n",
       "      <td>2015-07-11</td>\n",
       "    </tr>\n",
       "    <tr>\n",
       "      <th>509102</th>\n",
       "      <td>120745</td>\n",
       "      <td>1523035316</td>\n",
       "      <td>wrong</td>\n",
       "      <td>1424</td>\n",
       "      <td>2015-07-11 13:40:19</td>\n",
       "      <td>2015-07-11</td>\n",
       "    </tr>\n",
       "    <tr>\n",
       "      <th>509103</th>\n",
       "      <td>120745</td>\n",
       "      <td>1523382825</td>\n",
       "      <td>wrong</td>\n",
       "      <td>9422</td>\n",
       "      <td>2015-07-11 13:40:19</td>\n",
       "      <td>2015-07-11</td>\n",
       "    </tr>\n",
       "  </tbody>\n",
       "</table>\n",
       "<p>286399 rows × 6 columns</p>\n",
       "</div>"
      ],
      "text/plain": [
       "        step_id   timestamp submission_status  user_id                date  \\\n",
       "2         31972  1478852149             wrong    15853 2015-06-15 04:00:48   \n",
       "4         31976  1434348123             wrong    15853 2015-06-15 04:01:35   \n",
       "15        32031  1434363465             wrong    15853 2015-06-15 04:03:36   \n",
       "33        32795  1434520465             wrong    15853 2015-06-15 04:09:45   \n",
       "38        32812  1434346160             wrong    15853 2015-06-15 04:18:51   \n",
       "...         ...         ...               ...      ...                 ...   \n",
       "509096   120745  1500154509             wrong     3310 2015-07-11 13:39:55   \n",
       "509099   120745  1501946959             wrong     2615 2015-07-11 13:40:14   \n",
       "509101   120745  1506348153             wrong    15253 2015-07-11 13:40:19   \n",
       "509102   120745  1523035316             wrong     1424 2015-07-11 13:40:19   \n",
       "509103   120745  1523382825             wrong     9422 2015-07-11 13:40:19   \n",
       "\n",
       "               day  \n",
       "2       2015-06-15  \n",
       "4       2015-06-15  \n",
       "15      2015-06-15  \n",
       "33      2015-06-15  \n",
       "38      2015-06-15  \n",
       "...            ...  \n",
       "509096  2015-07-11  \n",
       "509099  2015-07-11  \n",
       "509101  2015-07-11  \n",
       "509102  2015-07-11  \n",
       "509103  2015-07-11  \n",
       "\n",
       "[286399 rows x 6 columns]"
      ]
     },
     "execution_count": 114,
     "metadata": {},
     "output_type": "execute_result"
    }
   ],
   "source": [
    "test = submissions_data.loc[submissions_data['submission_status']== 'wrong'] \n"
   ]
  },
  {
   "cell_type": "code",
   "execution_count": 125,
   "id": "5d6b6092",
   "metadata": {},
   "outputs": [
    {
     "data": {
      "text/html": [
       "<div>\n",
       "<style scoped>\n",
       "    .dataframe tbody tr th:only-of-type {\n",
       "        vertical-align: middle;\n",
       "    }\n",
       "\n",
       "    .dataframe tbody tr th {\n",
       "        vertical-align: top;\n",
       "    }\n",
       "\n",
       "    .dataframe thead th {\n",
       "        text-align: right;\n",
       "    }\n",
       "</style>\n",
       "<table border=\"1\" class=\"dataframe\">\n",
       "  <thead>\n",
       "    <tr style=\"text-align: right;\">\n",
       "      <th></th>\n",
       "      <th>step_id</th>\n",
       "      <th>timestamp</th>\n",
       "      <th>amount_of_users</th>\n",
       "    </tr>\n",
       "  </thead>\n",
       "  <tbody>\n",
       "    <tr>\n",
       "      <th>4</th>\n",
       "      <td>31978</td>\n",
       "      <td>1526764091</td>\n",
       "      <td>16084</td>\n",
       "    </tr>\n",
       "    <tr>\n",
       "      <th>11</th>\n",
       "      <td>32031</td>\n",
       "      <td>1526754111</td>\n",
       "      <td>13373</td>\n",
       "    </tr>\n",
       "    <tr>\n",
       "      <th>19</th>\n",
       "      <td>32202</td>\n",
       "      <td>1526763443</td>\n",
       "      <td>13002</td>\n",
       "    </tr>\n",
       "    <tr>\n",
       "      <th>44</th>\n",
       "      <td>33481</td>\n",
       "      <td>1526728707</td>\n",
       "      <td>10300</td>\n",
       "    </tr>\n",
       "    <tr>\n",
       "      <th>12</th>\n",
       "      <td>32075</td>\n",
       "      <td>1526755321</td>\n",
       "      <td>10003</td>\n",
       "    </tr>\n",
       "    <tr>\n",
       "      <th>...</th>\n",
       "      <td>...</td>\n",
       "      <td>...</td>\n",
       "      <td>...</td>\n",
       "    </tr>\n",
       "    <tr>\n",
       "      <th>45</th>\n",
       "      <td>33482</td>\n",
       "      <td>1526709910</td>\n",
       "      <td>707</td>\n",
       "    </tr>\n",
       "    <tr>\n",
       "      <th>59</th>\n",
       "      <td>33681</td>\n",
       "      <td>1526760993</td>\n",
       "      <td>703</td>\n",
       "    </tr>\n",
       "    <tr>\n",
       "      <th>36</th>\n",
       "      <td>33362</td>\n",
       "      <td>1526700038</td>\n",
       "      <td>673</td>\n",
       "    </tr>\n",
       "    <tr>\n",
       "      <th>16</th>\n",
       "      <td>32175</td>\n",
       "      <td>1526760147</td>\n",
       "      <td>342</td>\n",
       "    </tr>\n",
       "    <tr>\n",
       "      <th>29</th>\n",
       "      <td>32929</td>\n",
       "      <td>1524725756</td>\n",
       "      <td>85</td>\n",
       "    </tr>\n",
       "  </tbody>\n",
       "</table>\n",
       "<p>76 rows × 3 columns</p>\n",
       "</div>"
      ],
      "text/plain": [
       "    step_id   timestamp  amount_of_users\n",
       "4     31978  1526764091            16084\n",
       "11    32031  1526754111            13373\n",
       "19    32202  1526763443            13002\n",
       "44    33481  1526728707            10300\n",
       "12    32075  1526755321            10003\n",
       "..      ...         ...              ...\n",
       "45    33482  1526709910              707\n",
       "59    33681  1526760993              703\n",
       "36    33362  1526700038              673\n",
       "16    32175  1526760147              342\n",
       "29    32929  1524725756               85\n",
       "\n",
       "[76 rows x 3 columns]"
      ]
     },
     "execution_count": 125,
     "metadata": {},
     "output_type": "execute_result"
    }
   ],
   "source": [
    "test.groupby(['step_id'], as_index = False).agg({'timestamp': 'max', 'user_id': 'count'}) \\\n",
    ".rename({'user_id': 'amount_of_users'}, axis  = 1) \\\n",
    ".sort_values(['amount_of_users', 'timestamp'],ascending=False)"
   ]
  },
  {
   "cell_type": "code",
   "execution_count": 108,
   "id": "a72247d6",
   "metadata": {},
   "outputs": [
    {
     "data": {
      "text/html": [
       "<div>\n",
       "<style scoped>\n",
       "    .dataframe tbody tr th:only-of-type {\n",
       "        vertical-align: middle;\n",
       "    }\n",
       "\n",
       "    .dataframe tbody tr th {\n",
       "        vertical-align: top;\n",
       "    }\n",
       "\n",
       "    .dataframe thead th {\n",
       "        text-align: right;\n",
       "    }\n",
       "</style>\n",
       "<table border=\"1\" class=\"dataframe\">\n",
       "  <thead>\n",
       "    <tr style=\"text-align: right;\">\n",
       "      <th></th>\n",
       "      <th>user_id</th>\n",
       "      <th>timestamp</th>\n",
       "    </tr>\n",
       "  </thead>\n",
       "  <tbody>\n",
       "    <tr>\n",
       "      <th>0</th>\n",
       "      <td>2</td>\n",
       "      <td>1514383485</td>\n",
       "    </tr>\n",
       "    <tr>\n",
       "      <th>1</th>\n",
       "      <td>3</td>\n",
       "      <td>1444573728</td>\n",
       "    </tr>\n",
       "    <tr>\n",
       "      <th>2</th>\n",
       "      <td>5</td>\n",
       "      <td>1499859730</td>\n",
       "    </tr>\n",
       "    <tr>\n",
       "      <th>3</th>\n",
       "      <td>8</td>\n",
       "      <td>1480604143</td>\n",
       "    </tr>\n",
       "    <tr>\n",
       "      <th>4</th>\n",
       "      <td>14</td>\n",
       "      <td>1436368601</td>\n",
       "    </tr>\n",
       "    <tr>\n",
       "      <th>...</th>\n",
       "      <td>...</td>\n",
       "      <td>...</td>\n",
       "    </tr>\n",
       "    <tr>\n",
       "      <th>9935</th>\n",
       "      <td>26787</td>\n",
       "      <td>1469015051</td>\n",
       "    </tr>\n",
       "    <tr>\n",
       "      <th>9936</th>\n",
       "      <td>26790</td>\n",
       "      <td>1451722691</td>\n",
       "    </tr>\n",
       "    <tr>\n",
       "      <th>9937</th>\n",
       "      <td>26794</td>\n",
       "      <td>1511374868</td>\n",
       "    </tr>\n",
       "    <tr>\n",
       "      <th>9938</th>\n",
       "      <td>26797</td>\n",
       "      <td>1508425828</td>\n",
       "    </tr>\n",
       "    <tr>\n",
       "      <th>9939</th>\n",
       "      <td>26798</td>\n",
       "      <td>1520978070</td>\n",
       "    </tr>\n",
       "  </tbody>\n",
       "</table>\n",
       "<p>9940 rows × 2 columns</p>\n",
       "</div>"
      ],
      "text/plain": [
       "      user_id   timestamp\n",
       "0           2  1514383485\n",
       "1           3  1444573728\n",
       "2           5  1499859730\n",
       "3           8  1480604143\n",
       "4          14  1436368601\n",
       "...       ...         ...\n",
       "9935    26787  1469015051\n",
       "9936    26790  1451722691\n",
       "9937    26794  1511374868\n",
       "9938    26797  1508425828\n",
       "9939    26798  1520978070\n",
       "\n",
       "[9940 rows x 2 columns]"
      ]
     },
     "execution_count": 108,
     "metadata": {},
     "output_type": "execute_result"
    }
   ],
   "source": [
    "submissions_data.groupby(['user_id'], as_index = False).agg({'timestamp': 'max'})"
   ]
  },
  {
   "cell_type": "code",
   "execution_count": 106,
   "id": "af3e5226",
   "metadata": {},
   "outputs": [
    {
     "data": {
      "text/plain": [
       "2     wrong\n",
       "4     wrong\n",
       "15    wrong\n",
       "33    wrong\n",
       "38    wrong\n",
       "41    wrong\n",
       "42    wrong\n",
       "43    wrong\n",
       "45    wrong\n",
       "50    wrong\n",
       "51    wrong\n",
       "52    wrong\n",
       "54    wrong\n",
       "64    wrong\n",
       "65    wrong\n",
       "68    wrong\n",
       "69    wrong\n",
       "91    wrong\n",
       "98    wrong\n",
       "Name: submission_status, dtype: object"
      ]
     },
     "execution_count": 106,
     "metadata": {},
     "output_type": "execute_result"
    }
   ],
   "source": [
    "test['submission_status'].loc[test['submission_status'] == 'wrong']"
   ]
  },
  {
   "cell_type": "markdown",
   "id": "65261f30",
   "metadata": {},
   "source": [
    "# Поиск создателя курса"
   ]
  },
  {
   "cell_type": "code",
   "execution_count": null,
   "id": "bcd5bffe",
   "metadata": {},
   "outputs": [],
   "source": [
    "events_data['month'] = events_data['date'].dt.to_period(\"M\")\n",
    "events_data.info()"
   ]
  },
  {
   "cell_type": "code",
   "execution_count": null,
   "id": "b516a17b",
   "metadata": {},
   "outputs": [],
   "source": [
    "events_data"
   ]
  },
  {
   "cell_type": "code",
   "execution_count": null,
   "id": "b4e60d07",
   "metadata": {},
   "outputs": [],
   "source": [
    "events_data['action'].unique()"
   ]
  },
  {
   "cell_type": "code",
   "execution_count": null,
   "id": "433a6c05",
   "metadata": {},
   "outputs": [],
   "source": [
    "test_1 = events_data.loc[(events_data['month'] >= '2017-12') & (events_data['month'] <= '2018-06')\\\n",
    "                         & (events_data['action'] == 'viewed')]\n",
    "test_1"
   ]
  },
  {
   "cell_type": "code",
   "execution_count": null,
   "id": "7d3437e0",
   "metadata": {},
   "outputs": [],
   "source": [
    "test_2 = test_1.groupby(['user_id', 'month'], as_index = False).aggregate({'action': 'count'})\\\n",
    "    .rename(columns = {'action': 'count_action'}).sort_values(['count_action','month'], ascending=False)\n",
    "test_2"
   ]
  },
  {
   "cell_type": "code",
   "execution_count": null,
   "id": "60ff0208",
   "metadata": {},
   "outputs": [],
   "source": [
    "test_3 = test_2.groupby(['user_id'], as_index = False).agg({'month': 'count', 'count_action': 'sum'})\\\n",
    "    .sort_values([ 'month'], ascending= False)\n",
    "test_3"
   ]
  },
  {
   "cell_type": "code",
   "execution_count": null,
   "id": "1ce898e2",
   "metadata": {},
   "outputs": [],
   "source": [
    "test_3.loc[test_3['month'] == 6]"
   ]
  },
  {
   "cell_type": "code",
   "execution_count": null,
   "id": "5b452599",
   "metadata": {},
   "outputs": [],
   "source": [
    "my_stat['session_value'] = my_stat['session_value'].fillna(0)\n",
    "my_stat.loc[my_stat[\"n_users\"] < 0, \"n_users\"] = \\\n",
    "    my_stat.loc[my_stat[\"n_users\"] >= 0, \"n_users\"].median()"
   ]
  }
 ],
 "metadata": {
  "kernelspec": {
   "display_name": "Python 3",
   "language": "python",
   "name": "python3"
  },
  "language_info": {
   "codemirror_mode": {
    "name": "ipython",
    "version": 3
   },
   "file_extension": ".py",
   "mimetype": "text/x-python",
   "name": "python",
   "nbconvert_exporter": "python",
   "pygments_lexer": "ipython3",
   "version": "3.8.8"
  }
 },
 "nbformat": 4,
 "nbformat_minor": 5
}
