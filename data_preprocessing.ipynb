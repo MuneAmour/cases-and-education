{
 "cells": [
  {
   "cell_type": "markdown",
   "id": "81eed386",
   "metadata": {},
   "source": [
    "<div style=\"border:solid Chocolate 2px; padding: 40px\">\n",
    "\n",
    "<b>Олег, приветствую!</b>\n",
    "\n",
    "Буду рада с тобой познакомиться. Меня зовут Евгения Маракова и я буду ревьюером твоего проекта. Если ты не против, то предлагаю общаться на \"ты\":) Если удобнее на \"вы\", то нет проблем, только скажи об этом.\n",
    "\n",
    "В процессе работы ты встретишь комментарии <font color='green'>зеленого</font>, <font color='gold'>желтого</font> и <font color='red'>красного</font> цветов. Что они значат, смотри ниже:\n",
    "    <br/>\n",
    "\n",
    "<div class=\"alert alert-success\">\n",
    "<h2> Комментарий ревьюера <a class=\"tocSkip\"> </h2>\n",
    "\n",
    "<b>Отлично!✅:</b> Решение на этом шаге является полностью правильным.\n",
    "</div>\n",
    "    \n",
    "\n",
    "<br/>\n",
    "\n",
    "<div class=\"alert alert-warning\">\n",
    "    <h2> Комментарий ревьюера <a class=\"tocSkip\"> </h2>\n",
    "    \n",
    "<b>Можно лучше⚠️:</b> Решение на этом шаге станет еще лучше, если внести небольшие коррективы.\n",
    "</div>\n",
    "\n",
    "\n",
    "<br/>\n",
    "<div class=\"alert alert-block alert-danger\">\n",
    "<h2> Комментарий ревьюера <a class=\"tocSkip\"></h2>\n",
    "\n",
    "    \n",
    "<b>Необходимо исправить❌:</b>\n",
    " Решение на этом шаге требует существенной переработки и внесения правок. Напоминаю, что проект не может быть принят с первого раза, если ревью содержит комментарии, рекомендующие доработать шаги.\n",
    "</div>\n",
    "    \n",
    "Увидев мой комментарий, не удаляй его, он будет очень полезен в случае повторной проверки работы😊\n",
    "    \n",
    "Свой комментарий помечай так, как показано ниже, тогда нам будет легче вести диалог, а мне выполнить повторную проверку проекта.\n",
    "    <div class=\"alert alert-info\"> <b>Комментарий студента: </b> </div>\n",
    "    \n"
   ]
  },
  {
   "cell_type": "markdown",
   "id": "bb9187f0",
   "metadata": {
    "deletable": false,
    "editable": false,
    "id": "c81daeeb"
   },
   "source": [
    "# Исследование надежности заемщиков\n"
   ]
  },
  {
   "cell_type": "markdown",
   "id": "7213c8e3",
   "metadata": {
    "deletable": false,
    "editable": false,
    "id": "827c20bf"
   },
   "source": [
    "Во второй части проекта вы выполните шаги 3 и 4. Их вручную проверит ревьюер.\n",
    "Чтобы вам не пришлось писать код заново для шагов 1 и 2, мы добавили авторские решения в ячейки с кодом. \n",
    "\n"
   ]
  },
  {
   "cell_type": "markdown",
   "id": "27f9d0c3",
   "metadata": {
    "deletable": false,
    "editable": false,
    "id": "744d7639"
   },
   "source": [
    "## Откройте таблицу и изучите общую информацию о данных"
   ]
  },
  {
   "cell_type": "markdown",
   "id": "b4690922",
   "metadata": {
    "deletable": false,
    "editable": false,
    "id": "e7a14c31"
   },
   "source": [
    "**Задание 1. Импортируйте библиотеку pandas. Считайте данные из csv-файла в датафрейм и сохраните в переменную `data`. Путь к файлу:**\n",
    "\n",
    "`/datasets/data.csv`"
   ]
  },
  {
   "cell_type": "code",
   "execution_count": 1,
   "id": "ff034caa",
   "metadata": {
    "deletable": false,
    "id": "7bcf75c9"
   },
   "outputs": [],
   "source": [
    "import pandas as pd\n",
    "\n",
    "try:\n",
    "    data = pd.read_csv('/datasets/data.csv')\n",
    "except:\n",
    "    data = pd.read_csv('https://code.s3.yandex.net/datasets/data.csv')"
   ]
  },
  {
   "cell_type": "code",
   "execution_count": 29,
   "id": "adc6389c",
   "metadata": {},
   "outputs": [],
   "source": [
    "data_1 = pd.read_csv('/datasets/data.csv')"
   ]
  },
  {
   "cell_type": "markdown",
   "id": "c03d76e1",
   "metadata": {
    "deletable": false,
    "editable": false,
    "id": "b8038fe3"
   },
   "source": [
    "**Задание 2. Выведите первые 20 строчек датафрейма `data` на экран.**"
   ]
  },
  {
   "cell_type": "code",
   "execution_count": 2,
   "id": "cce2e45e",
   "metadata": {
    "deletable": false,
    "id": "2a7cab99",
    "outputId": "1a8f3ef2-d323-4ec2-ddf7-89670b5944c4",
    "scrolled": true
   },
   "outputs": [
    {
     "data": {
      "text/html": [
       "<div>\n",
       "<style scoped>\n",
       "    .dataframe tbody tr th:only-of-type {\n",
       "        vertical-align: middle;\n",
       "    }\n",
       "\n",
       "    .dataframe tbody tr th {\n",
       "        vertical-align: top;\n",
       "    }\n",
       "\n",
       "    .dataframe thead th {\n",
       "        text-align: right;\n",
       "    }\n",
       "</style>\n",
       "<table border=\"1\" class=\"dataframe\">\n",
       "  <thead>\n",
       "    <tr style=\"text-align: right;\">\n",
       "      <th></th>\n",
       "      <th>children</th>\n",
       "      <th>days_employed</th>\n",
       "      <th>dob_years</th>\n",
       "      <th>education</th>\n",
       "      <th>education_id</th>\n",
       "      <th>family_status</th>\n",
       "      <th>family_status_id</th>\n",
       "      <th>gender</th>\n",
       "      <th>income_type</th>\n",
       "      <th>debt</th>\n",
       "      <th>total_income</th>\n",
       "      <th>purpose</th>\n",
       "    </tr>\n",
       "  </thead>\n",
       "  <tbody>\n",
       "    <tr>\n",
       "      <th>0</th>\n",
       "      <td>1</td>\n",
       "      <td>-8437.673028</td>\n",
       "      <td>42</td>\n",
       "      <td>высшее</td>\n",
       "      <td>0</td>\n",
       "      <td>женат / замужем</td>\n",
       "      <td>0</td>\n",
       "      <td>F</td>\n",
       "      <td>сотрудник</td>\n",
       "      <td>0</td>\n",
       "      <td>253875.639453</td>\n",
       "      <td>покупка жилья</td>\n",
       "    </tr>\n",
       "    <tr>\n",
       "      <th>1</th>\n",
       "      <td>1</td>\n",
       "      <td>-4024.803754</td>\n",
       "      <td>36</td>\n",
       "      <td>среднее</td>\n",
       "      <td>1</td>\n",
       "      <td>женат / замужем</td>\n",
       "      <td>0</td>\n",
       "      <td>F</td>\n",
       "      <td>сотрудник</td>\n",
       "      <td>0</td>\n",
       "      <td>112080.014102</td>\n",
       "      <td>приобретение автомобиля</td>\n",
       "    </tr>\n",
       "    <tr>\n",
       "      <th>2</th>\n",
       "      <td>0</td>\n",
       "      <td>-5623.422610</td>\n",
       "      <td>33</td>\n",
       "      <td>Среднее</td>\n",
       "      <td>1</td>\n",
       "      <td>женат / замужем</td>\n",
       "      <td>0</td>\n",
       "      <td>M</td>\n",
       "      <td>сотрудник</td>\n",
       "      <td>0</td>\n",
       "      <td>145885.952297</td>\n",
       "      <td>покупка жилья</td>\n",
       "    </tr>\n",
       "    <tr>\n",
       "      <th>3</th>\n",
       "      <td>3</td>\n",
       "      <td>-4124.747207</td>\n",
       "      <td>32</td>\n",
       "      <td>среднее</td>\n",
       "      <td>1</td>\n",
       "      <td>женат / замужем</td>\n",
       "      <td>0</td>\n",
       "      <td>M</td>\n",
       "      <td>сотрудник</td>\n",
       "      <td>0</td>\n",
       "      <td>267628.550329</td>\n",
       "      <td>дополнительное образование</td>\n",
       "    </tr>\n",
       "    <tr>\n",
       "      <th>4</th>\n",
       "      <td>0</td>\n",
       "      <td>340266.072047</td>\n",
       "      <td>53</td>\n",
       "      <td>среднее</td>\n",
       "      <td>1</td>\n",
       "      <td>гражданский брак</td>\n",
       "      <td>1</td>\n",
       "      <td>F</td>\n",
       "      <td>пенсионер</td>\n",
       "      <td>0</td>\n",
       "      <td>158616.077870</td>\n",
       "      <td>сыграть свадьбу</td>\n",
       "    </tr>\n",
       "    <tr>\n",
       "      <th>5</th>\n",
       "      <td>0</td>\n",
       "      <td>-926.185831</td>\n",
       "      <td>27</td>\n",
       "      <td>высшее</td>\n",
       "      <td>0</td>\n",
       "      <td>гражданский брак</td>\n",
       "      <td>1</td>\n",
       "      <td>M</td>\n",
       "      <td>компаньон</td>\n",
       "      <td>0</td>\n",
       "      <td>255763.565419</td>\n",
       "      <td>покупка жилья</td>\n",
       "    </tr>\n",
       "    <tr>\n",
       "      <th>6</th>\n",
       "      <td>0</td>\n",
       "      <td>-2879.202052</td>\n",
       "      <td>43</td>\n",
       "      <td>высшее</td>\n",
       "      <td>0</td>\n",
       "      <td>женат / замужем</td>\n",
       "      <td>0</td>\n",
       "      <td>F</td>\n",
       "      <td>компаньон</td>\n",
       "      <td>0</td>\n",
       "      <td>240525.971920</td>\n",
       "      <td>операции с жильем</td>\n",
       "    </tr>\n",
       "    <tr>\n",
       "      <th>7</th>\n",
       "      <td>0</td>\n",
       "      <td>-152.779569</td>\n",
       "      <td>50</td>\n",
       "      <td>СРЕДНЕЕ</td>\n",
       "      <td>1</td>\n",
       "      <td>женат / замужем</td>\n",
       "      <td>0</td>\n",
       "      <td>M</td>\n",
       "      <td>сотрудник</td>\n",
       "      <td>0</td>\n",
       "      <td>135823.934197</td>\n",
       "      <td>образование</td>\n",
       "    </tr>\n",
       "    <tr>\n",
       "      <th>8</th>\n",
       "      <td>2</td>\n",
       "      <td>-6929.865299</td>\n",
       "      <td>35</td>\n",
       "      <td>ВЫСШЕЕ</td>\n",
       "      <td>0</td>\n",
       "      <td>гражданский брак</td>\n",
       "      <td>1</td>\n",
       "      <td>F</td>\n",
       "      <td>сотрудник</td>\n",
       "      <td>0</td>\n",
       "      <td>95856.832424</td>\n",
       "      <td>на проведение свадьбы</td>\n",
       "    </tr>\n",
       "    <tr>\n",
       "      <th>9</th>\n",
       "      <td>0</td>\n",
       "      <td>-2188.756445</td>\n",
       "      <td>41</td>\n",
       "      <td>среднее</td>\n",
       "      <td>1</td>\n",
       "      <td>женат / замужем</td>\n",
       "      <td>0</td>\n",
       "      <td>M</td>\n",
       "      <td>сотрудник</td>\n",
       "      <td>0</td>\n",
       "      <td>144425.938277</td>\n",
       "      <td>покупка жилья для семьи</td>\n",
       "    </tr>\n",
       "    <tr>\n",
       "      <th>10</th>\n",
       "      <td>2</td>\n",
       "      <td>-4171.483647</td>\n",
       "      <td>36</td>\n",
       "      <td>высшее</td>\n",
       "      <td>0</td>\n",
       "      <td>женат / замужем</td>\n",
       "      <td>0</td>\n",
       "      <td>M</td>\n",
       "      <td>компаньон</td>\n",
       "      <td>0</td>\n",
       "      <td>113943.491460</td>\n",
       "      <td>покупка недвижимости</td>\n",
       "    </tr>\n",
       "    <tr>\n",
       "      <th>11</th>\n",
       "      <td>0</td>\n",
       "      <td>-792.701887</td>\n",
       "      <td>40</td>\n",
       "      <td>среднее</td>\n",
       "      <td>1</td>\n",
       "      <td>женат / замужем</td>\n",
       "      <td>0</td>\n",
       "      <td>F</td>\n",
       "      <td>сотрудник</td>\n",
       "      <td>0</td>\n",
       "      <td>77069.234271</td>\n",
       "      <td>покупка коммерческой недвижимости</td>\n",
       "    </tr>\n",
       "    <tr>\n",
       "      <th>12</th>\n",
       "      <td>0</td>\n",
       "      <td>NaN</td>\n",
       "      <td>65</td>\n",
       "      <td>среднее</td>\n",
       "      <td>1</td>\n",
       "      <td>гражданский брак</td>\n",
       "      <td>1</td>\n",
       "      <td>M</td>\n",
       "      <td>пенсионер</td>\n",
       "      <td>0</td>\n",
       "      <td>NaN</td>\n",
       "      <td>сыграть свадьбу</td>\n",
       "    </tr>\n",
       "    <tr>\n",
       "      <th>13</th>\n",
       "      <td>0</td>\n",
       "      <td>-1846.641941</td>\n",
       "      <td>54</td>\n",
       "      <td>неоконченное высшее</td>\n",
       "      <td>2</td>\n",
       "      <td>женат / замужем</td>\n",
       "      <td>0</td>\n",
       "      <td>F</td>\n",
       "      <td>сотрудник</td>\n",
       "      <td>0</td>\n",
       "      <td>130458.228857</td>\n",
       "      <td>приобретение автомобиля</td>\n",
       "    </tr>\n",
       "    <tr>\n",
       "      <th>14</th>\n",
       "      <td>0</td>\n",
       "      <td>-1844.956182</td>\n",
       "      <td>56</td>\n",
       "      <td>высшее</td>\n",
       "      <td>0</td>\n",
       "      <td>гражданский брак</td>\n",
       "      <td>1</td>\n",
       "      <td>F</td>\n",
       "      <td>компаньон</td>\n",
       "      <td>1</td>\n",
       "      <td>165127.911772</td>\n",
       "      <td>покупка жилой недвижимости</td>\n",
       "    </tr>\n",
       "    <tr>\n",
       "      <th>15</th>\n",
       "      <td>1</td>\n",
       "      <td>-972.364419</td>\n",
       "      <td>26</td>\n",
       "      <td>среднее</td>\n",
       "      <td>1</td>\n",
       "      <td>женат / замужем</td>\n",
       "      <td>0</td>\n",
       "      <td>F</td>\n",
       "      <td>сотрудник</td>\n",
       "      <td>0</td>\n",
       "      <td>116820.904450</td>\n",
       "      <td>строительство собственной недвижимости</td>\n",
       "    </tr>\n",
       "    <tr>\n",
       "      <th>16</th>\n",
       "      <td>0</td>\n",
       "      <td>-1719.934226</td>\n",
       "      <td>35</td>\n",
       "      <td>среднее</td>\n",
       "      <td>1</td>\n",
       "      <td>женат / замужем</td>\n",
       "      <td>0</td>\n",
       "      <td>F</td>\n",
       "      <td>сотрудник</td>\n",
       "      <td>0</td>\n",
       "      <td>289202.704229</td>\n",
       "      <td>недвижимость</td>\n",
       "    </tr>\n",
       "    <tr>\n",
       "      <th>17</th>\n",
       "      <td>0</td>\n",
       "      <td>-2369.999720</td>\n",
       "      <td>33</td>\n",
       "      <td>высшее</td>\n",
       "      <td>0</td>\n",
       "      <td>гражданский брак</td>\n",
       "      <td>1</td>\n",
       "      <td>M</td>\n",
       "      <td>сотрудник</td>\n",
       "      <td>0</td>\n",
       "      <td>90410.586745</td>\n",
       "      <td>строительство недвижимости</td>\n",
       "    </tr>\n",
       "    <tr>\n",
       "      <th>18</th>\n",
       "      <td>0</td>\n",
       "      <td>400281.136913</td>\n",
       "      <td>53</td>\n",
       "      <td>среднее</td>\n",
       "      <td>1</td>\n",
       "      <td>вдовец / вдова</td>\n",
       "      <td>2</td>\n",
       "      <td>F</td>\n",
       "      <td>пенсионер</td>\n",
       "      <td>0</td>\n",
       "      <td>56823.777243</td>\n",
       "      <td>на покупку подержанного автомобиля</td>\n",
       "    </tr>\n",
       "    <tr>\n",
       "      <th>19</th>\n",
       "      <td>0</td>\n",
       "      <td>-10038.818549</td>\n",
       "      <td>48</td>\n",
       "      <td>СРЕДНЕЕ</td>\n",
       "      <td>1</td>\n",
       "      <td>в разводе</td>\n",
       "      <td>3</td>\n",
       "      <td>F</td>\n",
       "      <td>сотрудник</td>\n",
       "      <td>0</td>\n",
       "      <td>242831.107982</td>\n",
       "      <td>на покупку своего автомобиля</td>\n",
       "    </tr>\n",
       "  </tbody>\n",
       "</table>\n",
       "</div>"
      ],
      "text/plain": [
       "    children  days_employed  dob_years            education  education_id  \\\n",
       "0          1   -8437.673028         42               высшее             0   \n",
       "1          1   -4024.803754         36              среднее             1   \n",
       "2          0   -5623.422610         33              Среднее             1   \n",
       "3          3   -4124.747207         32              среднее             1   \n",
       "4          0  340266.072047         53              среднее             1   \n",
       "5          0    -926.185831         27               высшее             0   \n",
       "6          0   -2879.202052         43               высшее             0   \n",
       "7          0    -152.779569         50              СРЕДНЕЕ             1   \n",
       "8          2   -6929.865299         35               ВЫСШЕЕ             0   \n",
       "9          0   -2188.756445         41              среднее             1   \n",
       "10         2   -4171.483647         36               высшее             0   \n",
       "11         0    -792.701887         40              среднее             1   \n",
       "12         0            NaN         65              среднее             1   \n",
       "13         0   -1846.641941         54  неоконченное высшее             2   \n",
       "14         0   -1844.956182         56               высшее             0   \n",
       "15         1    -972.364419         26              среднее             1   \n",
       "16         0   -1719.934226         35              среднее             1   \n",
       "17         0   -2369.999720         33               высшее             0   \n",
       "18         0  400281.136913         53              среднее             1   \n",
       "19         0  -10038.818549         48              СРЕДНЕЕ             1   \n",
       "\n",
       "       family_status  family_status_id gender income_type  debt  \\\n",
       "0    женат / замужем                 0      F   сотрудник     0   \n",
       "1    женат / замужем                 0      F   сотрудник     0   \n",
       "2    женат / замужем                 0      M   сотрудник     0   \n",
       "3    женат / замужем                 0      M   сотрудник     0   \n",
       "4   гражданский брак                 1      F   пенсионер     0   \n",
       "5   гражданский брак                 1      M   компаньон     0   \n",
       "6    женат / замужем                 0      F   компаньон     0   \n",
       "7    женат / замужем                 0      M   сотрудник     0   \n",
       "8   гражданский брак                 1      F   сотрудник     0   \n",
       "9    женат / замужем                 0      M   сотрудник     0   \n",
       "10   женат / замужем                 0      M   компаньон     0   \n",
       "11   женат / замужем                 0      F   сотрудник     0   \n",
       "12  гражданский брак                 1      M   пенсионер     0   \n",
       "13   женат / замужем                 0      F   сотрудник     0   \n",
       "14  гражданский брак                 1      F   компаньон     1   \n",
       "15   женат / замужем                 0      F   сотрудник     0   \n",
       "16   женат / замужем                 0      F   сотрудник     0   \n",
       "17  гражданский брак                 1      M   сотрудник     0   \n",
       "18    вдовец / вдова                 2      F   пенсионер     0   \n",
       "19         в разводе                 3      F   сотрудник     0   \n",
       "\n",
       "     total_income                                 purpose  \n",
       "0   253875.639453                           покупка жилья  \n",
       "1   112080.014102                 приобретение автомобиля  \n",
       "2   145885.952297                           покупка жилья  \n",
       "3   267628.550329              дополнительное образование  \n",
       "4   158616.077870                         сыграть свадьбу  \n",
       "5   255763.565419                           покупка жилья  \n",
       "6   240525.971920                       операции с жильем  \n",
       "7   135823.934197                             образование  \n",
       "8    95856.832424                   на проведение свадьбы  \n",
       "9   144425.938277                 покупка жилья для семьи  \n",
       "10  113943.491460                    покупка недвижимости  \n",
       "11   77069.234271       покупка коммерческой недвижимости  \n",
       "12            NaN                         сыграть свадьбу  \n",
       "13  130458.228857                 приобретение автомобиля  \n",
       "14  165127.911772              покупка жилой недвижимости  \n",
       "15  116820.904450  строительство собственной недвижимости  \n",
       "16  289202.704229                            недвижимость  \n",
       "17   90410.586745              строительство недвижимости  \n",
       "18   56823.777243      на покупку подержанного автомобиля  \n",
       "19  242831.107982            на покупку своего автомобиля  "
      ]
     },
     "execution_count": 2,
     "metadata": {},
     "output_type": "execute_result"
    }
   ],
   "source": [
    "data.head(20)"
   ]
  },
  {
   "cell_type": "markdown",
   "id": "7dd068c2",
   "metadata": {
    "deletable": false,
    "editable": false,
    "id": "1c12e233"
   },
   "source": [
    "**Задание 3. Выведите основную информацию о датафрейме с помощью метода `info()`.**"
   ]
  },
  {
   "cell_type": "code",
   "execution_count": 4,
   "id": "ae325df2",
   "metadata": {
    "deletable": false,
    "id": "2b757bca",
    "outputId": "15376089-8dad-46c9-b520-c05248d43158"
   },
   "outputs": [
    {
     "name": "stdout",
     "output_type": "stream",
     "text": [
      "<class 'pandas.core.frame.DataFrame'>\n",
      "RangeIndex: 21525 entries, 0 to 21524\n",
      "Data columns (total 12 columns):\n",
      " #   Column            Non-Null Count  Dtype  \n",
      "---  ------            --------------  -----  \n",
      " 0   children          21525 non-null  int64  \n",
      " 1   days_employed     19351 non-null  float64\n",
      " 2   dob_years         21525 non-null  int64  \n",
      " 3   education         21525 non-null  object \n",
      " 4   education_id      21525 non-null  int64  \n",
      " 5   family_status     21525 non-null  object \n",
      " 6   family_status_id  21525 non-null  int64  \n",
      " 7   gender            21525 non-null  object \n",
      " 8   income_type       21525 non-null  object \n",
      " 9   debt              21525 non-null  int64  \n",
      " 10  total_income      19351 non-null  float64\n",
      " 11  purpose           21525 non-null  object \n",
      "dtypes: float64(2), int64(5), object(5)\n",
      "memory usage: 2.0+ MB\n"
     ]
    }
   ],
   "source": [
    "data.info()"
   ]
  },
  {
   "cell_type": "markdown",
   "id": "9ea49332",
   "metadata": {
    "deletable": false,
    "editable": false,
    "id": "333ec665"
   },
   "source": [
    "## Предобработка данных"
   ]
  },
  {
   "cell_type": "markdown",
   "id": "0cfba42d",
   "metadata": {
    "deletable": false,
    "editable": false,
    "id": "02d92d53"
   },
   "source": [
    "### Удаление пропусков"
   ]
  },
  {
   "cell_type": "markdown",
   "id": "a9f1eff3",
   "metadata": {
    "deletable": false,
    "editable": false,
    "id": "cd84967c"
   },
   "source": [
    "**Задание 4. Выведите количество пропущенных значений для каждого столбца. Используйте комбинацию двух методов.**"
   ]
  },
  {
   "cell_type": "code",
   "execution_count": 5,
   "id": "2bcc6ade",
   "metadata": {
    "deletable": false,
    "id": "7f9b2309",
    "outputId": "81f4d817-781c-465c-ed15-91ce4446810d"
   },
   "outputs": [
    {
     "data": {
      "text/plain": [
       "children               0\n",
       "days_employed       2174\n",
       "dob_years              0\n",
       "education              0\n",
       "education_id           0\n",
       "family_status          0\n",
       "family_status_id       0\n",
       "gender                 0\n",
       "income_type            0\n",
       "debt                   0\n",
       "total_income        2174\n",
       "purpose                0\n",
       "dtype: int64"
      ]
     },
     "execution_count": 5,
     "metadata": {},
     "output_type": "execute_result"
    }
   ],
   "source": [
    "data.isna().sum()"
   ]
  },
  {
   "cell_type": "markdown",
   "id": "bfb4f349",
   "metadata": {
    "deletable": false,
    "editable": false,
    "id": "db86e27b"
   },
   "source": [
    "**Задание 5. В двух столбцах есть пропущенные значения. Один из них — `days_employed`. Пропуски в этом столбце вы обработаете на следующем этапе. Другой столбец с пропущенными значениями — `total_income` — хранит данные о доходах. На сумму дохода сильнее всего влияет тип занятости, поэтому заполнить пропуски в этом столбце нужно медианным значением по каждому типу из столбца `income_type`. Например, у человека с типом занятости `сотрудник` пропуск в столбце `total_income` должен быть заполнен медианным доходом среди всех записей с тем же типом.**"
   ]
  },
  {
   "cell_type": "code",
   "execution_count": 6,
   "id": "213bd22d",
   "metadata": {
    "deletable": false,
    "id": "42006a93"
   },
   "outputs": [],
   "source": [
    "for t in data['income_type'].unique():\n",
    "    data.loc[(data['income_type'] == t) & (data['total_income'].isna()), 'total_income'] = \\\n",
    "    data.loc[(data['income_type'] == t), 'total_income'].median()"
   ]
  },
  {
   "cell_type": "markdown",
   "id": "059d0bd9",
   "metadata": {
    "deletable": false,
    "editable": false,
    "id": "89da5ece"
   },
   "source": [
    "### Обработка аномальных значений"
   ]
  },
  {
   "cell_type": "markdown",
   "id": "fbb15722",
   "metadata": {
    "deletable": false,
    "editable": false,
    "id": "57964554"
   },
   "source": [
    "**Задание 6. В данных могут встречаться артефакты (аномалии) — значения, которые не отражают действительность и появились по какой-то ошибке. таким артефактом будет отрицательное количество дней трудового стажа в столбце `days_employed`. Для реальных данных это нормально. Обработайте значения в этом столбце: замените все отрицательные значения положительными с помощью метода `abs()`.**"
   ]
  },
  {
   "cell_type": "code",
   "execution_count": 7,
   "id": "c5382eab",
   "metadata": {
    "deletable": false,
    "id": "f6f055bf"
   },
   "outputs": [],
   "source": [
    "data['days_employed'] = data['days_employed'].abs()"
   ]
  },
  {
   "cell_type": "markdown",
   "id": "f1257aa4",
   "metadata": {
    "deletable": false,
    "editable": false,
    "id": "6107dd2f"
   },
   "source": [
    "**Задание 7. Для каждого типа занятости выведите медианное значение трудового стажа `days_employed` в днях.**"
   ]
  },
  {
   "cell_type": "code",
   "execution_count": 8,
   "id": "583a9db7",
   "metadata": {
    "deletable": false,
    "id": "85a5faf6",
    "outputId": "801ef80e-522b-4668-f34e-565af7432bcf"
   },
   "outputs": [
    {
     "data": {
      "text/plain": [
       "income_type\n",
       "безработный        366413.652744\n",
       "в декрете            3296.759962\n",
       "госслужащий          2689.368353\n",
       "компаньон            1547.382223\n",
       "пенсионер          365213.306266\n",
       "предприниматель       520.848083\n",
       "сотрудник            1574.202821\n",
       "студент               578.751554\n",
       "Name: days_employed, dtype: float64"
      ]
     },
     "execution_count": 8,
     "metadata": {},
     "output_type": "execute_result"
    }
   ],
   "source": [
    "data.groupby('income_type')['days_employed'].agg('median')"
   ]
  },
  {
   "cell_type": "markdown",
   "id": "dbe541d5",
   "metadata": {
    "deletable": false,
    "editable": false,
    "id": "38d1a030"
   },
   "source": [
    "У двух типов (безработные и пенсионеры) получатся аномально большие значения. Исправить такие значения сложно, поэтому оставьте их как есть. Тем более этот столбец не понадобится вам для исследования."
   ]
  },
  {
   "cell_type": "markdown",
   "id": "d7f7e039",
   "metadata": {
    "deletable": false,
    "editable": false,
    "id": "d8a9f147"
   },
   "source": [
    "**Задание 8. Выведите перечень уникальных значений столбца `children`.**"
   ]
  },
  {
   "cell_type": "code",
   "execution_count": 9,
   "id": "c7a1f997",
   "metadata": {
    "deletable": false,
    "id": "ef5056eb",
    "outputId": "6975b15c-7f95-4697-d16d-a0c79b657b03"
   },
   "outputs": [
    {
     "data": {
      "text/plain": [
       "array([ 1,  0,  3,  2, -1,  4, 20,  5])"
      ]
     },
     "execution_count": 9,
     "metadata": {},
     "output_type": "execute_result"
    }
   ],
   "source": [
    "data['children'].unique()"
   ]
  },
  {
   "cell_type": "markdown",
   "id": "93c74f40",
   "metadata": {
    "deletable": false,
    "editable": false,
    "id": "40b9ebf2"
   },
   "source": [
    "**Задание 9. В столбце `children` есть два аномальных значения. Удалите строки, в которых встречаются такие аномальные значения из датафрейма `data`.**"
   ]
  },
  {
   "cell_type": "code",
   "execution_count": 10,
   "id": "21700cd2",
   "metadata": {
    "deletable": false,
    "id": "3ff9801d"
   },
   "outputs": [],
   "source": [
    "data = data[(data['children'] != -1) & (data['children'] != 20)]"
   ]
  },
  {
   "cell_type": "markdown",
   "id": "f245fa8f",
   "metadata": {
    "deletable": false,
    "editable": false,
    "id": "bbc4d0ce"
   },
   "source": [
    "**Задание 10. Ещё раз выведите перечень уникальных значений столбца `children`, чтобы убедиться, что артефакты удалены.**"
   ]
  },
  {
   "cell_type": "code",
   "execution_count": 11,
   "id": "22db3e84",
   "metadata": {
    "deletable": false,
    "id": "ad4fa8b7",
    "outputId": "b2097101-d49d-44d9-901b-32a65c9463d1"
   },
   "outputs": [
    {
     "data": {
      "text/plain": [
       "array([1, 0, 3, 2, 4, 5])"
      ]
     },
     "execution_count": 11,
     "metadata": {},
     "output_type": "execute_result"
    }
   ],
   "source": [
    "data['children'].unique()"
   ]
  },
  {
   "cell_type": "markdown",
   "id": "4ee5f5ae",
   "metadata": {
    "deletable": false,
    "editable": false,
    "id": "75440b63"
   },
   "source": [
    "### Удаление пропусков (продолжение)"
   ]
  },
  {
   "cell_type": "markdown",
   "id": "dcbfa1ac",
   "metadata": {
    "deletable": false,
    "editable": false,
    "id": "f4ea573f"
   },
   "source": [
    "**Задание 11. Заполните пропуски в столбце `days_employed` медианными значениями по каждого типа занятости `income_type`.**"
   ]
  },
  {
   "cell_type": "code",
   "execution_count": 12,
   "id": "a4e9a4a4",
   "metadata": {
    "deletable": false,
    "id": "af6b1a7e"
   },
   "outputs": [],
   "source": [
    "for t in data['income_type'].unique():\n",
    "    data.loc[(data['income_type'] == t) & (data['days_employed'].isna()), 'days_employed'] = \\\n",
    "    data.loc[(data['income_type'] == t), 'days_employed'].median()"
   ]
  },
  {
   "cell_type": "markdown",
   "id": "07027c57",
   "metadata": {
    "deletable": false,
    "editable": false,
    "id": "2753f40d"
   },
   "source": [
    "**Задание 12. Убедитесь, что все пропуски заполнены. Проверьте себя и ещё раз выведите количество пропущенных значений для каждого столбца с помощью двух методов.**"
   ]
  },
  {
   "cell_type": "code",
   "execution_count": 13,
   "id": "a00e5f90",
   "metadata": {
    "deletable": false,
    "id": "55f78bc2",
    "outputId": "8da1e4e1-358e-4e87-98c9-f261bce0a7b2"
   },
   "outputs": [
    {
     "data": {
      "text/plain": [
       "children            0\n",
       "days_employed       0\n",
       "dob_years           0\n",
       "education           0\n",
       "education_id        0\n",
       "family_status       0\n",
       "family_status_id    0\n",
       "gender              0\n",
       "income_type         0\n",
       "debt                0\n",
       "total_income        0\n",
       "purpose             0\n",
       "dtype: int64"
      ]
     },
     "execution_count": 13,
     "metadata": {},
     "output_type": "execute_result"
    }
   ],
   "source": [
    "data.isna().sum()"
   ]
  },
  {
   "cell_type": "markdown",
   "id": "06a40ad8",
   "metadata": {
    "deletable": false,
    "editable": false,
    "id": "ddc81e43"
   },
   "source": [
    "### Изменение типов данных"
   ]
  },
  {
   "cell_type": "markdown",
   "id": "609fff0b",
   "metadata": {
    "deletable": false,
    "editable": false,
    "id": "42d19d24"
   },
   "source": [
    "**Задание 13. Замените вещественный тип данных в столбце `total_income` на целочисленный с помощью метода `astype()`.**"
   ]
  },
  {
   "cell_type": "code",
   "execution_count": 14,
   "id": "98ae423c",
   "metadata": {
    "deletable": false,
    "id": "920b65ad"
   },
   "outputs": [],
   "source": [
    "data['total_income'] = data['total_income'].astype(int)"
   ]
  },
  {
   "cell_type": "markdown",
   "id": "a130ff01",
   "metadata": {
    "deletable": false,
    "editable": false,
    "id": "80c420ba"
   },
   "source": [
    "### Обработка дубликатов"
   ]
  },
  {
   "cell_type": "markdown",
   "id": "efe3aa8a",
   "metadata": {
    "deletable": false,
    "editable": false
   },
   "source": [
    "**Задание 14. Обработайте неявные дубликаты в столбце `education`. В этом столбце есть одни и те же значения, но записанные по-разному: с использованием заглавных и строчных букв. Приведите их к нижнему регистру. Проверьте остальные столбцы.**"
   ]
  },
  {
   "cell_type": "code",
   "execution_count": 15,
   "id": "23a10f01",
   "metadata": {
    "deletable": false
   },
   "outputs": [],
   "source": [
    "data['education'] = data['education'].str.lower()"
   ]
  },
  {
   "cell_type": "markdown",
   "id": "64175990",
   "metadata": {
    "deletable": false,
    "editable": false,
    "id": "dc587695"
   },
   "source": [
    "**Задание 15. Выведите на экран количество строк-дубликатов в данных. Если такие строки присутствуют, удалите их.**"
   ]
  },
  {
   "cell_type": "code",
   "execution_count": 16,
   "id": "414766dc",
   "metadata": {
    "deletable": false,
    "id": "3ee445e4",
    "outputId": "9684deba-1934-42d1-99e1-cda61740f822"
   },
   "outputs": [
    {
     "data": {
      "text/plain": [
       "71"
      ]
     },
     "execution_count": 16,
     "metadata": {},
     "output_type": "execute_result"
    }
   ],
   "source": [
    "data.duplicated().sum()"
   ]
  },
  {
   "cell_type": "code",
   "execution_count": 17,
   "id": "576b8fce",
   "metadata": {
    "deletable": false,
    "id": "8575fe05"
   },
   "outputs": [],
   "source": [
    "data = data.drop_duplicates()"
   ]
  },
  {
   "cell_type": "markdown",
   "id": "f3256347",
   "metadata": {
    "deletable": false,
    "editable": false,
    "id": "9904cf55"
   },
   "source": [
    "### Категоризация данных"
   ]
  },
  {
   "cell_type": "markdown",
   "id": "7adf9c6e",
   "metadata": {
    "deletable": false,
    "editable": false,
    "id": "72fcc8a2"
   },
   "source": [
    "**Задание 16. На основании диапазонов, указанных ниже, создайте в датафрейме `data` столбец `total_income_category` с категориями:**\n",
    "\n",
    "- 0–30000 — `'E'`;\n",
    "- 30001–50000 — `'D'`;\n",
    "- 50001–200000 — `'C'`;\n",
    "- 200001–1000000 — `'B'`;\n",
    "- 1000001 и выше — `'A'`.\n",
    "\n",
    "\n",
    "**Например, кредитополучателю с доходом 25000 нужно назначить категорию `'E'`, а клиенту, получающему 235000, — `'B'`. Используйте собственную функцию с именем `categorize_income()` и метод `apply()`.**"
   ]
  },
  {
   "cell_type": "code",
   "execution_count": 18,
   "id": "d40194c2",
   "metadata": {
    "deletable": false,
    "id": "e1771346"
   },
   "outputs": [],
   "source": [
    "def categorize_income(income):\n",
    "    try:\n",
    "        if 0 <= income <= 30000:\n",
    "            return 'E'\n",
    "        elif 30001 <= income <= 50000:\n",
    "            return 'D'\n",
    "        elif 50001 <= income <= 200000:\n",
    "            return 'C'\n",
    "        elif 200001 <= income <= 1000000:\n",
    "            return 'B'\n",
    "        elif income >= 1000001:\n",
    "            return 'A'\n",
    "    except:\n",
    "        pass"
   ]
  },
  {
   "cell_type": "code",
   "execution_count": 19,
   "id": "abd811c6",
   "metadata": {
    "deletable": false,
    "id": "d5f3586d"
   },
   "outputs": [],
   "source": [
    "data['total_income_category'] = data['total_income'].apply(categorize_income)"
   ]
  },
  {
   "cell_type": "markdown",
   "id": "97b86610",
   "metadata": {
    "deletable": false,
    "editable": false,
    "id": "dde49b5c"
   },
   "source": [
    "**Задание 17. Выведите на экран перечень уникальных целей взятия кредита из столбца `purpose`.**"
   ]
  },
  {
   "cell_type": "code",
   "execution_count": 20,
   "id": "6b8ad0be",
   "metadata": {
    "deletable": false,
    "id": "f67ce9b3",
    "outputId": "673c12d9-7d7e-4ae0-9812-c622c89dd244"
   },
   "outputs": [
    {
     "data": {
      "text/plain": [
       "array(['покупка жилья', 'приобретение автомобиля',\n",
       "       'дополнительное образование', 'сыграть свадьбу',\n",
       "       'операции с жильем', 'образование', 'на проведение свадьбы',\n",
       "       'покупка жилья для семьи', 'покупка недвижимости',\n",
       "       'покупка коммерческой недвижимости', 'покупка жилой недвижимости',\n",
       "       'строительство собственной недвижимости', 'недвижимость',\n",
       "       'строительство недвижимости', 'на покупку подержанного автомобиля',\n",
       "       'на покупку своего автомобиля',\n",
       "       'операции с коммерческой недвижимостью',\n",
       "       'строительство жилой недвижимости', 'жилье',\n",
       "       'операции со своей недвижимостью', 'автомобили',\n",
       "       'заняться образованием', 'сделка с подержанным автомобилем',\n",
       "       'получение образования', 'автомобиль', 'свадьба',\n",
       "       'получение дополнительного образования', 'покупка своего жилья',\n",
       "       'операции с недвижимостью', 'получение высшего образования',\n",
       "       'свой автомобиль', 'сделка с автомобилем',\n",
       "       'профильное образование', 'высшее образование',\n",
       "       'покупка жилья для сдачи', 'на покупку автомобиля', 'ремонт жилью',\n",
       "       'заняться высшим образованием'], dtype=object)"
      ]
     },
     "execution_count": 20,
     "metadata": {},
     "output_type": "execute_result"
    }
   ],
   "source": [
    "data['purpose'].unique()"
   ]
  },
  {
   "cell_type": "markdown",
   "id": "817cce78",
   "metadata": {
    "deletable": false,
    "editable": false,
    "id": "85d0aef0"
   },
   "source": [
    "**Задание 18. Создайте функцию, которая на основании данных из столбца `purpose` сформирует новый столбец `purpose_category`, в который войдут следующие категории:**\n",
    "\n",
    "- `'операции с автомобилем'`,\n",
    "- `'операции с недвижимостью'`,\n",
    "- `'проведение свадьбы'`,\n",
    "- `'получение образования'`.\n",
    "\n",
    "**Например, если в столбце `purpose` находится подстрока `'на покупку автомобиля'`, то в столбце `purpose_category` должна появиться строка `'операции с автомобилем'`.**\n",
    "\n",
    "**Используйте собственную функцию с именем `categorize_purpose()` и метод `apply()`. Изучите данные в столбце `purpose` и определите, какие подстроки помогут вам правильно определить категорию.**"
   ]
  },
  {
   "cell_type": "code",
   "execution_count": 21,
   "id": "75cd7a76",
   "metadata": {
    "deletable": false,
    "id": "e149fab4"
   },
   "outputs": [],
   "source": [
    "def categorize_purpose(row):\n",
    "    try:\n",
    "        if 'автом' in row:\n",
    "            return 'операции с автомобилем'\n",
    "        elif 'жил' in row or 'недвиж' in row:\n",
    "            return 'операции с недвижимостью'\n",
    "        elif 'свад' in row:\n",
    "            return 'проведение свадьбы'\n",
    "        elif 'образов' in row:\n",
    "            return 'получение образования'\n",
    "    except:\n",
    "        return 'нет категории'"
   ]
  },
  {
   "cell_type": "code",
   "execution_count": 22,
   "id": "8a846330",
   "metadata": {
    "deletable": false,
    "id": "bf36e69b"
   },
   "outputs": [],
   "source": [
    "data['purpose_category'] = data['purpose'].apply(categorize_purpose)"
   ]
  },
  {
   "cell_type": "code",
   "execution_count": 23,
   "id": "a5e5b121",
   "metadata": {},
   "outputs": [
    {
     "data": {
      "text/html": [
       "<div>\n",
       "<style scoped>\n",
       "    .dataframe tbody tr th:only-of-type {\n",
       "        vertical-align: middle;\n",
       "    }\n",
       "\n",
       "    .dataframe tbody tr th {\n",
       "        vertical-align: top;\n",
       "    }\n",
       "\n",
       "    .dataframe thead th {\n",
       "        text-align: right;\n",
       "    }\n",
       "</style>\n",
       "<table border=\"1\" class=\"dataframe\">\n",
       "  <thead>\n",
       "    <tr style=\"text-align: right;\">\n",
       "      <th></th>\n",
       "      <th>children</th>\n",
       "      <th>days_employed</th>\n",
       "      <th>dob_years</th>\n",
       "      <th>education</th>\n",
       "      <th>education_id</th>\n",
       "      <th>family_status</th>\n",
       "      <th>family_status_id</th>\n",
       "      <th>gender</th>\n",
       "      <th>income_type</th>\n",
       "      <th>debt</th>\n",
       "      <th>total_income</th>\n",
       "      <th>purpose</th>\n",
       "      <th>total_income_category</th>\n",
       "      <th>purpose_category</th>\n",
       "    </tr>\n",
       "  </thead>\n",
       "  <tbody>\n",
       "    <tr>\n",
       "      <th>0</th>\n",
       "      <td>1</td>\n",
       "      <td>8437.673028</td>\n",
       "      <td>42</td>\n",
       "      <td>высшее</td>\n",
       "      <td>0</td>\n",
       "      <td>женат / замужем</td>\n",
       "      <td>0</td>\n",
       "      <td>F</td>\n",
       "      <td>сотрудник</td>\n",
       "      <td>0</td>\n",
       "      <td>253875</td>\n",
       "      <td>покупка жилья</td>\n",
       "      <td>B</td>\n",
       "      <td>операции с недвижимостью</td>\n",
       "    </tr>\n",
       "    <tr>\n",
       "      <th>1</th>\n",
       "      <td>1</td>\n",
       "      <td>4024.803754</td>\n",
       "      <td>36</td>\n",
       "      <td>среднее</td>\n",
       "      <td>1</td>\n",
       "      <td>женат / замужем</td>\n",
       "      <td>0</td>\n",
       "      <td>F</td>\n",
       "      <td>сотрудник</td>\n",
       "      <td>0</td>\n",
       "      <td>112080</td>\n",
       "      <td>приобретение автомобиля</td>\n",
       "      <td>C</td>\n",
       "      <td>операции с автомобилем</td>\n",
       "    </tr>\n",
       "    <tr>\n",
       "      <th>2</th>\n",
       "      <td>0</td>\n",
       "      <td>5623.422610</td>\n",
       "      <td>33</td>\n",
       "      <td>среднее</td>\n",
       "      <td>1</td>\n",
       "      <td>женат / замужем</td>\n",
       "      <td>0</td>\n",
       "      <td>M</td>\n",
       "      <td>сотрудник</td>\n",
       "      <td>0</td>\n",
       "      <td>145885</td>\n",
       "      <td>покупка жилья</td>\n",
       "      <td>C</td>\n",
       "      <td>операции с недвижимостью</td>\n",
       "    </tr>\n",
       "    <tr>\n",
       "      <th>3</th>\n",
       "      <td>3</td>\n",
       "      <td>4124.747207</td>\n",
       "      <td>32</td>\n",
       "      <td>среднее</td>\n",
       "      <td>1</td>\n",
       "      <td>женат / замужем</td>\n",
       "      <td>0</td>\n",
       "      <td>M</td>\n",
       "      <td>сотрудник</td>\n",
       "      <td>0</td>\n",
       "      <td>267628</td>\n",
       "      <td>дополнительное образование</td>\n",
       "      <td>B</td>\n",
       "      <td>получение образования</td>\n",
       "    </tr>\n",
       "    <tr>\n",
       "      <th>4</th>\n",
       "      <td>0</td>\n",
       "      <td>340266.072047</td>\n",
       "      <td>53</td>\n",
       "      <td>среднее</td>\n",
       "      <td>1</td>\n",
       "      <td>гражданский брак</td>\n",
       "      <td>1</td>\n",
       "      <td>F</td>\n",
       "      <td>пенсионер</td>\n",
       "      <td>0</td>\n",
       "      <td>158616</td>\n",
       "      <td>сыграть свадьбу</td>\n",
       "      <td>C</td>\n",
       "      <td>проведение свадьбы</td>\n",
       "    </tr>\n",
       "    <tr>\n",
       "      <th>...</th>\n",
       "      <td>...</td>\n",
       "      <td>...</td>\n",
       "      <td>...</td>\n",
       "      <td>...</td>\n",
       "      <td>...</td>\n",
       "      <td>...</td>\n",
       "      <td>...</td>\n",
       "      <td>...</td>\n",
       "      <td>...</td>\n",
       "      <td>...</td>\n",
       "      <td>...</td>\n",
       "      <td>...</td>\n",
       "      <td>...</td>\n",
       "      <td>...</td>\n",
       "    </tr>\n",
       "    <tr>\n",
       "      <th>21520</th>\n",
       "      <td>1</td>\n",
       "      <td>4529.316663</td>\n",
       "      <td>43</td>\n",
       "      <td>среднее</td>\n",
       "      <td>1</td>\n",
       "      <td>гражданский брак</td>\n",
       "      <td>1</td>\n",
       "      <td>F</td>\n",
       "      <td>компаньон</td>\n",
       "      <td>0</td>\n",
       "      <td>224791</td>\n",
       "      <td>операции с жильем</td>\n",
       "      <td>B</td>\n",
       "      <td>операции с недвижимостью</td>\n",
       "    </tr>\n",
       "    <tr>\n",
       "      <th>21521</th>\n",
       "      <td>0</td>\n",
       "      <td>343937.404131</td>\n",
       "      <td>67</td>\n",
       "      <td>среднее</td>\n",
       "      <td>1</td>\n",
       "      <td>женат / замужем</td>\n",
       "      <td>0</td>\n",
       "      <td>F</td>\n",
       "      <td>пенсионер</td>\n",
       "      <td>0</td>\n",
       "      <td>155999</td>\n",
       "      <td>сделка с автомобилем</td>\n",
       "      <td>C</td>\n",
       "      <td>операции с автомобилем</td>\n",
       "    </tr>\n",
       "    <tr>\n",
       "      <th>21522</th>\n",
       "      <td>1</td>\n",
       "      <td>2113.346888</td>\n",
       "      <td>38</td>\n",
       "      <td>среднее</td>\n",
       "      <td>1</td>\n",
       "      <td>гражданский брак</td>\n",
       "      <td>1</td>\n",
       "      <td>M</td>\n",
       "      <td>сотрудник</td>\n",
       "      <td>1</td>\n",
       "      <td>89672</td>\n",
       "      <td>недвижимость</td>\n",
       "      <td>C</td>\n",
       "      <td>операции с недвижимостью</td>\n",
       "    </tr>\n",
       "    <tr>\n",
       "      <th>21523</th>\n",
       "      <td>3</td>\n",
       "      <td>3112.481705</td>\n",
       "      <td>38</td>\n",
       "      <td>среднее</td>\n",
       "      <td>1</td>\n",
       "      <td>женат / замужем</td>\n",
       "      <td>0</td>\n",
       "      <td>M</td>\n",
       "      <td>сотрудник</td>\n",
       "      <td>1</td>\n",
       "      <td>244093</td>\n",
       "      <td>на покупку своего автомобиля</td>\n",
       "      <td>B</td>\n",
       "      <td>операции с автомобилем</td>\n",
       "    </tr>\n",
       "    <tr>\n",
       "      <th>21524</th>\n",
       "      <td>2</td>\n",
       "      <td>1984.507589</td>\n",
       "      <td>40</td>\n",
       "      <td>среднее</td>\n",
       "      <td>1</td>\n",
       "      <td>женат / замужем</td>\n",
       "      <td>0</td>\n",
       "      <td>F</td>\n",
       "      <td>сотрудник</td>\n",
       "      <td>0</td>\n",
       "      <td>82047</td>\n",
       "      <td>на покупку автомобиля</td>\n",
       "      <td>C</td>\n",
       "      <td>операции с автомобилем</td>\n",
       "    </tr>\n",
       "  </tbody>\n",
       "</table>\n",
       "<p>21331 rows × 14 columns</p>\n",
       "</div>"
      ],
      "text/plain": [
       "       children  days_employed  dob_years education  education_id  \\\n",
       "0             1    8437.673028         42    высшее             0   \n",
       "1             1    4024.803754         36   среднее             1   \n",
       "2             0    5623.422610         33   среднее             1   \n",
       "3             3    4124.747207         32   среднее             1   \n",
       "4             0  340266.072047         53   среднее             1   \n",
       "...         ...            ...        ...       ...           ...   \n",
       "21520         1    4529.316663         43   среднее             1   \n",
       "21521         0  343937.404131         67   среднее             1   \n",
       "21522         1    2113.346888         38   среднее             1   \n",
       "21523         3    3112.481705         38   среднее             1   \n",
       "21524         2    1984.507589         40   среднее             1   \n",
       "\n",
       "          family_status  family_status_id gender income_type  debt  \\\n",
       "0       женат / замужем                 0      F   сотрудник     0   \n",
       "1       женат / замужем                 0      F   сотрудник     0   \n",
       "2       женат / замужем                 0      M   сотрудник     0   \n",
       "3       женат / замужем                 0      M   сотрудник     0   \n",
       "4      гражданский брак                 1      F   пенсионер     0   \n",
       "...                 ...               ...    ...         ...   ...   \n",
       "21520  гражданский брак                 1      F   компаньон     0   \n",
       "21521   женат / замужем                 0      F   пенсионер     0   \n",
       "21522  гражданский брак                 1      M   сотрудник     1   \n",
       "21523   женат / замужем                 0      M   сотрудник     1   \n",
       "21524   женат / замужем                 0      F   сотрудник     0   \n",
       "\n",
       "       total_income                       purpose total_income_category  \\\n",
       "0            253875                 покупка жилья                     B   \n",
       "1            112080       приобретение автомобиля                     C   \n",
       "2            145885                 покупка жилья                     C   \n",
       "3            267628    дополнительное образование                     B   \n",
       "4            158616               сыграть свадьбу                     C   \n",
       "...             ...                           ...                   ...   \n",
       "21520        224791             операции с жильем                     B   \n",
       "21521        155999          сделка с автомобилем                     C   \n",
       "21522         89672                  недвижимость                     C   \n",
       "21523        244093  на покупку своего автомобиля                     B   \n",
       "21524         82047         на покупку автомобиля                     C   \n",
       "\n",
       "               purpose_category  \n",
       "0      операции с недвижимостью  \n",
       "1        операции с автомобилем  \n",
       "2      операции с недвижимостью  \n",
       "3         получение образования  \n",
       "4            проведение свадьбы  \n",
       "...                         ...  \n",
       "21520  операции с недвижимостью  \n",
       "21521    операции с автомобилем  \n",
       "21522  операции с недвижимостью  \n",
       "21523    операции с автомобилем  \n",
       "21524    операции с автомобилем  \n",
       "\n",
       "[21331 rows x 14 columns]"
      ]
     },
     "execution_count": 23,
     "metadata": {},
     "output_type": "execute_result"
    }
   ],
   "source": [
    "data"
   ]
  },
  {
   "cell_type": "markdown",
   "id": "f8f800e4",
   "metadata": {
    "deletable": false,
    "editable": false,
    "id": "09b242bf"
   },
   "source": [
    "### Шаг 3. Исследуйте данные и ответьте на вопросы"
   ]
  },
  {
   "cell_type": "markdown",
   "id": "321be823",
   "metadata": {
    "deletable": false,
    "editable": false,
    "id": "c5d66278"
   },
   "source": [
    "#### 3.1 Есть ли зависимость между количеством детей и возвратом кредита в срок?"
   ]
  },
  {
   "cell_type": "code",
   "execution_count": 24,
   "id": "b013e586",
   "metadata": {
    "deletable": false,
    "id": "2cacfc4a"
   },
   "outputs": [
    {
     "data": {
      "text/html": [
       "<div>\n",
       "<style scoped>\n",
       "    .dataframe tbody tr th:only-of-type {\n",
       "        vertical-align: middle;\n",
       "    }\n",
       "\n",
       "    .dataframe tbody tr th {\n",
       "        vertical-align: top;\n",
       "    }\n",
       "\n",
       "    .dataframe thead th {\n",
       "        text-align: right;\n",
       "    }\n",
       "</style>\n",
       "<table border=\"1\" class=\"dataframe\">\n",
       "  <thead>\n",
       "    <tr style=\"text-align: right;\">\n",
       "      <th></th>\n",
       "      <th>Количество кредитополучателей</th>\n",
       "      <th>Количество должников</th>\n",
       "      <th>Доля должников</th>\n",
       "    </tr>\n",
       "    <tr>\n",
       "      <th>children</th>\n",
       "      <th></th>\n",
       "      <th></th>\n",
       "      <th></th>\n",
       "    </tr>\n",
       "  </thead>\n",
       "  <tbody>\n",
       "    <tr>\n",
       "      <th>4</th>\n",
       "      <td>41.0</td>\n",
       "      <td>4.0</td>\n",
       "      <td>9.76%</td>\n",
       "    </tr>\n",
       "    <tr>\n",
       "      <th>2</th>\n",
       "      <td>2052.0</td>\n",
       "      <td>194.0</td>\n",
       "      <td>9.45%</td>\n",
       "    </tr>\n",
       "    <tr>\n",
       "      <th>1</th>\n",
       "      <td>4808.0</td>\n",
       "      <td>444.0</td>\n",
       "      <td>9.23%</td>\n",
       "    </tr>\n",
       "    <tr>\n",
       "      <th>3</th>\n",
       "      <td>330.0</td>\n",
       "      <td>27.0</td>\n",
       "      <td>8.18%</td>\n",
       "    </tr>\n",
       "    <tr>\n",
       "      <th>0</th>\n",
       "      <td>14091.0</td>\n",
       "      <td>1063.0</td>\n",
       "      <td>7.54%</td>\n",
       "    </tr>\n",
       "    <tr>\n",
       "      <th>5</th>\n",
       "      <td>9.0</td>\n",
       "      <td>0.0</td>\n",
       "      <td>0.00%</td>\n",
       "    </tr>\n",
       "  </tbody>\n",
       "</table>\n",
       "</div>"
      ],
      "text/plain": [
       "          Количество кредитополучателей  Количество должников Доля должников\n",
       "children                                                                    \n",
       "4                                  41.0                   4.0          9.76%\n",
       "2                                2052.0                 194.0          9.45%\n",
       "1                                4808.0                 444.0          9.23%\n",
       "3                                 330.0                  27.0          8.18%\n",
       "0                               14091.0                1063.0          7.54%\n",
       "5                                   9.0                   0.0          0.00%"
      ]
     },
     "execution_count": 24,
     "metadata": {},
     "output_type": "execute_result"
    }
   ],
   "source": [
    "# Ваш код будет здесь. Вы можете создавать новые ячейки.\n",
    "#Создадим сводную таблицу, где соберем средние значения столбца 'debt' по исследуемой группе, \n",
    "# посчитаем количество записей в каждой и найдем количество должников\n",
    "children_correlation = data.pivot_table(index = ['children'], \n",
    "                                        values='debt', \n",
    "                                        aggfunc = ('sum', 'mean', lambda X: X.count()))\n",
    "\n",
    "# Создадим функцию, форматирующую данные к процентному формату                                                                      \n",
    "def percent(x):\n",
    "    return \"{0:.2%}\".format(x)\n",
    "\n",
    "# Применим функцию к сводной таблице для столбца 'mean'\n",
    "children_correlation['mean'] = children_correlation['mean'].apply(percent) \n",
    " \n",
    "# Сортировка    \n",
    "children_correlation = children_correlation.sort_values(by = 'mean', ascending = False)\n",
    "# Переименуем столбцы для удобства\n",
    "children_correlation = children_correlation.rename(columns = {'<lambda_0>': 'Количество кредитополучателей',\n",
    "                                                              'sum': 'Количество должников', 'mean': 'Доля должников'})\n",
    "                                                              \n",
    "                                                              \n",
    "children_correlation.reindex(columns = ['Количество кредитополучателей','Количество должников', 'Доля должников'])\n",
    "\n"
   ]
  },
  {
   "cell_type": "markdown",
   "id": "7f7a2703",
   "metadata": {},
   "source": [
    "<br/>\n",
    "<div class=\"alert alert-block alert-danger\">\n",
    "<h2> Комментарий ревьюера <a class=\"tocSkip\"></h2>\n",
    "\n",
    "    \n",
    "<b>Необходимо исправить❌:</b>\n",
    " Олег, для наглядности, необходимо вывести сводную таблицу: категория/всего кредитополучателей/всего должников/доля должников. У тебя не хватает должников:) \n",
    "</div>"
   ]
  },
  {
   "cell_type": "markdown",
   "id": "22735999",
   "metadata": {},
   "source": [
    "<div class=\"alert alert-success\">\n",
    "<h2> Комментарий ревьюера v2<a class=\"tocSkip\"> </h2>\n",
    "\n",
    "<b>Отлично!✅:</b> +\n",
    "\n",
    "</div>"
   ]
  },
  {
   "cell_type": "markdown",
   "id": "5cb3e9f6",
   "metadata": {},
   "source": []
  },
  {
   "cell_type": "markdown",
   "id": "b70ca0ae",
   "metadata": {
    "deletable": false,
    "id": "3a6b99ec"
   },
   "source": [
    "**Вывод:** \n",
    "Наиболее ответственной группой являются люди без детей (7,54%), а самыми безответственными группа людей с 4 детьми (9,76%). ПО группе 5 выводы делать не представляеся возможным, поскольку в наблюдение попало всего 9 записей."
   ]
  },
  {
   "cell_type": "markdown",
   "id": "197c6b5e",
   "metadata": {},
   "source": [
    "<div class=\"alert alert-success\">\n",
    "<h2> Комментарий ревьюера <a class=\"tocSkip\"> </h2>\n",
    "\n",
    "<b>Отлично!✅:</b> Верный вывод!\n",
    "</div>"
   ]
  },
  {
   "cell_type": "markdown",
   "id": "3f699dea",
   "metadata": {
    "deletable": false,
    "editable": false,
    "id": "97be82ca"
   },
   "source": [
    "#### 3.2 Есть ли зависимость между семейным положением и возвратом кредита в срок?"
   ]
  },
  {
   "cell_type": "code",
   "execution_count": 25,
   "id": "a63a1409",
   "metadata": {
    "deletable": false,
    "id": "dc3f7ee8"
   },
   "outputs": [
    {
     "data": {
      "text/html": [
       "<div>\n",
       "<style scoped>\n",
       "    .dataframe tbody tr th:only-of-type {\n",
       "        vertical-align: middle;\n",
       "    }\n",
       "\n",
       "    .dataframe tbody tr th {\n",
       "        vertical-align: top;\n",
       "    }\n",
       "\n",
       "    .dataframe thead th {\n",
       "        text-align: right;\n",
       "    }\n",
       "</style>\n",
       "<table border=\"1\" class=\"dataframe\">\n",
       "  <thead>\n",
       "    <tr style=\"text-align: right;\">\n",
       "      <th></th>\n",
       "      <th>Количество кредитополучателей</th>\n",
       "      <th>Количество должников</th>\n",
       "      <th>Доля должников</th>\n",
       "    </tr>\n",
       "    <tr>\n",
       "      <th>family_status</th>\n",
       "      <th></th>\n",
       "      <th></th>\n",
       "      <th></th>\n",
       "    </tr>\n",
       "  </thead>\n",
       "  <tbody>\n",
       "    <tr>\n",
       "      <th>Не женат / не замужем</th>\n",
       "      <td>2796.0</td>\n",
       "      <td>273.0</td>\n",
       "      <td>9.76%</td>\n",
       "    </tr>\n",
       "    <tr>\n",
       "      <th>гражданский брак</th>\n",
       "      <td>4134.0</td>\n",
       "      <td>385.0</td>\n",
       "      <td>9.31%</td>\n",
       "    </tr>\n",
       "    <tr>\n",
       "      <th>женат / замужем</th>\n",
       "      <td>12261.0</td>\n",
       "      <td>927.0</td>\n",
       "      <td>7.56%</td>\n",
       "    </tr>\n",
       "    <tr>\n",
       "      <th>в разводе</th>\n",
       "      <td>1189.0</td>\n",
       "      <td>84.0</td>\n",
       "      <td>7.06%</td>\n",
       "    </tr>\n",
       "    <tr>\n",
       "      <th>вдовец / вдова</th>\n",
       "      <td>951.0</td>\n",
       "      <td>63.0</td>\n",
       "      <td>6.62%</td>\n",
       "    </tr>\n",
       "  </tbody>\n",
       "</table>\n",
       "</div>"
      ],
      "text/plain": [
       "                       Количество кредитополучателей  Количество должников  \\\n",
       "family_status                                                                \n",
       "Не женат / не замужем                         2796.0                 273.0   \n",
       "гражданский брак                              4134.0                 385.0   \n",
       "женат / замужем                              12261.0                 927.0   \n",
       "в разводе                                     1189.0                  84.0   \n",
       "вдовец / вдова                                 951.0                  63.0   \n",
       "\n",
       "                      Доля должников  \n",
       "family_status                         \n",
       "Не женат / не замужем          9.76%  \n",
       "гражданский брак               9.31%  \n",
       "женат / замужем                7.56%  \n",
       "в разводе                      7.06%  \n",
       "вдовец / вдова                 6.62%  "
      ]
     },
     "execution_count": 25,
     "metadata": {},
     "output_type": "execute_result"
    }
   ],
   "source": [
    "# Ваш код будет здесь. Вы можете создавать новые ячейки.\n",
    "#Создадим сводную таблицу, где соберем средние значения столбца 'debt' по исследуемой группе, \n",
    "# посчитаем количество записей в каждой и найдем количество должников\n",
    "family_status_correlation = data.pivot_table(index = ['family_status'], \n",
    "                                        values='debt', \n",
    "                                        aggfunc = ('sum', 'mean', lambda X: X.count()))\n",
    "\n",
    "# Создадим функцию, форматирующую данные к процентному формату                                                                      \n",
    "def percent(x):\n",
    "    return \"{0:.2%}\".format(x)\n",
    "\n",
    "# Применим функцию к сводной таблице для столбца 'mean'\n",
    "family_status_correlation['mean'] = family_status_correlation['mean'].apply(percent) \n",
    " \n",
    "# Сортировка    \n",
    "family_status_correlation = family_status_correlation.sort_values(by = 'mean', ascending = False)\n",
    "# Переименуем столбцы для удобства\n",
    "family_status_correlation = family_status_correlation.rename(columns = {'<lambda_0>': 'Количество кредитополучателей',\n",
    "                                                              'sum': 'Количество должников', 'mean': 'Доля должников'})\n",
    "                                                              \n",
    "                                                              \n",
    "family_status_correlation.reindex(columns = ['Количество кредитополучателей','Количество должников', 'Доля должников'])"
   ]
  },
  {
   "cell_type": "markdown",
   "id": "af6c4c2e",
   "metadata": {},
   "source": [
    "<br/>\n",
    "<div class=\"alert alert-block alert-danger\">\n",
    "<h2> Комментарий ревьюера <a class=\"tocSkip\"></h2>\n",
    "\n",
    "    \n",
    "<b>Необходимо исправить❌:</b>\n",
    "ПО таблице те же замечания:)\n",
    "</div>"
   ]
  },
  {
   "cell_type": "markdown",
   "id": "48d0002b",
   "metadata": {},
   "source": [
    "<div class=\"alert alert-success\">\n",
    "<h2> Комментарий ревьюера v2<a class=\"tocSkip\"> </h2>\n",
    "\n",
    "<b>Отлично!✅:</b> +\n",
    "\n",
    "</div>"
   ]
  },
  {
   "cell_type": "markdown",
   "id": "70270ebc",
   "metadata": {
    "deletable": false,
    "id": "1cef7837"
   },
   "source": [
    "**Вывод:** Наиболее ответственной группой данных является \"вдовец / вдова\" (6,62%), а самой безответственной \"Не женат / не замужем\" (9.76%)"
   ]
  },
  {
   "cell_type": "markdown",
   "id": "bbb4dacf",
   "metadata": {},
   "source": [
    "<div class=\"alert alert-success\">\n",
    "<h2> Комментарий ревьюера <a class=\"tocSkip\"> </h2>\n",
    "\n",
    "<b>Отлично!✅:</b> Отлично!\n",
    "</div>"
   ]
  },
  {
   "cell_type": "markdown",
   "id": "af3717fa",
   "metadata": {
    "deletable": false,
    "editable": false,
    "id": "1e8b2fca"
   },
   "source": [
    "#### 3.3 Есть ли зависимость между уровнем дохода и возвратом кредита в срок?"
   ]
  },
  {
   "cell_type": "code",
   "execution_count": 26,
   "id": "b4639549",
   "metadata": {
    "deletable": false,
    "id": "cd7e3720"
   },
   "outputs": [
    {
     "data": {
      "text/html": [
       "<div>\n",
       "<style scoped>\n",
       "    .dataframe tbody tr th:only-of-type {\n",
       "        vertical-align: middle;\n",
       "    }\n",
       "\n",
       "    .dataframe tbody tr th {\n",
       "        vertical-align: top;\n",
       "    }\n",
       "\n",
       "    .dataframe thead th {\n",
       "        text-align: right;\n",
       "    }\n",
       "</style>\n",
       "<table border=\"1\" class=\"dataframe\">\n",
       "  <thead>\n",
       "    <tr style=\"text-align: right;\">\n",
       "      <th></th>\n",
       "      <th>Количество кредитополучателей</th>\n",
       "      <th>Количество должников</th>\n",
       "      <th>Доля должников</th>\n",
       "    </tr>\n",
       "    <tr>\n",
       "      <th>total_income_category</th>\n",
       "      <th></th>\n",
       "      <th></th>\n",
       "      <th></th>\n",
       "    </tr>\n",
       "  </thead>\n",
       "  <tbody>\n",
       "    <tr>\n",
       "      <th>C</th>\n",
       "      <td>15921.0</td>\n",
       "      <td>1353.0</td>\n",
       "      <td>8.50%</td>\n",
       "    </tr>\n",
       "    <tr>\n",
       "      <th>B</th>\n",
       "      <td>5014.0</td>\n",
       "      <td>354.0</td>\n",
       "      <td>7.06%</td>\n",
       "    </tr>\n",
       "    <tr>\n",
       "      <th>D</th>\n",
       "      <td>349.0</td>\n",
       "      <td>21.0</td>\n",
       "      <td>6.02%</td>\n",
       "    </tr>\n",
       "    <tr>\n",
       "      <th>A</th>\n",
       "      <td>25.0</td>\n",
       "      <td>2.0</td>\n",
       "      <td>8.00%</td>\n",
       "    </tr>\n",
       "    <tr>\n",
       "      <th>E</th>\n",
       "      <td>22.0</td>\n",
       "      <td>2.0</td>\n",
       "      <td>9.09%</td>\n",
       "    </tr>\n",
       "  </tbody>\n",
       "</table>\n",
       "</div>"
      ],
      "text/plain": [
       "                       Количество кредитополучателей  Количество должников  \\\n",
       "total_income_category                                                        \n",
       "C                                            15921.0                1353.0   \n",
       "B                                             5014.0                 354.0   \n",
       "D                                              349.0                  21.0   \n",
       "A                                               25.0                   2.0   \n",
       "E                                               22.0                   2.0   \n",
       "\n",
       "                      Доля должников  \n",
       "total_income_category                 \n",
       "C                              8.50%  \n",
       "B                              7.06%  \n",
       "D                              6.02%  \n",
       "A                              8.00%  \n",
       "E                              9.09%  "
      ]
     },
     "execution_count": 26,
     "metadata": {},
     "output_type": "execute_result"
    }
   ],
   "source": [
    "# Ваш код будет здесь. Вы можете создавать новые ячейки.\n",
    "#Создадим сводную таблицу, где соберем средние значения столбца 'debt' по исследуемой группе, \n",
    "# посчитаем количество записей в каждой и найдем количество должников\n",
    "total_income_category_correlation = data.pivot_table(index = ['total_income_category'], \n",
    "                                        values='debt', \n",
    "                                        aggfunc = ('sum', 'mean', lambda X: X.count()))\n",
    "\n",
    "# Создадим функцию, форматирующую данные к процентному формату                                                                      \n",
    "def percent(x):\n",
    "    return \"{0:.2%}\".format(x)\n",
    "\n",
    "# Применим функцию к сводной таблице для столбца 'mean'\n",
    "total_income_category_correlation['mean'] = total_income_category_correlation['mean'].apply(percent) \n",
    " \n",
    "# Сортировка    \n",
    "total_income_category_correlation = total_income_category_correlation.sort_values(by = '<lambda_0>', ascending = False)\n",
    "# Переименуем столбцы для удобства\n",
    "total_income_category_correlation = total_income_category_correlation.rename(columns = {'<lambda_0>': 'Количество кредитополучателей',\n",
    "                                                              'sum': 'Количество должников', 'mean': 'Доля должников'})\n",
    "                                                              \n",
    "                                                              \n",
    "total_income_category_correlation.reindex(columns = ['Количество кредитополучателей','Количество должников', 'Доля должников'])\n",
    "\n",
    "# Разбивка людей по группам доходов:\n",
    "#        if 0 <= income <= 30000:\n",
    "#            return 'E'\n",
    "#        elif 30001 <= income <= 50000:\n",
    "#            return 'D'\n",
    "#        elif 50001 <= income <= 200000:\n",
    "#            return 'C'\n",
    "#        elif 200001 <= income <= 1000000:\n",
    "#            return 'B'\n",
    "#        elif income >= 1000001:\n",
    "#            return 'A'"
   ]
  },
  {
   "cell_type": "markdown",
   "id": "e8d7a05e",
   "metadata": {},
   "source": [
    "<br/>\n",
    "<div class=\"alert alert-block alert-danger\">\n",
    "<h2> Комментарий ревьюера <a class=\"tocSkip\"></h2>\n",
    "\n",
    "    \n",
    "<b>Необходимо исправить❌:</b>\n",
    " Таблица.\n",
    "</div>"
   ]
  },
  {
   "cell_type": "markdown",
   "id": "95e38799",
   "metadata": {},
   "source": [
    "<div class=\"alert alert-success\">\n",
    "<h2> Комментарий ревьюера v2<a class=\"tocSkip\"> </h2>\n",
    "\n",
    "<b>Отлично!✅:</b> +\n",
    "\n",
    "</div>"
   ]
  },
  {
   "cell_type": "markdown",
   "id": "639e7dfd",
   "metadata": {
    "deletable": false,
    "id": "e8593def"
   },
   "source": [
    "**Вывод:** Наиболее ответственно к выплате кредитов в срок подходит группа \"D\", имеющая средний доход в диапазоне от 30000 до 50000 единиц. Наименее ответственно к выплатам в срок подходит группа \"Е\" cо средним значением дохода не более 30000"
   ]
  },
  {
   "cell_type": "markdown",
   "id": "ea49c7f6",
   "metadata": {},
   "source": [
    "<div class=\"alert alert-info\"> <b>Комментарий студента: </b> </div>\n",
    "**Вывод №2** Исходя из имеющихся данных, наиболее широкой категорией является \"С\", что логично, поскольку данная категория является \"средним классом\". На основе этого закономерно и то, что доля должников будет достаточно высока.\n",
    "В группе \"B\", с увеличением класса доходов, закономерно уменьшается и среднее количество должников, однако данная логика нарушается, когда мы анализируем класс с наивысшим показателем доходов \"А\". Причиной этого может быть то, что чем больше доход, тем больше и кредит, а соответственно выше ставки и рисковее цели."
   ]
  },
  {
   "cell_type": "markdown",
   "id": "27a80008",
   "metadata": {},
   "source": [
    "<div class=\"alert alert-warning\">\n",
    "    <h2> Комментарий ревьюера <a class=\"tocSkip\"> </h2>\n",
    "    \n",
    "<b>Можно лучше⚠️:</b> Обрати внимание на несбалансированность выборок. Рекомендую, для выявления зависимости, сравнить категории с наибольшими показателями - В и С.\n",
    "</div>"
   ]
  },
  {
   "cell_type": "markdown",
   "id": "45547b17",
   "metadata": {},
   "source": [
    "<div class=\"alert alert-success\">\n",
    "<h2> Комментарий ревьюера v2<a class=\"tocSkip\"> </h2>\n",
    "\n",
    "<b>Отлично!✅:</b> Хорошо!\n",
    "\n",
    "</div>"
   ]
  },
  {
   "cell_type": "markdown",
   "id": "67696cf5",
   "metadata": {
    "deletable": false,
    "editable": false,
    "id": "99ecbd1f"
   },
   "source": [
    "#### 3.4 Как разные цели кредита влияют на его возврат в срок?"
   ]
  },
  {
   "cell_type": "code",
   "execution_count": 27,
   "id": "74a67a13",
   "metadata": {
    "deletable": false,
    "id": "2b687290"
   },
   "outputs": [
    {
     "data": {
      "text/html": [
       "<div>\n",
       "<style scoped>\n",
       "    .dataframe tbody tr th:only-of-type {\n",
       "        vertical-align: middle;\n",
       "    }\n",
       "\n",
       "    .dataframe tbody tr th {\n",
       "        vertical-align: top;\n",
       "    }\n",
       "\n",
       "    .dataframe thead th {\n",
       "        text-align: right;\n",
       "    }\n",
       "</style>\n",
       "<table border=\"1\" class=\"dataframe\">\n",
       "  <thead>\n",
       "    <tr style=\"text-align: right;\">\n",
       "      <th></th>\n",
       "      <th>Количество кредитополучателей</th>\n",
       "      <th>Количество должников</th>\n",
       "      <th>Доля должников</th>\n",
       "    </tr>\n",
       "    <tr>\n",
       "      <th>purpose_category</th>\n",
       "      <th></th>\n",
       "      <th></th>\n",
       "      <th></th>\n",
       "    </tr>\n",
       "  </thead>\n",
       "  <tbody>\n",
       "    <tr>\n",
       "      <th>операции с автомобилем</th>\n",
       "      <td>4279.0</td>\n",
       "      <td>400.0</td>\n",
       "      <td>9.35%</td>\n",
       "    </tr>\n",
       "    <tr>\n",
       "      <th>получение образования</th>\n",
       "      <td>3988.0</td>\n",
       "      <td>369.0</td>\n",
       "      <td>9.25%</td>\n",
       "    </tr>\n",
       "    <tr>\n",
       "      <th>проведение свадьбы</th>\n",
       "      <td>2313.0</td>\n",
       "      <td>183.0</td>\n",
       "      <td>7.91%</td>\n",
       "    </tr>\n",
       "    <tr>\n",
       "      <th>операции с недвижимостью</th>\n",
       "      <td>10751.0</td>\n",
       "      <td>780.0</td>\n",
       "      <td>7.26%</td>\n",
       "    </tr>\n",
       "  </tbody>\n",
       "</table>\n",
       "</div>"
      ],
      "text/plain": [
       "                          Количество кредитополучателей  Количество должников  \\\n",
       "purpose_category                                                                \n",
       "операции с автомобилем                           4279.0                 400.0   \n",
       "получение образования                            3988.0                 369.0   \n",
       "проведение свадьбы                               2313.0                 183.0   \n",
       "операции с недвижимостью                        10751.0                 780.0   \n",
       "\n",
       "                         Доля должников  \n",
       "purpose_category                         \n",
       "операции с автомобилем            9.35%  \n",
       "получение образования             9.25%  \n",
       "проведение свадьбы                7.91%  \n",
       "операции с недвижимостью          7.26%  "
      ]
     },
     "execution_count": 27,
     "metadata": {},
     "output_type": "execute_result"
    }
   ],
   "source": [
    "# Ваш код будет здесь. Вы можете создавать новые ячейки.\n",
    "#Создадим сводную таблицу, где соберем средние значения столбца 'debt' по исследуемой группе, \n",
    "# посчитаем количество записей в каждой и найдем количество должников\n",
    "purpose_category_correlation = data.pivot_table(index = ['purpose_category'], \n",
    "                                        values='debt', \n",
    "                                        aggfunc = ('sum', 'mean', lambda X: X.count()))\n",
    "\n",
    "# Создадим функцию, форматирующую данные к процентному формату                                                                      \n",
    "def percent(x):\n",
    "    return \"{0:.2%}\".format(x)\n",
    "\n",
    "# Применим функцию к сводной таблице для столбца 'mean'\n",
    "purpose_category_correlation['mean'] = purpose_category_correlation['mean'].apply(percent) \n",
    " \n",
    "# Сортировка    \n",
    "purpose_category_correlation = purpose_category_correlation.sort_values(by = 'mean', ascending = False)\n",
    "# Переименуем столбцы для удобства\n",
    "purpose_category_correlation = purpose_category_correlation.rename(columns = {'<lambda_0>': 'Количество кредитополучателей',\n",
    "                                                              'sum': 'Количество должников', 'mean': 'Доля должников'})\n",
    "                                                              \n",
    "                                                              \n",
    "purpose_category_correlation.reindex(columns = ['Количество кредитополучателей','Количество должников', 'Доля должников'])"
   ]
  },
  {
   "cell_type": "markdown",
   "id": "c67be842",
   "metadata": {},
   "source": [
    "<br/>\n",
    "<div class=\"alert alert-block alert-danger\">\n",
    "<h2> Комментарий ревьюера <a class=\"tocSkip\"></h2>\n",
    "\n",
    "    \n",
    "<b>Необходимо исправить❌:</b>\n",
    "Таблица.\n",
    "</div>"
   ]
  },
  {
   "cell_type": "markdown",
   "id": "c72af437",
   "metadata": {},
   "source": [
    "<div class=\"alert alert-success\">\n",
    "<h2> Комментарий ревьюера v2<a class=\"tocSkip\"> </h2>\n",
    "\n",
    "<b>Отлично!✅:</b> +\n",
    "\n",
    "</div>"
   ]
  },
  {
   "cell_type": "markdown",
   "id": "6a5db3fc",
   "metadata": {
    "deletable": false,
    "id": "b4bb2ce6"
   },
   "source": [
    "**Вывод:** Наиболее ответственная группа людей, которая берет кредит(ипотеку) на операции с недвижимостью (7,26%), а наименее ответственно для операций с автомобилем (9,35%)"
   ]
  },
  {
   "cell_type": "markdown",
   "id": "3c440b28",
   "metadata": {},
   "source": [
    "<div class=\"alert alert-success\">\n",
    "<h2> Комментарий ревьюера <a class=\"tocSkip\"> </h2>\n",
    "\n",
    "<b>Отлично!✅:</b> Хорошо! \n",
    "</div>"
   ]
  },
  {
   "cell_type": "markdown",
   "id": "93bfa4ca",
   "metadata": {
    "deletable": false,
    "editable": false,
    "id": "09c3ac4c"
   },
   "source": [
    "#### 3.5 Приведите возможные причины появления пропусков в исходных данных."
   ]
  },
  {
   "cell_type": "markdown",
   "id": "bbb13c68",
   "metadata": {
    "deletable": false,
    "id": "9da2ceda"
   },
   "source": [
    "*Ответ:* Пропуски коснулись столбцов с количеством отработанных дней и доходом. Данные столбцы имеют одинковое количество пропусков (2174) и скорее всего взаимосвязаны. Возможно не указав стаж работы ты не можешь указать и средний доход, на уровне раполнения формы подачи данных на получение кредита. Аналогично этому, причиной существования пропусков в этих столбцах может быть связана с тем, что человек  мог не в поступать на официальную работу (работать в серую), а соответственно не вступая, официально, в трудовую деятельность, ты не можешь иметь и доход (или не желать указывать свой доход, во втором случае).\n",
    "\n",
    "Поиск иных причин может ограничиваться лишь воображением, для однозначного ответа недостаточно данных."
   ]
  },
  {
   "cell_type": "markdown",
   "id": "c2271cd8",
   "metadata": {},
   "source": [
    "<br/>\n",
    "<div class=\"alert alert-block alert-danger\">\n",
    "<h2> Комментарий ревьюера <a class=\"tocSkip\"></h2>\n",
    "\n",
    "    \n",
    "<b>Необходимо исправить❌:</b>\n",
    "Ты верно указал примеры. Также нужно назвать два фактора, к которым относятся данные примеры.\n",
    "</div>"
   ]
  },
  {
   "cell_type": "markdown",
   "id": "26c75874",
   "metadata": {},
   "source": [
    "<div class=\"alert alert-info\"> <b>Комментарий студента: </b> </div>\n",
    "В целом не совсем понимаю как понять фактор, к которому относится мой пример. "
   ]
  },
  {
   "cell_type": "markdown",
   "id": "b3239fdc",
   "metadata": {},
   "source": [
    "<div class=\"alert alert-success\">\n",
    "<h2> Комментарий ревьюера v2<a class=\"tocSkip\"> </h2>\n",
    "\n",
    "<b>Отлично!✅:</b> Нужно было указать человеческий фактор и техническую ошибку:)\n",
    "\n",
    "</div>"
   ]
  },
  {
   "cell_type": "code",
   "execution_count": 33,
   "id": "e50ac2ab",
   "metadata": {},
   "outputs": [
    {
     "data": {
      "text/html": [
       "<div>\n",
       "<style scoped>\n",
       "    .dataframe tbody tr th:only-of-type {\n",
       "        vertical-align: middle;\n",
       "    }\n",
       "\n",
       "    .dataframe tbody tr th {\n",
       "        vertical-align: top;\n",
       "    }\n",
       "\n",
       "    .dataframe thead th {\n",
       "        text-align: right;\n",
       "    }\n",
       "</style>\n",
       "<table border=\"1\" class=\"dataframe\">\n",
       "  <thead>\n",
       "    <tr style=\"text-align: right;\">\n",
       "      <th></th>\n",
       "      <th>children</th>\n",
       "      <th>days_employed</th>\n",
       "      <th>dob_years</th>\n",
       "      <th>education</th>\n",
       "      <th>education_id</th>\n",
       "      <th>family_status</th>\n",
       "      <th>family_status_id</th>\n",
       "      <th>gender</th>\n",
       "      <th>income_type</th>\n",
       "      <th>debt</th>\n",
       "      <th>total_income</th>\n",
       "      <th>purpose</th>\n",
       "    </tr>\n",
       "  </thead>\n",
       "  <tbody>\n",
       "    <tr>\n",
       "      <th>12</th>\n",
       "      <td>0</td>\n",
       "      <td>NaN</td>\n",
       "      <td>65</td>\n",
       "      <td>среднее</td>\n",
       "      <td>1</td>\n",
       "      <td>гражданский брак</td>\n",
       "      <td>1</td>\n",
       "      <td>M</td>\n",
       "      <td>пенсионер</td>\n",
       "      <td>0</td>\n",
       "      <td>NaN</td>\n",
       "      <td>сыграть свадьбу</td>\n",
       "    </tr>\n",
       "    <tr>\n",
       "      <th>26</th>\n",
       "      <td>0</td>\n",
       "      <td>NaN</td>\n",
       "      <td>41</td>\n",
       "      <td>среднее</td>\n",
       "      <td>1</td>\n",
       "      <td>женат / замужем</td>\n",
       "      <td>0</td>\n",
       "      <td>M</td>\n",
       "      <td>госслужащий</td>\n",
       "      <td>0</td>\n",
       "      <td>NaN</td>\n",
       "      <td>образование</td>\n",
       "    </tr>\n",
       "    <tr>\n",
       "      <th>29</th>\n",
       "      <td>0</td>\n",
       "      <td>NaN</td>\n",
       "      <td>63</td>\n",
       "      <td>среднее</td>\n",
       "      <td>1</td>\n",
       "      <td>Не женат / не замужем</td>\n",
       "      <td>4</td>\n",
       "      <td>F</td>\n",
       "      <td>пенсионер</td>\n",
       "      <td>0</td>\n",
       "      <td>NaN</td>\n",
       "      <td>строительство жилой недвижимости</td>\n",
       "    </tr>\n",
       "    <tr>\n",
       "      <th>41</th>\n",
       "      <td>0</td>\n",
       "      <td>NaN</td>\n",
       "      <td>50</td>\n",
       "      <td>среднее</td>\n",
       "      <td>1</td>\n",
       "      <td>женат / замужем</td>\n",
       "      <td>0</td>\n",
       "      <td>F</td>\n",
       "      <td>госслужащий</td>\n",
       "      <td>0</td>\n",
       "      <td>NaN</td>\n",
       "      <td>сделка с подержанным автомобилем</td>\n",
       "    </tr>\n",
       "    <tr>\n",
       "      <th>55</th>\n",
       "      <td>0</td>\n",
       "      <td>NaN</td>\n",
       "      <td>54</td>\n",
       "      <td>среднее</td>\n",
       "      <td>1</td>\n",
       "      <td>гражданский брак</td>\n",
       "      <td>1</td>\n",
       "      <td>F</td>\n",
       "      <td>пенсионер</td>\n",
       "      <td>1</td>\n",
       "      <td>NaN</td>\n",
       "      <td>сыграть свадьбу</td>\n",
       "    </tr>\n",
       "    <tr>\n",
       "      <th>...</th>\n",
       "      <td>...</td>\n",
       "      <td>...</td>\n",
       "      <td>...</td>\n",
       "      <td>...</td>\n",
       "      <td>...</td>\n",
       "      <td>...</td>\n",
       "      <td>...</td>\n",
       "      <td>...</td>\n",
       "      <td>...</td>\n",
       "      <td>...</td>\n",
       "      <td>...</td>\n",
       "      <td>...</td>\n",
       "    </tr>\n",
       "    <tr>\n",
       "      <th>21489</th>\n",
       "      <td>2</td>\n",
       "      <td>NaN</td>\n",
       "      <td>47</td>\n",
       "      <td>Среднее</td>\n",
       "      <td>1</td>\n",
       "      <td>женат / замужем</td>\n",
       "      <td>0</td>\n",
       "      <td>M</td>\n",
       "      <td>компаньон</td>\n",
       "      <td>0</td>\n",
       "      <td>NaN</td>\n",
       "      <td>сделка с автомобилем</td>\n",
       "    </tr>\n",
       "    <tr>\n",
       "      <th>21495</th>\n",
       "      <td>1</td>\n",
       "      <td>NaN</td>\n",
       "      <td>50</td>\n",
       "      <td>среднее</td>\n",
       "      <td>1</td>\n",
       "      <td>гражданский брак</td>\n",
       "      <td>1</td>\n",
       "      <td>F</td>\n",
       "      <td>сотрудник</td>\n",
       "      <td>0</td>\n",
       "      <td>NaN</td>\n",
       "      <td>свадьба</td>\n",
       "    </tr>\n",
       "    <tr>\n",
       "      <th>21497</th>\n",
       "      <td>0</td>\n",
       "      <td>NaN</td>\n",
       "      <td>48</td>\n",
       "      <td>ВЫСШЕЕ</td>\n",
       "      <td>0</td>\n",
       "      <td>женат / замужем</td>\n",
       "      <td>0</td>\n",
       "      <td>F</td>\n",
       "      <td>компаньон</td>\n",
       "      <td>0</td>\n",
       "      <td>NaN</td>\n",
       "      <td>строительство недвижимости</td>\n",
       "    </tr>\n",
       "    <tr>\n",
       "      <th>21502</th>\n",
       "      <td>1</td>\n",
       "      <td>NaN</td>\n",
       "      <td>42</td>\n",
       "      <td>среднее</td>\n",
       "      <td>1</td>\n",
       "      <td>женат / замужем</td>\n",
       "      <td>0</td>\n",
       "      <td>F</td>\n",
       "      <td>сотрудник</td>\n",
       "      <td>0</td>\n",
       "      <td>NaN</td>\n",
       "      <td>строительство жилой недвижимости</td>\n",
       "    </tr>\n",
       "    <tr>\n",
       "      <th>21510</th>\n",
       "      <td>2</td>\n",
       "      <td>NaN</td>\n",
       "      <td>28</td>\n",
       "      <td>среднее</td>\n",
       "      <td>1</td>\n",
       "      <td>женат / замужем</td>\n",
       "      <td>0</td>\n",
       "      <td>F</td>\n",
       "      <td>сотрудник</td>\n",
       "      <td>0</td>\n",
       "      <td>NaN</td>\n",
       "      <td>приобретение автомобиля</td>\n",
       "    </tr>\n",
       "  </tbody>\n",
       "</table>\n",
       "<p>2174 rows × 12 columns</p>\n",
       "</div>"
      ],
      "text/plain": [
       "       children  days_employed  dob_years education  education_id  \\\n",
       "12            0            NaN         65   среднее             1   \n",
       "26            0            NaN         41   среднее             1   \n",
       "29            0            NaN         63   среднее             1   \n",
       "41            0            NaN         50   среднее             1   \n",
       "55            0            NaN         54   среднее             1   \n",
       "...         ...            ...        ...       ...           ...   \n",
       "21489         2            NaN         47   Среднее             1   \n",
       "21495         1            NaN         50   среднее             1   \n",
       "21497         0            NaN         48    ВЫСШЕЕ             0   \n",
       "21502         1            NaN         42   среднее             1   \n",
       "21510         2            NaN         28   среднее             1   \n",
       "\n",
       "               family_status  family_status_id gender  income_type  debt  \\\n",
       "12          гражданский брак                 1      M    пенсионер     0   \n",
       "26           женат / замужем                 0      M  госслужащий     0   \n",
       "29     Не женат / не замужем                 4      F    пенсионер     0   \n",
       "41           женат / замужем                 0      F  госслужащий     0   \n",
       "55          гражданский брак                 1      F    пенсионер     1   \n",
       "...                      ...               ...    ...          ...   ...   \n",
       "21489        женат / замужем                 0      M    компаньон     0   \n",
       "21495       гражданский брак                 1      F    сотрудник     0   \n",
       "21497        женат / замужем                 0      F    компаньон     0   \n",
       "21502        женат / замужем                 0      F    сотрудник     0   \n",
       "21510        женат / замужем                 0      F    сотрудник     0   \n",
       "\n",
       "       total_income                           purpose  \n",
       "12              NaN                   сыграть свадьбу  \n",
       "26              NaN                       образование  \n",
       "29              NaN  строительство жилой недвижимости  \n",
       "41              NaN  сделка с подержанным автомобилем  \n",
       "55              NaN                   сыграть свадьбу  \n",
       "...             ...                               ...  \n",
       "21489           NaN              сделка с автомобилем  \n",
       "21495           NaN                           свадьба  \n",
       "21497           NaN        строительство недвижимости  \n",
       "21502           NaN  строительство жилой недвижимости  \n",
       "21510           NaN           приобретение автомобиля  \n",
       "\n",
       "[2174 rows x 12 columns]"
      ]
     },
     "execution_count": 33,
     "metadata": {},
     "output_type": "execute_result"
    }
   ],
   "source": [
    "filtered_df = data_1[data_1['days_employed'].isnull()]\n",
    "filtered_df\n",
    "# А если быть точнее, то не вижу закономерностей при появлении данных.. максимум что еще могу выжать, так это банальные ошибки \n",
    "# при вводе данных"
   ]
  },
  {
   "cell_type": "markdown",
   "id": "b798684d",
   "metadata": {
    "deletable": false,
    "editable": false,
    "id": "7b0487d6"
   },
   "source": [
    "#### 3.6 Объясните, почему заполнить пропуски медианным значением — лучшее решение для количественных переменных."
   ]
  },
  {
   "cell_type": "markdown",
   "id": "ca33d4af",
   "metadata": {
    "deletable": false,
    "id": "7ecf2b8e"
   },
   "source": [
    "*Ответ:* Покольку поиск средней, зачастую не отражает действительности. В случае анализа группы людей, где зарплаты не имеют больших разбросов поиск средней оправдан, однако на реальных данных наиболее логичным является поиск \"середины\"\n",
    "\n",
    "Пример! \n",
    "Данные о зарплатах: 30к, 50к, 75к, 160к, 1,5кк\n",
    "Поиск средней на основе придуманных зарплат: средние зарплаты = 353 тысячирублей\n",
    "Поиск медианы на основе придуманныз зарплат: медианная зарплата составляет 75 тысяч рублей\n",
    "Вывод в выводе: логичнее медиана!"
   ]
  },
  {
   "cell_type": "markdown",
   "id": "83616101",
   "metadata": {},
   "source": [
    "<div class=\"alert alert-success\">\n",
    "<h2> Комментарий ревьюера <a class=\"tocSkip\"> </h2>\n",
    "\n",
    "<b>Отлично!✅:</b> Согласна, медиана менее чувствительна к выбросам!\n",
    "</div>"
   ]
  },
  {
   "cell_type": "markdown",
   "id": "c21a35fc",
   "metadata": {},
   "source": [
    "<div class=\"alert alert-info\"> <b>Комментарий студента: </b> </div>"
   ]
  },
  {
   "cell_type": "markdown",
   "id": "e4b02448",
   "metadata": {
    "deletable": false,
    "editable": false,
    "id": "6db5255a"
   },
   "source": [
    "### Шаг 4: общий вывод."
   ]
  },
  {
   "cell_type": "markdown",
   "id": "b9ec5a49",
   "metadata": {
    "deletable": false,
    "id": "bad65432"
   },
   "source": [
    "Напишите ваш общий вывод.\n",
    "\n",
    "В основе исследования лежали данные кредитной организации, содержащие достаточно широкий перечень данных о клиентах:\n",
    "    1)children - количество детей \n",
    "    2)days_employed - стаж работы\n",
    "    3)dob_years - количество лет \n",
    "    4)education - уровень образования\n",
    "    5)education_id - id уровня образования\n",
    "    6)family_status - семейное положение      \n",
    "    7)family_status_id - id статуса семейного положения\n",
    "    8)gender - пол\n",
    "    9)income_type - трудовой статус         \n",
    "    10)debt - имел ли непогашенные в срок задолженности                \n",
    "    11)total_income - доход       \n",
    "    12)purpose - цель кредита\n",
    "Также были добавлены 2 категориальных поля: \n",
    "    1) total_income_category - уровень доходов с привязкой к классам от 'A' до \"D\"\n",
    "    2) purpose_category - категория причины взятия кредита\n",
    "При работе с данными были выявлены следующие проблемы: \n",
    "    1) столбец 'days_employed' содержал пропуски и отрицательные значения\n",
    "    2) столбец 'total_income' содержал пропуски в значениях\n",
    "    3) Датасет содержал выбросы в столбце 'children' в виде значений = 20, -1\n",
    "    4) столбец 'education' содержит одинаковые значения, записанные в разных регистрах\n",
    "\n",
    "\n",
    "**Рекомендации**:\n",
    "    1) поставить запред на ввод значений для раздела \"дети\" на отрицательные значения, чтобы не хранить в базе данных заведомо лишние значения\n",
    "    2) поставить запред на ввод значений для разделов \"доход\" и \"стаж\" на отрицательные значения, чтобы не тратить время на предобработку данных\n",
    "    3) При ведении базы данныхнеобходимо приводить к нижнему регистру поле \"образование\" и иные поля, содержащие данные о **типе** пользователя\n",
    "\n",
    "При выдаче кредитов, наиболее привлекательными являются клиенты, имеющие следующие показатели: \n",
    "Наиболее выгодным для кредитной организации являются:\n",
    "    1) люди с доходом в диапазоне от 30 000 до 50 000 тысяч ед.\n",
    "    2) люди приобритающие недвижимость \n",
    "    3) без детей\n",
    "    4) вдовы/вдовцы\n",
    "...\n",
    "(и так далее по порядку)\n",
    "...\n",
    "Наиболее рисковыми являются люди которые: \n",
    "    1) имеют доход ниже 30 000 тыс ед.\n",
    "    2) берущие кредит на операции с автомобилем\n",
    "    3) не втупавшие в брак\n",
    "    4) имеющие детей в целом, но наиболее рисковые - 4 ребенка"
   ]
  },
  {
   "cell_type": "markdown",
   "id": "fd3afe03",
   "metadata": {},
   "source": [
    "<br/>\n",
    "<div class=\"alert alert-block alert-danger\">\n",
    "<h2> Комментарий ревьюера <a class=\"tocSkip\"></h2>\n",
    "<b>Необходимо исправить❌:</b>\n",
    "Олег, общий вывод - обязательный и важный элемент работы. Его нужно сформулировать, взяв основные результаты из всех шагов проекта. Начать нужно с того, с какими данными мы работали и какие действия провели на этапе предобработки, а закончить выявленными при ответе на вопросы зависимостями и рекомендациями заказчику по улучшению сбора данных и скоринга. Заказчик, зачастую, читает только общий вывод исследования - поэтому он должен быть максимально информативным. \n",
    "</div>"
   ]
  },
  {
   "cell_type": "markdown",
   "id": "e1ca8302",
   "metadata": {},
   "source": [
    "<div class=\"alert alert-success\">\n",
    "<h2> Комментарий ревьюера v2<a class=\"tocSkip\"> </h2>\n",
    "\n",
    "<b>Отлично!✅:</b> Олег, отлично! Работа принята, хорошего дня:)\n",
    "\n",
    "</div>"
   ]
  },
  {
   "cell_type": "markdown",
   "id": "f8dfdb9b",
   "metadata": {},
   "source": [
    "<div style=\"border:solid Chocolate 2px; padding: 40px\">\n",
    "Олег, давай подведем итоги. Ты большой молодец, что старался и проделал такую большую работу. Шаг 1 и 2 ты выполнил без проблем, что очень хорошо:)\n",
    "    \n",
    "    Разберем над чем стоит поработать:\n",
    "\n",
    "    1. Необходимо выводить сводные таблицы со всеми столбцами сразу, а не по отдельности. Для этого можно использовать метод groupby() или pivot_table().\n",
    "    \n",
    "    2. Нужно учитывать несбалансированность выборок.\n",
    "    \n",
    "    3. Указать два фактора, влияющие на появление пропусков.\n",
    "    \n",
    "    4. И более детально раскрыть общий вывод.\n",
    "    \n",
    "    Пересмотри работу и исправь ошибки. Обязательно пиши, если я могу тебе еще чем-то помочь. Удачи!)\n",
    "  "
   ]
  }
 ],
 "metadata": {
  "ExecuteTimeLog": [
   {
    "duration": 75,
    "start_time": "2023-01-22T10:38:43.227Z"
   },
   {
    "duration": 547,
    "start_time": "2023-01-22T10:38:55.830Z"
   },
   {
    "duration": 25,
    "start_time": "2023-01-22T10:38:56.379Z"
   },
   {
    "duration": 40,
    "start_time": "2023-01-22T10:38:56.407Z"
   },
   {
    "duration": 21,
    "start_time": "2023-01-22T10:38:56.449Z"
   },
   {
    "duration": 42,
    "start_time": "2023-01-22T10:38:56.472Z"
   },
   {
    "duration": 5,
    "start_time": "2023-01-22T10:38:56.516Z"
   },
   {
    "duration": 45,
    "start_time": "2023-01-22T10:38:56.522Z"
   },
   {
    "duration": 8,
    "start_time": "2023-01-22T10:38:56.569Z"
   },
   {
    "duration": 15,
    "start_time": "2023-01-22T10:38:56.578Z"
   },
   {
    "duration": 5,
    "start_time": "2023-01-22T10:38:56.598Z"
   },
   {
    "duration": 54,
    "start_time": "2023-01-22T10:38:56.606Z"
   },
   {
    "duration": 13,
    "start_time": "2023-01-22T10:38:56.662Z"
   },
   {
    "duration": 7,
    "start_time": "2023-01-22T10:38:56.677Z"
   },
   {
    "duration": 30,
    "start_time": "2023-01-22T10:38:56.686Z"
   },
   {
    "duration": 36,
    "start_time": "2023-01-22T10:38:56.717Z"
   },
   {
    "duration": 41,
    "start_time": "2023-01-22T10:38:56.755Z"
   },
   {
    "duration": 5,
    "start_time": "2023-01-22T10:38:56.799Z"
   },
   {
    "duration": 12,
    "start_time": "2023-01-22T10:38:56.806Z"
   },
   {
    "duration": 12,
    "start_time": "2023-01-22T10:38:56.820Z"
   },
   {
    "duration": 35,
    "start_time": "2023-01-22T10:38:56.837Z"
   },
   {
    "duration": 22,
    "start_time": "2023-01-22T10:38:56.874Z"
   },
   {
    "duration": 10,
    "start_time": "2023-01-22T10:38:56.898Z"
   },
   {
    "duration": 11,
    "start_time": "2023-01-22T10:38:56.910Z"
   },
   {
    "duration": 10,
    "start_time": "2023-01-22T10:38:56.923Z"
   },
   {
    "duration": 28,
    "start_time": "2023-01-22T10:38:56.935Z"
   },
   {
    "duration": 5,
    "start_time": "2023-01-22T10:38:56.965Z"
   },
   {
    "duration": 484,
    "start_time": "2023-01-23T19:46:55.696Z"
   },
   {
    "duration": 522,
    "start_time": "2023-01-23T19:47:01.804Z"
   },
   {
    "duration": 26,
    "start_time": "2023-01-23T19:47:02.327Z"
   },
   {
    "duration": 48,
    "start_time": "2023-01-23T19:47:02.355Z"
   },
   {
    "duration": 28,
    "start_time": "2023-01-23T19:47:02.405Z"
   },
   {
    "duration": 52,
    "start_time": "2023-01-23T19:47:02.436Z"
   },
   {
    "duration": 12,
    "start_time": "2023-01-23T19:47:02.490Z"
   },
   {
    "duration": 50,
    "start_time": "2023-01-23T19:47:02.504Z"
   },
   {
    "duration": 19,
    "start_time": "2023-01-23T19:47:02.556Z"
   },
   {
    "duration": 64,
    "start_time": "2023-01-23T19:47:02.577Z"
   },
   {
    "duration": 64,
    "start_time": "2023-01-23T19:47:02.643Z"
   },
   {
    "duration": 97,
    "start_time": "2023-01-23T19:47:02.709Z"
   },
   {
    "duration": 15,
    "start_time": "2023-01-23T19:47:02.809Z"
   },
   {
    "duration": 36,
    "start_time": "2023-01-23T19:47:02.827Z"
   },
   {
    "duration": 24,
    "start_time": "2023-01-23T19:47:02.866Z"
   },
   {
    "duration": 52,
    "start_time": "2023-01-23T19:47:02.892Z"
   },
   {
    "duration": 65,
    "start_time": "2023-01-23T19:47:02.946Z"
   },
   {
    "duration": 23,
    "start_time": "2023-01-23T19:47:03.013Z"
   },
   {
    "duration": 77,
    "start_time": "2023-01-23T19:47:03.041Z"
   },
   {
    "duration": 50,
    "start_time": "2023-01-23T19:47:03.120Z"
   },
   {
    "duration": 35,
    "start_time": "2023-01-23T19:47:03.172Z"
   },
   {
    "duration": 73,
    "start_time": "2023-01-23T19:47:03.209Z"
   },
   {
    "duration": 30,
    "start_time": "2023-01-23T19:47:03.285Z"
   },
   {
    "duration": 35,
    "start_time": "2023-01-23T19:47:03.317Z"
   },
   {
    "duration": 29,
    "start_time": "2023-01-23T19:47:03.355Z"
   },
   {
    "duration": 44,
    "start_time": "2023-01-23T19:47:03.387Z"
   },
   {
    "duration": 24,
    "start_time": "2023-01-23T19:47:43.052Z"
   },
   {
    "duration": 67,
    "start_time": "2023-01-23T19:49:26.363Z"
   },
   {
    "duration": 1190,
    "start_time": "2023-01-23T19:49:39.649Z"
   },
   {
    "duration": 169,
    "start_time": "2023-01-23T19:50:02.138Z"
   },
   {
    "duration": 70,
    "start_time": "2023-01-23T20:00:25.502Z"
   },
   {
    "duration": 21,
    "start_time": "2023-01-23T20:00:36.717Z"
   },
   {
    "duration": 25,
    "start_time": "2023-01-23T20:01:51.619Z"
   },
   {
    "duration": 49,
    "start_time": "2023-01-23T20:07:56.474Z"
   },
   {
    "duration": 10,
    "start_time": "2023-01-23T20:11:29.553Z"
   },
   {
    "duration": 40,
    "start_time": "2023-01-23T20:11:59.210Z"
   },
   {
    "duration": 4,
    "start_time": "2023-01-23T20:12:06.862Z"
   },
   {
    "duration": 25,
    "start_time": "2023-01-23T20:12:10.534Z"
   },
   {
    "duration": 10,
    "start_time": "2023-01-23T20:12:15.415Z"
   },
   {
    "duration": 11,
    "start_time": "2023-01-23T20:12:18.578Z"
   },
   {
    "duration": 12,
    "start_time": "2023-01-23T20:12:36.730Z"
   },
   {
    "duration": 28,
    "start_time": "2023-01-23T20:13:03.129Z"
   },
   {
    "duration": 23,
    "start_time": "2023-01-23T20:22:18.302Z"
   },
   {
    "duration": 33,
    "start_time": "2023-01-23T20:22:26.169Z"
   },
   {
    "duration": 22,
    "start_time": "2023-01-23T20:23:15.114Z"
   },
   {
    "duration": 25,
    "start_time": "2023-01-23T20:23:21.589Z"
   },
   {
    "duration": 33,
    "start_time": "2023-01-23T20:23:53.856Z"
   },
   {
    "duration": 32,
    "start_time": "2023-01-23T20:24:30.281Z"
   },
   {
    "duration": 42,
    "start_time": "2023-01-23T20:24:53.521Z"
   },
   {
    "duration": 18,
    "start_time": "2023-01-23T20:24:57.775Z"
   },
   {
    "duration": 23,
    "start_time": "2023-01-23T20:25:01.597Z"
   },
   {
    "duration": 39,
    "start_time": "2023-01-23T20:26:35.147Z"
   },
   {
    "duration": 11,
    "start_time": "2023-01-23T20:26:53.913Z"
   },
   {
    "duration": 24,
    "start_time": "2023-01-23T20:26:59.202Z"
   },
   {
    "duration": 28,
    "start_time": "2023-01-23T20:30:14.994Z"
   },
   {
    "duration": 20,
    "start_time": "2023-01-23T20:30:24.010Z"
   },
   {
    "duration": 50,
    "start_time": "2023-01-23T20:31:00.176Z"
   },
   {
    "duration": 39,
    "start_time": "2023-01-23T20:31:24.704Z"
   },
   {
    "duration": 49,
    "start_time": "2023-01-23T20:31:31.760Z"
   },
   {
    "duration": 27,
    "start_time": "2023-01-23T20:32:02.968Z"
   },
   {
    "duration": 27,
    "start_time": "2023-01-23T20:34:17.436Z"
   },
   {
    "duration": 28,
    "start_time": "2023-01-23T20:34:56.143Z"
   },
   {
    "duration": 14,
    "start_time": "2023-01-23T20:52:53.321Z"
   },
   {
    "duration": 20,
    "start_time": "2023-01-23T20:53:06.281Z"
   },
   {
    "duration": 22,
    "start_time": "2023-01-23T20:53:09.577Z"
   },
   {
    "duration": 25,
    "start_time": "2023-01-23T20:56:48.495Z"
   },
   {
    "duration": 22,
    "start_time": "2023-01-23T20:56:57.232Z"
   },
   {
    "duration": 34,
    "start_time": "2023-01-23T20:57:18.841Z"
   },
   {
    "duration": 30,
    "start_time": "2023-01-23T20:57:27.497Z"
   },
   {
    "duration": 23,
    "start_time": "2023-01-23T20:57:54.315Z"
   },
   {
    "duration": 25,
    "start_time": "2023-01-23T20:58:11.222Z"
   },
   {
    "duration": 23,
    "start_time": "2023-01-23T20:58:26.940Z"
   },
   {
    "duration": 27,
    "start_time": "2023-01-23T20:59:43.302Z"
   },
   {
    "duration": 32,
    "start_time": "2023-01-23T20:59:59.922Z"
   },
   {
    "duration": 26,
    "start_time": "2023-01-23T21:00:09.357Z"
   },
   {
    "duration": 24,
    "start_time": "2023-01-23T21:00:24.270Z"
   },
   {
    "duration": 23,
    "start_time": "2023-01-23T21:01:06.879Z"
   },
   {
    "duration": 29,
    "start_time": "2023-01-23T21:01:12.567Z"
   },
   {
    "duration": 5,
    "start_time": "2023-01-23T21:01:26.827Z"
   },
   {
    "duration": 5,
    "start_time": "2023-01-23T21:01:28.633Z"
   },
   {
    "duration": 26,
    "start_time": "2023-01-23T21:01:35.918Z"
   },
   {
    "duration": 47,
    "start_time": "2023-01-24T06:29:47.398Z"
   },
   {
    "duration": 549,
    "start_time": "2023-01-24T06:30:02.685Z"
   },
   {
    "duration": 29,
    "start_time": "2023-01-24T06:30:03.236Z"
   },
   {
    "duration": 15,
    "start_time": "2023-01-24T06:30:03.266Z"
   },
   {
    "duration": 21,
    "start_time": "2023-01-24T06:30:03.283Z"
   },
   {
    "duration": 33,
    "start_time": "2023-01-24T06:30:03.306Z"
   },
   {
    "duration": 4,
    "start_time": "2023-01-24T06:30:03.340Z"
   },
   {
    "duration": 16,
    "start_time": "2023-01-24T06:30:03.345Z"
   },
   {
    "duration": 5,
    "start_time": "2023-01-24T06:30:03.363Z"
   },
   {
    "duration": 10,
    "start_time": "2023-01-24T06:30:03.369Z"
   },
   {
    "duration": 23,
    "start_time": "2023-01-24T06:30:03.384Z"
   },
   {
    "duration": 39,
    "start_time": "2023-01-24T06:30:03.409Z"
   },
   {
    "duration": 10,
    "start_time": "2023-01-24T06:30:03.449Z"
   },
   {
    "duration": 16,
    "start_time": "2023-01-24T06:30:03.461Z"
   },
   {
    "duration": 11,
    "start_time": "2023-01-24T06:30:03.479Z"
   },
   {
    "duration": 20,
    "start_time": "2023-01-24T06:30:03.503Z"
   },
   {
    "duration": 17,
    "start_time": "2023-01-24T06:30:03.525Z"
   },
   {
    "duration": 4,
    "start_time": "2023-01-24T06:30:03.543Z"
   },
   {
    "duration": 30,
    "start_time": "2023-01-24T06:30:03.548Z"
   },
   {
    "duration": 22,
    "start_time": "2023-01-24T06:30:03.580Z"
   },
   {
    "duration": 27,
    "start_time": "2023-01-24T06:30:03.603Z"
   },
   {
    "duration": 20,
    "start_time": "2023-01-24T06:30:03.632Z"
   },
   {
    "duration": 34,
    "start_time": "2023-01-24T06:30:03.654Z"
   },
   {
    "duration": 52,
    "start_time": "2023-01-24T06:30:03.690Z"
   },
   {
    "duration": 26,
    "start_time": "2023-01-24T06:30:03.743Z"
   },
   {
    "duration": 27,
    "start_time": "2023-01-24T06:30:03.770Z"
   },
   {
    "duration": 31,
    "start_time": "2023-01-24T06:30:03.799Z"
   },
   {
    "duration": 770,
    "start_time": "2023-01-24T07:06:48.191Z"
   },
   {
    "duration": 26,
    "start_time": "2023-01-24T07:07:58.397Z"
   },
   {
    "duration": 26,
    "start_time": "2023-01-24T07:08:23.557Z"
   },
   {
    "duration": 24,
    "start_time": "2023-01-24T07:09:12.215Z"
   },
   {
    "duration": 26,
    "start_time": "2023-01-24T07:09:53.582Z"
   },
   {
    "duration": 24,
    "start_time": "2023-01-24T07:10:09.950Z"
   },
   {
    "duration": 24,
    "start_time": "2023-01-24T07:24:55.936Z"
   },
   {
    "duration": 37,
    "start_time": "2023-01-24T07:27:16.801Z"
   },
   {
    "duration": 26,
    "start_time": "2023-01-24T07:57:25.537Z"
   },
   {
    "duration": 70,
    "start_time": "2023-01-25T06:13:17.567Z"
   },
   {
    "duration": 550,
    "start_time": "2023-01-25T06:13:30.408Z"
   },
   {
    "duration": 24,
    "start_time": "2023-01-25T06:13:30.960Z"
   },
   {
    "duration": 39,
    "start_time": "2023-01-25T06:13:30.986Z"
   },
   {
    "duration": 84,
    "start_time": "2023-01-25T06:13:31.027Z"
   },
   {
    "duration": 107,
    "start_time": "2023-01-25T06:13:31.113Z"
   },
   {
    "duration": 30,
    "start_time": "2023-01-25T06:13:31.222Z"
   },
   {
    "duration": 50,
    "start_time": "2023-01-25T06:13:31.253Z"
   },
   {
    "duration": 36,
    "start_time": "2023-01-25T06:13:31.305Z"
   },
   {
    "duration": 92,
    "start_time": "2023-01-25T06:13:31.344Z"
   },
   {
    "duration": 39,
    "start_time": "2023-01-25T06:13:31.438Z"
   },
   {
    "duration": 79,
    "start_time": "2023-01-25T06:13:31.479Z"
   },
   {
    "duration": 46,
    "start_time": "2023-01-25T06:13:31.560Z"
   },
   {
    "duration": 72,
    "start_time": "2023-01-25T06:13:31.608Z"
   },
   {
    "duration": 39,
    "start_time": "2023-01-25T06:13:31.684Z"
   },
   {
    "duration": 56,
    "start_time": "2023-01-25T06:13:31.724Z"
   },
   {
    "duration": 42,
    "start_time": "2023-01-25T06:13:31.782Z"
   },
   {
    "duration": 49,
    "start_time": "2023-01-25T06:13:31.825Z"
   },
   {
    "duration": 56,
    "start_time": "2023-01-25T06:13:31.876Z"
   },
   {
    "duration": 107,
    "start_time": "2023-01-25T06:13:31.934Z"
   },
   {
    "duration": 49,
    "start_time": "2023-01-25T06:13:32.043Z"
   },
   {
    "duration": 59,
    "start_time": "2023-01-25T06:13:32.094Z"
   },
   {
    "duration": 74,
    "start_time": "2023-01-25T06:13:32.155Z"
   },
   {
    "duration": 59,
    "start_time": "2023-01-25T06:13:32.231Z"
   },
   {
    "duration": 44,
    "start_time": "2023-01-25T06:13:32.293Z"
   },
   {
    "duration": 54,
    "start_time": "2023-01-25T06:13:32.339Z"
   },
   {
    "duration": 91,
    "start_time": "2023-01-25T06:13:32.395Z"
   },
   {
    "duration": 61,
    "start_time": "2023-01-25T06:13:32.488Z"
   },
   {
    "duration": 96,
    "start_time": "2023-01-25T06:13:32.551Z"
   },
   {
    "duration": 91,
    "start_time": "2023-01-25T06:13:32.649Z"
   },
   {
    "duration": 810,
    "start_time": "2023-01-25T06:24:35.602Z"
   },
   {
    "duration": 27,
    "start_time": "2023-01-25T06:25:15.921Z"
   },
   {
    "duration": 28,
    "start_time": "2023-01-25T06:25:25.662Z"
   },
   {
    "duration": 28,
    "start_time": "2023-01-25T06:25:30.029Z"
   },
   {
    "duration": 747,
    "start_time": "2023-01-25T06:25:51.543Z"
   },
   {
    "duration": 739,
    "start_time": "2023-01-25T06:26:08.199Z"
   },
   {
    "duration": 753,
    "start_time": "2023-01-25T06:27:33.768Z"
   },
   {
    "duration": 799,
    "start_time": "2023-01-25T06:28:13.778Z"
   },
   {
    "duration": 802,
    "start_time": "2023-01-25T06:28:25.932Z"
   },
   {
    "duration": 742,
    "start_time": "2023-01-25T06:28:45.978Z"
   },
   {
    "duration": 703,
    "start_time": "2023-01-25T06:31:46.260Z"
   },
   {
    "duration": 19,
    "start_time": "2023-01-25T06:33:19.505Z"
   },
   {
    "duration": 38,
    "start_time": "2023-01-25T06:33:23.021Z"
   },
   {
    "duration": 53,
    "start_time": "2023-01-25T06:33:45.126Z"
   },
   {
    "duration": 51,
    "start_time": "2023-01-25T06:34:01.929Z"
   },
   {
    "duration": 510,
    "start_time": "2023-01-25T06:34:12.627Z"
   },
   {
    "duration": 28,
    "start_time": "2023-01-25T06:34:13.140Z"
   },
   {
    "duration": 20,
    "start_time": "2023-01-25T06:34:13.170Z"
   },
   {
    "duration": 26,
    "start_time": "2023-01-25T06:34:13.191Z"
   },
   {
    "duration": 39,
    "start_time": "2023-01-25T06:34:13.219Z"
   },
   {
    "duration": 3,
    "start_time": "2023-01-25T06:34:13.259Z"
   },
   {
    "duration": 22,
    "start_time": "2023-01-25T06:34:13.264Z"
   },
   {
    "duration": 5,
    "start_time": "2023-01-25T06:34:13.288Z"
   },
   {
    "duration": 13,
    "start_time": "2023-01-25T06:34:13.295Z"
   },
   {
    "duration": 7,
    "start_time": "2023-01-25T06:34:13.309Z"
   },
   {
    "duration": 45,
    "start_time": "2023-01-25T06:34:13.318Z"
   },
   {
    "duration": 10,
    "start_time": "2023-01-25T06:34:13.365Z"
   },
   {
    "duration": 3,
    "start_time": "2023-01-25T06:34:13.377Z"
   },
   {
    "duration": 23,
    "start_time": "2023-01-25T06:34:13.383Z"
   },
   {
    "duration": 25,
    "start_time": "2023-01-25T06:34:13.408Z"
   },
   {
    "duration": 32,
    "start_time": "2023-01-25T06:34:13.435Z"
   },
   {
    "duration": 4,
    "start_time": "2023-01-25T06:34:13.469Z"
   },
   {
    "duration": 16,
    "start_time": "2023-01-25T06:34:13.475Z"
   },
   {
    "duration": 11,
    "start_time": "2023-01-25T06:34:13.493Z"
   },
   {
    "duration": 22,
    "start_time": "2023-01-25T06:34:13.506Z"
   },
   {
    "duration": 17,
    "start_time": "2023-01-25T06:34:13.530Z"
   },
   {
    "duration": 31,
    "start_time": "2023-01-25T06:34:13.554Z"
   },
   {
    "duration": 38,
    "start_time": "2023-01-25T06:34:13.587Z"
   },
   {
    "duration": 754,
    "start_time": "2023-01-25T06:34:13.627Z"
   },
   {
    "duration": 0,
    "start_time": "2023-01-25T06:34:14.383Z"
   },
   {
    "duration": 0,
    "start_time": "2023-01-25T06:34:14.384Z"
   },
   {
    "duration": 0,
    "start_time": "2023-01-25T06:34:14.386Z"
   },
   {
    "duration": 0,
    "start_time": "2023-01-25T06:34:14.388Z"
   },
   {
    "duration": 718,
    "start_time": "2023-01-25T06:34:28.306Z"
   },
   {
    "duration": 18,
    "start_time": "2023-01-25T06:36:57.595Z"
   },
   {
    "duration": 23,
    "start_time": "2023-01-25T06:37:13.635Z"
   },
   {
    "duration": 354,
    "start_time": "2023-01-25T06:37:50.131Z"
   },
   {
    "duration": 7,
    "start_time": "2023-01-25T06:38:19.413Z"
   },
   {
    "duration": 6,
    "start_time": "2023-01-25T06:38:48.298Z"
   },
   {
    "duration": 25,
    "start_time": "2023-01-25T06:38:51.954Z"
   },
   {
    "duration": 453,
    "start_time": "2023-01-25T06:40:10.596Z"
   },
   {
    "duration": 73,
    "start_time": "2023-01-25T06:40:20.740Z"
   },
   {
    "duration": 50,
    "start_time": "2023-01-25T06:40:23.331Z"
   },
   {
    "duration": 57,
    "start_time": "2023-01-25T06:40:30.772Z"
   },
   {
    "duration": 54,
    "start_time": "2023-01-25T06:40:43.276Z"
   },
   {
    "duration": 51,
    "start_time": "2023-01-25T06:40:55.284Z"
   },
   {
    "duration": 10,
    "start_time": "2023-01-25T06:43:32.330Z"
   },
   {
    "duration": 11,
    "start_time": "2023-01-25T06:43:39.698Z"
   },
   {
    "duration": 14,
    "start_time": "2023-01-25T06:45:00.996Z"
   },
   {
    "duration": 49,
    "start_time": "2023-01-25T06:45:35.161Z"
   },
   {
    "duration": 12,
    "start_time": "2023-01-25T06:52:57.744Z"
   },
   {
    "duration": 505,
    "start_time": "2023-01-25T06:53:38.452Z"
   },
   {
    "duration": 23,
    "start_time": "2023-01-25T06:53:38.959Z"
   },
   {
    "duration": 40,
    "start_time": "2023-01-25T06:53:38.984Z"
   },
   {
    "duration": 17,
    "start_time": "2023-01-25T06:53:39.027Z"
   },
   {
    "duration": 41,
    "start_time": "2023-01-25T06:53:39.046Z"
   },
   {
    "duration": 4,
    "start_time": "2023-01-25T06:53:39.089Z"
   },
   {
    "duration": 22,
    "start_time": "2023-01-25T06:53:39.095Z"
   },
   {
    "duration": 6,
    "start_time": "2023-01-25T06:53:39.119Z"
   },
   {
    "duration": 28,
    "start_time": "2023-01-25T06:53:39.126Z"
   },
   {
    "duration": 7,
    "start_time": "2023-01-25T06:53:39.156Z"
   },
   {
    "duration": 112,
    "start_time": "2023-01-25T06:53:39.165Z"
   },
   {
    "duration": 33,
    "start_time": "2023-01-25T06:53:39.280Z"
   },
   {
    "duration": 31,
    "start_time": "2023-01-25T06:53:39.315Z"
   },
   {
    "duration": 39,
    "start_time": "2023-01-25T06:53:39.348Z"
   },
   {
    "duration": 63,
    "start_time": "2023-01-25T06:53:39.389Z"
   },
   {
    "duration": 71,
    "start_time": "2023-01-25T06:53:39.453Z"
   },
   {
    "duration": 28,
    "start_time": "2023-01-25T06:53:39.527Z"
   },
   {
    "duration": 51,
    "start_time": "2023-01-25T06:53:39.556Z"
   },
   {
    "duration": 46,
    "start_time": "2023-01-25T06:53:39.609Z"
   },
   {
    "duration": 31,
    "start_time": "2023-01-25T06:53:39.657Z"
   },
   {
    "duration": 27,
    "start_time": "2023-01-25T06:53:39.690Z"
   },
   {
    "duration": 155,
    "start_time": "2023-01-25T06:53:39.718Z"
   },
   {
    "duration": 47,
    "start_time": "2023-01-25T06:53:39.875Z"
   },
   {
    "duration": 85,
    "start_time": "2023-01-25T06:53:39.923Z"
   },
   {
    "duration": 0,
    "start_time": "2023-01-25T06:53:40.009Z"
   },
   {
    "duration": 0,
    "start_time": "2023-01-25T06:53:40.011Z"
   },
   {
    "duration": 0,
    "start_time": "2023-01-25T06:53:40.012Z"
   },
   {
    "duration": 0,
    "start_time": "2023-01-25T06:53:40.013Z"
   },
   {
    "duration": 10,
    "start_time": "2023-01-25T06:53:53.943Z"
   },
   {
    "duration": 9,
    "start_time": "2023-01-25T06:54:09.208Z"
   },
   {
    "duration": 10,
    "start_time": "2023-01-25T06:54:54.279Z"
   },
   {
    "duration": 513,
    "start_time": "2023-01-25T06:55:14.337Z"
   },
   {
    "duration": 23,
    "start_time": "2023-01-25T06:55:14.852Z"
   },
   {
    "duration": 16,
    "start_time": "2023-01-25T06:55:14.877Z"
   },
   {
    "duration": 10,
    "start_time": "2023-01-25T06:55:14.895Z"
   },
   {
    "duration": 64,
    "start_time": "2023-01-25T06:55:14.907Z"
   },
   {
    "duration": 3,
    "start_time": "2023-01-25T06:55:14.973Z"
   },
   {
    "duration": 21,
    "start_time": "2023-01-25T06:55:14.978Z"
   },
   {
    "duration": 6,
    "start_time": "2023-01-25T06:55:15.001Z"
   },
   {
    "duration": 41,
    "start_time": "2023-01-25T06:55:15.009Z"
   },
   {
    "duration": 58,
    "start_time": "2023-01-25T06:55:15.054Z"
   },
   {
    "duration": 79,
    "start_time": "2023-01-25T06:55:15.114Z"
   },
   {
    "duration": 43,
    "start_time": "2023-01-25T06:55:15.194Z"
   },
   {
    "duration": 54,
    "start_time": "2023-01-25T06:55:15.238Z"
   },
   {
    "duration": 44,
    "start_time": "2023-01-25T06:55:15.293Z"
   },
   {
    "duration": 63,
    "start_time": "2023-01-25T06:55:15.338Z"
   },
   {
    "duration": 43,
    "start_time": "2023-01-25T06:55:15.402Z"
   },
   {
    "duration": 20,
    "start_time": "2023-01-25T06:55:15.447Z"
   },
   {
    "duration": 37,
    "start_time": "2023-01-25T06:55:15.469Z"
   },
   {
    "duration": 23,
    "start_time": "2023-01-25T06:55:15.507Z"
   },
   {
    "duration": 31,
    "start_time": "2023-01-25T06:55:15.532Z"
   },
   {
    "duration": 27,
    "start_time": "2023-01-25T06:55:15.565Z"
   },
   {
    "duration": 50,
    "start_time": "2023-01-25T06:55:15.595Z"
   },
   {
    "duration": 92,
    "start_time": "2023-01-25T06:55:15.648Z"
   },
   {
    "duration": 0,
    "start_time": "2023-01-25T06:55:15.742Z"
   },
   {
    "duration": 0,
    "start_time": "2023-01-25T06:55:15.744Z"
   },
   {
    "duration": 0,
    "start_time": "2023-01-25T06:55:15.745Z"
   },
   {
    "duration": 0,
    "start_time": "2023-01-25T06:55:15.747Z"
   },
   {
    "duration": 0,
    "start_time": "2023-01-25T06:55:15.748Z"
   },
   {
    "duration": 4,
    "start_time": "2023-01-25T06:55:35.967Z"
   },
   {
    "duration": 727,
    "start_time": "2023-01-25T06:57:51.287Z"
   },
   {
    "duration": 731,
    "start_time": "2023-01-25T06:58:02.751Z"
   },
   {
    "duration": 671,
    "start_time": "2023-01-25T06:58:11.639Z"
   },
   {
    "duration": 3,
    "start_time": "2023-01-25T06:59:14.710Z"
   },
   {
    "duration": 6,
    "start_time": "2023-01-25T06:59:33.646Z"
   },
   {
    "duration": 717,
    "start_time": "2023-01-25T06:59:47.734Z"
   },
   {
    "duration": 12,
    "start_time": "2023-01-25T07:01:20.191Z"
   },
   {
    "duration": 6,
    "start_time": "2023-01-25T07:01:41.178Z"
   },
   {
    "duration": 9,
    "start_time": "2023-01-25T07:01:44.838Z"
   },
   {
    "duration": 13,
    "start_time": "2023-01-25T07:02:08.727Z"
   },
   {
    "duration": 9,
    "start_time": "2023-01-25T07:02:52.983Z"
   },
   {
    "duration": 9,
    "start_time": "2023-01-25T07:03:28.823Z"
   },
   {
    "duration": 11,
    "start_time": "2023-01-25T07:03:35.496Z"
   },
   {
    "duration": 11,
    "start_time": "2023-01-25T07:05:11.983Z"
   },
   {
    "duration": 28,
    "start_time": "2023-01-25T07:14:25.314Z"
   },
   {
    "duration": 26,
    "start_time": "2023-01-25T07:32:15.838Z"
   },
   {
    "duration": 23,
    "start_time": "2023-01-25T07:32:47.902Z"
   },
   {
    "duration": 28,
    "start_time": "2023-01-25T07:32:55.975Z"
   },
   {
    "duration": 32,
    "start_time": "2023-01-25T07:33:32.071Z"
   },
   {
    "duration": 25,
    "start_time": "2023-01-25T07:35:09.614Z"
   },
   {
    "duration": 35,
    "start_time": "2023-01-25T07:37:49.984Z"
   },
   {
    "duration": 26,
    "start_time": "2023-01-25T07:38:15.855Z"
   },
   {
    "duration": 63,
    "start_time": "2023-01-25T07:38:25.239Z"
   },
   {
    "duration": 25,
    "start_time": "2023-01-25T07:38:32.711Z"
   },
   {
    "duration": 22,
    "start_time": "2023-01-25T07:38:41.088Z"
   },
   {
    "duration": 25,
    "start_time": "2023-01-25T07:39:13.943Z"
   },
   {
    "duration": 781,
    "start_time": "2023-01-25T07:39:32.623Z"
   },
   {
    "duration": 30,
    "start_time": "2023-01-25T07:39:42.904Z"
   },
   {
    "duration": 29,
    "start_time": "2023-01-25T07:41:24.048Z"
   },
   {
    "duration": 28,
    "start_time": "2023-01-25T07:45:13.753Z"
   },
   {
    "duration": 29,
    "start_time": "2023-01-25T07:45:17.544Z"
   },
   {
    "duration": 27,
    "start_time": "2023-01-25T07:47:07.585Z"
   },
   {
    "duration": 28,
    "start_time": "2023-01-25T07:47:22.033Z"
   },
   {
    "duration": 27,
    "start_time": "2023-01-25T07:49:24.660Z"
   },
   {
    "duration": 7,
    "start_time": "2023-01-25T07:50:24.922Z"
   },
   {
    "duration": 736,
    "start_time": "2023-01-25T07:50:35.947Z"
   },
   {
    "duration": 718,
    "start_time": "2023-01-25T07:53:16.052Z"
   },
   {
    "duration": 31,
    "start_time": "2023-01-25T07:53:27.031Z"
   },
   {
    "duration": 728,
    "start_time": "2023-01-25T07:54:02.390Z"
   },
   {
    "duration": 755,
    "start_time": "2023-01-25T07:54:18.196Z"
   },
   {
    "duration": 39,
    "start_time": "2023-01-25T07:54:27.500Z"
   },
   {
    "duration": 34,
    "start_time": "2023-01-25T07:54:52.892Z"
   },
   {
    "duration": 751,
    "start_time": "2023-01-25T07:55:22.196Z"
   },
   {
    "duration": 33,
    "start_time": "2023-01-25T07:55:31.429Z"
   },
   {
    "duration": 28,
    "start_time": "2023-01-25T07:56:35.589Z"
   },
   {
    "duration": 32,
    "start_time": "2023-01-25T07:58:11.141Z"
   },
   {
    "duration": 458,
    "start_time": "2023-01-25T07:58:45.175Z"
   },
   {
    "duration": 29,
    "start_time": "2023-01-25T07:59:07.846Z"
   },
   {
    "duration": 34,
    "start_time": "2023-01-25T08:00:19.750Z"
   },
   {
    "duration": 30,
    "start_time": "2023-01-25T08:04:06.359Z"
   },
   {
    "duration": 826,
    "start_time": "2023-01-25T08:06:05.345Z"
   },
   {
    "duration": 26,
    "start_time": "2023-01-25T08:06:14.248Z"
   },
   {
    "duration": 26,
    "start_time": "2023-01-25T08:07:00.201Z"
   },
   {
    "duration": 26,
    "start_time": "2023-01-25T08:07:10.208Z"
   },
   {
    "duration": 27,
    "start_time": "2023-01-25T08:07:14.400Z"
   },
   {
    "duration": 32,
    "start_time": "2023-01-25T08:07:47.416Z"
   },
   {
    "duration": 28,
    "start_time": "2023-01-25T08:08:23.209Z"
   },
   {
    "duration": 26,
    "start_time": "2023-01-25T08:10:30.050Z"
   },
   {
    "duration": 29,
    "start_time": "2023-01-25T08:11:06.641Z"
   },
   {
    "duration": 25,
    "start_time": "2023-01-25T08:11:19.210Z"
   },
   {
    "duration": 39,
    "start_time": "2023-01-25T08:12:05.554Z"
   },
   {
    "duration": 28,
    "start_time": "2023-01-25T08:12:47.106Z"
   },
   {
    "duration": 27,
    "start_time": "2023-01-25T08:12:55.506Z"
   },
   {
    "duration": 31,
    "start_time": "2023-01-25T08:13:36.866Z"
   },
   {
    "duration": 4,
    "start_time": "2023-01-25T08:14:56.122Z"
   },
   {
    "duration": 45,
    "start_time": "2023-01-25T08:15:05.569Z"
   },
   {
    "duration": 8,
    "start_time": "2023-01-25T08:29:27.783Z"
   },
   {
    "duration": 8,
    "start_time": "2023-01-25T08:29:32.206Z"
   },
   {
    "duration": 9,
    "start_time": "2023-01-25T08:29:38.840Z"
   },
   {
    "duration": 20,
    "start_time": "2023-01-25T08:29:42.983Z"
   },
   {
    "duration": 43,
    "start_time": "2023-01-25T08:31:22.897Z"
   },
   {
    "duration": 7,
    "start_time": "2023-01-25T08:31:30.184Z"
   },
   {
    "duration": 24,
    "start_time": "2023-01-25T08:31:54.095Z"
   },
   {
    "duration": 6,
    "start_time": "2023-01-25T08:32:35.282Z"
   },
   {
    "duration": 48,
    "start_time": "2023-01-25T08:32:42.393Z"
   },
   {
    "duration": 7,
    "start_time": "2023-01-25T08:32:50.281Z"
   },
   {
    "duration": 5,
    "start_time": "2023-01-25T08:33:34.234Z"
   },
   {
    "duration": 4,
    "start_time": "2023-01-25T08:33:56.937Z"
   },
   {
    "duration": 527,
    "start_time": "2023-01-25T08:34:13.970Z"
   },
   {
    "duration": 6,
    "start_time": "2023-01-25T08:35:30.609Z"
   },
   {
    "duration": 527,
    "start_time": "2023-01-25T08:35:36.355Z"
   },
   {
    "duration": 23,
    "start_time": "2023-01-25T08:35:55.521Z"
   },
   {
    "duration": 8,
    "start_time": "2023-01-25T08:43:13.365Z"
   },
   {
    "duration": 31,
    "start_time": "2023-01-25T08:43:39.357Z"
   },
   {
    "duration": 9,
    "start_time": "2023-01-25T08:44:09.636Z"
   },
   {
    "duration": 77,
    "start_time": "2023-01-25T08:44:43.300Z"
   },
   {
    "duration": 65,
    "start_time": "2023-01-25T08:44:50.653Z"
   },
   {
    "duration": 73,
    "start_time": "2023-01-25T08:44:57.636Z"
   },
   {
    "duration": 81,
    "start_time": "2023-01-25T08:45:00.557Z"
   },
   {
    "duration": 84,
    "start_time": "2023-01-25T08:45:05.565Z"
   },
   {
    "duration": 70,
    "start_time": "2023-01-25T08:45:21.045Z"
   },
   {
    "duration": 70,
    "start_time": "2023-01-25T08:45:35.540Z"
   },
   {
    "duration": 84,
    "start_time": "2023-01-25T08:46:22.933Z"
   },
   {
    "duration": 75,
    "start_time": "2023-01-25T08:46:43.653Z"
   },
   {
    "duration": 727,
    "start_time": "2023-01-25T08:46:52.789Z"
   },
   {
    "duration": 83,
    "start_time": "2023-01-25T08:46:58.253Z"
   },
   {
    "duration": 37,
    "start_time": "2023-01-25T08:48:33.902Z"
   },
   {
    "duration": 42,
    "start_time": "2023-01-25T08:48:36.525Z"
   },
   {
    "duration": 91,
    "start_time": "2023-01-25T08:48:39.477Z"
   },
   {
    "duration": 71,
    "start_time": "2023-01-25T08:48:43.525Z"
   },
   {
    "duration": 65,
    "start_time": "2023-01-25T08:50:26.334Z"
   },
   {
    "duration": 25,
    "start_time": "2023-01-25T08:50:34.207Z"
   },
   {
    "duration": 25,
    "start_time": "2023-01-25T08:50:38.370Z"
   },
   {
    "duration": 574,
    "start_time": "2023-01-26T06:44:06.824Z"
   },
   {
    "duration": 30,
    "start_time": "2023-01-26T06:44:07.401Z"
   },
   {
    "duration": 5,
    "start_time": "2023-01-26T06:44:07.434Z"
   },
   {
    "duration": 27,
    "start_time": "2023-01-26T06:44:07.455Z"
   },
   {
    "duration": 33,
    "start_time": "2023-01-26T06:44:07.484Z"
   },
   {
    "duration": 62,
    "start_time": "2023-01-26T06:44:07.519Z"
   },
   {
    "duration": 5,
    "start_time": "2023-01-26T06:44:07.583Z"
   },
   {
    "duration": 15,
    "start_time": "2023-01-26T06:44:07.590Z"
   },
   {
    "duration": 10,
    "start_time": "2023-01-26T06:44:07.609Z"
   },
   {
    "duration": 9,
    "start_time": "2023-01-26T06:44:07.624Z"
   },
   {
    "duration": 5,
    "start_time": "2023-01-26T06:44:07.655Z"
   },
   {
    "duration": 54,
    "start_time": "2023-01-26T06:44:07.662Z"
   },
   {
    "duration": 10,
    "start_time": "2023-01-26T06:44:07.717Z"
   },
   {
    "duration": 4,
    "start_time": "2023-01-26T06:44:07.729Z"
   },
   {
    "duration": 30,
    "start_time": "2023-01-26T06:44:07.735Z"
   },
   {
    "duration": 26,
    "start_time": "2023-01-26T06:44:07.767Z"
   },
   {
    "duration": 19,
    "start_time": "2023-01-26T06:44:07.794Z"
   },
   {
    "duration": 3,
    "start_time": "2023-01-26T06:44:07.815Z"
   },
   {
    "duration": 33,
    "start_time": "2023-01-26T06:44:07.820Z"
   },
   {
    "duration": 6,
    "start_time": "2023-01-26T06:44:07.855Z"
   },
   {
    "duration": 6,
    "start_time": "2023-01-26T06:44:07.863Z"
   },
   {
    "duration": 13,
    "start_time": "2023-01-26T06:44:07.870Z"
   },
   {
    "duration": 22,
    "start_time": "2023-01-26T06:44:07.885Z"
   },
   {
    "duration": 53,
    "start_time": "2023-01-26T06:44:07.908Z"
   },
   {
    "duration": 28,
    "start_time": "2023-01-26T06:44:07.963Z"
   },
   {
    "duration": 30,
    "start_time": "2023-01-26T06:44:07.993Z"
   },
   {
    "duration": 54,
    "start_time": "2023-01-26T06:44:08.025Z"
   },
   {
    "duration": 9,
    "start_time": "2023-01-26T06:44:17.981Z"
   },
   {
    "duration": 69,
    "start_time": "2023-01-26T06:44:50.942Z"
   },
   {
    "duration": 26,
    "start_time": "2023-01-26T06:44:56.998Z"
   },
   {
    "duration": 20,
    "start_time": "2023-01-26T06:50:53.711Z"
   },
   {
    "duration": 16,
    "start_time": "2023-01-26T06:51:43.760Z"
   },
   {
    "duration": 23,
    "start_time": "2023-01-26T06:52:04.911Z"
   },
   {
    "duration": 43,
    "start_time": "2023-01-26T06:54:36.531Z"
   }
  ],
  "colab": {
   "name": "dpp_template_part2.ipynb",
   "provenance": []
  },
  "kernelspec": {
   "display_name": "Python 3 (ipykernel)",
   "language": "python",
   "name": "python3"
  },
  "language_info": {
   "codemirror_mode": {
    "name": "ipython",
    "version": 3
   },
   "file_extension": ".py",
   "mimetype": "text/x-python",
   "name": "python",
   "nbconvert_exporter": "python",
   "pygments_lexer": "ipython3",
   "version": "3.9.5"
  },
  "toc": {
   "base_numbering": 1,
   "nav_menu": {},
   "number_sections": true,
   "sideBar": true,
   "skip_h1_title": true,
   "title_cell": "Table of Contents",
   "title_sidebar": "Contents",
   "toc_cell": false,
   "toc_position": {},
   "toc_section_display": true,
   "toc_window_display": false
  }
 },
 "nbformat": 4,
 "nbformat_minor": 5
}
