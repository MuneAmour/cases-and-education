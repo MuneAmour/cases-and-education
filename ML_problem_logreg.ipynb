{
  "nbformat": 4,
  "nbformat_minor": 0,
  "metadata": {
    "colab": {
      "provenance": []
    },
    "kernelspec": {
      "name": "python3",
      "display_name": "Python 3"
    },
    "language_info": {
      "name": "python"
    }
  },
  "cells": [
    {
      "cell_type": "markdown",
      "source": [
        "Задача:\n",
        "\n",
        "Используя только логистическую регрессию необходимо достичь точности в 100%"
      ],
      "metadata": {
        "id": "h5wjcrgW676L"
      }
    },
    {
      "cell_type": "markdown",
      "source": [
        "Импорты"
      ],
      "metadata": {
        "id": "WEw-Th_O7UGW"
      }
    },
    {
      "cell_type": "code",
      "execution_count": 1,
      "metadata": {
        "id": "wbmawl8ermaM"
      },
      "outputs": [],
      "source": [
        "import numpy as np\n",
        "import pandas as pd\n",
        "\n",
        "from sklearn.preprocessing import StandardScaler, MinMaxScaler, PolynomialFeatures\n",
        "from sklearn.pipeline import Pipeline\n",
        "from sklearn.model_selection import train_test_split\n",
        "\n",
        "from sklearn.linear_model import LogisticRegression\n",
        "from sklearn.metrics import accuracy_score"
      ]
    },
    {
      "cell_type": "code",
      "source": [
        "x = np.array([[ 14.1045071 ,  -8.84201285,  11.92795253,  10.03525112,\n",
        "          1.        ],\n",
        "       [ 12.92517881,  -7.15096162,  12.27770352,  10.14551725,\n",
        "          0.        ],\n",
        "       [ 11.4415005 ,  -7.02107239,  11.95468206,   9.67503577,\n",
        "          0.        ],\n",
        "       [  9.760307  , -10.89008318,  12.06086788,  10.12557566,\n",
        "          1.        ],\n",
        "       [  9.75635735,  -9.10242256,  11.77429423,  10.27697556,\n",
        "          1.        ],\n",
        "       [ 11.45094082, -12.93838075,  11.90963693,  10.10075292,\n",
        "          0.        ],\n",
        "       [ 11.55070519,  -7.6348143 ,  11.95248132,  10.04204205,\n",
        "          1.        ],\n",
        "       [ 14.21377636, -12.05911538,  11.88569538,  10.83000588,\n",
        "          0.        ],\n",
        "       [  9.19423307,  -8.89199169,  11.9667496 ,   9.44503935,\n",
        "          0.        ],\n",
        "       [ 13.30127997, -12.02643867,  12.16383035,  10.2869096 ,\n",
        "          1.        ],\n",
        "       [ 10.08626013,  -7.67476205,  11.98344696,   9.9130986 ,\n",
        "          0.        ],\n",
        "       [ 10.06113018, -11.41554047,  12.05107694,  10.29845476,\n",
        "          1.        ],\n",
        "       [ 14.97195804, -10.00762098,  11.94963811,   9.99594818,\n",
        "          0.        ],\n",
        "       [ 14.21484961,  -7.94275796,  12.10190604,  10.18960329,\n",
        "          0.        ],\n",
        "       [ 14.32304338, -10.58379987,  11.93882847,  10.0712306 ,\n",
        "          1.        ],\n",
        "       [  9.59187554,  -8.2299092 ,  12.09781452,   9.86790174,\n",
        "          0.        ],\n",
        "       [ 10.48012568,  -8.16953586,  12.0087842 ,   9.55160614,\n",
        "          1.        ],\n",
        "       [ 13.28912495,  -7.96981417,  11.96385095,   9.29290971,\n",
        "          1.        ],\n",
        "       [ 10.97308148,  -7.81885567,  12.03911568,  10.61159965,\n",
        "          1.        ],\n",
        "       [ 10.04847858,  -8.58005153,  11.93645835,  10.47094325,\n",
        "          1.        ],\n",
        "       [  9.56139272, -11.7389407 ,  11.84643243,  10.57172613,\n",
        "          0.        ],\n",
        "       [ 12.90726914, -12.85400039,  11.94221847,  10.40850501,\n",
        "          0.        ],\n",
        "       [ 10.72489837,  -7.28771447,  12.10701306,   9.62685383,\n",
        "          0.        ],\n",
        "       [ 10.12092921, -12.31233449,  12.01538382,   8.76827368,\n",
        "          0.        ],\n",
        "       [  9.60477836,  -9.71733107,  12.01068143,  10.01653395,\n",
        "          1.        ],\n",
        "       [ 14.40480879,  -9.99896483,  11.98520159,  11.19238274,\n",
        "          1.        ],\n",
        "       [ 12.15174676, -12.40418459,  11.92193296,   9.20191439,\n",
        "          1.        ],\n",
        "       [ 10.74323574, -12.71771795,  12.0264107 ,  10.2284348 ,\n",
        "          0.        ],\n",
        "       [  9.2059039 , -11.09844621,  12.08170508,   9.39457665,\n",
        "          0.        ],\n",
        "       [ 14.89454   , -10.76527593,  12.03163412,   9.82054326,\n",
        "          0.        ],\n",
        "       [ 14.92889948,  -9.25060437,  12.11897106,   9.70507846,\n",
        "          0.        ],\n",
        "       [ 13.59162656, -12.54646874,  11.7635438 ,   9.81110764,\n",
        "          0.        ],\n",
        "       [ 12.17108062,  -7.03399081,  11.97229948,   9.75855796,\n",
        "          0.        ],\n",
        "       [ 12.75207654,  -7.73179092,  12.17398392,  10.05201742,\n",
        "          1.        ],\n",
        "       [ 14.61991493,  -8.53655219,  11.98957702,   9.57136889,\n",
        "          0.        ],\n",
        "       [ 14.1114866 , -11.14788585,  12.03760293,   9.9940323 ,\n",
        "          1.        ],\n",
        "       [ 11.5683851 , -12.35686414,  11.9434256 ,   9.95440127,\n",
        "          1.        ],\n",
        "       [ 12.14580098,  -7.62496044,  11.94622858,  10.355433  ,\n",
        "          1.        ],\n",
        "       [  9.63159633, -10.30147305,  12.02880271,  10.14716262,\n",
        "          1.        ],\n",
        "       [  9.01355891,  -9.63482138,  11.99543576,  10.20326111,\n",
        "          0.        ],\n",
        "       [ 13.76784131,  -8.35463064,  12.01458929,  10.00584986,\n",
        "          1.        ],\n",
        "       [ 12.74518651, -12.25448263,  11.98921512,   9.20234166,\n",
        "          1.        ],\n",
        "       [ 10.99481826, -12.17446641,  11.87663443,  10.27633606,\n",
        "          1.        ],\n",
        "       [ 12.19754579, -12.97443847,  11.91489843,  10.62554275,\n",
        "          0.        ],\n",
        "       [  9.01578722, -10.37555822,  11.94892041,  10.23553828,\n",
        "          0.        ],\n",
        "       [ 13.59693322,  -7.4637299 ,  11.88805974,   9.30992185,\n",
        "          0.        ],\n",
        "       [ 14.31873403,  -9.41214338,  12.1972719 ,  10.58115988,\n",
        "          1.        ],\n",
        "       [ 10.49219386, -11.86112432,  11.92899595,  10.51450146,\n",
        "          1.        ],\n",
        "       [ 13.76722144, -11.61981822,  11.98280592,   9.81121508,\n",
        "          1.        ],\n",
        "       [ 14.65735543, -11.47014874,  12.09581318,   9.85987108,\n",
        "          0.        ]])"
      ],
      "metadata": {
        "id": "r4ajDsZSrobm"
      },
      "execution_count": 3,
      "outputs": []
    },
    {
      "cell_type": "code",
      "source": [
        "# Binary classification task\n",
        "# label is target\n",
        "# f1, f2, f3, f4 are features\n",
        "df = pd.DataFrame(x, columns=[\"f1\", \"f2\", \"f3\", \"f4\", \"label\"]).sample(frac=1)\n",
        "df.head(5)"
      ],
      "metadata": {
        "id": "SrmluTptrpOo",
        "outputId": "629844cb-8934-494e-c388-e5054a83dc30",
        "colab": {
          "base_uri": "https://localhost:8080/",
          "height": 206
        }
      },
      "execution_count": 5,
      "outputs": [
        {
          "output_type": "execute_result",
          "data": {
            "text/plain": [
              "           f1         f2         f3         f4  label\n",
              "35  14.111487 -11.147886  12.037603   9.994032    1.0\n",
              "4    9.756357  -9.102423  11.774294  10.276976    1.0\n",
              "23  10.120929 -12.312334  12.015384   8.768274    0.0\n",
              "38   9.631596 -10.301473  12.028803  10.147163    1.0\n",
              "44   9.015787 -10.375558  11.948920  10.235538    0.0"
            ],
            "text/html": [
              "\n",
              "  <div id=\"df-52a59007-5fdc-421f-8713-91666b380bf9\" class=\"colab-df-container\">\n",
              "    <div>\n",
              "<style scoped>\n",
              "    .dataframe tbody tr th:only-of-type {\n",
              "        vertical-align: middle;\n",
              "    }\n",
              "\n",
              "    .dataframe tbody tr th {\n",
              "        vertical-align: top;\n",
              "    }\n",
              "\n",
              "    .dataframe thead th {\n",
              "        text-align: right;\n",
              "    }\n",
              "</style>\n",
              "<table border=\"1\" class=\"dataframe\">\n",
              "  <thead>\n",
              "    <tr style=\"text-align: right;\">\n",
              "      <th></th>\n",
              "      <th>f1</th>\n",
              "      <th>f2</th>\n",
              "      <th>f3</th>\n",
              "      <th>f4</th>\n",
              "      <th>label</th>\n",
              "    </tr>\n",
              "  </thead>\n",
              "  <tbody>\n",
              "    <tr>\n",
              "      <th>35</th>\n",
              "      <td>14.111487</td>\n",
              "      <td>-11.147886</td>\n",
              "      <td>12.037603</td>\n",
              "      <td>9.994032</td>\n",
              "      <td>1.0</td>\n",
              "    </tr>\n",
              "    <tr>\n",
              "      <th>4</th>\n",
              "      <td>9.756357</td>\n",
              "      <td>-9.102423</td>\n",
              "      <td>11.774294</td>\n",
              "      <td>10.276976</td>\n",
              "      <td>1.0</td>\n",
              "    </tr>\n",
              "    <tr>\n",
              "      <th>23</th>\n",
              "      <td>10.120929</td>\n",
              "      <td>-12.312334</td>\n",
              "      <td>12.015384</td>\n",
              "      <td>8.768274</td>\n",
              "      <td>0.0</td>\n",
              "    </tr>\n",
              "    <tr>\n",
              "      <th>38</th>\n",
              "      <td>9.631596</td>\n",
              "      <td>-10.301473</td>\n",
              "      <td>12.028803</td>\n",
              "      <td>10.147163</td>\n",
              "      <td>1.0</td>\n",
              "    </tr>\n",
              "    <tr>\n",
              "      <th>44</th>\n",
              "      <td>9.015787</td>\n",
              "      <td>-10.375558</td>\n",
              "      <td>11.948920</td>\n",
              "      <td>10.235538</td>\n",
              "      <td>0.0</td>\n",
              "    </tr>\n",
              "  </tbody>\n",
              "</table>\n",
              "</div>\n",
              "    <div class=\"colab-df-buttons\">\n",
              "\n",
              "  <div class=\"colab-df-container\">\n",
              "    <button class=\"colab-df-convert\" onclick=\"convertToInteractive('df-52a59007-5fdc-421f-8713-91666b380bf9')\"\n",
              "            title=\"Convert this dataframe to an interactive table.\"\n",
              "            style=\"display:none;\">\n",
              "\n",
              "  <svg xmlns=\"http://www.w3.org/2000/svg\" height=\"24px\" viewBox=\"0 -960 960 960\">\n",
              "    <path d=\"M120-120v-720h720v720H120Zm60-500h600v-160H180v160Zm220 220h160v-160H400v160Zm0 220h160v-160H400v160ZM180-400h160v-160H180v160Zm440 0h160v-160H620v160ZM180-180h160v-160H180v160Zm440 0h160v-160H620v160Z\"/>\n",
              "  </svg>\n",
              "    </button>\n",
              "\n",
              "  <style>\n",
              "    .colab-df-container {\n",
              "      display:flex;\n",
              "      gap: 12px;\n",
              "    }\n",
              "\n",
              "    .colab-df-convert {\n",
              "      background-color: #E8F0FE;\n",
              "      border: none;\n",
              "      border-radius: 50%;\n",
              "      cursor: pointer;\n",
              "      display: none;\n",
              "      fill: #1967D2;\n",
              "      height: 32px;\n",
              "      padding: 0 0 0 0;\n",
              "      width: 32px;\n",
              "    }\n",
              "\n",
              "    .colab-df-convert:hover {\n",
              "      background-color: #E2EBFA;\n",
              "      box-shadow: 0px 1px 2px rgba(60, 64, 67, 0.3), 0px 1px 3px 1px rgba(60, 64, 67, 0.15);\n",
              "      fill: #174EA6;\n",
              "    }\n",
              "\n",
              "    .colab-df-buttons div {\n",
              "      margin-bottom: 4px;\n",
              "    }\n",
              "\n",
              "    [theme=dark] .colab-df-convert {\n",
              "      background-color: #3B4455;\n",
              "      fill: #D2E3FC;\n",
              "    }\n",
              "\n",
              "    [theme=dark] .colab-df-convert:hover {\n",
              "      background-color: #434B5C;\n",
              "      box-shadow: 0px 1px 3px 1px rgba(0, 0, 0, 0.15);\n",
              "      filter: drop-shadow(0px 1px 2px rgba(0, 0, 0, 0.3));\n",
              "      fill: #FFFFFF;\n",
              "    }\n",
              "  </style>\n",
              "\n",
              "    <script>\n",
              "      const buttonEl =\n",
              "        document.querySelector('#df-52a59007-5fdc-421f-8713-91666b380bf9 button.colab-df-convert');\n",
              "      buttonEl.style.display =\n",
              "        google.colab.kernel.accessAllowed ? 'block' : 'none';\n",
              "\n",
              "      async function convertToInteractive(key) {\n",
              "        const element = document.querySelector('#df-52a59007-5fdc-421f-8713-91666b380bf9');\n",
              "        const dataTable =\n",
              "          await google.colab.kernel.invokeFunction('convertToInteractive',\n",
              "                                                    [key], {});\n",
              "        if (!dataTable) return;\n",
              "\n",
              "        const docLinkHtml = 'Like what you see? Visit the ' +\n",
              "          '<a target=\"_blank\" href=https://colab.research.google.com/notebooks/data_table.ipynb>data table notebook</a>'\n",
              "          + ' to learn more about interactive tables.';\n",
              "        element.innerHTML = '';\n",
              "        dataTable['output_type'] = 'display_data';\n",
              "        await google.colab.output.renderOutput(dataTable, element);\n",
              "        const docLink = document.createElement('div');\n",
              "        docLink.innerHTML = docLinkHtml;\n",
              "        element.appendChild(docLink);\n",
              "      }\n",
              "    </script>\n",
              "  </div>\n",
              "\n",
              "\n",
              "<div id=\"df-47308a4b-99cd-4eee-9b20-ee7525a21c0c\">\n",
              "  <button class=\"colab-df-quickchart\" onclick=\"quickchart('df-47308a4b-99cd-4eee-9b20-ee7525a21c0c')\"\n",
              "            title=\"Suggest charts\"\n",
              "            style=\"display:none;\">\n",
              "\n",
              "<svg xmlns=\"http://www.w3.org/2000/svg\" height=\"24px\"viewBox=\"0 0 24 24\"\n",
              "     width=\"24px\">\n",
              "    <g>\n",
              "        <path d=\"M19 3H5c-1.1 0-2 .9-2 2v14c0 1.1.9 2 2 2h14c1.1 0 2-.9 2-2V5c0-1.1-.9-2-2-2zM9 17H7v-7h2v7zm4 0h-2V7h2v10zm4 0h-2v-4h2v4z\"/>\n",
              "    </g>\n",
              "</svg>\n",
              "  </button>\n",
              "\n",
              "<style>\n",
              "  .colab-df-quickchart {\n",
              "      --bg-color: #E8F0FE;\n",
              "      --fill-color: #1967D2;\n",
              "      --hover-bg-color: #E2EBFA;\n",
              "      --hover-fill-color: #174EA6;\n",
              "      --disabled-fill-color: #AAA;\n",
              "      --disabled-bg-color: #DDD;\n",
              "  }\n",
              "\n",
              "  [theme=dark] .colab-df-quickchart {\n",
              "      --bg-color: #3B4455;\n",
              "      --fill-color: #D2E3FC;\n",
              "      --hover-bg-color: #434B5C;\n",
              "      --hover-fill-color: #FFFFFF;\n",
              "      --disabled-bg-color: #3B4455;\n",
              "      --disabled-fill-color: #666;\n",
              "  }\n",
              "\n",
              "  .colab-df-quickchart {\n",
              "    background-color: var(--bg-color);\n",
              "    border: none;\n",
              "    border-radius: 50%;\n",
              "    cursor: pointer;\n",
              "    display: none;\n",
              "    fill: var(--fill-color);\n",
              "    height: 32px;\n",
              "    padding: 0;\n",
              "    width: 32px;\n",
              "  }\n",
              "\n",
              "  .colab-df-quickchart:hover {\n",
              "    background-color: var(--hover-bg-color);\n",
              "    box-shadow: 0 1px 2px rgba(60, 64, 67, 0.3), 0 1px 3px 1px rgba(60, 64, 67, 0.15);\n",
              "    fill: var(--button-hover-fill-color);\n",
              "  }\n",
              "\n",
              "  .colab-df-quickchart-complete:disabled,\n",
              "  .colab-df-quickchart-complete:disabled:hover {\n",
              "    background-color: var(--disabled-bg-color);\n",
              "    fill: var(--disabled-fill-color);\n",
              "    box-shadow: none;\n",
              "  }\n",
              "\n",
              "  .colab-df-spinner {\n",
              "    border: 2px solid var(--fill-color);\n",
              "    border-color: transparent;\n",
              "    border-bottom-color: var(--fill-color);\n",
              "    animation:\n",
              "      spin 1s steps(1) infinite;\n",
              "  }\n",
              "\n",
              "  @keyframes spin {\n",
              "    0% {\n",
              "      border-color: transparent;\n",
              "      border-bottom-color: var(--fill-color);\n",
              "      border-left-color: var(--fill-color);\n",
              "    }\n",
              "    20% {\n",
              "      border-color: transparent;\n",
              "      border-left-color: var(--fill-color);\n",
              "      border-top-color: var(--fill-color);\n",
              "    }\n",
              "    30% {\n",
              "      border-color: transparent;\n",
              "      border-left-color: var(--fill-color);\n",
              "      border-top-color: var(--fill-color);\n",
              "      border-right-color: var(--fill-color);\n",
              "    }\n",
              "    40% {\n",
              "      border-color: transparent;\n",
              "      border-right-color: var(--fill-color);\n",
              "      border-top-color: var(--fill-color);\n",
              "    }\n",
              "    60% {\n",
              "      border-color: transparent;\n",
              "      border-right-color: var(--fill-color);\n",
              "    }\n",
              "    80% {\n",
              "      border-color: transparent;\n",
              "      border-right-color: var(--fill-color);\n",
              "      border-bottom-color: var(--fill-color);\n",
              "    }\n",
              "    90% {\n",
              "      border-color: transparent;\n",
              "      border-bottom-color: var(--fill-color);\n",
              "    }\n",
              "  }\n",
              "</style>\n",
              "\n",
              "  <script>\n",
              "    async function quickchart(key) {\n",
              "      const quickchartButtonEl =\n",
              "        document.querySelector('#' + key + ' button');\n",
              "      quickchartButtonEl.disabled = true;  // To prevent multiple clicks.\n",
              "      quickchartButtonEl.classList.add('colab-df-spinner');\n",
              "      try {\n",
              "        const charts = await google.colab.kernel.invokeFunction(\n",
              "            'suggestCharts', [key], {});\n",
              "      } catch (error) {\n",
              "        console.error('Error during call to suggestCharts:', error);\n",
              "      }\n",
              "      quickchartButtonEl.classList.remove('colab-df-spinner');\n",
              "      quickchartButtonEl.classList.add('colab-df-quickchart-complete');\n",
              "    }\n",
              "    (() => {\n",
              "      let quickchartButtonEl =\n",
              "        document.querySelector('#df-47308a4b-99cd-4eee-9b20-ee7525a21c0c button');\n",
              "      quickchartButtonEl.style.display =\n",
              "        google.colab.kernel.accessAllowed ? 'block' : 'none';\n",
              "    })();\n",
              "  </script>\n",
              "</div>\n",
              "    </div>\n",
              "  </div>\n"
            ],
            "application/vnd.google.colaboratory.intrinsic+json": {
              "type": "dataframe",
              "variable_name": "df",
              "summary": "{\n  \"name\": \"df\",\n  \"rows\": 50,\n  \"fields\": [\n    {\n      \"column\": \"f1\",\n      \"properties\": {\n        \"dtype\": \"number\",\n        \"std\": 1.9421544833650672,\n        \"min\": 9.01355891,\n        \"max\": 14.97195804,\n        \"num_unique_values\": 50,\n        \"samples\": [\n          11.55070519,\n          14.92889948,\n          10.08626013\n        ],\n        \"semantic_type\": \"\",\n        \"description\": \"\"\n      }\n    },\n    {\n      \"column\": \"f2\",\n      \"properties\": {\n        \"dtype\": \"number\",\n        \"std\": 1.939948952910071,\n        \"min\": -12.97443847,\n        \"max\": -7.02107239,\n        \"num_unique_values\": 50,\n        \"samples\": [\n          -7.6348143,\n          -9.25060437,\n          -7.67476205\n        ],\n        \"semantic_type\": \"\",\n        \"description\": \"\"\n      }\n    },\n    {\n      \"column\": \"f3\",\n      \"properties\": {\n        \"dtype\": \"number\",\n        \"std\": 0.09890147046941238,\n        \"min\": 11.7635438,\n        \"max\": 12.27770352,\n        \"num_unique_values\": 50,\n        \"samples\": [\n          11.95248132,\n          12.11897106,\n          11.98344696\n        ],\n        \"semantic_type\": \"\",\n        \"description\": \"\"\n      }\n    },\n    {\n      \"column\": \"f4\",\n      \"properties\": {\n        \"dtype\": \"number\",\n        \"std\": 0.45785977283958007,\n        \"min\": 8.76827368,\n        \"max\": 11.19238274,\n        \"num_unique_values\": 50,\n        \"samples\": [\n          10.04204205,\n          9.70507846,\n          9.9130986\n        ],\n        \"semantic_type\": \"\",\n        \"description\": \"\"\n      }\n    },\n    {\n      \"column\": \"label\",\n      \"properties\": {\n        \"dtype\": \"number\",\n        \"std\": 0.5050762722761054,\n        \"min\": 0.0,\n        \"max\": 1.0,\n        \"num_unique_values\": 2,\n        \"samples\": [\n          0.0,\n          1.0\n        ],\n        \"semantic_type\": \"\",\n        \"description\": \"\"\n      }\n    }\n  ]\n}"
            }
          },
          "metadata": {},
          "execution_count": 5
        }
      ]
    },
    {
      "cell_type": "markdown",
      "source": [
        "Данные представлены 4 фичами + целевая переменная.\n",
        "\n",
        "Данные не имеют выбросов или пропущенных значений."
      ],
      "metadata": {
        "id": "x9iKqQ2Z7m3V"
      }
    },
    {
      "cell_type": "code",
      "source": [
        "RANDOM_STATE = 123456\n",
        "features = df.drop(columns = ['label'], axis = 1)\n",
        "target = df['label']\n",
        "\n",
        "features_train, features_test, target_train, target_test = train_test_split(features, target, test_size = 0.25, random_state = RANDOM_STATE)"
      ],
      "metadata": {
        "id": "pd3oo6B0fcqt"
      },
      "execution_count": 27,
      "outputs": []
    },
    {
      "cell_type": "markdown",
      "source": [
        "Разделим датасет на обучающую выборку и тестовую, в соотношении 72/25, Shuffle = True указывать не будем, тк при создании таблицы мы перемешали все значения."
      ],
      "metadata": {
        "id": "q0bjiXtO8mHK"
      }
    },
    {
      "cell_type": "code",
      "source": [
        "column_names = ['f1', 'f2', 'f3', 'f4']\n",
        "\n",
        "# df = pd.DataFrame(features_train, columns=column_names)\n",
        "\n",
        "from matplotlib import pyplot as plt\n",
        "from mpl_toolkits.mplot3d import Axes3D\n",
        "\n",
        "fig = plt.figure()\n",
        "ax = fig.add_subplot(111, projection='3d')\n",
        "\n",
        "ax.scatter(df['f1'], df['f2'], df['label'], s=32, alpha=.8)\n",
        "\n",
        "ax.xaxis.line.set_visible(False)\n",
        "ax.yaxis.line.set_visible(False)\n",
        "ax.zaxis.line.set_visible(False)\n",
        "\n",
        "plt.show()\n"
      ],
      "metadata": {
        "colab": {
          "base_uri": "https://localhost:8080/",
          "height": 416
        },
        "id": "DHg1f11NIDpV",
        "outputId": "7e319fd6-4e68-47bc-b864-767e86750ca1"
      },
      "execution_count": 6,
      "outputs": [
        {
          "output_type": "display_data",
          "data": {
            "text/plain": [
              "<Figure size 640x480 with 1 Axes>"
            ],
            "image/png": "[encoded data removed]"
          },
          "metadata": {}
        }
      ]
    },
    {
      "cell_type": "markdown",
      "source": [
        "Как можно заметить, отношение фичей f1 и f2 на трехмерной плоскости, где третья представлена переменной label, можно четко увидеть, что наблюдается нелинейная связь."
      ],
      "metadata": {
        "id": "FEzNacEE9o0D"
      }
    },
    {
      "cell_type": "code",
      "source": [
        "# Создание пайплайна с последовательным применением полиномиального преобразования, стандартизации и нормализации\n",
        "poly_preprocessing_pipeline = Pipeline([\n",
        "    ('poly_features', PolynomialFeatures(degree=2)),  # Полиномиальное преобразование\n",
        "    # ('scaler', StandardScaler()),  # Стандартизация\n",
        "    # ('normalizer', MinMaxScaler()),  # Нормализация\n",
        "])\n",
        "\n",
        "# Обучение пайплайна на обучающих данных\n",
        "poly_preprocessing_pipeline.fit(features_train)\n",
        "\n",
        "# Преобразование обучающих данных с помощью обученного пайплайна\n",
        "features_train_transformed = poly_preprocessing_pipeline.transform(features_train)\n",
        "\n",
        "# Преобразование тестовых данных с помощью обученного пайплайна\n",
        "features_test_transformed = poly_preprocessing_pipeline.transform(features_test)\n"
      ],
      "metadata": {
        "id": "wvtBWEF2SDC9"
      },
      "execution_count": 28,
      "outputs": []
    },
    {
      "cell_type": "markdown",
      "source": [
        "Из имеющегося \"Джентельменского набора\" для линейных моделей, состоящего из нормализации, стандартизации и полиноминализации фичей выбор остановился на полиноминализации данных, в силу того, что в данных присутствуют нелинейные связи (см. график выше)"
      ],
      "metadata": {
        "id": "xTOOzSBr80xP"
      }
    },
    {
      "cell_type": "code",
      "source": [
        "model = LogisticRegression()\n",
        "\n",
        "model.fit(features_train_transformed, target_train)\n",
        "\n",
        "prediction_train = model.predict(features_train_transformed)\n",
        "prediction_test = model.predict(features_test_transformed)\n",
        "\n",
        "accuracy_train = accuracy_score(target_train, prediction_train)\n",
        "accuracy_test = accuracy_score(target_test, prediction_test)\n",
        "\n",
        "print(f'Точность на обучающем наборе данных составляет {accuracy_train:.02f}')\n",
        "\n",
        "print(f'Точность на тестовом наборе данных составляет {accuracy_test:.02f}')"
      ],
      "metadata": {
        "colab": {
          "base_uri": "https://localhost:8080/"
        },
        "id": "YsAmy_g9RtCU",
        "outputId": "49a1a334-0257-4b39-ee90-205b3ff1ffc0"
      },
      "execution_count": 29,
      "outputs": [
        {
          "output_type": "stream",
          "name": "stdout",
          "text": [
            "Точность на обучающем наборе данных составляет 1.00\n",
            "Точность на тестовом наборе данных составляет 1.00\n"
          ]
        },
        {
          "output_type": "stream",
          "name": "stderr",
          "text": [
            "/usr/local/lib/python3.10/dist-packages/sklearn/linear_model/_logistic.py:458: ConvergenceWarning: lbfgs failed to converge (status=1):\n",
            "STOP: TOTAL NO. of ITERATIONS REACHED LIMIT.\n",
            "\n",
            "Increase the number of iterations (max_iter) or scale the data as shown in:\n",
            "    https://scikit-learn.org/stable/modules/preprocessing.html\n",
            "Please also refer to the documentation for alternative solver options:\n",
            "    https://scikit-learn.org/stable/modules/linear_model.html#logistic-regression\n",
            "  n_iter_i = _check_optimize_result(\n"
          ]
        }
      ]
    },
    {
      "cell_type": "markdown",
      "source": [
        "Задача решена. Без применения полиноминализации переменных максимальная точность на данном наборе данных составляет 38%, однако \"развязав нелинейность связей\" мы смогли достичь необходимой точности."
      ],
      "metadata": {
        "id": "Mh53R0a4-FEi"
      }
    }
  ]
}