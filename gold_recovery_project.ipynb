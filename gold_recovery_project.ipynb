{
 "cells": [
  {
   "cell_type": "markdown",
   "id": "0d8fab84",
   "metadata": {},
   "source": [
    "<style>\n",
    ".alert-purple {\n",
    "  color: #fff;\n",
    "  background-color: #800080;\n",
    "  border-color: #800080;\n",
    "  padding: 1rem;\n",
    "  border-radius: 0.25rem;\n",
    "}\n",
    "</style>\n"
   ]
  },
  {
   "cell_type": "markdown",
   "id": "7ebac63f",
   "metadata": {},
   "source": [
    "<div class=\"alert alert-success\">\n",
    "<font size=\"4\"><b>✔️ Комментарий ревьюера V3</b></font>\n",
    "    <br /> \n",
    "    <font size=\"3\", color = \"black\">\n",
    "<br />\n",
    "Добрый вечер.\n",
    "\n",
    "Начну с хорошего. Проект принимаю. Поздравляю с очередным пройденным модулем обучения! 🎉"
   ]
  },
  {
   "cell_type": "markdown",
   "id": "d5c938fd",
   "metadata": {},
   "source": [
    "<div class=\"alert alert-warning\">\n",
    "<font size=\"4\"><b>⚠️ Комментарий ревьюера V3</b></font>\n",
    "    <br /> \n",
    "    <font size=\"3\", color = \"black\">\n",
    "<br />\n",
    "Из того, что я бы попросил тебя исправить, если бы был чуть более кровожадным ревьюером:\n",
    "\n",
    "Меньшее из зол: сетку гиперпараметров ты всё ещё иногда делаешь как-то странно )\n",
    "\n",
    "Большее из зол: сомнительная последовательность шагов. Смотри, кросс-валидация служит не только для того, чтобы подобрать оптимальные гиперпараметры, но и для того, чтобы понять какая модель лучшая. В общем-то, обычная валидация на отложенной выборке, служит для этих же целей. То есть мы должны все модель прогнать через кросс-валидацию, и на тестовой проверять только ту, которая показала лучший результат. Ты же не будешь в продакшен сразу модели выкатывать? Вот и тестируем мы только лучшее. Тестовая выборка служит не для того, чтобы отобрать модель, это как раз задача валидации. Тестовая - для того, чтобы проверить, что отобранная модель не теряет в качестве на новых данных. И только.\n",
    "\n",
    "Для линейных моделей ты почему-то не сделал кросс-валидацию. Если потому что решил, что суть кросс-валидации - только в том, чтобы подбирать гиперпараметры, то, как я объяснил выше, ты неправ. Если же не знаешь как организовать кросс-валидацию, если нет подбора гиперпараметров, то есть 2 простых пути:\n",
    "\n",
    "1. Просто указать пустую сетку гиперпараметров, {}\n",
    "\n",
    "2. Использовать функцию <a href=\"https://scikit-learn.org/stable/modules/generated/sklearn.model_selection.cross_val_score.html\">cross_val_score</a>: передаёшь модель, фичи, таргеты, скорер (если надо), он в ответ - метрики кросс-валидаии. Берёшь от них среднее - получаешь аналог .best_score_\n",
    "\n",
    "Пока за это всё ставлю жёлтый. Впредь будь очень внимательным к этому: мы все модели должны проверить либо на валидационной выборке, либо кросс-валидацией. Не важно, подбираются гиперпараметры или нет."
   ]
  },
  {
   "cell_type": "markdown",
   "id": "cd1b02ac",
   "metadata": {},
   "source": [
    "<div class=\"alert alert-info\">\n",
    "<font size=\"4\">🍕<b> Комментарий ревьюера V2</b></font>\n",
    "    <br /> \n",
    "    <font size=\"3\", color = \"black\">\n",
    "<br />\n",
    "Приветствую ещё раз!\n",
    "\n",
    "Сейчас почти всё хорошо. Единственный момент - ты используешь не тот скорер в кросс-валидации. Надо создать свой, на основе функции smape. Ссылка на нужную для этого функции - в комментарии.\n",
    "\n",
    "Создаёшь свой кастомный smape-скорер, передаёшь его в кросс-валидацию везде в проекте - ты великолепен, проект принят )\n",
    "\n",
    "План прост, потому красив  🙂"
   ]
  },
  {
   "cell_type": "markdown",
   "id": "144b0528",
   "metadata": {},
   "source": [
    "<div class=\"alert alert-info\">\n",
    "<font size=\"4\"><b>Комментарий ревьюера</b></font>\n",
    "    <br /> \n",
    "    <font size=\"3\", color = \"black\">\n",
    "<br />\n",
    "    Привет, Олег! Спасибо, что прислал задание :) <br>Меня зовут Никита Сон и я буду проверять твой проект. Предлагаю обращаться друг к другу на ты, как это принято в Практикуме, если ты не против. Но если хочешь на Вы - не буду возражать 🙂\n",
    "        \n",
    "Поехали 🚀\n",
    "    <br />\n",
    "\n",
    "Мои комментарии обозначены пометкой <b>Комментарий ревьюера</b>. При внесении правок в проект, пожалуйста, не меняй и не удаляй их т.к. дальнейшая проверка будет происходить в том числе на основе того, исправлены замечания в комментариях или нет. Зато ты всегда можешь оставить свои комментарии для меня :)\n",
    "    </font>\n",
    "</div>\n",
    "\n",
    "<div class=\"alert alert-success\">\n",
    "<font size=\"4\"><b>✔️ Комментарий ревьюера</b></font>\n",
    "    <br /> \n",
    "    <font size=\"3\", color = \"black\">\n",
    "<br />\n",
    "В зелёных блоках будут позитивные комментарии\n",
    "<br />\n",
    "    </font>\n",
    "</div>\n",
    "\n",
    "<div class=\"alert alert-warning\">\n",
    "<font size=\"4\"><b>⚠️ Комментарий ревьюера</b></font>\n",
    "    <br /> \n",
    "    <font size=\"3\", color = \"black\">\n",
    "<br />\n",
    "В жёлтых - некритичные замечания\n",
    "    </font>\n",
    "</div>\n",
    "\n",
    "<div class=\"alert alert-danger\">\n",
    "<font size=\"4\"><b>❌ Комментарий ревьюера</b></font>\n",
    "    <br /> \n",
    "    <font size=\"3\", color = \"black\">\n",
    "<br /> \n",
    "В красных - важные замечания, которые надо обязательно устранить\n",
    "    </font>\n",
    "</div>\n",
    "\n",
    "<div class=\"alert alert-info\">\n",
    "<font size=\"4\">🍕<b> Комментарий ревьюера</b></font>\n",
    "    <br /> \n",
    "    <font size=\"3\", color = \"black\">\n",
    "<br /> \n",
    "В синих с пиццей - различные нейтральные сообщения, советы на будещее и прочее.\n",
    "    </font>\n",
    "</div>"
   ]
  },
  {
   "cell_type": "markdown",
   "id": "c7bc7bc5",
   "metadata": {},
   "source": [
    "<h1>Содержание<span class=\"tocSkip\"></span></h1>\n",
    "<div class=\"toc\"><ul class=\"toc-item\"><li><span><a href=\"#Подготовка-данных\" data-toc-modified-id=\"Подготовка-данных-1\"><span class=\"toc-item-num\">1&nbsp;&nbsp;</span>Подготовка данных</a></span></li><li><span><a href=\"#Анализ-данных\" data-toc-modified-id=\"Анализ-данных-2\"><span class=\"toc-item-num\">2&nbsp;&nbsp;</span>Анализ данных</a></span></li><li><span><a href=\"#Модель\" data-toc-modified-id=\"Модель-3\"><span class=\"toc-item-num\">3&nbsp;&nbsp;</span>Модель</a></span></li><li><span><a href=\"#Чек-лист-готовности-проекта\" data-toc-modified-id=\"Чек-лист-готовности-проекта-4\"><span class=\"toc-item-num\">4&nbsp;&nbsp;</span>Чек-лист готовности проекта</a></span></li></ul></div>"
   ]
  },
  {
   "cell_type": "markdown",
   "id": "ea1fc477",
   "metadata": {},
   "source": [
    "# Восстановление золота из руды\n"
   ]
  },
  {
   "cell_type": "markdown",
   "id": "a13079a3",
   "metadata": {},
   "source": [
    "Подготовьте прототип модели машинного обучения для «Цифры». Компания разрабатывает решения для эффективной работы промышленных предприятий.\n",
    "\n",
    "Модель должна предсказать коэффициент восстановления золота из золотосодержащей руды. Используйте данные с параметрами добычи и очистки. \n",
    "\n",
    "Модель поможет оптимизировать производство, чтобы не запускать предприятие с убыточными характеристиками.\n",
    "\n",
    "Вам нужно:\n",
    "\n",
    "1. Подготовить данные;\n",
    "2. Провести исследовательский анализ данных;\n",
    "3. Построить и обучить модель.\n",
    "\n",
    "Чтобы выполнить проект, обращайтесь к библиотекам *pandas*, *matplotlib* и *sklearn.* Вам поможет их документация."
   ]
  },
  {
   "cell_type": "code",
   "execution_count": 1,
   "id": "b9c7787b",
   "metadata": {},
   "outputs": [],
   "source": [
    "\n",
    "import numpy as np\n",
    "import pandas as pd\n",
    "\n",
    "from sklearn.model_selection import train_test_split\n",
    "from sklearn.model_selection import cross_val_score\n",
    "from sklearn.model_selection import GridSearchCV\n",
    "\n",
    "from sklearn.preprocessing import StandardScaler\n",
    "from sklearn.preprocessing import PolynomialFeatures\n",
    "\n",
    "from sklearn.linear_model import LinearRegression\n",
    "from sklearn.linear_model import Ridge\n",
    "\n",
    "from sklearn.tree import DecisionTreeRegressor\n",
    "from sklearn.ensemble import ExtraTreesRegressor\n",
    "from sklearn.metrics import r2_score\n",
    "from sklearn.metrics import mean_absolute_error\n",
    "from sklearn.metrics import make_scorer\n",
    "\n",
    "from sklearn.pipeline import Pipeline\n",
    "from sklearn.impute import KNNImputer\n",
    "\n",
    "import seaborn as sns\n",
    "import matplotlib.pyplot as plt\n",
    "\n",
    "import warnings\n",
    "warnings.filterwarnings('ignore')"
   ]
  },
  {
   "cell_type": "markdown",
   "id": "8841ba8f",
   "metadata": {},
   "source": [
    "<div class=\"alert alert-info\">\n",
    "<font size=\"4\">🍕<b> Комментарий ревьюера</b></font>\n",
    "    <br /> \n",
    "    <font size=\"3\", color = \"black\">\n",
    "<br />\n",
    "Стандарт PEP8 рекомендует импорты делать не в каждой строке отдельный, а группировать их по сабмодулю, из которого делается импорт. То есть не так:\n",
    "\n",
    "`from sklearn.model_selection import train_test_split\n",
    "from sklearn.preprocessing import StandardScaler\n",
    "from sklearn.metrics import r2_score\n",
    "from sklearn.metrics import mean_absolute_error\n",
    "from sklearn.preprocessing import PolynomialFeatures\n",
    "from sklearn.linear_model import LinearRegression\n",
    "from sklearn.linear_model import Ridge\n",
    "from sklearn.model_selection import cross_val_score\n",
    "from sklearn.model_selection import GridSearchCV`\n",
    "\n",
    "А так:\n",
    "\n",
    "`from sklearn.model_selection import train_test_split, cross_val_score, GridSearchCV\n",
    "from sklearn.preprocessing import StandardScaler, PolynomialFeatures\n",
    "from sklearn.metrics import r2_score, mean_absolute_error\n",
    "from sklearn.linear_model import LinearRegression, Ridge`"
   ]
  },
  {
   "cell_type": "markdown",
   "id": "2c2509df",
   "metadata": {},
   "source": [
    "## 1 Подготовка данных"
   ]
  },
  {
   "cell_type": "code",
   "execution_count": 2,
   "id": "9b275ece",
   "metadata": {},
   "outputs": [],
   "source": [
    "# Загрузим данные\n",
    "\n",
    "# data_train = pd.read_csv('/Users/mune_amour/Downloads/gold_industry_train.csv')\n",
    "# data_full = pd.read_csv('/Users/mune_amour/Downloads/gold_industry_full.csv')\n",
    "\n",
    "# data_test = pd.read_csv('/Users/mune_amour/Downloads/gold_industry_test.csv')\n",
    "\n",
    "data_train = pd.read_csv('/datasets/gold_industry_train.csv')\n",
    "data_full = pd.read_csv('/datasets/gold_industry_full.csv')\n",
    "data_test = pd.read_csv('/datasets/gold_industry_test.csv')"
   ]
  },
  {
   "cell_type": "markdown",
   "id": "d50772c5",
   "metadata": {},
   "source": [
    "<div class=\"alert alert-warning\">\n",
    "<font size=\"4\"><b>⚠️ Комментарий ревьюера</b></font>\n",
    "    <br /> \n",
    "    <font size=\"3\", color = \"black\">\n",
    "<br />\n",
    "Я ревьюер добрый, мне такой глупый недочёт со стороны студента исправить - не сложно. Но стоит ко второму сборному принять и иметь в виду 2 факт:\n",
    "\n",
    "1. Падение кода даёт полное право ставить красный комментарий\n",
    "\n",
    "2. Падение кода в самом начале работы даёт полное право отправлять работу на доработку без дальнейшей проверки\n",
    "\n",
    "Поэтому в такие ситуации попадать очень нежелательно. Если не хочешь постоянно при отправке на ревью менять пути к файлу, просто делай безопасную загрузку данных с помощью конструкции try except."
   ]
  },
  {
   "cell_type": "markdown",
   "id": "4f57eb2a",
   "metadata": {},
   "source": [
    "<div style=\"background-color: #F4E4F4; color: #4C4C4C; padding: 10px; border: 1px solid #C4C4C4; height: 70px;\">\n",
    "    Прошу прощения! Забыл сделать альтернативный вариант чтения файла.\n",
    "</div>"
   ]
  },
  {
   "cell_type": "markdown",
   "id": "bab7f524",
   "metadata": {},
   "source": [
    "# 1.1 Обзор данных"
   ]
  },
  {
   "cell_type": "code",
   "execution_count": 3,
   "id": "7a2bc21d",
   "metadata": {},
   "outputs": [
    {
     "name": "stdout",
     "output_type": "stream",
     "text": [
      "(4860, 53)\n",
      "(14579, 87)\n",
      "(19439, 87)\n"
     ]
    }
   ],
   "source": [
    "print(data_test.shape)\n",
    "print(data_train.shape)\n",
    "print(data_full.shape)"
   ]
  },
  {
   "cell_type": "markdown",
   "id": "adc7d225",
   "metadata": {},
   "source": [
    "<div style=\"background-color: #F4E4F4; color: #4C4C4C; padding: 10px; border: 1px solid #C4C4C4; height: 70px;\">\n",
    "    DATA_FULL\n",
    "</div>\n"
   ]
  },
  {
   "cell_type": "code",
   "execution_count": 4,
   "id": "4b2e9dc5",
   "metadata": {},
   "outputs": [
    {
     "data": {
      "text/html": [
       "<div>\n",
       "<style scoped>\n",
       "    .dataframe tbody tr th:only-of-type {\n",
       "        vertical-align: middle;\n",
       "    }\n",
       "\n",
       "    .dataframe tbody tr th {\n",
       "        vertical-align: top;\n",
       "    }\n",
       "\n",
       "    .dataframe thead th {\n",
       "        text-align: right;\n",
       "    }\n",
       "</style>\n",
       "<table border=\"1\" class=\"dataframe\">\n",
       "  <thead>\n",
       "    <tr style=\"text-align: right;\">\n",
       "      <th></th>\n",
       "      <th>date</th>\n",
       "      <th>rougher.input.feed_au</th>\n",
       "      <th>rougher.input.feed_ag</th>\n",
       "      <th>rougher.input.feed_pb</th>\n",
       "      <th>rougher.input.feed_sol</th>\n",
       "      <th>rougher.input.feed_rate</th>\n",
       "      <th>rougher.input.feed_size</th>\n",
       "      <th>rougher.input.floatbank10_sulfate</th>\n",
       "      <th>rougher.input.floatbank10_xanthate</th>\n",
       "      <th>rougher.state.floatbank10_a_air</th>\n",
       "      <th>...</th>\n",
       "      <th>secondary_cleaner.output.tail_sol</th>\n",
       "      <th>final.output.concentrate_au</th>\n",
       "      <th>final.output.concentrate_ag</th>\n",
       "      <th>final.output.concentrate_pb</th>\n",
       "      <th>final.output.concentrate_sol</th>\n",
       "      <th>final.output.recovery</th>\n",
       "      <th>final.output.tail_au</th>\n",
       "      <th>final.output.tail_ag</th>\n",
       "      <th>final.output.tail_pb</th>\n",
       "      <th>final.output.tail_sol</th>\n",
       "    </tr>\n",
       "  </thead>\n",
       "  <tbody>\n",
       "    <tr>\n",
       "      <th>0</th>\n",
       "      <td>2016-01-15 00:00:00</td>\n",
       "      <td>6.486150</td>\n",
       "      <td>6.100378</td>\n",
       "      <td>2.284912</td>\n",
       "      <td>36.808594</td>\n",
       "      <td>523.546326</td>\n",
       "      <td>55.486599</td>\n",
       "      <td>11.986616</td>\n",
       "      <td>6.007990</td>\n",
       "      <td>999.706909</td>\n",
       "      <td>...</td>\n",
       "      <td>8.764648</td>\n",
       "      <td>42.192020</td>\n",
       "      <td>6.055403</td>\n",
       "      <td>9.889648</td>\n",
       "      <td>5.507324</td>\n",
       "      <td>70.541216</td>\n",
       "      <td>2.143149</td>\n",
       "      <td>10.411962</td>\n",
       "      <td>0.895447</td>\n",
       "      <td>16.904297</td>\n",
       "    </tr>\n",
       "    <tr>\n",
       "      <th>1</th>\n",
       "      <td>2016-01-15 01:00:00</td>\n",
       "      <td>6.478583</td>\n",
       "      <td>6.161113</td>\n",
       "      <td>2.266033</td>\n",
       "      <td>35.753385</td>\n",
       "      <td>525.290581</td>\n",
       "      <td>57.278666</td>\n",
       "      <td>11.971193</td>\n",
       "      <td>6.005766</td>\n",
       "      <td>1000.286398</td>\n",
       "      <td>...</td>\n",
       "      <td>9.001494</td>\n",
       "      <td>42.701629</td>\n",
       "      <td>6.029369</td>\n",
       "      <td>9.968944</td>\n",
       "      <td>5.257781</td>\n",
       "      <td>69.266198</td>\n",
       "      <td>2.224930</td>\n",
       "      <td>10.462676</td>\n",
       "      <td>0.927452</td>\n",
       "      <td>16.634514</td>\n",
       "    </tr>\n",
       "    <tr>\n",
       "      <th>2</th>\n",
       "      <td>2016-01-15 02:00:00</td>\n",
       "      <td>6.362222</td>\n",
       "      <td>6.116455</td>\n",
       "      <td>2.159622</td>\n",
       "      <td>35.971630</td>\n",
       "      <td>530.026610</td>\n",
       "      <td>57.510649</td>\n",
       "      <td>11.920603</td>\n",
       "      <td>6.197377</td>\n",
       "      <td>999.719565</td>\n",
       "      <td>...</td>\n",
       "      <td>8.842896</td>\n",
       "      <td>42.657501</td>\n",
       "      <td>6.055926</td>\n",
       "      <td>10.213995</td>\n",
       "      <td>5.383759</td>\n",
       "      <td>68.116445</td>\n",
       "      <td>2.257889</td>\n",
       "      <td>10.507046</td>\n",
       "      <td>0.953716</td>\n",
       "      <td>16.208849</td>\n",
       "    </tr>\n",
       "    <tr>\n",
       "      <th>3</th>\n",
       "      <td>2016-01-15 03:00:00</td>\n",
       "      <td>6.118189</td>\n",
       "      <td>6.043309</td>\n",
       "      <td>2.037807</td>\n",
       "      <td>36.862241</td>\n",
       "      <td>542.590390</td>\n",
       "      <td>57.792734</td>\n",
       "      <td>11.630094</td>\n",
       "      <td>6.203177</td>\n",
       "      <td>999.814770</td>\n",
       "      <td>...</td>\n",
       "      <td>9.122857</td>\n",
       "      <td>42.689819</td>\n",
       "      <td>6.047977</td>\n",
       "      <td>9.977019</td>\n",
       "      <td>4.858634</td>\n",
       "      <td>68.347543</td>\n",
       "      <td>2.146849</td>\n",
       "      <td>10.422762</td>\n",
       "      <td>0.883763</td>\n",
       "      <td>16.532835</td>\n",
       "    </tr>\n",
       "    <tr>\n",
       "      <th>4</th>\n",
       "      <td>2016-01-15 04:00:00</td>\n",
       "      <td>5.663707</td>\n",
       "      <td>6.060915</td>\n",
       "      <td>1.786875</td>\n",
       "      <td>34.347666</td>\n",
       "      <td>540.531893</td>\n",
       "      <td>56.047189</td>\n",
       "      <td>10.957755</td>\n",
       "      <td>6.198826</td>\n",
       "      <td>999.678690</td>\n",
       "      <td>...</td>\n",
       "      <td>8.871028</td>\n",
       "      <td>42.774141</td>\n",
       "      <td>6.148599</td>\n",
       "      <td>10.142511</td>\n",
       "      <td>4.939416</td>\n",
       "      <td>66.927016</td>\n",
       "      <td>2.055292</td>\n",
       "      <td>10.360302</td>\n",
       "      <td>0.792826</td>\n",
       "      <td>16.525686</td>\n",
       "    </tr>\n",
       "  </tbody>\n",
       "</table>\n",
       "<p>5 rows × 87 columns</p>\n",
       "</div>"
      ],
      "text/plain": [
       "                  date  rougher.input.feed_au  rougher.input.feed_ag  \\\n",
       "0  2016-01-15 00:00:00               6.486150               6.100378   \n",
       "1  2016-01-15 01:00:00               6.478583               6.161113   \n",
       "2  2016-01-15 02:00:00               6.362222               6.116455   \n",
       "3  2016-01-15 03:00:00               6.118189               6.043309   \n",
       "4  2016-01-15 04:00:00               5.663707               6.060915   \n",
       "\n",
       "   rougher.input.feed_pb  rougher.input.feed_sol  rougher.input.feed_rate  \\\n",
       "0               2.284912               36.808594               523.546326   \n",
       "1               2.266033               35.753385               525.290581   \n",
       "2               2.159622               35.971630               530.026610   \n",
       "3               2.037807               36.862241               542.590390   \n",
       "4               1.786875               34.347666               540.531893   \n",
       "\n",
       "   rougher.input.feed_size  rougher.input.floatbank10_sulfate  \\\n",
       "0                55.486599                          11.986616   \n",
       "1                57.278666                          11.971193   \n",
       "2                57.510649                          11.920603   \n",
       "3                57.792734                          11.630094   \n",
       "4                56.047189                          10.957755   \n",
       "\n",
       "   rougher.input.floatbank10_xanthate  rougher.state.floatbank10_a_air  ...  \\\n",
       "0                            6.007990                       999.706909  ...   \n",
       "1                            6.005766                      1000.286398  ...   \n",
       "2                            6.197377                       999.719565  ...   \n",
       "3                            6.203177                       999.814770  ...   \n",
       "4                            6.198826                       999.678690  ...   \n",
       "\n",
       "   secondary_cleaner.output.tail_sol  final.output.concentrate_au  \\\n",
       "0                           8.764648                    42.192020   \n",
       "1                           9.001494                    42.701629   \n",
       "2                           8.842896                    42.657501   \n",
       "3                           9.122857                    42.689819   \n",
       "4                           8.871028                    42.774141   \n",
       "\n",
       "   final.output.concentrate_ag  final.output.concentrate_pb  \\\n",
       "0                     6.055403                     9.889648   \n",
       "1                     6.029369                     9.968944   \n",
       "2                     6.055926                    10.213995   \n",
       "3                     6.047977                     9.977019   \n",
       "4                     6.148599                    10.142511   \n",
       "\n",
       "   final.output.concentrate_sol  final.output.recovery  final.output.tail_au  \\\n",
       "0                      5.507324              70.541216              2.143149   \n",
       "1                      5.257781              69.266198              2.224930   \n",
       "2                      5.383759              68.116445              2.257889   \n",
       "3                      4.858634              68.347543              2.146849   \n",
       "4                      4.939416              66.927016              2.055292   \n",
       "\n",
       "   final.output.tail_ag  final.output.tail_pb  final.output.tail_sol  \n",
       "0             10.411962              0.895447              16.904297  \n",
       "1             10.462676              0.927452              16.634514  \n",
       "2             10.507046              0.953716              16.208849  \n",
       "3             10.422762              0.883763              16.532835  \n",
       "4             10.360302              0.792826              16.525686  \n",
       "\n",
       "[5 rows x 87 columns]"
      ]
     },
     "execution_count": 4,
     "metadata": {},
     "output_type": "execute_result"
    }
   ],
   "source": [
    "data_full.head()"
   ]
  },
  {
   "cell_type": "code",
   "execution_count": 5,
   "id": "75555b5f",
   "metadata": {},
   "outputs": [
    {
     "name": "stdout",
     "output_type": "stream",
     "text": [
      "<class 'pandas.core.frame.DataFrame'>\n",
      "RangeIndex: 19439 entries, 0 to 19438\n",
      "Data columns (total 87 columns):\n",
      " #   Column                                              Non-Null Count  Dtype  \n",
      "---  ------                                              --------------  -----  \n",
      " 0   date                                                19439 non-null  object \n",
      " 1   rougher.input.feed_au                               19439 non-null  float64\n",
      " 2   rougher.input.feed_ag                               19439 non-null  float64\n",
      " 3   rougher.input.feed_pb                               19339 non-null  float64\n",
      " 4   rougher.input.feed_sol                              19340 non-null  float64\n",
      " 5   rougher.input.feed_rate                             19428 non-null  float64\n",
      " 6   rougher.input.feed_size                             19294 non-null  float64\n",
      " 7   rougher.input.floatbank10_sulfate                   19405 non-null  float64\n",
      " 8   rougher.input.floatbank10_xanthate                  19431 non-null  float64\n",
      " 9   rougher.state.floatbank10_a_air                     19438 non-null  float64\n",
      " 10  rougher.state.floatbank10_a_level                   19438 non-null  float64\n",
      " 11  rougher.state.floatbank10_b_air                     19438 non-null  float64\n",
      " 12  rougher.state.floatbank10_b_level                   19438 non-null  float64\n",
      " 13  rougher.state.floatbank10_c_air                     19438 non-null  float64\n",
      " 14  rougher.state.floatbank10_c_level                   19438 non-null  float64\n",
      " 15  rougher.state.floatbank10_d_air                     19439 non-null  float64\n",
      " 16  rougher.state.floatbank10_d_level                   19439 non-null  float64\n",
      " 17  rougher.state.floatbank10_e_air                     19003 non-null  float64\n",
      " 18  rougher.state.floatbank10_e_level                   19439 non-null  float64\n",
      " 19  rougher.state.floatbank10_f_air                     19439 non-null  float64\n",
      " 20  rougher.state.floatbank10_f_level                   19439 non-null  float64\n",
      " 21  rougher.input.floatbank11_sulfate                   19395 non-null  float64\n",
      " 22  rougher.input.floatbank11_xanthate                  18986 non-null  float64\n",
      " 23  rougher.calculation.sulfate_to_au_concentrate       19437 non-null  float64\n",
      " 24  rougher.calculation.floatbank10_sulfate_to_au_feed  19437 non-null  float64\n",
      " 25  rougher.calculation.floatbank11_sulfate_to_au_feed  19437 non-null  float64\n",
      " 26  rougher.calculation.au_pb_ratio                     19439 non-null  float64\n",
      " 27  rougher.output.concentrate_au                       19439 non-null  float64\n",
      " 28  rougher.output.concentrate_ag                       19439 non-null  float64\n",
      " 29  rougher.output.concentrate_pb                       19439 non-null  float64\n",
      " 30  rougher.output.concentrate_sol                      19416 non-null  float64\n",
      " 31  rougher.output.recovery                             19439 non-null  float64\n",
      " 32  rougher.output.tail_au                              19439 non-null  float64\n",
      " 33  rougher.output.tail_ag                              19438 non-null  float64\n",
      " 34  rougher.output.tail_pb                              19439 non-null  float64\n",
      " 35  rougher.output.tail_sol                             19439 non-null  float64\n",
      " 36  primary_cleaner.input.sulfate                       19415 non-null  float64\n",
      " 37  primary_cleaner.input.depressant                    19402 non-null  float64\n",
      " 38  primary_cleaner.input.feed_size                     19439 non-null  float64\n",
      " 39  primary_cleaner.input.xanthate                      19335 non-null  float64\n",
      " 40  primary_cleaner.state.floatbank8_a_air              19435 non-null  float64\n",
      " 41  primary_cleaner.state.floatbank8_a_level            19438 non-null  float64\n",
      " 42  primary_cleaner.state.floatbank8_b_air              19435 non-null  float64\n",
      " 43  primary_cleaner.state.floatbank8_b_level            19438 non-null  float64\n",
      " 44  primary_cleaner.state.floatbank8_c_air              19437 non-null  float64\n",
      " 45  primary_cleaner.state.floatbank8_c_level            19438 non-null  float64\n",
      " 46  primary_cleaner.state.floatbank8_d_air              19436 non-null  float64\n",
      " 47  primary_cleaner.state.floatbank8_d_level            19438 non-null  float64\n",
      " 48  primary_cleaner.output.concentrate_au               19439 non-null  float64\n",
      " 49  primary_cleaner.output.concentrate_ag               19439 non-null  float64\n",
      " 50  primary_cleaner.output.concentrate_pb               19323 non-null  float64\n",
      " 51  primary_cleaner.output.concentrate_sol              19069 non-null  float64\n",
      " 52  primary_cleaner.output.tail_au                      19439 non-null  float64\n",
      " 53  primary_cleaner.output.tail_ag                      19435 non-null  float64\n",
      " 54  primary_cleaner.output.tail_pb                      19418 non-null  float64\n",
      " 55  primary_cleaner.output.tail_sol                     19377 non-null  float64\n",
      " 56  secondary_cleaner.state.floatbank2_a_air            19219 non-null  float64\n",
      " 57  secondary_cleaner.state.floatbank2_a_level          19438 non-null  float64\n",
      " 58  secondary_cleaner.state.floatbank2_b_air            19416 non-null  float64\n",
      " 59  secondary_cleaner.state.floatbank2_b_level          19438 non-null  float64\n",
      " 60  secondary_cleaner.state.floatbank3_a_air            19426 non-null  float64\n",
      " 61  secondary_cleaner.state.floatbank3_a_level          19438 non-null  float64\n",
      " 62  secondary_cleaner.state.floatbank3_b_air            19438 non-null  float64\n",
      " 63  secondary_cleaner.state.floatbank3_b_level          19438 non-null  float64\n",
      " 64  secondary_cleaner.state.floatbank4_a_air            19433 non-null  float64\n",
      " 65  secondary_cleaner.state.floatbank4_a_level          19438 non-null  float64\n",
      " 66  secondary_cleaner.state.floatbank4_b_air            19438 non-null  float64\n",
      " 67  secondary_cleaner.state.floatbank4_b_level          19438 non-null  float64\n",
      " 68  secondary_cleaner.state.floatbank5_a_air            19438 non-null  float64\n",
      " 69  secondary_cleaner.state.floatbank5_a_level          19438 non-null  float64\n",
      " 70  secondary_cleaner.state.floatbank5_b_air            19438 non-null  float64\n",
      " 71  secondary_cleaner.state.floatbank5_b_level          19438 non-null  float64\n",
      " 72  secondary_cleaner.state.floatbank6_a_air            19437 non-null  float64\n",
      " 73  secondary_cleaner.state.floatbank6_a_level          19438 non-null  float64\n",
      " 74  secondary_cleaner.output.tail_au                    19439 non-null  float64\n",
      " 75  secondary_cleaner.output.tail_ag                    19437 non-null  float64\n",
      " 76  secondary_cleaner.output.tail_pb                    19427 non-null  float64\n",
      " 77  secondary_cleaner.output.tail_sol                   17691 non-null  float64\n",
      " 78  final.output.concentrate_au                         19439 non-null  float64\n",
      " 79  final.output.concentrate_ag                         19438 non-null  float64\n",
      " 80  final.output.concentrate_pb                         19438 non-null  float64\n",
      " 81  final.output.concentrate_sol                        19228 non-null  float64\n",
      " 82  final.output.recovery                               19439 non-null  float64\n",
      " 83  final.output.tail_au                                19439 non-null  float64\n",
      " 84  final.output.tail_ag                                19438 non-null  float64\n",
      " 85  final.output.tail_pb                                19338 non-null  float64\n",
      " 86  final.output.tail_sol                               19433 non-null  float64\n",
      "dtypes: float64(86), object(1)\n",
      "memory usage: 12.9+ MB\n"
     ]
    }
   ],
   "source": [
    "data_full.info()"
   ]
  },
  {
   "cell_type": "code",
   "execution_count": 6,
   "id": "681f34aa",
   "metadata": {},
   "outputs": [
    {
     "data": {
      "text/html": [
       "<div>\n",
       "<style scoped>\n",
       "    .dataframe tbody tr th:only-of-type {\n",
       "        vertical-align: middle;\n",
       "    }\n",
       "\n",
       "    .dataframe tbody tr th {\n",
       "        vertical-align: top;\n",
       "    }\n",
       "\n",
       "    .dataframe thead th {\n",
       "        text-align: right;\n",
       "    }\n",
       "</style>\n",
       "<table border=\"1\" class=\"dataframe\">\n",
       "  <thead>\n",
       "    <tr style=\"text-align: right;\">\n",
       "      <th></th>\n",
       "      <th>rougher.input.feed_au</th>\n",
       "      <th>rougher.input.feed_ag</th>\n",
       "      <th>rougher.input.feed_pb</th>\n",
       "      <th>rougher.input.feed_sol</th>\n",
       "      <th>rougher.input.feed_rate</th>\n",
       "      <th>rougher.input.feed_size</th>\n",
       "      <th>rougher.input.floatbank10_sulfate</th>\n",
       "      <th>rougher.input.floatbank10_xanthate</th>\n",
       "      <th>rougher.state.floatbank10_a_air</th>\n",
       "      <th>rougher.state.floatbank10_a_level</th>\n",
       "      <th>...</th>\n",
       "      <th>secondary_cleaner.output.tail_sol</th>\n",
       "      <th>final.output.concentrate_au</th>\n",
       "      <th>final.output.concentrate_ag</th>\n",
       "      <th>final.output.concentrate_pb</th>\n",
       "      <th>final.output.concentrate_sol</th>\n",
       "      <th>final.output.recovery</th>\n",
       "      <th>final.output.tail_au</th>\n",
       "      <th>final.output.tail_ag</th>\n",
       "      <th>final.output.tail_pb</th>\n",
       "      <th>final.output.tail_sol</th>\n",
       "    </tr>\n",
       "  </thead>\n",
       "  <tbody>\n",
       "    <tr>\n",
       "      <th>count</th>\n",
       "      <td>19439.000000</td>\n",
       "      <td>19439.000000</td>\n",
       "      <td>19339.000000</td>\n",
       "      <td>19340.000000</td>\n",
       "      <td>19428.000000</td>\n",
       "      <td>19294.000000</td>\n",
       "      <td>19405.000000</td>\n",
       "      <td>19431.000000</td>\n",
       "      <td>19438.000000</td>\n",
       "      <td>19438.000000</td>\n",
       "      <td>...</td>\n",
       "      <td>17691.000000</td>\n",
       "      <td>19439.000000</td>\n",
       "      <td>19438.000000</td>\n",
       "      <td>19438.000000</td>\n",
       "      <td>19228.000000</td>\n",
       "      <td>19439.000000</td>\n",
       "      <td>19439.000000</td>\n",
       "      <td>19438.000000</td>\n",
       "      <td>19338.000000</td>\n",
       "      <td>19433.000000</td>\n",
       "    </tr>\n",
       "    <tr>\n",
       "      <th>mean</th>\n",
       "      <td>8.266097</td>\n",
       "      <td>8.794927</td>\n",
       "      <td>3.598085</td>\n",
       "      <td>36.695114</td>\n",
       "      <td>478.320042</td>\n",
       "      <td>58.970310</td>\n",
       "      <td>12.334373</td>\n",
       "      <td>6.021474</td>\n",
       "      <td>1105.315068</td>\n",
       "      <td>-376.610690</td>\n",
       "      <td>...</td>\n",
       "      <td>7.167247</td>\n",
       "      <td>44.076513</td>\n",
       "      <td>5.168470</td>\n",
       "      <td>9.978895</td>\n",
       "      <td>9.501224</td>\n",
       "      <td>67.050208</td>\n",
       "      <td>3.042467</td>\n",
       "      <td>9.688589</td>\n",
       "      <td>2.705795</td>\n",
       "      <td>10.583728</td>\n",
       "    </tr>\n",
       "    <tr>\n",
       "      <th>std</th>\n",
       "      <td>1.955092</td>\n",
       "      <td>1.936847</td>\n",
       "      <td>1.049486</td>\n",
       "      <td>5.145445</td>\n",
       "      <td>105.373758</td>\n",
       "      <td>21.634478</td>\n",
       "      <td>3.427317</td>\n",
       "      <td>1.127263</td>\n",
       "      <td>160.826798</td>\n",
       "      <td>93.909667</td>\n",
       "      <td>...</td>\n",
       "      <td>3.916079</td>\n",
       "      <td>5.129784</td>\n",
       "      <td>1.372348</td>\n",
       "      <td>1.669240</td>\n",
       "      <td>2.787537</td>\n",
       "      <td>10.125840</td>\n",
       "      <td>0.922808</td>\n",
       "      <td>2.328642</td>\n",
       "      <td>0.949077</td>\n",
       "      <td>2.868782</td>\n",
       "    </tr>\n",
       "    <tr>\n",
       "      <th>min</th>\n",
       "      <td>0.010000</td>\n",
       "      <td>0.010000</td>\n",
       "      <td>0.010000</td>\n",
       "      <td>0.010000</td>\n",
       "      <td>0.002986</td>\n",
       "      <td>0.046369</td>\n",
       "      <td>0.001083</td>\n",
       "      <td>0.000568</td>\n",
       "      <td>-0.042069</td>\n",
       "      <td>-657.949759</td>\n",
       "      <td>...</td>\n",
       "      <td>0.000000</td>\n",
       "      <td>0.000000</td>\n",
       "      <td>0.000000</td>\n",
       "      <td>0.000000</td>\n",
       "      <td>0.000000</td>\n",
       "      <td>0.000000</td>\n",
       "      <td>0.000000</td>\n",
       "      <td>0.000000</td>\n",
       "      <td>0.000000</td>\n",
       "      <td>0.000000</td>\n",
       "    </tr>\n",
       "    <tr>\n",
       "      <th>25%</th>\n",
       "      <td>6.854384</td>\n",
       "      <td>7.237967</td>\n",
       "      <td>2.887280</td>\n",
       "      <td>34.207799</td>\n",
       "      <td>416.525453</td>\n",
       "      <td>47.435103</td>\n",
       "      <td>10.000362</td>\n",
       "      <td>5.398678</td>\n",
       "      <td>999.661867</td>\n",
       "      <td>-499.835165</td>\n",
       "      <td>...</td>\n",
       "      <td>3.845475</td>\n",
       "      <td>43.402215</td>\n",
       "      <td>4.251240</td>\n",
       "      <td>9.137262</td>\n",
       "      <td>7.722820</td>\n",
       "      <td>63.299712</td>\n",
       "      <td>2.461138</td>\n",
       "      <td>8.062878</td>\n",
       "      <td>2.040119</td>\n",
       "      <td>8.938947</td>\n",
       "    </tr>\n",
       "    <tr>\n",
       "      <th>50%</th>\n",
       "      <td>8.125839</td>\n",
       "      <td>8.593574</td>\n",
       "      <td>3.534895</td>\n",
       "      <td>37.202650</td>\n",
       "      <td>499.416120</td>\n",
       "      <td>54.610197</td>\n",
       "      <td>12.001174</td>\n",
       "      <td>6.008273</td>\n",
       "      <td>1001.072890</td>\n",
       "      <td>-300.263994</td>\n",
       "      <td>...</td>\n",
       "      <td>7.685827</td>\n",
       "      <td>45.011244</td>\n",
       "      <td>5.066094</td>\n",
       "      <td>10.102433</td>\n",
       "      <td>9.218961</td>\n",
       "      <td>68.172738</td>\n",
       "      <td>2.984909</td>\n",
       "      <td>9.743623</td>\n",
       "      <td>2.748730</td>\n",
       "      <td>10.622456</td>\n",
       "    </tr>\n",
       "    <tr>\n",
       "      <th>75%</th>\n",
       "      <td>9.769917</td>\n",
       "      <td>10.213771</td>\n",
       "      <td>4.244161</td>\n",
       "      <td>40.039133</td>\n",
       "      <td>550.172183</td>\n",
       "      <td>65.023044</td>\n",
       "      <td>14.716595</td>\n",
       "      <td>6.798051</td>\n",
       "      <td>1205.620588</td>\n",
       "      <td>-299.981998</td>\n",
       "      <td>...</td>\n",
       "      <td>10.411296</td>\n",
       "      <td>46.275313</td>\n",
       "      <td>5.895527</td>\n",
       "      <td>11.035769</td>\n",
       "      <td>10.947813</td>\n",
       "      <td>72.686642</td>\n",
       "      <td>3.571351</td>\n",
       "      <td>11.134294</td>\n",
       "      <td>3.333216</td>\n",
       "      <td>12.104271</td>\n",
       "    </tr>\n",
       "    <tr>\n",
       "      <th>max</th>\n",
       "      <td>13.731330</td>\n",
       "      <td>14.596026</td>\n",
       "      <td>7.142594</td>\n",
       "      <td>53.477742</td>\n",
       "      <td>717.508837</td>\n",
       "      <td>484.967466</td>\n",
       "      <td>36.118275</td>\n",
       "      <td>9.703448</td>\n",
       "      <td>1521.980372</td>\n",
       "      <td>-273.776101</td>\n",
       "      <td>...</td>\n",
       "      <td>26.000772</td>\n",
       "      <td>52.756638</td>\n",
       "      <td>16.001945</td>\n",
       "      <td>17.031899</td>\n",
       "      <td>19.615720</td>\n",
       "      <td>100.000000</td>\n",
       "      <td>8.245022</td>\n",
       "      <td>19.552149</td>\n",
       "      <td>5.804178</td>\n",
       "      <td>22.317730</td>\n",
       "    </tr>\n",
       "  </tbody>\n",
       "</table>\n",
       "<p>8 rows × 86 columns</p>\n",
       "</div>"
      ],
      "text/plain": [
       "       rougher.input.feed_au  rougher.input.feed_ag  rougher.input.feed_pb  \\\n",
       "count           19439.000000           19439.000000           19339.000000   \n",
       "mean                8.266097               8.794927               3.598085   \n",
       "std                 1.955092               1.936847               1.049486   \n",
       "min                 0.010000               0.010000               0.010000   \n",
       "25%                 6.854384               7.237967               2.887280   \n",
       "50%                 8.125839               8.593574               3.534895   \n",
       "75%                 9.769917              10.213771               4.244161   \n",
       "max                13.731330              14.596026               7.142594   \n",
       "\n",
       "       rougher.input.feed_sol  rougher.input.feed_rate  \\\n",
       "count            19340.000000             19428.000000   \n",
       "mean                36.695114               478.320042   \n",
       "std                  5.145445               105.373758   \n",
       "min                  0.010000                 0.002986   \n",
       "25%                 34.207799               416.525453   \n",
       "50%                 37.202650               499.416120   \n",
       "75%                 40.039133               550.172183   \n",
       "max                 53.477742               717.508837   \n",
       "\n",
       "       rougher.input.feed_size  rougher.input.floatbank10_sulfate  \\\n",
       "count             19294.000000                       19405.000000   \n",
       "mean                 58.970310                          12.334373   \n",
       "std                  21.634478                           3.427317   \n",
       "min                   0.046369                           0.001083   \n",
       "25%                  47.435103                          10.000362   \n",
       "50%                  54.610197                          12.001174   \n",
       "75%                  65.023044                          14.716595   \n",
       "max                 484.967466                          36.118275   \n",
       "\n",
       "       rougher.input.floatbank10_xanthate  rougher.state.floatbank10_a_air  \\\n",
       "count                        19431.000000                     19438.000000   \n",
       "mean                             6.021474                      1105.315068   \n",
       "std                              1.127263                       160.826798   \n",
       "min                              0.000568                        -0.042069   \n",
       "25%                              5.398678                       999.661867   \n",
       "50%                              6.008273                      1001.072890   \n",
       "75%                              6.798051                      1205.620588   \n",
       "max                              9.703448                      1521.980372   \n",
       "\n",
       "       rougher.state.floatbank10_a_level  ...  \\\n",
       "count                       19438.000000  ...   \n",
       "mean                         -376.610690  ...   \n",
       "std                            93.909667  ...   \n",
       "min                          -657.949759  ...   \n",
       "25%                          -499.835165  ...   \n",
       "50%                          -300.263994  ...   \n",
       "75%                          -299.981998  ...   \n",
       "max                          -273.776101  ...   \n",
       "\n",
       "       secondary_cleaner.output.tail_sol  final.output.concentrate_au  \\\n",
       "count                       17691.000000                 19439.000000   \n",
       "mean                            7.167247                    44.076513   \n",
       "std                             3.916079                     5.129784   \n",
       "min                             0.000000                     0.000000   \n",
       "25%                             3.845475                    43.402215   \n",
       "50%                             7.685827                    45.011244   \n",
       "75%                            10.411296                    46.275313   \n",
       "max                            26.000772                    52.756638   \n",
       "\n",
       "       final.output.concentrate_ag  final.output.concentrate_pb  \\\n",
       "count                 19438.000000                 19438.000000   \n",
       "mean                      5.168470                     9.978895   \n",
       "std                       1.372348                     1.669240   \n",
       "min                       0.000000                     0.000000   \n",
       "25%                       4.251240                     9.137262   \n",
       "50%                       5.066094                    10.102433   \n",
       "75%                       5.895527                    11.035769   \n",
       "max                      16.001945                    17.031899   \n",
       "\n",
       "       final.output.concentrate_sol  final.output.recovery  \\\n",
       "count                  19228.000000           19439.000000   \n",
       "mean                       9.501224              67.050208   \n",
       "std                        2.787537              10.125840   \n",
       "min                        0.000000               0.000000   \n",
       "25%                        7.722820              63.299712   \n",
       "50%                        9.218961              68.172738   \n",
       "75%                       10.947813              72.686642   \n",
       "max                       19.615720             100.000000   \n",
       "\n",
       "       final.output.tail_au  final.output.tail_ag  final.output.tail_pb  \\\n",
       "count          19439.000000          19438.000000          19338.000000   \n",
       "mean               3.042467              9.688589              2.705795   \n",
       "std                0.922808              2.328642              0.949077   \n",
       "min                0.000000              0.000000              0.000000   \n",
       "25%                2.461138              8.062878              2.040119   \n",
       "50%                2.984909              9.743623              2.748730   \n",
       "75%                3.571351             11.134294              3.333216   \n",
       "max                8.245022             19.552149              5.804178   \n",
       "\n",
       "       final.output.tail_sol  \n",
       "count           19433.000000  \n",
       "mean               10.583728  \n",
       "std                 2.868782  \n",
       "min                 0.000000  \n",
       "25%                 8.938947  \n",
       "50%                10.622456  \n",
       "75%                12.104271  \n",
       "max                22.317730  \n",
       "\n",
       "[8 rows x 86 columns]"
      ]
     },
     "execution_count": 6,
     "metadata": {},
     "output_type": "execute_result"
    }
   ],
   "source": [
    "data_full.describe()"
   ]
  },
  {
   "cell_type": "code",
   "execution_count": 7,
   "id": "f5b55391",
   "metadata": {},
   "outputs": [
    {
     "name": "stdout",
     "output_type": "stream",
     "text": [
      "date                        0\n",
      "rougher.input.feed_au       0\n",
      "rougher.input.feed_ag       0\n",
      "rougher.input.feed_pb     100\n",
      "rougher.input.feed_sol     99\n",
      "                         ... \n",
      "final.output.recovery       0\n",
      "final.output.tail_au        0\n",
      "final.output.tail_ag        1\n",
      "final.output.tail_pb      101\n",
      "final.output.tail_sol       6\n",
      "Length: 87, dtype: int64\n"
     ]
    }
   ],
   "source": [
    "print(data_full.isna().sum())"
   ]
  },
  {
   "cell_type": "markdown",
   "id": "723e4c77",
   "metadata": {},
   "source": [
    "<div style=\"background-color: #F4E4F4; color: #4C4C4C; padding: 10px; border: 1px solid #C4C4C4; height: 70px;\">\n",
    "    DATA_TRAIN\n",
    "</div>\n"
   ]
  },
  {
   "cell_type": "code",
   "execution_count": 8,
   "id": "513172a7",
   "metadata": {},
   "outputs": [
    {
     "data": {
      "text/html": [
       "<div>\n",
       "<style scoped>\n",
       "    .dataframe tbody tr th:only-of-type {\n",
       "        vertical-align: middle;\n",
       "    }\n",
       "\n",
       "    .dataframe tbody tr th {\n",
       "        vertical-align: top;\n",
       "    }\n",
       "\n",
       "    .dataframe thead th {\n",
       "        text-align: right;\n",
       "    }\n",
       "</style>\n",
       "<table border=\"1\" class=\"dataframe\">\n",
       "  <thead>\n",
       "    <tr style=\"text-align: right;\">\n",
       "      <th></th>\n",
       "      <th>date</th>\n",
       "      <th>rougher.input.feed_au</th>\n",
       "      <th>rougher.input.feed_ag</th>\n",
       "      <th>rougher.input.feed_pb</th>\n",
       "      <th>rougher.input.feed_sol</th>\n",
       "      <th>rougher.input.feed_rate</th>\n",
       "      <th>rougher.input.feed_size</th>\n",
       "      <th>rougher.input.floatbank10_sulfate</th>\n",
       "      <th>rougher.input.floatbank10_xanthate</th>\n",
       "      <th>rougher.state.floatbank10_a_air</th>\n",
       "      <th>...</th>\n",
       "      <th>secondary_cleaner.output.tail_sol</th>\n",
       "      <th>final.output.concentrate_au</th>\n",
       "      <th>final.output.concentrate_ag</th>\n",
       "      <th>final.output.concentrate_pb</th>\n",
       "      <th>final.output.concentrate_sol</th>\n",
       "      <th>final.output.recovery</th>\n",
       "      <th>final.output.tail_au</th>\n",
       "      <th>final.output.tail_ag</th>\n",
       "      <th>final.output.tail_pb</th>\n",
       "      <th>final.output.tail_sol</th>\n",
       "    </tr>\n",
       "  </thead>\n",
       "  <tbody>\n",
       "    <tr>\n",
       "      <th>0</th>\n",
       "      <td>2016-01-15 00:00:00</td>\n",
       "      <td>6.486150</td>\n",
       "      <td>6.100378</td>\n",
       "      <td>2.284912</td>\n",
       "      <td>36.808594</td>\n",
       "      <td>523.546326</td>\n",
       "      <td>55.486599</td>\n",
       "      <td>11.986616</td>\n",
       "      <td>6.007990</td>\n",
       "      <td>999.706909</td>\n",
       "      <td>...</td>\n",
       "      <td>8.764648</td>\n",
       "      <td>42.192020</td>\n",
       "      <td>6.055403</td>\n",
       "      <td>9.889648</td>\n",
       "      <td>5.507324</td>\n",
       "      <td>70.541216</td>\n",
       "      <td>2.143149</td>\n",
       "      <td>10.411962</td>\n",
       "      <td>0.895447</td>\n",
       "      <td>16.904297</td>\n",
       "    </tr>\n",
       "    <tr>\n",
       "      <th>1</th>\n",
       "      <td>2016-01-15 01:00:00</td>\n",
       "      <td>6.478583</td>\n",
       "      <td>6.161113</td>\n",
       "      <td>2.266033</td>\n",
       "      <td>35.753385</td>\n",
       "      <td>525.290581</td>\n",
       "      <td>57.278666</td>\n",
       "      <td>11.971193</td>\n",
       "      <td>6.005766</td>\n",
       "      <td>1000.286398</td>\n",
       "      <td>...</td>\n",
       "      <td>9.001494</td>\n",
       "      <td>42.701629</td>\n",
       "      <td>6.029369</td>\n",
       "      <td>9.968944</td>\n",
       "      <td>5.257781</td>\n",
       "      <td>69.266198</td>\n",
       "      <td>2.224930</td>\n",
       "      <td>10.462676</td>\n",
       "      <td>0.927452</td>\n",
       "      <td>16.634514</td>\n",
       "    </tr>\n",
       "    <tr>\n",
       "      <th>2</th>\n",
       "      <td>2016-01-15 02:00:00</td>\n",
       "      <td>6.362222</td>\n",
       "      <td>6.116455</td>\n",
       "      <td>2.159622</td>\n",
       "      <td>35.971630</td>\n",
       "      <td>530.026610</td>\n",
       "      <td>57.510649</td>\n",
       "      <td>11.920603</td>\n",
       "      <td>6.197377</td>\n",
       "      <td>999.719565</td>\n",
       "      <td>...</td>\n",
       "      <td>8.842896</td>\n",
       "      <td>42.657501</td>\n",
       "      <td>6.055926</td>\n",
       "      <td>10.213995</td>\n",
       "      <td>5.383759</td>\n",
       "      <td>68.116445</td>\n",
       "      <td>2.257889</td>\n",
       "      <td>10.507046</td>\n",
       "      <td>0.953716</td>\n",
       "      <td>16.208849</td>\n",
       "    </tr>\n",
       "    <tr>\n",
       "      <th>3</th>\n",
       "      <td>2016-01-15 03:00:00</td>\n",
       "      <td>6.118189</td>\n",
       "      <td>6.043309</td>\n",
       "      <td>2.037807</td>\n",
       "      <td>36.862241</td>\n",
       "      <td>542.590390</td>\n",
       "      <td>57.792734</td>\n",
       "      <td>11.630094</td>\n",
       "      <td>6.203177</td>\n",
       "      <td>999.814770</td>\n",
       "      <td>...</td>\n",
       "      <td>9.122857</td>\n",
       "      <td>42.689819</td>\n",
       "      <td>6.047977</td>\n",
       "      <td>9.977019</td>\n",
       "      <td>4.858634</td>\n",
       "      <td>68.347543</td>\n",
       "      <td>2.146849</td>\n",
       "      <td>10.422762</td>\n",
       "      <td>0.883763</td>\n",
       "      <td>16.532835</td>\n",
       "    </tr>\n",
       "    <tr>\n",
       "      <th>4</th>\n",
       "      <td>2016-01-15 04:00:00</td>\n",
       "      <td>5.663707</td>\n",
       "      <td>6.060915</td>\n",
       "      <td>1.786875</td>\n",
       "      <td>34.347666</td>\n",
       "      <td>540.531893</td>\n",
       "      <td>56.047189</td>\n",
       "      <td>10.957755</td>\n",
       "      <td>6.198826</td>\n",
       "      <td>999.678690</td>\n",
       "      <td>...</td>\n",
       "      <td>8.871028</td>\n",
       "      <td>42.774141</td>\n",
       "      <td>6.148599</td>\n",
       "      <td>10.142511</td>\n",
       "      <td>4.939416</td>\n",
       "      <td>66.927016</td>\n",
       "      <td>2.055292</td>\n",
       "      <td>10.360302</td>\n",
       "      <td>0.792826</td>\n",
       "      <td>16.525686</td>\n",
       "    </tr>\n",
       "  </tbody>\n",
       "</table>\n",
       "<p>5 rows × 87 columns</p>\n",
       "</div>"
      ],
      "text/plain": [
       "                  date  rougher.input.feed_au  rougher.input.feed_ag  \\\n",
       "0  2016-01-15 00:00:00               6.486150               6.100378   \n",
       "1  2016-01-15 01:00:00               6.478583               6.161113   \n",
       "2  2016-01-15 02:00:00               6.362222               6.116455   \n",
       "3  2016-01-15 03:00:00               6.118189               6.043309   \n",
       "4  2016-01-15 04:00:00               5.663707               6.060915   \n",
       "\n",
       "   rougher.input.feed_pb  rougher.input.feed_sol  rougher.input.feed_rate  \\\n",
       "0               2.284912               36.808594               523.546326   \n",
       "1               2.266033               35.753385               525.290581   \n",
       "2               2.159622               35.971630               530.026610   \n",
       "3               2.037807               36.862241               542.590390   \n",
       "4               1.786875               34.347666               540.531893   \n",
       "\n",
       "   rougher.input.feed_size  rougher.input.floatbank10_sulfate  \\\n",
       "0                55.486599                          11.986616   \n",
       "1                57.278666                          11.971193   \n",
       "2                57.510649                          11.920603   \n",
       "3                57.792734                          11.630094   \n",
       "4                56.047189                          10.957755   \n",
       "\n",
       "   rougher.input.floatbank10_xanthate  rougher.state.floatbank10_a_air  ...  \\\n",
       "0                            6.007990                       999.706909  ...   \n",
       "1                            6.005766                      1000.286398  ...   \n",
       "2                            6.197377                       999.719565  ...   \n",
       "3                            6.203177                       999.814770  ...   \n",
       "4                            6.198826                       999.678690  ...   \n",
       "\n",
       "   secondary_cleaner.output.tail_sol  final.output.concentrate_au  \\\n",
       "0                           8.764648                    42.192020   \n",
       "1                           9.001494                    42.701629   \n",
       "2                           8.842896                    42.657501   \n",
       "3                           9.122857                    42.689819   \n",
       "4                           8.871028                    42.774141   \n",
       "\n",
       "   final.output.concentrate_ag  final.output.concentrate_pb  \\\n",
       "0                     6.055403                     9.889648   \n",
       "1                     6.029369                     9.968944   \n",
       "2                     6.055926                    10.213995   \n",
       "3                     6.047977                     9.977019   \n",
       "4                     6.148599                    10.142511   \n",
       "\n",
       "   final.output.concentrate_sol  final.output.recovery  final.output.tail_au  \\\n",
       "0                      5.507324              70.541216              2.143149   \n",
       "1                      5.257781              69.266198              2.224930   \n",
       "2                      5.383759              68.116445              2.257889   \n",
       "3                      4.858634              68.347543              2.146849   \n",
       "4                      4.939416              66.927016              2.055292   \n",
       "\n",
       "   final.output.tail_ag  final.output.tail_pb  final.output.tail_sol  \n",
       "0             10.411962              0.895447              16.904297  \n",
       "1             10.462676              0.927452              16.634514  \n",
       "2             10.507046              0.953716              16.208849  \n",
       "3             10.422762              0.883763              16.532835  \n",
       "4             10.360302              0.792826              16.525686  \n",
       "\n",
       "[5 rows x 87 columns]"
      ]
     },
     "execution_count": 8,
     "metadata": {},
     "output_type": "execute_result"
    }
   ],
   "source": [
    "data_train.head()"
   ]
  },
  {
   "cell_type": "code",
   "execution_count": 9,
   "id": "c09353a1",
   "metadata": {},
   "outputs": [
    {
     "name": "stdout",
     "output_type": "stream",
     "text": [
      "<class 'pandas.core.frame.DataFrame'>\n",
      "RangeIndex: 14579 entries, 0 to 14578\n",
      "Data columns (total 87 columns):\n",
      " #   Column                                              Non-Null Count  Dtype  \n",
      "---  ------                                              --------------  -----  \n",
      " 0   date                                                14579 non-null  object \n",
      " 1   rougher.input.feed_au                               14579 non-null  float64\n",
      " 2   rougher.input.feed_ag                               14579 non-null  float64\n",
      " 3   rougher.input.feed_pb                               14507 non-null  float64\n",
      " 4   rougher.input.feed_sol                              14502 non-null  float64\n",
      " 5   rougher.input.feed_rate                             14572 non-null  float64\n",
      " 6   rougher.input.feed_size                             14478 non-null  float64\n",
      " 7   rougher.input.floatbank10_sulfate                   14548 non-null  float64\n",
      " 8   rougher.input.floatbank10_xanthate                  14572 non-null  float64\n",
      " 9   rougher.state.floatbank10_a_air                     14579 non-null  float64\n",
      " 10  rougher.state.floatbank10_a_level                   14579 non-null  float64\n",
      " 11  rougher.state.floatbank10_b_air                     14579 non-null  float64\n",
      " 12  rougher.state.floatbank10_b_level                   14579 non-null  float64\n",
      " 13  rougher.state.floatbank10_c_air                     14579 non-null  float64\n",
      " 14  rougher.state.floatbank10_c_level                   14579 non-null  float64\n",
      " 15  rougher.state.floatbank10_d_air                     14579 non-null  float64\n",
      " 16  rougher.state.floatbank10_d_level                   14579 non-null  float64\n",
      " 17  rougher.state.floatbank10_e_air                     14150 non-null  float64\n",
      " 18  rougher.state.floatbank10_e_level                   14579 non-null  float64\n",
      " 19  rougher.state.floatbank10_f_air                     14579 non-null  float64\n",
      " 20  rougher.state.floatbank10_f_level                   14579 non-null  float64\n",
      " 21  rougher.input.floatbank11_sulfate                   14543 non-null  float64\n",
      " 22  rougher.input.floatbank11_xanthate                  14172 non-null  float64\n",
      " 23  rougher.calculation.sulfate_to_au_concentrate       14578 non-null  float64\n",
      " 24  rougher.calculation.floatbank10_sulfate_to_au_feed  14578 non-null  float64\n",
      " 25  rougher.calculation.floatbank11_sulfate_to_au_feed  14578 non-null  float64\n",
      " 26  rougher.calculation.au_pb_ratio                     14579 non-null  float64\n",
      " 27  rougher.output.concentrate_au                       14579 non-null  float64\n",
      " 28  rougher.output.concentrate_ag                       14579 non-null  float64\n",
      " 29  rougher.output.concentrate_pb                       14579 non-null  float64\n",
      " 30  rougher.output.concentrate_sol                      14561 non-null  float64\n",
      " 31  rougher.output.recovery                             14579 non-null  float64\n",
      " 32  rougher.output.tail_au                              14579 non-null  float64\n",
      " 33  rougher.output.tail_ag                              14578 non-null  float64\n",
      " 34  rougher.output.tail_pb                              14579 non-null  float64\n",
      " 35  rougher.output.tail_sol                             14579 non-null  float64\n",
      " 36  primary_cleaner.input.sulfate                       14556 non-null  float64\n",
      " 37  primary_cleaner.input.depressant                    14551 non-null  float64\n",
      " 38  primary_cleaner.input.feed_size                     14579 non-null  float64\n",
      " 39  primary_cleaner.input.xanthate                      14518 non-null  float64\n",
      " 40  primary_cleaner.state.floatbank8_a_air              14576 non-null  float64\n",
      " 41  primary_cleaner.state.floatbank8_a_level            14579 non-null  float64\n",
      " 42  primary_cleaner.state.floatbank8_b_air              14576 non-null  float64\n",
      " 43  primary_cleaner.state.floatbank8_b_level            14579 non-null  float64\n",
      " 44  primary_cleaner.state.floatbank8_c_air              14579 non-null  float64\n",
      " 45  primary_cleaner.state.floatbank8_c_level            14579 non-null  float64\n",
      " 46  primary_cleaner.state.floatbank8_d_air              14578 non-null  float64\n",
      " 47  primary_cleaner.state.floatbank8_d_level            14579 non-null  float64\n",
      " 48  primary_cleaner.output.concentrate_au               14579 non-null  float64\n",
      " 49  primary_cleaner.output.concentrate_ag               14579 non-null  float64\n",
      " 50  primary_cleaner.output.concentrate_pb               14491 non-null  float64\n",
      " 51  primary_cleaner.output.concentrate_sol              14314 non-null  float64\n",
      " 52  primary_cleaner.output.tail_au                      14579 non-null  float64\n",
      " 53  primary_cleaner.output.tail_ag                      14575 non-null  float64\n",
      " 54  primary_cleaner.output.tail_pb                      14573 non-null  float64\n",
      " 55  primary_cleaner.output.tail_sol                     14534 non-null  float64\n",
      " 56  secondary_cleaner.state.floatbank2_a_air            14485 non-null  float64\n",
      " 57  secondary_cleaner.state.floatbank2_a_level          14579 non-null  float64\n",
      " 58  secondary_cleaner.state.floatbank2_b_air            14557 non-null  float64\n",
      " 59  secondary_cleaner.state.floatbank2_b_level          14579 non-null  float64\n",
      " 60  secondary_cleaner.state.floatbank3_a_air            14567 non-null  float64\n",
      " 61  secondary_cleaner.state.floatbank3_a_level          14579 non-null  float64\n",
      " 62  secondary_cleaner.state.floatbank3_b_air            14579 non-null  float64\n",
      " 63  secondary_cleaner.state.floatbank3_b_level          14579 non-null  float64\n",
      " 64  secondary_cleaner.state.floatbank4_a_air            14574 non-null  float64\n",
      " 65  secondary_cleaner.state.floatbank4_a_level          14579 non-null  float64\n",
      " 66  secondary_cleaner.state.floatbank4_b_air            14579 non-null  float64\n",
      " 67  secondary_cleaner.state.floatbank4_b_level          14579 non-null  float64\n",
      " 68  secondary_cleaner.state.floatbank5_a_air            14579 non-null  float64\n",
      " 69  secondary_cleaner.state.floatbank5_a_level          14579 non-null  float64\n",
      " 70  secondary_cleaner.state.floatbank5_b_air            14579 non-null  float64\n",
      " 71  secondary_cleaner.state.floatbank5_b_level          14579 non-null  float64\n",
      " 72  secondary_cleaner.state.floatbank6_a_air            14578 non-null  float64\n",
      " 73  secondary_cleaner.state.floatbank6_a_level          14579 non-null  float64\n",
      " 74  secondary_cleaner.output.tail_au                    14579 non-null  float64\n",
      " 75  secondary_cleaner.output.tail_ag                    14578 non-null  float64\n",
      " 76  secondary_cleaner.output.tail_pb                    14575 non-null  float64\n",
      " 77  secondary_cleaner.output.tail_sol                   13659 non-null  float64\n",
      " 78  final.output.concentrate_au                         14579 non-null  float64\n",
      " 79  final.output.concentrate_ag                         14578 non-null  float64\n",
      " 80  final.output.concentrate_pb                         14578 non-null  float64\n",
      " 81  final.output.concentrate_sol                        14387 non-null  float64\n",
      " 82  final.output.recovery                               14579 non-null  float64\n",
      " 83  final.output.tail_au                                14579 non-null  float64\n",
      " 84  final.output.tail_ag                                14578 non-null  float64\n",
      " 85  final.output.tail_pb                                14504 non-null  float64\n",
      " 86  final.output.tail_sol                               14574 non-null  float64\n",
      "dtypes: float64(86), object(1)\n",
      "memory usage: 9.7+ MB\n"
     ]
    }
   ],
   "source": [
    "data_train.info()"
   ]
  },
  {
   "cell_type": "code",
   "execution_count": 10,
   "id": "08042508",
   "metadata": {},
   "outputs": [
    {
     "data": {
      "text/html": [
       "<div>\n",
       "<style scoped>\n",
       "    .dataframe tbody tr th:only-of-type {\n",
       "        vertical-align: middle;\n",
       "    }\n",
       "\n",
       "    .dataframe tbody tr th {\n",
       "        vertical-align: top;\n",
       "    }\n",
       "\n",
       "    .dataframe thead th {\n",
       "        text-align: right;\n",
       "    }\n",
       "</style>\n",
       "<table border=\"1\" class=\"dataframe\">\n",
       "  <thead>\n",
       "    <tr style=\"text-align: right;\">\n",
       "      <th></th>\n",
       "      <th>rougher.input.feed_au</th>\n",
       "      <th>rougher.input.feed_ag</th>\n",
       "      <th>rougher.input.feed_pb</th>\n",
       "      <th>rougher.input.feed_sol</th>\n",
       "      <th>rougher.input.feed_rate</th>\n",
       "      <th>rougher.input.feed_size</th>\n",
       "      <th>rougher.input.floatbank10_sulfate</th>\n",
       "      <th>rougher.input.floatbank10_xanthate</th>\n",
       "      <th>rougher.state.floatbank10_a_air</th>\n",
       "      <th>rougher.state.floatbank10_a_level</th>\n",
       "      <th>...</th>\n",
       "      <th>secondary_cleaner.output.tail_sol</th>\n",
       "      <th>final.output.concentrate_au</th>\n",
       "      <th>final.output.concentrate_ag</th>\n",
       "      <th>final.output.concentrate_pb</th>\n",
       "      <th>final.output.concentrate_sol</th>\n",
       "      <th>final.output.recovery</th>\n",
       "      <th>final.output.tail_au</th>\n",
       "      <th>final.output.tail_ag</th>\n",
       "      <th>final.output.tail_pb</th>\n",
       "      <th>final.output.tail_sol</th>\n",
       "    </tr>\n",
       "  </thead>\n",
       "  <tbody>\n",
       "    <tr>\n",
       "      <th>count</th>\n",
       "      <td>14579.000000</td>\n",
       "      <td>14579.000000</td>\n",
       "      <td>14507.000000</td>\n",
       "      <td>14502.000000</td>\n",
       "      <td>14572.000000</td>\n",
       "      <td>14478.000000</td>\n",
       "      <td>14548.000000</td>\n",
       "      <td>14572.000000</td>\n",
       "      <td>14579.000000</td>\n",
       "      <td>14579.000000</td>\n",
       "      <td>...</td>\n",
       "      <td>13659.000000</td>\n",
       "      <td>14579.000000</td>\n",
       "      <td>14578.000000</td>\n",
       "      <td>14578.000000</td>\n",
       "      <td>14387.000000</td>\n",
       "      <td>14579.000000</td>\n",
       "      <td>14579.000000</td>\n",
       "      <td>14578.000000</td>\n",
       "      <td>14504.000000</td>\n",
       "      <td>14574.000000</td>\n",
       "    </tr>\n",
       "    <tr>\n",
       "      <th>mean</th>\n",
       "      <td>8.352941</td>\n",
       "      <td>8.877460</td>\n",
       "      <td>3.604221</td>\n",
       "      <td>36.561420</td>\n",
       "      <td>474.332784</td>\n",
       "      <td>58.922712</td>\n",
       "      <td>12.427399</td>\n",
       "      <td>5.994854</td>\n",
       "      <td>1104.208278</td>\n",
       "      <td>-379.367166</td>\n",
       "      <td>...</td>\n",
       "      <td>7.111347</td>\n",
       "      <td>43.979499</td>\n",
       "      <td>5.192145</td>\n",
       "      <td>9.923809</td>\n",
       "      <td>9.566676</td>\n",
       "      <td>66.759066</td>\n",
       "      <td>3.087939</td>\n",
       "      <td>9.731972</td>\n",
       "      <td>2.719985</td>\n",
       "      <td>10.612745</td>\n",
       "    </tr>\n",
       "    <tr>\n",
       "      <th>std</th>\n",
       "      <td>1.934376</td>\n",
       "      <td>1.922536</td>\n",
       "      <td>1.056063</td>\n",
       "      <td>5.209823</td>\n",
       "      <td>108.503552</td>\n",
       "      <td>22.407410</td>\n",
       "      <td>3.428939</td>\n",
       "      <td>1.152873</td>\n",
       "      <td>162.235606</td>\n",
       "      <td>94.652311</td>\n",
       "      <td>...</td>\n",
       "      <td>3.909951</td>\n",
       "      <td>5.471437</td>\n",
       "      <td>1.388014</td>\n",
       "      <td>1.706976</td>\n",
       "      <td>2.805654</td>\n",
       "      <td>10.619709</td>\n",
       "      <td>0.915187</td>\n",
       "      <td>2.358143</td>\n",
       "      <td>0.958929</td>\n",
       "      <td>2.871075</td>\n",
       "    </tr>\n",
       "    <tr>\n",
       "      <th>min</th>\n",
       "      <td>0.010000</td>\n",
       "      <td>0.010000</td>\n",
       "      <td>0.010000</td>\n",
       "      <td>0.010000</td>\n",
       "      <td>0.002986</td>\n",
       "      <td>0.049194</td>\n",
       "      <td>0.001083</td>\n",
       "      <td>0.000568</td>\n",
       "      <td>-0.042069</td>\n",
       "      <td>-657.949759</td>\n",
       "      <td>...</td>\n",
       "      <td>0.000000</td>\n",
       "      <td>0.000000</td>\n",
       "      <td>0.000000</td>\n",
       "      <td>0.000000</td>\n",
       "      <td>0.000000</td>\n",
       "      <td>0.000000</td>\n",
       "      <td>0.000000</td>\n",
       "      <td>0.000000</td>\n",
       "      <td>0.000000</td>\n",
       "      <td>0.000000</td>\n",
       "    </tr>\n",
       "    <tr>\n",
       "      <th>25%</th>\n",
       "      <td>6.932996</td>\n",
       "      <td>7.341922</td>\n",
       "      <td>2.880490</td>\n",
       "      <td>34.093951</td>\n",
       "      <td>411.048483</td>\n",
       "      <td>47.278490</td>\n",
       "      <td>10.002832</td>\n",
       "      <td>5.304167</td>\n",
       "      <td>999.644856</td>\n",
       "      <td>-499.861797</td>\n",
       "      <td>...</td>\n",
       "      <td>3.784897</td>\n",
       "      <td>43.345906</td>\n",
       "      <td>4.283347</td>\n",
       "      <td>9.103183</td>\n",
       "      <td>7.860030</td>\n",
       "      <td>63.114596</td>\n",
       "      <td>2.505287</td>\n",
       "      <td>8.088928</td>\n",
       "      <td>2.036512</td>\n",
       "      <td>9.013412</td>\n",
       "    </tr>\n",
       "    <tr>\n",
       "      <th>50%</th>\n",
       "      <td>8.225284</td>\n",
       "      <td>8.715859</td>\n",
       "      <td>3.532399</td>\n",
       "      <td>37.097511</td>\n",
       "      <td>498.187968</td>\n",
       "      <td>54.361187</td>\n",
       "      <td>12.003320</td>\n",
       "      <td>6.003053</td>\n",
       "      <td>1000.982624</td>\n",
       "      <td>-300.314199</td>\n",
       "      <td>...</td>\n",
       "      <td>7.629968</td>\n",
       "      <td>44.975014</td>\n",
       "      <td>5.118647</td>\n",
       "      <td>10.046455</td>\n",
       "      <td>9.301970</td>\n",
       "      <td>67.962788</td>\n",
       "      <td>3.029238</td>\n",
       "      <td>9.818512</td>\n",
       "      <td>2.774847</td>\n",
       "      <td>10.670515</td>\n",
       "    </tr>\n",
       "    <tr>\n",
       "      <th>75%</th>\n",
       "      <td>9.832210</td>\n",
       "      <td>10.255843</td>\n",
       "      <td>4.257282</td>\n",
       "      <td>39.899799</td>\n",
       "      <td>549.586552</td>\n",
       "      <td>64.464926</td>\n",
       "      <td>14.929903</td>\n",
       "      <td>6.796632</td>\n",
       "      <td>1292.663971</td>\n",
       "      <td>-299.989315</td>\n",
       "      <td>...</td>\n",
       "      <td>10.367050</td>\n",
       "      <td>46.275153</td>\n",
       "      <td>5.925380</td>\n",
       "      <td>10.981203</td>\n",
       "      <td>11.001573</td>\n",
       "      <td>72.598187</td>\n",
       "      <td>3.614098</td>\n",
       "      <td>11.169187</td>\n",
       "      <td>3.353845</td>\n",
       "      <td>12.130827</td>\n",
       "    </tr>\n",
       "    <tr>\n",
       "      <th>max</th>\n",
       "      <td>13.731330</td>\n",
       "      <td>14.596026</td>\n",
       "      <td>7.052325</td>\n",
       "      <td>53.475325</td>\n",
       "      <td>717.508837</td>\n",
       "      <td>484.967466</td>\n",
       "      <td>36.118275</td>\n",
       "      <td>9.703448</td>\n",
       "      <td>1512.299531</td>\n",
       "      <td>-273.776101</td>\n",
       "      <td>...</td>\n",
       "      <td>26.000772</td>\n",
       "      <td>52.756638</td>\n",
       "      <td>16.001945</td>\n",
       "      <td>16.705297</td>\n",
       "      <td>19.423912</td>\n",
       "      <td>100.000000</td>\n",
       "      <td>8.245022</td>\n",
       "      <td>19.552149</td>\n",
       "      <td>5.804178</td>\n",
       "      <td>22.317730</td>\n",
       "    </tr>\n",
       "  </tbody>\n",
       "</table>\n",
       "<p>8 rows × 86 columns</p>\n",
       "</div>"
      ],
      "text/plain": [
       "       rougher.input.feed_au  rougher.input.feed_ag  rougher.input.feed_pb  \\\n",
       "count           14579.000000           14579.000000           14507.000000   \n",
       "mean                8.352941               8.877460               3.604221   \n",
       "std                 1.934376               1.922536               1.056063   \n",
       "min                 0.010000               0.010000               0.010000   \n",
       "25%                 6.932996               7.341922               2.880490   \n",
       "50%                 8.225284               8.715859               3.532399   \n",
       "75%                 9.832210              10.255843               4.257282   \n",
       "max                13.731330              14.596026               7.052325   \n",
       "\n",
       "       rougher.input.feed_sol  rougher.input.feed_rate  \\\n",
       "count            14502.000000             14572.000000   \n",
       "mean                36.561420               474.332784   \n",
       "std                  5.209823               108.503552   \n",
       "min                  0.010000                 0.002986   \n",
       "25%                 34.093951               411.048483   \n",
       "50%                 37.097511               498.187968   \n",
       "75%                 39.899799               549.586552   \n",
       "max                 53.475325               717.508837   \n",
       "\n",
       "       rougher.input.feed_size  rougher.input.floatbank10_sulfate  \\\n",
       "count             14478.000000                       14548.000000   \n",
       "mean                 58.922712                          12.427399   \n",
       "std                  22.407410                           3.428939   \n",
       "min                   0.049194                           0.001083   \n",
       "25%                  47.278490                          10.002832   \n",
       "50%                  54.361187                          12.003320   \n",
       "75%                  64.464926                          14.929903   \n",
       "max                 484.967466                          36.118275   \n",
       "\n",
       "       rougher.input.floatbank10_xanthate  rougher.state.floatbank10_a_air  \\\n",
       "count                        14572.000000                     14579.000000   \n",
       "mean                             5.994854                      1104.208278   \n",
       "std                              1.152873                       162.235606   \n",
       "min                              0.000568                        -0.042069   \n",
       "25%                              5.304167                       999.644856   \n",
       "50%                              6.003053                      1000.982624   \n",
       "75%                              6.796632                      1292.663971   \n",
       "max                              9.703448                      1512.299531   \n",
       "\n",
       "       rougher.state.floatbank10_a_level  ...  \\\n",
       "count                       14579.000000  ...   \n",
       "mean                         -379.367166  ...   \n",
       "std                            94.652311  ...   \n",
       "min                          -657.949759  ...   \n",
       "25%                          -499.861797  ...   \n",
       "50%                          -300.314199  ...   \n",
       "75%                          -299.989315  ...   \n",
       "max                          -273.776101  ...   \n",
       "\n",
       "       secondary_cleaner.output.tail_sol  final.output.concentrate_au  \\\n",
       "count                       13659.000000                 14579.000000   \n",
       "mean                            7.111347                    43.979499   \n",
       "std                             3.909951                     5.471437   \n",
       "min                             0.000000                     0.000000   \n",
       "25%                             3.784897                    43.345906   \n",
       "50%                             7.629968                    44.975014   \n",
       "75%                            10.367050                    46.275153   \n",
       "max                            26.000772                    52.756638   \n",
       "\n",
       "       final.output.concentrate_ag  final.output.concentrate_pb  \\\n",
       "count                 14578.000000                 14578.000000   \n",
       "mean                      5.192145                     9.923809   \n",
       "std                       1.388014                     1.706976   \n",
       "min                       0.000000                     0.000000   \n",
       "25%                       4.283347                     9.103183   \n",
       "50%                       5.118647                    10.046455   \n",
       "75%                       5.925380                    10.981203   \n",
       "max                      16.001945                    16.705297   \n",
       "\n",
       "       final.output.concentrate_sol  final.output.recovery  \\\n",
       "count                  14387.000000           14579.000000   \n",
       "mean                       9.566676              66.759066   \n",
       "std                        2.805654              10.619709   \n",
       "min                        0.000000               0.000000   \n",
       "25%                        7.860030              63.114596   \n",
       "50%                        9.301970              67.962788   \n",
       "75%                       11.001573              72.598187   \n",
       "max                       19.423912             100.000000   \n",
       "\n",
       "       final.output.tail_au  final.output.tail_ag  final.output.tail_pb  \\\n",
       "count          14579.000000          14578.000000          14504.000000   \n",
       "mean               3.087939              9.731972              2.719985   \n",
       "std                0.915187              2.358143              0.958929   \n",
       "min                0.000000              0.000000              0.000000   \n",
       "25%                2.505287              8.088928              2.036512   \n",
       "50%                3.029238              9.818512              2.774847   \n",
       "75%                3.614098             11.169187              3.353845   \n",
       "max                8.245022             19.552149              5.804178   \n",
       "\n",
       "       final.output.tail_sol  \n",
       "count           14574.000000  \n",
       "mean               10.612745  \n",
       "std                 2.871075  \n",
       "min                 0.000000  \n",
       "25%                 9.013412  \n",
       "50%                10.670515  \n",
       "75%                12.130827  \n",
       "max                22.317730  \n",
       "\n",
       "[8 rows x 86 columns]"
      ]
     },
     "execution_count": 10,
     "metadata": {},
     "output_type": "execute_result"
    }
   ],
   "source": [
    "data_train.describe()"
   ]
  },
  {
   "cell_type": "code",
   "execution_count": 11,
   "id": "419ca739",
   "metadata": {},
   "outputs": [
    {
     "name": "stdout",
     "output_type": "stream",
     "text": [
      "date                       0\n",
      "rougher.input.feed_au      0\n",
      "rougher.input.feed_ag      0\n",
      "rougher.input.feed_pb     72\n",
      "rougher.input.feed_sol    77\n",
      "                          ..\n",
      "final.output.recovery      0\n",
      "final.output.tail_au       0\n",
      "final.output.tail_ag       1\n",
      "final.output.tail_pb      75\n",
      "final.output.tail_sol      5\n",
      "Length: 87, dtype: int64\n"
     ]
    }
   ],
   "source": [
    "print(data_train.isna().sum())"
   ]
  },
  {
   "cell_type": "markdown",
   "id": "c8fd93fc",
   "metadata": {},
   "source": [
    "<div style=\"background-color: #F4E4F4; color: #4C4C4C; padding: 10px; border: 1px solid #C4C4C4; height: 70px;\">\n",
    "    DATA_TEST\n",
    "</div>\n"
   ]
  },
  {
   "cell_type": "code",
   "execution_count": 12,
   "id": "4ba5587a",
   "metadata": {},
   "outputs": [
    {
     "data": {
      "text/html": [
       "<div>\n",
       "<style scoped>\n",
       "    .dataframe tbody tr th:only-of-type {\n",
       "        vertical-align: middle;\n",
       "    }\n",
       "\n",
       "    .dataframe tbody tr th {\n",
       "        vertical-align: top;\n",
       "    }\n",
       "\n",
       "    .dataframe thead th {\n",
       "        text-align: right;\n",
       "    }\n",
       "</style>\n",
       "<table border=\"1\" class=\"dataframe\">\n",
       "  <thead>\n",
       "    <tr style=\"text-align: right;\">\n",
       "      <th></th>\n",
       "      <th>date</th>\n",
       "      <th>rougher.input.feed_au</th>\n",
       "      <th>rougher.input.feed_ag</th>\n",
       "      <th>rougher.input.feed_pb</th>\n",
       "      <th>rougher.input.feed_sol</th>\n",
       "      <th>rougher.input.feed_rate</th>\n",
       "      <th>rougher.input.feed_size</th>\n",
       "      <th>rougher.input.floatbank10_sulfate</th>\n",
       "      <th>rougher.input.floatbank10_xanthate</th>\n",
       "      <th>rougher.state.floatbank10_a_air</th>\n",
       "      <th>...</th>\n",
       "      <th>secondary_cleaner.state.floatbank4_a_air</th>\n",
       "      <th>secondary_cleaner.state.floatbank4_a_level</th>\n",
       "      <th>secondary_cleaner.state.floatbank4_b_air</th>\n",
       "      <th>secondary_cleaner.state.floatbank4_b_level</th>\n",
       "      <th>secondary_cleaner.state.floatbank5_a_air</th>\n",
       "      <th>secondary_cleaner.state.floatbank5_a_level</th>\n",
       "      <th>secondary_cleaner.state.floatbank5_b_air</th>\n",
       "      <th>secondary_cleaner.state.floatbank5_b_level</th>\n",
       "      <th>secondary_cleaner.state.floatbank6_a_air</th>\n",
       "      <th>secondary_cleaner.state.floatbank6_a_level</th>\n",
       "    </tr>\n",
       "  </thead>\n",
       "  <tbody>\n",
       "    <tr>\n",
       "      <th>0</th>\n",
       "      <td>2017-12-09 14:59:59</td>\n",
       "      <td>4.365491</td>\n",
       "      <td>6.158718</td>\n",
       "      <td>3.875727</td>\n",
       "      <td>39.135119</td>\n",
       "      <td>555.820208</td>\n",
       "      <td>94.544358</td>\n",
       "      <td>6.146982</td>\n",
       "      <td>9.308612</td>\n",
       "      <td>1196.238112</td>\n",
       "      <td>...</td>\n",
       "      <td>23.018622</td>\n",
       "      <td>-500.492702</td>\n",
       "      <td>20.020205</td>\n",
       "      <td>-500.220296</td>\n",
       "      <td>17.963512</td>\n",
       "      <td>-499.939490</td>\n",
       "      <td>12.990306</td>\n",
       "      <td>-500.080993</td>\n",
       "      <td>19.990336</td>\n",
       "      <td>-499.191575</td>\n",
       "    </tr>\n",
       "    <tr>\n",
       "      <th>1</th>\n",
       "      <td>2017-12-09 15:59:59</td>\n",
       "      <td>4.362781</td>\n",
       "      <td>6.048130</td>\n",
       "      <td>3.902537</td>\n",
       "      <td>39.713906</td>\n",
       "      <td>544.731687</td>\n",
       "      <td>123.742430</td>\n",
       "      <td>6.210119</td>\n",
       "      <td>9.297709</td>\n",
       "      <td>1201.904177</td>\n",
       "      <td>...</td>\n",
       "      <td>23.024963</td>\n",
       "      <td>-501.153409</td>\n",
       "      <td>20.054122</td>\n",
       "      <td>-500.314711</td>\n",
       "      <td>17.979515</td>\n",
       "      <td>-499.272871</td>\n",
       "      <td>12.992404</td>\n",
       "      <td>-499.976268</td>\n",
       "      <td>20.013986</td>\n",
       "      <td>-500.625471</td>\n",
       "    </tr>\n",
       "    <tr>\n",
       "      <th>2</th>\n",
       "      <td>2017-12-09 16:59:59</td>\n",
       "      <td>5.081681</td>\n",
       "      <td>6.082745</td>\n",
       "      <td>4.564078</td>\n",
       "      <td>37.208683</td>\n",
       "      <td>558.155110</td>\n",
       "      <td>82.610855</td>\n",
       "      <td>7.363824</td>\n",
       "      <td>9.003562</td>\n",
       "      <td>1200.826926</td>\n",
       "      <td>...</td>\n",
       "      <td>22.993827</td>\n",
       "      <td>-501.559663</td>\n",
       "      <td>20.029144</td>\n",
       "      <td>-500.000662</td>\n",
       "      <td>18.012723</td>\n",
       "      <td>-500.024764</td>\n",
       "      <td>13.016445</td>\n",
       "      <td>-500.058432</td>\n",
       "      <td>19.973767</td>\n",
       "      <td>-501.394155</td>\n",
       "    </tr>\n",
       "    <tr>\n",
       "      <th>3</th>\n",
       "      <td>2017-12-09 17:59:59</td>\n",
       "      <td>5.145949</td>\n",
       "      <td>6.084374</td>\n",
       "      <td>4.768124</td>\n",
       "      <td>36.808874</td>\n",
       "      <td>539.713765</td>\n",
       "      <td>77.984784</td>\n",
       "      <td>6.927072</td>\n",
       "      <td>8.955597</td>\n",
       "      <td>1199.292489</td>\n",
       "      <td>...</td>\n",
       "      <td>23.032807</td>\n",
       "      <td>-501.287889</td>\n",
       "      <td>19.977466</td>\n",
       "      <td>-500.159903</td>\n",
       "      <td>17.980463</td>\n",
       "      <td>-500.504602</td>\n",
       "      <td>12.949071</td>\n",
       "      <td>-500.009937</td>\n",
       "      <td>20.010332</td>\n",
       "      <td>-508.337973</td>\n",
       "    </tr>\n",
       "    <tr>\n",
       "      <th>4</th>\n",
       "      <td>2017-12-09 18:59:59</td>\n",
       "      <td>5.735249</td>\n",
       "      <td>6.165220</td>\n",
       "      <td>4.512346</td>\n",
       "      <td>37.810642</td>\n",
       "      <td>558.713584</td>\n",
       "      <td>86.434874</td>\n",
       "      <td>7.823471</td>\n",
       "      <td>7.490356</td>\n",
       "      <td>1198.005449</td>\n",
       "      <td>...</td>\n",
       "      <td>23.001911</td>\n",
       "      <td>-499.947838</td>\n",
       "      <td>20.023735</td>\n",
       "      <td>-499.713680</td>\n",
       "      <td>17.990955</td>\n",
       "      <td>-500.334769</td>\n",
       "      <td>13.007523</td>\n",
       "      <td>-499.968459</td>\n",
       "      <td>19.995999</td>\n",
       "      <td>-499.788805</td>\n",
       "    </tr>\n",
       "  </tbody>\n",
       "</table>\n",
       "<p>5 rows × 53 columns</p>\n",
       "</div>"
      ],
      "text/plain": [
       "                  date  rougher.input.feed_au  rougher.input.feed_ag  \\\n",
       "0  2017-12-09 14:59:59               4.365491               6.158718   \n",
       "1  2017-12-09 15:59:59               4.362781               6.048130   \n",
       "2  2017-12-09 16:59:59               5.081681               6.082745   \n",
       "3  2017-12-09 17:59:59               5.145949               6.084374   \n",
       "4  2017-12-09 18:59:59               5.735249               6.165220   \n",
       "\n",
       "   rougher.input.feed_pb  rougher.input.feed_sol  rougher.input.feed_rate  \\\n",
       "0               3.875727               39.135119               555.820208   \n",
       "1               3.902537               39.713906               544.731687   \n",
       "2               4.564078               37.208683               558.155110   \n",
       "3               4.768124               36.808874               539.713765   \n",
       "4               4.512346               37.810642               558.713584   \n",
       "\n",
       "   rougher.input.feed_size  rougher.input.floatbank10_sulfate  \\\n",
       "0                94.544358                           6.146982   \n",
       "1               123.742430                           6.210119   \n",
       "2                82.610855                           7.363824   \n",
       "3                77.984784                           6.927072   \n",
       "4                86.434874                           7.823471   \n",
       "\n",
       "   rougher.input.floatbank10_xanthate  rougher.state.floatbank10_a_air  ...  \\\n",
       "0                            9.308612                      1196.238112  ...   \n",
       "1                            9.297709                      1201.904177  ...   \n",
       "2                            9.003562                      1200.826926  ...   \n",
       "3                            8.955597                      1199.292489  ...   \n",
       "4                            7.490356                      1198.005449  ...   \n",
       "\n",
       "   secondary_cleaner.state.floatbank4_a_air  \\\n",
       "0                                 23.018622   \n",
       "1                                 23.024963   \n",
       "2                                 22.993827   \n",
       "3                                 23.032807   \n",
       "4                                 23.001911   \n",
       "\n",
       "   secondary_cleaner.state.floatbank4_a_level  \\\n",
       "0                                 -500.492702   \n",
       "1                                 -501.153409   \n",
       "2                                 -501.559663   \n",
       "3                                 -501.287889   \n",
       "4                                 -499.947838   \n",
       "\n",
       "   secondary_cleaner.state.floatbank4_b_air  \\\n",
       "0                                 20.020205   \n",
       "1                                 20.054122   \n",
       "2                                 20.029144   \n",
       "3                                 19.977466   \n",
       "4                                 20.023735   \n",
       "\n",
       "   secondary_cleaner.state.floatbank4_b_level  \\\n",
       "0                                 -500.220296   \n",
       "1                                 -500.314711   \n",
       "2                                 -500.000662   \n",
       "3                                 -500.159903   \n",
       "4                                 -499.713680   \n",
       "\n",
       "   secondary_cleaner.state.floatbank5_a_air  \\\n",
       "0                                 17.963512   \n",
       "1                                 17.979515   \n",
       "2                                 18.012723   \n",
       "3                                 17.980463   \n",
       "4                                 17.990955   \n",
       "\n",
       "   secondary_cleaner.state.floatbank5_a_level  \\\n",
       "0                                 -499.939490   \n",
       "1                                 -499.272871   \n",
       "2                                 -500.024764   \n",
       "3                                 -500.504602   \n",
       "4                                 -500.334769   \n",
       "\n",
       "   secondary_cleaner.state.floatbank5_b_air  \\\n",
       "0                                 12.990306   \n",
       "1                                 12.992404   \n",
       "2                                 13.016445   \n",
       "3                                 12.949071   \n",
       "4                                 13.007523   \n",
       "\n",
       "   secondary_cleaner.state.floatbank5_b_level  \\\n",
       "0                                 -500.080993   \n",
       "1                                 -499.976268   \n",
       "2                                 -500.058432   \n",
       "3                                 -500.009937   \n",
       "4                                 -499.968459   \n",
       "\n",
       "   secondary_cleaner.state.floatbank6_a_air  \\\n",
       "0                                 19.990336   \n",
       "1                                 20.013986   \n",
       "2                                 19.973767   \n",
       "3                                 20.010332   \n",
       "4                                 19.995999   \n",
       "\n",
       "   secondary_cleaner.state.floatbank6_a_level  \n",
       "0                                 -499.191575  \n",
       "1                                 -500.625471  \n",
       "2                                 -501.394155  \n",
       "3                                 -508.337973  \n",
       "4                                 -499.788805  \n",
       "\n",
       "[5 rows x 53 columns]"
      ]
     },
     "execution_count": 12,
     "metadata": {},
     "output_type": "execute_result"
    }
   ],
   "source": [
    "data_test.head()"
   ]
  },
  {
   "cell_type": "code",
   "execution_count": 13,
   "id": "dc4c04d1",
   "metadata": {},
   "outputs": [
    {
     "name": "stdout",
     "output_type": "stream",
     "text": [
      "<class 'pandas.core.frame.DataFrame'>\n",
      "RangeIndex: 4860 entries, 0 to 4859\n",
      "Data columns (total 53 columns):\n",
      " #   Column                                      Non-Null Count  Dtype  \n",
      "---  ------                                      --------------  -----  \n",
      " 0   date                                        4860 non-null   object \n",
      " 1   rougher.input.feed_au                       4860 non-null   float64\n",
      " 2   rougher.input.feed_ag                       4860 non-null   float64\n",
      " 3   rougher.input.feed_pb                       4832 non-null   float64\n",
      " 4   rougher.input.feed_sol                      4838 non-null   float64\n",
      " 5   rougher.input.feed_rate                     4856 non-null   float64\n",
      " 6   rougher.input.feed_size                     4816 non-null   float64\n",
      " 7   rougher.input.floatbank10_sulfate           4857 non-null   float64\n",
      " 8   rougher.input.floatbank10_xanthate          4859 non-null   float64\n",
      " 9   rougher.state.floatbank10_a_air             4859 non-null   float64\n",
      " 10  rougher.state.floatbank10_a_level           4859 non-null   float64\n",
      " 11  rougher.state.floatbank10_b_air             4859 non-null   float64\n",
      " 12  rougher.state.floatbank10_b_level           4859 non-null   float64\n",
      " 13  rougher.state.floatbank10_c_air             4859 non-null   float64\n",
      " 14  rougher.state.floatbank10_c_level           4859 non-null   float64\n",
      " 15  rougher.state.floatbank10_d_air             4860 non-null   float64\n",
      " 16  rougher.state.floatbank10_d_level           4860 non-null   float64\n",
      " 17  rougher.state.floatbank10_e_air             4853 non-null   float64\n",
      " 18  rougher.state.floatbank10_e_level           4860 non-null   float64\n",
      " 19  rougher.state.floatbank10_f_air             4860 non-null   float64\n",
      " 20  rougher.state.floatbank10_f_level           4860 non-null   float64\n",
      " 21  rougher.input.floatbank11_sulfate           4852 non-null   float64\n",
      " 22  rougher.input.floatbank11_xanthate          4814 non-null   float64\n",
      " 23  primary_cleaner.input.sulfate               4859 non-null   float64\n",
      " 24  primary_cleaner.input.depressant            4851 non-null   float64\n",
      " 25  primary_cleaner.input.feed_size             4860 non-null   float64\n",
      " 26  primary_cleaner.input.xanthate              4817 non-null   float64\n",
      " 27  primary_cleaner.state.floatbank8_a_air      4859 non-null   float64\n",
      " 28  primary_cleaner.state.floatbank8_a_level    4859 non-null   float64\n",
      " 29  primary_cleaner.state.floatbank8_b_air      4859 non-null   float64\n",
      " 30  primary_cleaner.state.floatbank8_b_level    4859 non-null   float64\n",
      " 31  primary_cleaner.state.floatbank8_c_air      4858 non-null   float64\n",
      " 32  primary_cleaner.state.floatbank8_c_level    4859 non-null   float64\n",
      " 33  primary_cleaner.state.floatbank8_d_air      4858 non-null   float64\n",
      " 34  primary_cleaner.state.floatbank8_d_level    4859 non-null   float64\n",
      " 35  secondary_cleaner.state.floatbank2_a_air    4734 non-null   float64\n",
      " 36  secondary_cleaner.state.floatbank2_a_level  4859 non-null   float64\n",
      " 37  secondary_cleaner.state.floatbank2_b_air    4859 non-null   float64\n",
      " 38  secondary_cleaner.state.floatbank2_b_level  4859 non-null   float64\n",
      " 39  secondary_cleaner.state.floatbank3_a_air    4859 non-null   float64\n",
      " 40  secondary_cleaner.state.floatbank3_a_level  4859 non-null   float64\n",
      " 41  secondary_cleaner.state.floatbank3_b_air    4859 non-null   float64\n",
      " 42  secondary_cleaner.state.floatbank3_b_level  4859 non-null   float64\n",
      " 43  secondary_cleaner.state.floatbank4_a_air    4859 non-null   float64\n",
      " 44  secondary_cleaner.state.floatbank4_a_level  4859 non-null   float64\n",
      " 45  secondary_cleaner.state.floatbank4_b_air    4859 non-null   float64\n",
      " 46  secondary_cleaner.state.floatbank4_b_level  4859 non-null   float64\n",
      " 47  secondary_cleaner.state.floatbank5_a_air    4859 non-null   float64\n",
      " 48  secondary_cleaner.state.floatbank5_a_level  4859 non-null   float64\n",
      " 49  secondary_cleaner.state.floatbank5_b_air    4859 non-null   float64\n",
      " 50  secondary_cleaner.state.floatbank5_b_level  4859 non-null   float64\n",
      " 51  secondary_cleaner.state.floatbank6_a_air    4859 non-null   float64\n",
      " 52  secondary_cleaner.state.floatbank6_a_level  4859 non-null   float64\n",
      "dtypes: float64(52), object(1)\n",
      "memory usage: 2.0+ MB\n"
     ]
    }
   ],
   "source": [
    "data_test.info()"
   ]
  },
  {
   "cell_type": "markdown",
   "id": "ab38a769",
   "metadata": {},
   "source": [
    "<div class=\"alert alert-warning\">\n",
    "<font size=\"4\"><b>⚠️ Комментарий ревьюера</b></font>\n",
    "    <br /> \n",
    "    <font size=\"3\", color = \"black\">\n",
    "<br />\n",
    "Что ты хотел сделать здесь - загадка. Но, несмотря на то, что это второе падение кода, пока снова ограничимся жёлтым."
   ]
  },
  {
   "cell_type": "markdown",
   "id": "097a58c2",
   "metadata": {},
   "source": [
    "<div style=\"background-color: #F4E4F4; color: #4C4C4C; padding: 10px; border: 1px solid #C4C4C4; height: 70px;\">\n",
    "\n",
    "**КОММЕНТАРИЙ СТУДЕНТА**\n",
    "\n",
    "Хотел посмотреть сколько значений находятся за пределами 1 и 3 квартилей, однако понял, что этот шаг нужно делать намного позже!\n",
    "</div>\n"
   ]
  },
  {
   "cell_type": "code",
   "execution_count": 14,
   "id": "0316765a",
   "metadata": {},
   "outputs": [
    {
     "data": {
      "text/html": [
       "<div>\n",
       "<style scoped>\n",
       "    .dataframe tbody tr th:only-of-type {\n",
       "        vertical-align: middle;\n",
       "    }\n",
       "\n",
       "    .dataframe tbody tr th {\n",
       "        vertical-align: top;\n",
       "    }\n",
       "\n",
       "    .dataframe thead th {\n",
       "        text-align: right;\n",
       "    }\n",
       "</style>\n",
       "<table border=\"1\" class=\"dataframe\">\n",
       "  <thead>\n",
       "    <tr style=\"text-align: right;\">\n",
       "      <th></th>\n",
       "      <th>rougher.input.feed_au</th>\n",
       "      <th>rougher.input.feed_ag</th>\n",
       "      <th>rougher.input.feed_pb</th>\n",
       "      <th>rougher.input.feed_sol</th>\n",
       "      <th>rougher.input.feed_rate</th>\n",
       "      <th>rougher.input.feed_size</th>\n",
       "      <th>rougher.input.floatbank10_sulfate</th>\n",
       "      <th>rougher.input.floatbank10_xanthate</th>\n",
       "      <th>rougher.state.floatbank10_a_air</th>\n",
       "      <th>rougher.state.floatbank10_a_level</th>\n",
       "      <th>...</th>\n",
       "      <th>secondary_cleaner.state.floatbank4_a_air</th>\n",
       "      <th>secondary_cleaner.state.floatbank4_a_level</th>\n",
       "      <th>secondary_cleaner.state.floatbank4_b_air</th>\n",
       "      <th>secondary_cleaner.state.floatbank4_b_level</th>\n",
       "      <th>secondary_cleaner.state.floatbank5_a_air</th>\n",
       "      <th>secondary_cleaner.state.floatbank5_a_level</th>\n",
       "      <th>secondary_cleaner.state.floatbank5_b_air</th>\n",
       "      <th>secondary_cleaner.state.floatbank5_b_level</th>\n",
       "      <th>secondary_cleaner.state.floatbank6_a_air</th>\n",
       "      <th>secondary_cleaner.state.floatbank6_a_level</th>\n",
       "    </tr>\n",
       "  </thead>\n",
       "  <tbody>\n",
       "    <tr>\n",
       "      <th>count</th>\n",
       "      <td>4860.000000</td>\n",
       "      <td>4860.000000</td>\n",
       "      <td>4832.000000</td>\n",
       "      <td>4838.000000</td>\n",
       "      <td>4856.000000</td>\n",
       "      <td>4816.000000</td>\n",
       "      <td>4857.000000</td>\n",
       "      <td>4859.000000</td>\n",
       "      <td>4859.000000</td>\n",
       "      <td>4859.000000</td>\n",
       "      <td>...</td>\n",
       "      <td>4.859000e+03</td>\n",
       "      <td>4859.000000</td>\n",
       "      <td>4.859000e+03</td>\n",
       "      <td>4859.000000</td>\n",
       "      <td>4859.000000</td>\n",
       "      <td>4859.000000</td>\n",
       "      <td>4859.000000</td>\n",
       "      <td>4859.000000</td>\n",
       "      <td>4859.000000</td>\n",
       "      <td>4859.000000</td>\n",
       "    </tr>\n",
       "    <tr>\n",
       "      <th>mean</th>\n",
       "      <td>8.005584</td>\n",
       "      <td>8.547348</td>\n",
       "      <td>3.579662</td>\n",
       "      <td>37.095864</td>\n",
       "      <td>490.285103</td>\n",
       "      <td>59.113400</td>\n",
       "      <td>12.055735</td>\n",
       "      <td>6.101308</td>\n",
       "      <td>1108.635895</td>\n",
       "      <td>-368.340127</td>\n",
       "      <td>...</td>\n",
       "      <td>1.985770e+01</td>\n",
       "      <td>-488.665140</td>\n",
       "      <td>1.557025e+01</td>\n",
       "      <td>-464.176507</td>\n",
       "      <td>16.594103</td>\n",
       "      <td>-490.815250</td>\n",
       "      <td>12.945971</td>\n",
       "      <td>-489.583564</td>\n",
       "      <td>19.053888</td>\n",
       "      <td>-504.678924</td>\n",
       "    </tr>\n",
       "    <tr>\n",
       "      <th>std</th>\n",
       "      <td>1.993590</td>\n",
       "      <td>1.958601</td>\n",
       "      <td>1.029377</td>\n",
       "      <td>4.926284</td>\n",
       "      <td>94.371623</td>\n",
       "      <td>19.125122</td>\n",
       "      <td>3.407642</td>\n",
       "      <td>1.042754</td>\n",
       "      <td>156.493143</td>\n",
       "      <td>91.155929</td>\n",
       "      <td>...</td>\n",
       "      <td>5.913105e+00</td>\n",
       "      <td>44.392714</td>\n",
       "      <td>4.927361e+00</td>\n",
       "      <td>65.706994</td>\n",
       "      <td>5.724305</td>\n",
       "      <td>32.258443</td>\n",
       "      <td>5.533176</td>\n",
       "      <td>37.084609</td>\n",
       "      <td>5.548996</td>\n",
       "      <td>38.690186</td>\n",
       "    </tr>\n",
       "    <tr>\n",
       "      <th>min</th>\n",
       "      <td>0.010000</td>\n",
       "      <td>0.010000</td>\n",
       "      <td>0.010000</td>\n",
       "      <td>0.010000</td>\n",
       "      <td>0.012786</td>\n",
       "      <td>0.046369</td>\n",
       "      <td>0.018907</td>\n",
       "      <td>0.015783</td>\n",
       "      <td>300.792494</td>\n",
       "      <td>-600.568138</td>\n",
       "      <td>...</td>\n",
       "      <td>1.079872e-16</td>\n",
       "      <td>-799.704969</td>\n",
       "      <td>2.489718e-17</td>\n",
       "      <td>-799.860767</td>\n",
       "      <td>-0.371498</td>\n",
       "      <td>-797.142475</td>\n",
       "      <td>1.358469</td>\n",
       "      <td>-800.006180</td>\n",
       "      <td>0.160386</td>\n",
       "      <td>-809.734800</td>\n",
       "    </tr>\n",
       "    <tr>\n",
       "      <th>25%</th>\n",
       "      <td>6.574363</td>\n",
       "      <td>6.975898</td>\n",
       "      <td>2.903612</td>\n",
       "      <td>34.510841</td>\n",
       "      <td>434.099695</td>\n",
       "      <td>47.596984</td>\n",
       "      <td>9.890429</td>\n",
       "      <td>5.499808</td>\n",
       "      <td>999.715729</td>\n",
       "      <td>-499.731972</td>\n",
       "      <td>...</td>\n",
       "      <td>1.501123e+01</td>\n",
       "      <td>-500.704004</td>\n",
       "      <td>1.202172e+01</td>\n",
       "      <td>-500.196517</td>\n",
       "      <td>11.073822</td>\n",
       "      <td>-500.483564</td>\n",
       "      <td>9.011890</td>\n",
       "      <td>-500.129913</td>\n",
       "      <td>14.963953</td>\n",
       "      <td>-500.668501</td>\n",
       "    </tr>\n",
       "    <tr>\n",
       "      <th>50%</th>\n",
       "      <td>7.812923</td>\n",
       "      <td>8.179714</td>\n",
       "      <td>3.540772</td>\n",
       "      <td>37.499761</td>\n",
       "      <td>502.118742</td>\n",
       "      <td>55.509481</td>\n",
       "      <td>11.997859</td>\n",
       "      <td>6.099805</td>\n",
       "      <td>1001.414798</td>\n",
       "      <td>-300.181367</td>\n",
       "      <td>...</td>\n",
       "      <td>1.996807e+01</td>\n",
       "      <td>-499.892919</td>\n",
       "      <td>1.501240e+01</td>\n",
       "      <td>-499.540776</td>\n",
       "      <td>16.631195</td>\n",
       "      <td>-499.873136</td>\n",
       "      <td>11.999417</td>\n",
       "      <td>-499.955304</td>\n",
       "      <td>19.960006</td>\n",
       "      <td>-500.033769</td>\n",
       "    </tr>\n",
       "    <tr>\n",
       "      <th>75%</th>\n",
       "      <td>9.556589</td>\n",
       "      <td>10.084339</td>\n",
       "      <td>4.199847</td>\n",
       "      <td>40.461315</td>\n",
       "      <td>555.596563</td>\n",
       "      <td>66.661547</td>\n",
       "      <td>14.496072</td>\n",
       "      <td>6.802101</td>\n",
       "      <td>1202.837565</td>\n",
       "      <td>-299.961547</td>\n",
       "      <td>...</td>\n",
       "      <td>2.498900e+01</td>\n",
       "      <td>-498.652030</td>\n",
       "      <td>1.999949e+01</td>\n",
       "      <td>-400.302329</td>\n",
       "      <td>19.983191</td>\n",
       "      <td>-498.852815</td>\n",
       "      <td>15.004198</td>\n",
       "      <td>-499.643776</td>\n",
       "      <td>24.974583</td>\n",
       "      <td>-499.460134</td>\n",
       "    </tr>\n",
       "    <tr>\n",
       "      <th>max</th>\n",
       "      <td>13.417156</td>\n",
       "      <td>14.533698</td>\n",
       "      <td>7.142594</td>\n",
       "      <td>53.477742</td>\n",
       "      <td>702.523396</td>\n",
       "      <td>363.989699</td>\n",
       "      <td>30.010759</td>\n",
       "      <td>9.396928</td>\n",
       "      <td>1521.980372</td>\n",
       "      <td>-281.039299</td>\n",
       "      <td>...</td>\n",
       "      <td>3.008450e+01</td>\n",
       "      <td>-383.373053</td>\n",
       "      <td>2.398898e+01</td>\n",
       "      <td>-114.250832</td>\n",
       "      <td>33.215996</td>\n",
       "      <td>-288.963521</td>\n",
       "      <td>24.177106</td>\n",
       "      <td>-141.934397</td>\n",
       "      <td>32.028529</td>\n",
       "      <td>-104.427459</td>\n",
       "    </tr>\n",
       "  </tbody>\n",
       "</table>\n",
       "<p>8 rows × 52 columns</p>\n",
       "</div>"
      ],
      "text/plain": [
       "       rougher.input.feed_au  rougher.input.feed_ag  rougher.input.feed_pb  \\\n",
       "count            4860.000000            4860.000000            4832.000000   \n",
       "mean                8.005584               8.547348               3.579662   \n",
       "std                 1.993590               1.958601               1.029377   \n",
       "min                 0.010000               0.010000               0.010000   \n",
       "25%                 6.574363               6.975898               2.903612   \n",
       "50%                 7.812923               8.179714               3.540772   \n",
       "75%                 9.556589              10.084339               4.199847   \n",
       "max                13.417156              14.533698               7.142594   \n",
       "\n",
       "       rougher.input.feed_sol  rougher.input.feed_rate  \\\n",
       "count             4838.000000              4856.000000   \n",
       "mean                37.095864               490.285103   \n",
       "std                  4.926284                94.371623   \n",
       "min                  0.010000                 0.012786   \n",
       "25%                 34.510841               434.099695   \n",
       "50%                 37.499761               502.118742   \n",
       "75%                 40.461315               555.596563   \n",
       "max                 53.477742               702.523396   \n",
       "\n",
       "       rougher.input.feed_size  rougher.input.floatbank10_sulfate  \\\n",
       "count              4816.000000                        4857.000000   \n",
       "mean                 59.113400                          12.055735   \n",
       "std                  19.125122                           3.407642   \n",
       "min                   0.046369                           0.018907   \n",
       "25%                  47.596984                           9.890429   \n",
       "50%                  55.509481                          11.997859   \n",
       "75%                  66.661547                          14.496072   \n",
       "max                 363.989699                          30.010759   \n",
       "\n",
       "       rougher.input.floatbank10_xanthate  rougher.state.floatbank10_a_air  \\\n",
       "count                         4859.000000                      4859.000000   \n",
       "mean                             6.101308                      1108.635895   \n",
       "std                              1.042754                       156.493143   \n",
       "min                              0.015783                       300.792494   \n",
       "25%                              5.499808                       999.715729   \n",
       "50%                              6.099805                      1001.414798   \n",
       "75%                              6.802101                      1202.837565   \n",
       "max                              9.396928                      1521.980372   \n",
       "\n",
       "       rougher.state.floatbank10_a_level  ...  \\\n",
       "count                        4859.000000  ...   \n",
       "mean                         -368.340127  ...   \n",
       "std                            91.155929  ...   \n",
       "min                          -600.568138  ...   \n",
       "25%                          -499.731972  ...   \n",
       "50%                          -300.181367  ...   \n",
       "75%                          -299.961547  ...   \n",
       "max                          -281.039299  ...   \n",
       "\n",
       "       secondary_cleaner.state.floatbank4_a_air  \\\n",
       "count                              4.859000e+03   \n",
       "mean                               1.985770e+01   \n",
       "std                                5.913105e+00   \n",
       "min                                1.079872e-16   \n",
       "25%                                1.501123e+01   \n",
       "50%                                1.996807e+01   \n",
       "75%                                2.498900e+01   \n",
       "max                                3.008450e+01   \n",
       "\n",
       "       secondary_cleaner.state.floatbank4_a_level  \\\n",
       "count                                 4859.000000   \n",
       "mean                                  -488.665140   \n",
       "std                                     44.392714   \n",
       "min                                   -799.704969   \n",
       "25%                                   -500.704004   \n",
       "50%                                   -499.892919   \n",
       "75%                                   -498.652030   \n",
       "max                                   -383.373053   \n",
       "\n",
       "       secondary_cleaner.state.floatbank4_b_air  \\\n",
       "count                              4.859000e+03   \n",
       "mean                               1.557025e+01   \n",
       "std                                4.927361e+00   \n",
       "min                                2.489718e-17   \n",
       "25%                                1.202172e+01   \n",
       "50%                                1.501240e+01   \n",
       "75%                                1.999949e+01   \n",
       "max                                2.398898e+01   \n",
       "\n",
       "       secondary_cleaner.state.floatbank4_b_level  \\\n",
       "count                                 4859.000000   \n",
       "mean                                  -464.176507   \n",
       "std                                     65.706994   \n",
       "min                                   -799.860767   \n",
       "25%                                   -500.196517   \n",
       "50%                                   -499.540776   \n",
       "75%                                   -400.302329   \n",
       "max                                   -114.250832   \n",
       "\n",
       "       secondary_cleaner.state.floatbank5_a_air  \\\n",
       "count                               4859.000000   \n",
       "mean                                  16.594103   \n",
       "std                                    5.724305   \n",
       "min                                   -0.371498   \n",
       "25%                                   11.073822   \n",
       "50%                                   16.631195   \n",
       "75%                                   19.983191   \n",
       "max                                   33.215996   \n",
       "\n",
       "       secondary_cleaner.state.floatbank5_a_level  \\\n",
       "count                                 4859.000000   \n",
       "mean                                  -490.815250   \n",
       "std                                     32.258443   \n",
       "min                                   -797.142475   \n",
       "25%                                   -500.483564   \n",
       "50%                                   -499.873136   \n",
       "75%                                   -498.852815   \n",
       "max                                   -288.963521   \n",
       "\n",
       "       secondary_cleaner.state.floatbank5_b_air  \\\n",
       "count                               4859.000000   \n",
       "mean                                  12.945971   \n",
       "std                                    5.533176   \n",
       "min                                    1.358469   \n",
       "25%                                    9.011890   \n",
       "50%                                   11.999417   \n",
       "75%                                   15.004198   \n",
       "max                                   24.177106   \n",
       "\n",
       "       secondary_cleaner.state.floatbank5_b_level  \\\n",
       "count                                 4859.000000   \n",
       "mean                                  -489.583564   \n",
       "std                                     37.084609   \n",
       "min                                   -800.006180   \n",
       "25%                                   -500.129913   \n",
       "50%                                   -499.955304   \n",
       "75%                                   -499.643776   \n",
       "max                                   -141.934397   \n",
       "\n",
       "       secondary_cleaner.state.floatbank6_a_air  \\\n",
       "count                               4859.000000   \n",
       "mean                                  19.053888   \n",
       "std                                    5.548996   \n",
       "min                                    0.160386   \n",
       "25%                                   14.963953   \n",
       "50%                                   19.960006   \n",
       "75%                                   24.974583   \n",
       "max                                   32.028529   \n",
       "\n",
       "       secondary_cleaner.state.floatbank6_a_level  \n",
       "count                                 4859.000000  \n",
       "mean                                  -504.678924  \n",
       "std                                     38.690186  \n",
       "min                                   -809.734800  \n",
       "25%                                   -500.668501  \n",
       "50%                                   -500.033769  \n",
       "75%                                   -499.460134  \n",
       "max                                   -104.427459  \n",
       "\n",
       "[8 rows x 52 columns]"
      ]
     },
     "execution_count": 14,
     "metadata": {},
     "output_type": "execute_result"
    }
   ],
   "source": [
    "data_test.describe()"
   ]
  },
  {
   "cell_type": "code",
   "execution_count": 15,
   "id": "4e45a846",
   "metadata": {},
   "outputs": [
    {
     "name": "stdout",
     "output_type": "stream",
     "text": [
      "date                                            0\n",
      "rougher.input.feed_au                           0\n",
      "rougher.input.feed_ag                           0\n",
      "rougher.input.feed_pb                          28\n",
      "rougher.input.feed_sol                         22\n",
      "rougher.input.feed_rate                         4\n",
      "rougher.input.feed_size                        44\n",
      "rougher.input.floatbank10_sulfate               3\n",
      "rougher.input.floatbank10_xanthate              1\n",
      "rougher.state.floatbank10_a_air                 1\n",
      "rougher.state.floatbank10_a_level               1\n",
      "rougher.state.floatbank10_b_air                 1\n",
      "rougher.state.floatbank10_b_level               1\n",
      "rougher.state.floatbank10_c_air                 1\n",
      "rougher.state.floatbank10_c_level               1\n",
      "rougher.state.floatbank10_d_air                 0\n",
      "rougher.state.floatbank10_d_level               0\n",
      "rougher.state.floatbank10_e_air                 7\n",
      "rougher.state.floatbank10_e_level               0\n",
      "rougher.state.floatbank10_f_air                 0\n",
      "rougher.state.floatbank10_f_level               0\n",
      "rougher.input.floatbank11_sulfate               8\n",
      "rougher.input.floatbank11_xanthate             46\n",
      "primary_cleaner.input.sulfate                   1\n",
      "primary_cleaner.input.depressant                9\n",
      "primary_cleaner.input.feed_size                 0\n",
      "primary_cleaner.input.xanthate                 43\n",
      "primary_cleaner.state.floatbank8_a_air          1\n",
      "primary_cleaner.state.floatbank8_a_level        1\n",
      "primary_cleaner.state.floatbank8_b_air          1\n",
      "primary_cleaner.state.floatbank8_b_level        1\n",
      "primary_cleaner.state.floatbank8_c_air          2\n",
      "primary_cleaner.state.floatbank8_c_level        1\n",
      "primary_cleaner.state.floatbank8_d_air          2\n",
      "primary_cleaner.state.floatbank8_d_level        1\n",
      "secondary_cleaner.state.floatbank2_a_air      126\n",
      "secondary_cleaner.state.floatbank2_a_level      1\n",
      "secondary_cleaner.state.floatbank2_b_air        1\n",
      "secondary_cleaner.state.floatbank2_b_level      1\n",
      "secondary_cleaner.state.floatbank3_a_air        1\n",
      "secondary_cleaner.state.floatbank3_a_level      1\n",
      "secondary_cleaner.state.floatbank3_b_air        1\n",
      "secondary_cleaner.state.floatbank3_b_level      1\n",
      "secondary_cleaner.state.floatbank4_a_air        1\n",
      "secondary_cleaner.state.floatbank4_a_level      1\n",
      "secondary_cleaner.state.floatbank4_b_air        1\n",
      "secondary_cleaner.state.floatbank4_b_level      1\n",
      "secondary_cleaner.state.floatbank5_a_air        1\n",
      "secondary_cleaner.state.floatbank5_a_level      1\n",
      "secondary_cleaner.state.floatbank5_b_air        1\n",
      "secondary_cleaner.state.floatbank5_b_level      1\n",
      "secondary_cleaner.state.floatbank6_a_air        1\n",
      "secondary_cleaner.state.floatbank6_a_level      1\n",
      "dtype: int64\n"
     ]
    }
   ],
   "source": [
    "print(data_test.isna().sum())"
   ]
  },
  {
   "cell_type": "markdown",
   "id": "7bc4a966",
   "metadata": {},
   "source": [
    "<div style=\"background-color: #F4E4F4; color: #4C4C4C; padding: 10px; border: 1px solid #C4C4C4; \">\n",
    "\n",
    "**Описание данных:**\n",
    "\n",
    "**Технологический процесс:**\n",
    "\n",
    "\n",
    "Rougher feed — исходное сырье\n",
    "\n",
    "Rougher additions (или reagent additions) — флотационные реагенты: Xanthate, Sulphate, Depressant\n",
    "\n",
    "Xanthate — ксантогенат (промотер, или активатор флотации);\n",
    "\n",
    "Sulphate — сульфат (на данном производстве сульфид натрия);\n",
    "\n",
    "Depressant — депрессант (силикат натрия).\n",
    "\n",
    "Rougher process (англ. «грубый процесс») — флотация\n",
    "\n",
    "Rougher tails — отвальные хвосты\n",
    "\n",
    "Float banks — флотационная установка\n",
    "\n",
    "Cleaner process — очистка\n",
    "\n",
    "Rougher Au — черновой концентрат золота\n",
    "\n",
    "Final Au — финальный концентрат золота\n",
    "\n",
    "\n",
    "**Параметры этапов:**\n",
    "\n",
    "\n",
    "air amount — объём воздуха\n",
    "    \n",
    "fluid levels — уровень жидкости\n",
    "    \n",
    "feed size — размер гранул сырья\n",
    "    \n",
    "feed rate — скорость подачи\n",
    "    \n",
    "**Возможные значения для блока [этап]:**\n",
    "    \n",
    "* \t\trougher — флотация\n",
    "* \t\tprimary_cleaner — первичная очистка\n",
    "* \t\tsecondary_cleaner — вторичная очистка\n",
    "* \t\tfinal — финальные характеристики\n",
    "    \n",
    "**Возможные значения для блока [тип_параметра]:**\n",
    "    \n",
    "* \t\tinput — параметры сырья\n",
    "* \t\toutput — параметры продукта\n",
    "* \t\tstate — параметры, характеризующие текущее состояние этапа\n",
    "* \t\tcalculation — расчётные характеристики\n",
    "</div>"
   ]
  },
  {
   "cell_type": "code",
   "execution_count": 16,
   "id": "2bcb741a",
   "metadata": {},
   "outputs": [
    {
     "name": "stdout",
     "output_type": "stream",
     "text": [
      "rougher.calculation.sulfate_to_au_concentrate\n",
      "rougher.calculation.floatbank10_sulfate_to_au_feed\n",
      "rougher.calculation.floatbank11_sulfate_to_au_feed\n",
      "rougher.calculation.au_pb_ratio\n",
      "rougher.output.concentrate_au\n",
      "rougher.output.concentrate_ag\n",
      "rougher.output.concentrate_pb\n",
      "rougher.output.concentrate_sol\n",
      "rougher.output.recovery\n",
      "rougher.output.tail_au\n",
      "rougher.output.tail_ag\n",
      "rougher.output.tail_pb\n",
      "rougher.output.tail_sol\n",
      "primary_cleaner.output.concentrate_au\n",
      "primary_cleaner.output.concentrate_ag\n",
      "primary_cleaner.output.concentrate_pb\n",
      "primary_cleaner.output.concentrate_sol\n",
      "primary_cleaner.output.tail_au\n",
      "primary_cleaner.output.tail_ag\n",
      "primary_cleaner.output.tail_pb\n",
      "primary_cleaner.output.tail_sol\n",
      "secondary_cleaner.output.tail_au\n",
      "secondary_cleaner.output.tail_ag\n",
      "secondary_cleaner.output.tail_pb\n",
      "secondary_cleaner.output.tail_sol\n",
      "final.output.concentrate_au\n",
      "final.output.concentrate_ag\n",
      "final.output.concentrate_pb\n",
      "final.output.concentrate_sol\n",
      "final.output.recovery\n",
      "final.output.tail_au\n",
      "final.output.tail_ag\n",
      "final.output.tail_pb\n",
      "final.output.tail_sol\n"
     ]
    }
   ],
   "source": [
    "# Посмотрим чего нет в тесте\n",
    "for column in data_full.columns:\n",
    "    if column not in data_test.columns:\n",
    "        print(column)"
   ]
  },
  {
   "cell_type": "markdown",
   "id": "4139851a",
   "metadata": {},
   "source": [
    "<div class=\"alert alert-warning\">\n",
    "<font size=\"4\"><b>⚠️ Комментарий ревьюера</b></font>\n",
    "    <br /> \n",
    "    <font size=\"3\", color = \"black\">\n",
    "<br />\n",
    "Подразумевается, что ты не только эти столбцы выведешь на экран, но и какой-то вывод по ним напишешь, а этого, к сожалению, нет."
   ]
  },
  {
   "cell_type": "code",
   "execution_count": 17,
   "id": "ef26c9cc",
   "metadata": {},
   "outputs": [],
   "source": [
    "# Поставим дату как индекс для посоедующего джойна\n",
    "data_full = data_full.set_index('date')\n",
    "data_test = data_test.set_index('date')\n",
    "data_train = data_train.set_index('date')"
   ]
  },
  {
   "cell_type": "markdown",
   "id": "f28c7d61",
   "metadata": {},
   "source": [
    "<div class=\"alert alert-success\">\n",
    "<font size=\"4\"><b>✔️ Комментарий ревьюера</b></font>\n",
    "    <br /> \n",
    "    <font size=\"3\", color = \"black\">\n",
    "<br />\n",
    "А вот это - хороший шаг"
   ]
  },
  {
   "cell_type": "code",
   "execution_count": 18,
   "id": "df215baf",
   "metadata": {},
   "outputs": [
    {
     "data": {
      "text/html": [
       "<div>\n",
       "<style scoped>\n",
       "    .dataframe tbody tr th:only-of-type {\n",
       "        vertical-align: middle;\n",
       "    }\n",
       "\n",
       "    .dataframe tbody tr th {\n",
       "        vertical-align: top;\n",
       "    }\n",
       "\n",
       "    .dataframe thead th {\n",
       "        text-align: right;\n",
       "    }\n",
       "</style>\n",
       "<table border=\"1\" class=\"dataframe\">\n",
       "  <thead>\n",
       "    <tr style=\"text-align: right;\">\n",
       "      <th></th>\n",
       "      <th>rougher.input.feed_au</th>\n",
       "      <th>rougher.input.feed_ag</th>\n",
       "      <th>rougher.input.feed_pb</th>\n",
       "      <th>rougher.input.feed_sol</th>\n",
       "      <th>rougher.input.feed_rate</th>\n",
       "      <th>rougher.input.feed_size</th>\n",
       "      <th>rougher.input.floatbank10_sulfate</th>\n",
       "      <th>rougher.input.floatbank10_xanthate</th>\n",
       "      <th>rougher.state.floatbank10_a_air</th>\n",
       "      <th>rougher.state.floatbank10_a_level</th>\n",
       "      <th>...</th>\n",
       "      <th>secondary_cleaner.state.floatbank4_b_air</th>\n",
       "      <th>secondary_cleaner.state.floatbank4_b_level</th>\n",
       "      <th>secondary_cleaner.state.floatbank5_a_air</th>\n",
       "      <th>secondary_cleaner.state.floatbank5_a_level</th>\n",
       "      <th>secondary_cleaner.state.floatbank5_b_air</th>\n",
       "      <th>secondary_cleaner.state.floatbank5_b_level</th>\n",
       "      <th>secondary_cleaner.state.floatbank6_a_air</th>\n",
       "      <th>secondary_cleaner.state.floatbank6_a_level</th>\n",
       "      <th>final.output.recovery</th>\n",
       "      <th>rougher.output.recovery</th>\n",
       "    </tr>\n",
       "    <tr>\n",
       "      <th>date</th>\n",
       "      <th></th>\n",
       "      <th></th>\n",
       "      <th></th>\n",
       "      <th></th>\n",
       "      <th></th>\n",
       "      <th></th>\n",
       "      <th></th>\n",
       "      <th></th>\n",
       "      <th></th>\n",
       "      <th></th>\n",
       "      <th></th>\n",
       "      <th></th>\n",
       "      <th></th>\n",
       "      <th></th>\n",
       "      <th></th>\n",
       "      <th></th>\n",
       "      <th></th>\n",
       "      <th></th>\n",
       "      <th></th>\n",
       "      <th></th>\n",
       "      <th></th>\n",
       "    </tr>\n",
       "  </thead>\n",
       "  <tbody>\n",
       "    <tr>\n",
       "      <th>2017-12-09 14:59:59</th>\n",
       "      <td>4.365491</td>\n",
       "      <td>6.158718</td>\n",
       "      <td>3.875727</td>\n",
       "      <td>39.135119</td>\n",
       "      <td>555.820208</td>\n",
       "      <td>94.544358</td>\n",
       "      <td>6.146982</td>\n",
       "      <td>9.308612</td>\n",
       "      <td>1196.238112</td>\n",
       "      <td>-299.862743</td>\n",
       "      <td>...</td>\n",
       "      <td>20.020205</td>\n",
       "      <td>-500.220296</td>\n",
       "      <td>17.963512</td>\n",
       "      <td>-499.939490</td>\n",
       "      <td>12.990306</td>\n",
       "      <td>-500.080993</td>\n",
       "      <td>19.990336</td>\n",
       "      <td>-499.191575</td>\n",
       "      <td>70.281454</td>\n",
       "      <td>89.514960</td>\n",
       "    </tr>\n",
       "    <tr>\n",
       "      <th>2017-12-09 15:59:59</th>\n",
       "      <td>4.362781</td>\n",
       "      <td>6.048130</td>\n",
       "      <td>3.902537</td>\n",
       "      <td>39.713906</td>\n",
       "      <td>544.731687</td>\n",
       "      <td>123.742430</td>\n",
       "      <td>6.210119</td>\n",
       "      <td>9.297709</td>\n",
       "      <td>1201.904177</td>\n",
       "      <td>-299.907308</td>\n",
       "      <td>...</td>\n",
       "      <td>20.054122</td>\n",
       "      <td>-500.314711</td>\n",
       "      <td>17.979515</td>\n",
       "      <td>-499.272871</td>\n",
       "      <td>12.992404</td>\n",
       "      <td>-499.976268</td>\n",
       "      <td>20.013986</td>\n",
       "      <td>-500.625471</td>\n",
       "      <td>65.523246</td>\n",
       "      <td>89.858126</td>\n",
       "    </tr>\n",
       "    <tr>\n",
       "      <th>2017-12-09 16:59:59</th>\n",
       "      <td>5.081681</td>\n",
       "      <td>6.082745</td>\n",
       "      <td>4.564078</td>\n",
       "      <td>37.208683</td>\n",
       "      <td>558.155110</td>\n",
       "      <td>82.610855</td>\n",
       "      <td>7.363824</td>\n",
       "      <td>9.003562</td>\n",
       "      <td>1200.826926</td>\n",
       "      <td>-300.124116</td>\n",
       "      <td>...</td>\n",
       "      <td>20.029144</td>\n",
       "      <td>-500.000662</td>\n",
       "      <td>18.012723</td>\n",
       "      <td>-500.024764</td>\n",
       "      <td>13.016445</td>\n",
       "      <td>-500.058432</td>\n",
       "      <td>19.973767</td>\n",
       "      <td>-501.394155</td>\n",
       "      <td>74.817644</td>\n",
       "      <td>91.816623</td>\n",
       "    </tr>\n",
       "    <tr>\n",
       "      <th>2017-12-09 17:59:59</th>\n",
       "      <td>5.145949</td>\n",
       "      <td>6.084374</td>\n",
       "      <td>4.768124</td>\n",
       "      <td>36.808874</td>\n",
       "      <td>539.713765</td>\n",
       "      <td>77.984784</td>\n",
       "      <td>6.927072</td>\n",
       "      <td>8.955597</td>\n",
       "      <td>1199.292489</td>\n",
       "      <td>-299.778385</td>\n",
       "      <td>...</td>\n",
       "      <td>19.977466</td>\n",
       "      <td>-500.159903</td>\n",
       "      <td>17.980463</td>\n",
       "      <td>-500.504602</td>\n",
       "      <td>12.949071</td>\n",
       "      <td>-500.009937</td>\n",
       "      <td>20.010332</td>\n",
       "      <td>-508.337973</td>\n",
       "      <td>63.082720</td>\n",
       "      <td>88.478959</td>\n",
       "    </tr>\n",
       "    <tr>\n",
       "      <th>2017-12-09 18:59:59</th>\n",
       "      <td>5.735249</td>\n",
       "      <td>6.165220</td>\n",
       "      <td>4.512346</td>\n",
       "      <td>37.810642</td>\n",
       "      <td>558.713584</td>\n",
       "      <td>86.434874</td>\n",
       "      <td>7.823471</td>\n",
       "      <td>7.490356</td>\n",
       "      <td>1198.005449</td>\n",
       "      <td>-300.283401</td>\n",
       "      <td>...</td>\n",
       "      <td>20.023735</td>\n",
       "      <td>-499.713680</td>\n",
       "      <td>17.990955</td>\n",
       "      <td>-500.334769</td>\n",
       "      <td>13.007523</td>\n",
       "      <td>-499.968459</td>\n",
       "      <td>19.995999</td>\n",
       "      <td>-499.788805</td>\n",
       "      <td>74.463380</td>\n",
       "      <td>89.230316</td>\n",
       "    </tr>\n",
       "    <tr>\n",
       "      <th>...</th>\n",
       "      <td>...</td>\n",
       "      <td>...</td>\n",
       "      <td>...</td>\n",
       "      <td>...</td>\n",
       "      <td>...</td>\n",
       "      <td>...</td>\n",
       "      <td>...</td>\n",
       "      <td>...</td>\n",
       "      <td>...</td>\n",
       "      <td>...</td>\n",
       "      <td>...</td>\n",
       "      <td>...</td>\n",
       "      <td>...</td>\n",
       "      <td>...</td>\n",
       "      <td>...</td>\n",
       "      <td>...</td>\n",
       "      <td>...</td>\n",
       "      <td>...</td>\n",
       "      <td>...</td>\n",
       "      <td>...</td>\n",
       "      <td>...</td>\n",
       "    </tr>\n",
       "    <tr>\n",
       "      <th>2018-08-18 06:59:59</th>\n",
       "      <td>6.620245</td>\n",
       "      <td>5.992592</td>\n",
       "      <td>2.589242</td>\n",
       "      <td>39.934641</td>\n",
       "      <td>578.654582</td>\n",
       "      <td>63.473450</td>\n",
       "      <td>14.688804</td>\n",
       "      <td>6.898599</td>\n",
       "      <td>999.688257</td>\n",
       "      <td>-399.217124</td>\n",
       "      <td>...</td>\n",
       "      <td>12.016724</td>\n",
       "      <td>-501.136446</td>\n",
       "      <td>10.041864</td>\n",
       "      <td>-499.338844</td>\n",
       "      <td>8.007022</td>\n",
       "      <td>-500.279583</td>\n",
       "      <td>14.001271</td>\n",
       "      <td>-602.072365</td>\n",
       "      <td>68.786981</td>\n",
       "      <td>85.462226</td>\n",
       "    </tr>\n",
       "    <tr>\n",
       "      <th>2018-08-18 07:59:59</th>\n",
       "      <td>6.741324</td>\n",
       "      <td>6.158617</td>\n",
       "      <td>2.647185</td>\n",
       "      <td>40.176307</td>\n",
       "      <td>571.622005</td>\n",
       "      <td>62.815291</td>\n",
       "      <td>14.892720</td>\n",
       "      <td>6.903204</td>\n",
       "      <td>1000.479783</td>\n",
       "      <td>-399.574748</td>\n",
       "      <td>...</td>\n",
       "      <td>11.966426</td>\n",
       "      <td>-500.656842</td>\n",
       "      <td>10.051620</td>\n",
       "      <td>-498.318772</td>\n",
       "      <td>8.018091</td>\n",
       "      <td>-499.696138</td>\n",
       "      <td>13.958937</td>\n",
       "      <td>-599.213013</td>\n",
       "      <td>67.839536</td>\n",
       "      <td>85.443505</td>\n",
       "    </tr>\n",
       "    <tr>\n",
       "      <th>2018-08-18 08:59:59</th>\n",
       "      <td>6.627458</td>\n",
       "      <td>6.015149</td>\n",
       "      <td>2.466127</td>\n",
       "      <td>39.841423</td>\n",
       "      <td>563.733146</td>\n",
       "      <td>61.287347</td>\n",
       "      <td>13.723692</td>\n",
       "      <td>6.700148</td>\n",
       "      <td>1000.014718</td>\n",
       "      <td>-400.320877</td>\n",
       "      <td>...</td>\n",
       "      <td>11.980055</td>\n",
       "      <td>-500.607751</td>\n",
       "      <td>9.964501</td>\n",
       "      <td>-499.261719</td>\n",
       "      <td>8.065048</td>\n",
       "      <td>-499.492395</td>\n",
       "      <td>13.997801</td>\n",
       "      <td>-600.621416</td>\n",
       "      <td>70.847012</td>\n",
       "      <td>87.235441</td>\n",
       "    </tr>\n",
       "    <tr>\n",
       "      <th>2018-08-18 09:59:59</th>\n",
       "      <td>6.702243</td>\n",
       "      <td>6.097592</td>\n",
       "      <td>2.278955</td>\n",
       "      <td>37.728375</td>\n",
       "      <td>549.812490</td>\n",
       "      <td>59.637037</td>\n",
       "      <td>13.746510</td>\n",
       "      <td>6.706417</td>\n",
       "      <td>999.635748</td>\n",
       "      <td>-399.484884</td>\n",
       "      <td>...</td>\n",
       "      <td>11.928745</td>\n",
       "      <td>-500.583183</td>\n",
       "      <td>9.970359</td>\n",
       "      <td>-498.822343</td>\n",
       "      <td>8.016377</td>\n",
       "      <td>-499.013145</td>\n",
       "      <td>14.000032</td>\n",
       "      <td>-600.024741</td>\n",
       "      <td>72.659046</td>\n",
       "      <td>89.299981</td>\n",
       "    </tr>\n",
       "    <tr>\n",
       "      <th>2018-08-18 10:59:59</th>\n",
       "      <td>6.633002</td>\n",
       "      <td>5.908793</td>\n",
       "      <td>2.440899</td>\n",
       "      <td>36.958540</td>\n",
       "      <td>573.076049</td>\n",
       "      <td>58.509262</td>\n",
       "      <td>13.707775</td>\n",
       "      <td>6.820245</td>\n",
       "      <td>1000.589156</td>\n",
       "      <td>-398.879586</td>\n",
       "      <td>...</td>\n",
       "      <td>12.052233</td>\n",
       "      <td>-500.928547</td>\n",
       "      <td>9.962574</td>\n",
       "      <td>-502.986357</td>\n",
       "      <td>7.979219</td>\n",
       "      <td>-500.146835</td>\n",
       "      <td>13.981614</td>\n",
       "      <td>-598.070855</td>\n",
       "      <td>70.279619</td>\n",
       "      <td>87.650868</td>\n",
       "    </tr>\n",
       "  </tbody>\n",
       "</table>\n",
       "<p>4860 rows × 54 columns</p>\n",
       "</div>"
      ],
      "text/plain": [
       "                     rougher.input.feed_au  rougher.input.feed_ag  \\\n",
       "date                                                                \n",
       "2017-12-09 14:59:59               4.365491               6.158718   \n",
       "2017-12-09 15:59:59               4.362781               6.048130   \n",
       "2017-12-09 16:59:59               5.081681               6.082745   \n",
       "2017-12-09 17:59:59               5.145949               6.084374   \n",
       "2017-12-09 18:59:59               5.735249               6.165220   \n",
       "...                                    ...                    ...   \n",
       "2018-08-18 06:59:59               6.620245               5.992592   \n",
       "2018-08-18 07:59:59               6.741324               6.158617   \n",
       "2018-08-18 08:59:59               6.627458               6.015149   \n",
       "2018-08-18 09:59:59               6.702243               6.097592   \n",
       "2018-08-18 10:59:59               6.633002               5.908793   \n",
       "\n",
       "                     rougher.input.feed_pb  rougher.input.feed_sol  \\\n",
       "date                                                                 \n",
       "2017-12-09 14:59:59               3.875727               39.135119   \n",
       "2017-12-09 15:59:59               3.902537               39.713906   \n",
       "2017-12-09 16:59:59               4.564078               37.208683   \n",
       "2017-12-09 17:59:59               4.768124               36.808874   \n",
       "2017-12-09 18:59:59               4.512346               37.810642   \n",
       "...                                    ...                     ...   \n",
       "2018-08-18 06:59:59               2.589242               39.934641   \n",
       "2018-08-18 07:59:59               2.647185               40.176307   \n",
       "2018-08-18 08:59:59               2.466127               39.841423   \n",
       "2018-08-18 09:59:59               2.278955               37.728375   \n",
       "2018-08-18 10:59:59               2.440899               36.958540   \n",
       "\n",
       "                     rougher.input.feed_rate  rougher.input.feed_size  \\\n",
       "date                                                                    \n",
       "2017-12-09 14:59:59               555.820208                94.544358   \n",
       "2017-12-09 15:59:59               544.731687               123.742430   \n",
       "2017-12-09 16:59:59               558.155110                82.610855   \n",
       "2017-12-09 17:59:59               539.713765                77.984784   \n",
       "2017-12-09 18:59:59               558.713584                86.434874   \n",
       "...                                      ...                      ...   \n",
       "2018-08-18 06:59:59               578.654582                63.473450   \n",
       "2018-08-18 07:59:59               571.622005                62.815291   \n",
       "2018-08-18 08:59:59               563.733146                61.287347   \n",
       "2018-08-18 09:59:59               549.812490                59.637037   \n",
       "2018-08-18 10:59:59               573.076049                58.509262   \n",
       "\n",
       "                     rougher.input.floatbank10_sulfate  \\\n",
       "date                                                     \n",
       "2017-12-09 14:59:59                           6.146982   \n",
       "2017-12-09 15:59:59                           6.210119   \n",
       "2017-12-09 16:59:59                           7.363824   \n",
       "2017-12-09 17:59:59                           6.927072   \n",
       "2017-12-09 18:59:59                           7.823471   \n",
       "...                                                ...   \n",
       "2018-08-18 06:59:59                          14.688804   \n",
       "2018-08-18 07:59:59                          14.892720   \n",
       "2018-08-18 08:59:59                          13.723692   \n",
       "2018-08-18 09:59:59                          13.746510   \n",
       "2018-08-18 10:59:59                          13.707775   \n",
       "\n",
       "                     rougher.input.floatbank10_xanthate  \\\n",
       "date                                                      \n",
       "2017-12-09 14:59:59                            9.308612   \n",
       "2017-12-09 15:59:59                            9.297709   \n",
       "2017-12-09 16:59:59                            9.003562   \n",
       "2017-12-09 17:59:59                            8.955597   \n",
       "2017-12-09 18:59:59                            7.490356   \n",
       "...                                                 ...   \n",
       "2018-08-18 06:59:59                            6.898599   \n",
       "2018-08-18 07:59:59                            6.903204   \n",
       "2018-08-18 08:59:59                            6.700148   \n",
       "2018-08-18 09:59:59                            6.706417   \n",
       "2018-08-18 10:59:59                            6.820245   \n",
       "\n",
       "                     rougher.state.floatbank10_a_air  \\\n",
       "date                                                   \n",
       "2017-12-09 14:59:59                      1196.238112   \n",
       "2017-12-09 15:59:59                      1201.904177   \n",
       "2017-12-09 16:59:59                      1200.826926   \n",
       "2017-12-09 17:59:59                      1199.292489   \n",
       "2017-12-09 18:59:59                      1198.005449   \n",
       "...                                              ...   \n",
       "2018-08-18 06:59:59                       999.688257   \n",
       "2018-08-18 07:59:59                      1000.479783   \n",
       "2018-08-18 08:59:59                      1000.014718   \n",
       "2018-08-18 09:59:59                       999.635748   \n",
       "2018-08-18 10:59:59                      1000.589156   \n",
       "\n",
       "                     rougher.state.floatbank10_a_level  ...  \\\n",
       "date                                                    ...   \n",
       "2017-12-09 14:59:59                        -299.862743  ...   \n",
       "2017-12-09 15:59:59                        -299.907308  ...   \n",
       "2017-12-09 16:59:59                        -300.124116  ...   \n",
       "2017-12-09 17:59:59                        -299.778385  ...   \n",
       "2017-12-09 18:59:59                        -300.283401  ...   \n",
       "...                                                ...  ...   \n",
       "2018-08-18 06:59:59                        -399.217124  ...   \n",
       "2018-08-18 07:59:59                        -399.574748  ...   \n",
       "2018-08-18 08:59:59                        -400.320877  ...   \n",
       "2018-08-18 09:59:59                        -399.484884  ...   \n",
       "2018-08-18 10:59:59                        -398.879586  ...   \n",
       "\n",
       "                     secondary_cleaner.state.floatbank4_b_air  \\\n",
       "date                                                            \n",
       "2017-12-09 14:59:59                                 20.020205   \n",
       "2017-12-09 15:59:59                                 20.054122   \n",
       "2017-12-09 16:59:59                                 20.029144   \n",
       "2017-12-09 17:59:59                                 19.977466   \n",
       "2017-12-09 18:59:59                                 20.023735   \n",
       "...                                                       ...   \n",
       "2018-08-18 06:59:59                                 12.016724   \n",
       "2018-08-18 07:59:59                                 11.966426   \n",
       "2018-08-18 08:59:59                                 11.980055   \n",
       "2018-08-18 09:59:59                                 11.928745   \n",
       "2018-08-18 10:59:59                                 12.052233   \n",
       "\n",
       "                     secondary_cleaner.state.floatbank4_b_level  \\\n",
       "date                                                              \n",
       "2017-12-09 14:59:59                                 -500.220296   \n",
       "2017-12-09 15:59:59                                 -500.314711   \n",
       "2017-12-09 16:59:59                                 -500.000662   \n",
       "2017-12-09 17:59:59                                 -500.159903   \n",
       "2017-12-09 18:59:59                                 -499.713680   \n",
       "...                                                         ...   \n",
       "2018-08-18 06:59:59                                 -501.136446   \n",
       "2018-08-18 07:59:59                                 -500.656842   \n",
       "2018-08-18 08:59:59                                 -500.607751   \n",
       "2018-08-18 09:59:59                                 -500.583183   \n",
       "2018-08-18 10:59:59                                 -500.928547   \n",
       "\n",
       "                     secondary_cleaner.state.floatbank5_a_air  \\\n",
       "date                                                            \n",
       "2017-12-09 14:59:59                                 17.963512   \n",
       "2017-12-09 15:59:59                                 17.979515   \n",
       "2017-12-09 16:59:59                                 18.012723   \n",
       "2017-12-09 17:59:59                                 17.980463   \n",
       "2017-12-09 18:59:59                                 17.990955   \n",
       "...                                                       ...   \n",
       "2018-08-18 06:59:59                                 10.041864   \n",
       "2018-08-18 07:59:59                                 10.051620   \n",
       "2018-08-18 08:59:59                                  9.964501   \n",
       "2018-08-18 09:59:59                                  9.970359   \n",
       "2018-08-18 10:59:59                                  9.962574   \n",
       "\n",
       "                     secondary_cleaner.state.floatbank5_a_level  \\\n",
       "date                                                              \n",
       "2017-12-09 14:59:59                                 -499.939490   \n",
       "2017-12-09 15:59:59                                 -499.272871   \n",
       "2017-12-09 16:59:59                                 -500.024764   \n",
       "2017-12-09 17:59:59                                 -500.504602   \n",
       "2017-12-09 18:59:59                                 -500.334769   \n",
       "...                                                         ...   \n",
       "2018-08-18 06:59:59                                 -499.338844   \n",
       "2018-08-18 07:59:59                                 -498.318772   \n",
       "2018-08-18 08:59:59                                 -499.261719   \n",
       "2018-08-18 09:59:59                                 -498.822343   \n",
       "2018-08-18 10:59:59                                 -502.986357   \n",
       "\n",
       "                     secondary_cleaner.state.floatbank5_b_air  \\\n",
       "date                                                            \n",
       "2017-12-09 14:59:59                                 12.990306   \n",
       "2017-12-09 15:59:59                                 12.992404   \n",
       "2017-12-09 16:59:59                                 13.016445   \n",
       "2017-12-09 17:59:59                                 12.949071   \n",
       "2017-12-09 18:59:59                                 13.007523   \n",
       "...                                                       ...   \n",
       "2018-08-18 06:59:59                                  8.007022   \n",
       "2018-08-18 07:59:59                                  8.018091   \n",
       "2018-08-18 08:59:59                                  8.065048   \n",
       "2018-08-18 09:59:59                                  8.016377   \n",
       "2018-08-18 10:59:59                                  7.979219   \n",
       "\n",
       "                     secondary_cleaner.state.floatbank5_b_level  \\\n",
       "date                                                              \n",
       "2017-12-09 14:59:59                                 -500.080993   \n",
       "2017-12-09 15:59:59                                 -499.976268   \n",
       "2017-12-09 16:59:59                                 -500.058432   \n",
       "2017-12-09 17:59:59                                 -500.009937   \n",
       "2017-12-09 18:59:59                                 -499.968459   \n",
       "...                                                         ...   \n",
       "2018-08-18 06:59:59                                 -500.279583   \n",
       "2018-08-18 07:59:59                                 -499.696138   \n",
       "2018-08-18 08:59:59                                 -499.492395   \n",
       "2018-08-18 09:59:59                                 -499.013145   \n",
       "2018-08-18 10:59:59                                 -500.146835   \n",
       "\n",
       "                     secondary_cleaner.state.floatbank6_a_air  \\\n",
       "date                                                            \n",
       "2017-12-09 14:59:59                                 19.990336   \n",
       "2017-12-09 15:59:59                                 20.013986   \n",
       "2017-12-09 16:59:59                                 19.973767   \n",
       "2017-12-09 17:59:59                                 20.010332   \n",
       "2017-12-09 18:59:59                                 19.995999   \n",
       "...                                                       ...   \n",
       "2018-08-18 06:59:59                                 14.001271   \n",
       "2018-08-18 07:59:59                                 13.958937   \n",
       "2018-08-18 08:59:59                                 13.997801   \n",
       "2018-08-18 09:59:59                                 14.000032   \n",
       "2018-08-18 10:59:59                                 13.981614   \n",
       "\n",
       "                     secondary_cleaner.state.floatbank6_a_level  \\\n",
       "date                                                              \n",
       "2017-12-09 14:59:59                                 -499.191575   \n",
       "2017-12-09 15:59:59                                 -500.625471   \n",
       "2017-12-09 16:59:59                                 -501.394155   \n",
       "2017-12-09 17:59:59                                 -508.337973   \n",
       "2017-12-09 18:59:59                                 -499.788805   \n",
       "...                                                         ...   \n",
       "2018-08-18 06:59:59                                 -602.072365   \n",
       "2018-08-18 07:59:59                                 -599.213013   \n",
       "2018-08-18 08:59:59                                 -600.621416   \n",
       "2018-08-18 09:59:59                                 -600.024741   \n",
       "2018-08-18 10:59:59                                 -598.070855   \n",
       "\n",
       "                     final.output.recovery  rougher.output.recovery  \n",
       "date                                                                 \n",
       "2017-12-09 14:59:59              70.281454                89.514960  \n",
       "2017-12-09 15:59:59              65.523246                89.858126  \n",
       "2017-12-09 16:59:59              74.817644                91.816623  \n",
       "2017-12-09 17:59:59              63.082720                88.478959  \n",
       "2017-12-09 18:59:59              74.463380                89.230316  \n",
       "...                                    ...                      ...  \n",
       "2018-08-18 06:59:59              68.786981                85.462226  \n",
       "2018-08-18 07:59:59              67.839536                85.443505  \n",
       "2018-08-18 08:59:59              70.847012                87.235441  \n",
       "2018-08-18 09:59:59              72.659046                89.299981  \n",
       "2018-08-18 10:59:59              70.279619                87.650868  \n",
       "\n",
       "[4860 rows x 54 columns]"
      ]
     },
     "execution_count": 18,
     "metadata": {},
     "output_type": "execute_result"
    }
   ],
   "source": [
    "# Джойним данные теста и полного датасета, чтобы добавить недостающие данные:\n",
    "\n",
    "data_test = data_test.merge(data_full[['final.output.recovery', 'rougher.output.recovery']], on = 'date')\n",
    "data_test"
   ]
  },
  {
   "cell_type": "code",
   "execution_count": null,
   "id": "e916ffbf",
   "metadata": {},
   "outputs": [],
   "source": []
  },
  {
   "cell_type": "markdown",
   "id": "df7b1ea4",
   "metadata": {},
   "source": [
    "<div class=\"alert alert-success\">\n",
    "<font size=\"4\"><b>✔️ Комментарий ревьюера</b></font>\n",
    "    <br /> \n",
    "    <font size=\"3\", color = \"black\">\n",
    "<br />\n",
    "Тут многие делают логическую ошибку и вместо удаления этих колонок из трейна добавляют их в тест. Судя по тому, что ты делаешь правильно, ты всё-таки верно понял суть отсутствующих в тестовой выборке колонок, хоть и не написал никаких выводов."
   ]
  },
  {
   "cell_type": "code",
   "execution_count": 19,
   "id": "10bef04c",
   "metadata": {},
   "outputs": [
    {
     "name": "stdout",
     "output_type": "stream",
     "text": [
      "(14579, 86)\n",
      "(4860, 54)\n"
     ]
    }
   ],
   "source": [
    "#Проверим количество столбцов в данных\n",
    "print(data_train.shape)\n",
    "print(data_test.shape)"
   ]
  },
  {
   "cell_type": "markdown",
   "id": "1e4834d0",
   "metadata": {},
   "source": [
    "<div style=\"background-color: #F4E4F4; color: #4C4C4C; padding: 10px; border: 1px solid #C4C4C4; height: 70px;\">\n",
    "    После преобразования, данные содержат идентичные столбцы столбцы, чтобы впоследствии можно было обучить модели\n",
    "</div>\n"
   ]
  },
  {
   "cell_type": "markdown",
   "id": "34486641",
   "metadata": {},
   "source": [
    "## 1.2 Обработка пропусков"
   ]
  },
  {
   "cell_type": "code",
   "execution_count": 20,
   "id": "947f2382",
   "metadata": {},
   "outputs": [
    {
     "data": {
      "text/plain": [
       "rougher.input.feed_au       0\n",
       "rougher.input.feed_ag       0\n",
       "rougher.input.feed_pb      72\n",
       "rougher.input.feed_sol     77\n",
       "rougher.input.feed_rate     7\n",
       "                           ..\n",
       "final.output.recovery       0\n",
       "final.output.tail_au        0\n",
       "final.output.tail_ag        1\n",
       "final.output.tail_pb       75\n",
       "final.output.tail_sol       5\n",
       "Length: 86, dtype: int64"
      ]
     },
     "execution_count": 20,
     "metadata": {},
     "output_type": "execute_result"
    }
   ],
   "source": [
    "data_train.isna().sum()"
   ]
  },
  {
   "cell_type": "markdown",
   "id": "ebfc4157",
   "metadata": {},
   "source": [
    "**КОММЕНТАРИЙ СТУДЕНТА**\n",
    "\n",
    "С вашими доводами согласен, метод хотел применить постольку поскольку я прочитал о нем в статье на хабре и хотел протестировать!\n",
    "\n",
    "В таком случае план действий такой: Напишу цикл, который пройдется по столбцам датафреймов, и в случае если пропусков будет меньше 50, то я их дропну. После этого применю метод ffil для пропусков в остальных столбцах (Это наиболее логичный выход, учитывая, что данные собираются по времени)\n",
    "\n",
    "P.S Подбирать более тонкий подход к заполнению пропусков в данном проекте считаю нецелесообразным, поскольку в этих данных можно зарыться (А количество фичей все таки огромное), да и проект не об этом"
   ]
  },
  {
   "cell_type": "code",
   "execution_count": 21,
   "id": "1600b094",
   "metadata": {},
   "outputs": [],
   "source": [
    "for column in data_train.columns:\n",
    "    if data_train[column].isna().sum() < 50:\n",
    "        data_train = data_train.drop(data_train[data_train[column].isna()].index, axis=0)"
   ]
  },
  {
   "cell_type": "code",
   "execution_count": 22,
   "id": "edad6fbd",
   "metadata": {},
   "outputs": [],
   "source": [
    "data_train.fillna(method ='ffill', inplace = True)"
   ]
  },
  {
   "cell_type": "markdown",
   "id": "c2491ff0",
   "metadata": {},
   "source": [
    "Для теста сделаем тоже самое: "
   ]
  },
  {
   "cell_type": "code",
   "execution_count": 23,
   "id": "34cdb5a1",
   "metadata": {},
   "outputs": [],
   "source": [
    "for column in data_test.columns:\n",
    "    if data_test[column].isna().sum() < 50:\n",
    "        data_test = data_test.drop(data_test[data_test[column].isna()].index, axis=0)"
   ]
  },
  {
   "cell_type": "code",
   "execution_count": 24,
   "id": "bae73e20",
   "metadata": {},
   "outputs": [],
   "source": [
    "data_test.fillna(method ='ffill', inplace = True)"
   ]
  },
  {
   "cell_type": "markdown",
   "id": "ba1f561f",
   "metadata": {},
   "source": [
    "<div class=\"alert alert-success\">\n",
    "<font size=\"4\"><b>✔️ Комментарий ревьюера V2</b></font>\n",
    "    <br /> \n",
    "    <font size=\"3\", color = \"black\">\n",
    "<br />\n",
    "А вот ffill - действительно логичный метод в условиях текущего проекта"
   ]
  },
  {
   "cell_type": "code",
   "execution_count": 25,
   "id": "1f3bfbc9",
   "metadata": {},
   "outputs": [],
   "source": [
    "# Заменим пустые значения датасетов на np.NaN, для того чтобы впоследствии использовать KNN-imputer\n",
    "# data_train = data_train.mask(np.isnan(data_train), np.NaN)\n",
    "# data_test = data_test.mask(np.isnan(data_test), np.NaN)"
   ]
  },
  {
   "cell_type": "code",
   "execution_count": 26,
   "id": "d2b9ae75",
   "metadata": {},
   "outputs": [],
   "source": [
    "# data_train = data_train.reset_index()\n",
    "# data_test = data_test.reset_index()"
   ]
  },
  {
   "cell_type": "code",
   "execution_count": 27,
   "id": "84bc739a",
   "metadata": {},
   "outputs": [],
   "source": [
    "# imputer = KNNImputer()\n",
    "\n",
    "# # Заполнение пропусков в data_train\n",
    "# data_train = pd.DataFrame(data = imputer.fit_transform(data_train.drop(['date'], axis = 1)), \n",
    "#                           columns = data_train.drop(['date'], axis = 1).columns, index = data_train.index)\n"
   ]
  },
  {
   "cell_type": "code",
   "execution_count": 28,
   "id": "da5671f7",
   "metadata": {},
   "outputs": [],
   "source": [
    "# # Заполнение пропусков в data_test\n",
    "# data_test = pd.DataFrame(data = imputer.fit_transform(data_test.drop(['date'], axis = 1)), \n",
    "#                           columns = data_test.drop(['date'], axis = 1).columns, index = data_test.index)"
   ]
  },
  {
   "cell_type": "markdown",
   "id": "d665fe6f",
   "metadata": {},
   "source": [
    "## Проверка формулы расчета эффективности обогащения \n"
   ]
  },
  {
   "cell_type": "markdown",
   "id": "63f09646",
   "metadata": {},
   "source": [
    "<div class=\"alert alert-danger\">\n",
    "<font size=\"4\"><b>❌ Комментарий ревьюера</b></font>\n",
    "    <br /> \n",
    "    <font size=\"3\", color = \"black\">\n",
    "<br /> \n",
    "KNN импутер вычисляет расстояния на основе вообще всех признаков, которые имеются в датасете. Это абсолютно алогично заполнять пропуск, например, в концентрации серебра на флотации одинаково опираясь на все 80 признаков, а не только на соседние значения в этом же самом столбце. Ведь нам по условию проекта дано, что все вычисления делаются раз в час. Если бы у нас строки датафрейма были бы независимы друг от друга - тогда ок, KNN - норм, а когда в колонке значения меняющиеся во времени, а соседи ищутся сразу по значениям всех колонок - ну не оч. Почему мы должны считать, что значение в колонке через час вряд ли похоже на то, что должно быть на месте пропуска, а вот если другие параметры сырья через 2 месяца - похожи, то тогда - да? Временные ряды всё же не так работают.\n",
    "\n",
    "Смотри пример:\n",
    "\n",
    "`X = [[1, 2, np.nan], [3, 4, 3], [np.nan, 6, 5], [10, 2, 70]]\n",
    "KNNImputer(n_neighbors=2).fit_transform(X)\n",
    "array([[ 1. ,  2. , 36.5],\n",
    "       [ 3. ,  4. ,  3. ],\n",
    "       [ 2. ,  6. ,  5. ],\n",
    "       [ 10. ,  2. , 70. ]])`\n",
    "\n",
    "В первой колонке значения 1 3 нан 10 - явная тенденция на рост, но вставилось 2\n",
    "\n",
    "В третьей колонке нан 3 5 70, логично предположить вместо пропуска что-то маленькое? Но у нас 36,5\n",
    "\n",
    "Надеюсь, мне удалось обяснить почему ты выбрал не очень классный применительно к текущему проекту метод заполнения пропусков. Надо выбрать другой."
   ]
  },
  {
   "cell_type": "markdown",
   "id": "d2d416fb",
   "metadata": {},
   "source": [
    "Благодарю за объяснение! Нечасто кто то так заморачивается, впредь буду учитывать !!!!"
   ]
  },
  {
   "cell_type": "code",
   "execution_count": 29,
   "id": "a61b9fd7",
   "metadata": {},
   "outputs": [
    {
     "name": "stdout",
     "output_type": "stream",
     "text": [
      "Абсолютная средняя ошибка = 1.0882070376128357e-14\n"
     ]
    }
   ],
   "source": [
    "concentrate_au_column = data_full['rougher.output.concentrate_au']\n",
    "feed_au_column = data_full['rougher.input.feed_au']\n",
    "tail_au_column = data_full['rougher.output.tail_au']\n",
    "input_recovery = data_full['rougher.output.recovery']\n",
    "calculated_recovery = concentrate_au_column * (feed_au_column - tail_au_column) / feed_au_column / (concentrate_au_column - tail_au_column) * 100\n",
    "print('Абсолютная средняя ошибка =', mean_absolute_error(input_recovery, calculated_recovery))"
   ]
  },
  {
   "cell_type": "markdown",
   "id": "ba0919d6",
   "metadata": {},
   "source": [
    "MAE имеет очень малое отклонение - это значит, что расчетное значение rougher.output.recovery совпадает с данными из столбца."
   ]
  },
  {
   "cell_type": "markdown",
   "id": "e45ac87b",
   "metadata": {},
   "source": [
    "<div class=\"alert alert-success\">\n",
    "<font size=\"4\"><b>✔️ Комментарий ревьюера</b></font>\n",
    "    <br /> \n",
    "    <font size=\"3\", color = \"black\">\n",
    "<br />\n",
    "Расчёт верный"
   ]
  },
  {
   "cell_type": "markdown",
   "id": "a238be71",
   "metadata": {},
   "source": [
    "<div class=\"alert alert-info\">\n",
    "<font size=\"4\">🍕<b> Комментарий ревьюера</b></font>\n",
    "    <br /> \n",
    "    <font size=\"3\", color = \"black\">\n",
    "<br />\n",
    "Вообще, почему несмотря на неравную в точности нулю ошибку мы можем говорить, что данные корректны? Дело в том, что в питоне, как и любом другом языке программирования, операции с нецелыми числами имеют ограниченную точность. Например:"
   ]
  },
  {
   "cell_type": "code",
   "execution_count": 30,
   "id": "07edc20c",
   "metadata": {},
   "outputs": [
    {
     "data": {
      "text/plain": [
       "-1.1102230246251565e-16"
      ]
     },
     "execution_count": 30,
     "metadata": {},
     "output_type": "execute_result"
    }
   ],
   "source": [
    "# КОД РЕВЬЮЕРА\n",
    "1/2 + 1/3 - 5/6"
   ]
  },
  {
   "cell_type": "markdown",
   "id": "e7c5895f",
   "metadata": {},
   "source": [
    "<div class=\"alert alert-info\">\n",
    "<font size=\"4\"></font>\n",
    "    <font size=\"3\", color = \"black\">\n",
    "Приведя к общему знаменателю нетрудно посчитать, что значение выражения в точности равно нулю. Почему же питон считает, что это число порядка 1е-16? 1/3 в десятичном виде == 0.33333 ну и бесконечное число троек после запятой. Разумеется, физически невозможно, да и просто бессмысленно хранить бесконечное число знаков, хранится ограниченное количество, из-за этого и возникают микроскопические расхождения."
   ]
  },
  {
   "cell_type": "markdown",
   "id": "09176540",
   "metadata": {},
   "source": [
    "Это я знал, однако все равно большое спасибо что тратите время на пояснения!!"
   ]
  },
  {
   "cell_type": "markdown",
   "id": "65fb730b",
   "metadata": {},
   "source": [
    "## 1.3 Обработка аномальных значений"
   ]
  },
  {
   "cell_type": "code",
   "execution_count": 31,
   "id": "409f4bf7",
   "metadata": {},
   "outputs": [
    {
     "data": {
      "image/png": "[encoded data removed]",
      "text/plain": [
       "<Figure size 864x648 with 1 Axes>"
      ]
     },
     "metadata": {
      "needs_background": "light"
     },
     "output_type": "display_data"
    }
   ],
   "source": [
    "plt.figure(figsize=[12,9])\n",
    "\n",
    "plt.hist(data_train['rougher.output.recovery'], bins=100)\n",
    "\n",
    "plt.xlim([0, 100])\n",
    "plt.ylim([0, 1000])\n",
    "\n",
    "plt.xlabel(\"Эффективность обогащения чернового концентрата \")\n",
    "plt.ylabel(\"Количество результатов\")\n",
    "\n",
    "plt.title(\"Гистограмма распределения по эффективности обогащения\")\n",
    "plt.show()"
   ]
  },
  {
   "cell_type": "markdown",
   "id": "ce1a261f",
   "metadata": {},
   "source": [
    "<div style=\"background-color: #F4E4F4; color: #4C4C4C; padding: 10px; border: 1px solid #C4C4C4; height: 70px;\">\n",
    "    Уберем нулевые и аномально низкие знаения, чтобы повысить точность предсказания модели\n",
    "</div>\n"
   ]
  },
  {
   "cell_type": "code",
   "execution_count": 32,
   "id": "306b5eff",
   "metadata": {},
   "outputs": [],
   "source": [
    "data_train = data_train[data_train['rougher.output.recovery'] > 20]\n"
   ]
  },
  {
   "cell_type": "markdown",
   "id": "b6c0c09f",
   "metadata": {},
   "source": [
    "<div class=\"alert alert-danger\">\n",
    "<font size=\"4\"><b>❌ Комментарий ревьюера</b></font>\n",
    "    <br /> \n",
    "    <font size=\"3\", color = \"black\">\n",
    "<br /> \n",
    "С самим фактом, что аномалии надо удалить спорить не могу, а вот подход - не одобряю.\n",
    "\n",
    "Хвост распределения и выброс - это принципиально разные вещи.\n",
    "\n",
    "Представь, что ты делаешь модель, решающую задачу, связанную с недвижимостью. У тебя большинство квартир в датасете - среднестатистические квартиры в спальных районах. Будет ли выбросом очень небольшое количество огромных по площади очень дорогих квартир в самом центре Москвы? Нет, потому что такая ситуация вполне вписывается в общую картину данных. Будет ли выбросом очень небольшое количество малюсеньких по площади очень дешёвых квартир в далёком замкадье? Нет, потому что такая ситуация вполне вписывается в общую картину данных. Будет ли выбросом некоторое количество малюсеньких по площади очень дорогих квартир в далёком замкадье? Да, потому что такая ситуация кардинально не вписывается в общую картину данных. Причины могут быть разные: это может быть какая-то мошенническая схема, а может в этой квартире когда-то останавливался Виктор Цой и теперь фанаты группы Кино борются за неё, это не важно, такие данные - выброс.\n",
    "\n",
    "Так же и у нас: столбик около нуля - очевидная аномалия, он не вписывается в картину данных. А хоть и малочисленные, но данные, которые меньше 60, но к этому столбику не относятся - это хвост распределения, и они нам ничем не мешают. Снизь порог того, что ты считаешь аномалией."
   ]
  },
  {
   "cell_type": "markdown",
   "id": "cfda3046",
   "metadata": {},
   "source": [
    "Понимаю, да, однако чтобы делать такие умозаключения применительно к данному проекту, то нужно быть глубоко погруженным в процессы, на основе которых собраны эти данные, но увы, такой возможности нет "
   ]
  },
  {
   "cell_type": "markdown",
   "id": "b145e747",
   "metadata": {},
   "source": [
    "<div style=\"background-color: #F4E4F4; color: #4C4C4C; padding: 10px; border: 1px solid #C4C4C4; height: 70px;\">\n",
    "    Проверим аномальные значения в данных о поступлении изначального концентрата металлов \n",
    "</div>"
   ]
  },
  {
   "cell_type": "code",
   "execution_count": 33,
   "id": "acd1dbd5",
   "metadata": {},
   "outputs": [
    {
     "name": "stdout",
     "output_type": "stream",
     "text": [
      "rougher.input.feed_au\n",
      "rougher.input.feed_ag\n",
      "rougher.input.feed_pb\n",
      "rougher.input.feed_sol\n",
      "rougher.input.feed_rate\n",
      "rougher.input.feed_size\n",
      "rougher.calculation.floatbank10_sulfate_to_au_feed\n",
      "rougher.calculation.floatbank11_sulfate_to_au_feed\n",
      "primary_cleaner.input.feed_size\n"
     ]
    }
   ],
   "source": [
    "for column_name in data_train.columns:\n",
    "    if 'feed' in column_name:\n",
    "        print(column_name)"
   ]
  },
  {
   "cell_type": "code",
   "execution_count": 34,
   "id": "4fbd9de0",
   "metadata": {},
   "outputs": [
    {
     "data": {
      "image/png": "[encoded data removed]",
      "text/plain": [
       "<Figure size 720x720 with 1 Axes>"
      ]
     },
     "metadata": {
      "needs_background": "light"
     },
     "output_type": "display_data"
    }
   ],
   "source": [
    "data_train_box_plot = data_train[['rougher.input.feed_au',\n",
    "                                  'rougher.input.feed_ag',\n",
    "                                  'rougher.input.feed_pb',\n",
    "                                  ]]\n",
    "\n",
    "plt.figure(figsize=(10, 10))\n",
    "\n",
    "# Построение box plot для нескольких столбцов с цветами и легендой\n",
    "sns.boxplot(data=data_train_box_plot, palette='Set3')\n",
    "\n",
    "\n",
    "# Добавление названия графика\n",
    "plt.title('Диаграмма размаха для нескольких столбцов')\n",
    "\n",
    "\n",
    "# Добавление легенды\n",
    "plt.legend(labels=data_train_box_plot.columns)\n",
    "\n",
    "\n",
    "# Отображение графика\n",
    "plt.show()"
   ]
  },
  {
   "cell_type": "markdown",
   "id": "588f4302",
   "metadata": {},
   "source": [
    "Уберем аномально низкие значения"
   ]
  },
  {
   "cell_type": "code",
   "execution_count": 35,
   "id": "34df4bea",
   "metadata": {},
   "outputs": [],
   "source": [
    "data_train = data_train[(data_train['rougher.input.feed_au'] >= 2) & (data_train['rougher.input.feed_ag']>= 1) & \n",
    "                      (data_train['rougher.input.feed_pb'] >= 1)]          "
   ]
  },
  {
   "cell_type": "markdown",
   "id": "0c51e2ca",
   "metadata": {},
   "source": [
    "<div style=\"background-color: #F4E4F4; color: #4C4C4C; padding: 10px; border: 1px solid #C4C4C4; height: 200px;\">\n",
    "    \n",
    "**Вывод по этапу обработки данных**\n",
    "\n",
    "Данные датасета data_train были очищены от лишних столбцов, чтобы соответствовать данным из data_test. В датасет data_test были добвлены таргетные значения для будущего разделения\n",
    "\n",
    "Пропущенные значения были заполнены с помощью метода k-ближайших соседей\n",
    "\n",
    "Аномальные данные были очищены, для наиболее важных для исследования столбцов\n",
    "</div>"
   ]
  },
  {
   "cell_type": "markdown",
   "id": "abb67ddf",
   "metadata": {},
   "source": [
    "## Анализ данных"
   ]
  },
  {
   "cell_type": "markdown",
   "id": "ed3dca86",
   "metadata": {},
   "source": [
    "<div style=\"background-color: #F4E4F4; color: #4C4C4C; padding: 10px; border: 1px solid #C4C4C4; height: 70px;\">\n",
    "    Анализ данных будем производить на датасете data_full\n",
    "</div>"
   ]
  },
  {
   "cell_type": "code",
   "execution_count": 36,
   "id": "289c64f6",
   "metadata": {},
   "outputs": [
    {
     "data": {
      "text/html": [
       "<div>\n",
       "<style scoped>\n",
       "    .dataframe tbody tr th:only-of-type {\n",
       "        vertical-align: middle;\n",
       "    }\n",
       "\n",
       "    .dataframe tbody tr th {\n",
       "        vertical-align: top;\n",
       "    }\n",
       "\n",
       "    .dataframe thead th {\n",
       "        text-align: right;\n",
       "    }\n",
       "</style>\n",
       "<table border=\"1\" class=\"dataframe\">\n",
       "  <thead>\n",
       "    <tr style=\"text-align: right;\">\n",
       "      <th></th>\n",
       "      <th>rougher.input.feed_au</th>\n",
       "      <th>rougher.input.feed_ag</th>\n",
       "      <th>rougher.input.feed_pb</th>\n",
       "      <th>rougher.input.feed_sol</th>\n",
       "      <th>rougher.input.feed_rate</th>\n",
       "      <th>rougher.input.feed_size</th>\n",
       "      <th>rougher.input.floatbank10_sulfate</th>\n",
       "      <th>rougher.input.floatbank10_xanthate</th>\n",
       "      <th>rougher.state.floatbank10_a_air</th>\n",
       "      <th>rougher.state.floatbank10_a_level</th>\n",
       "      <th>...</th>\n",
       "      <th>secondary_cleaner.output.tail_sol</th>\n",
       "      <th>final.output.concentrate_au</th>\n",
       "      <th>final.output.concentrate_ag</th>\n",
       "      <th>final.output.concentrate_pb</th>\n",
       "      <th>final.output.concentrate_sol</th>\n",
       "      <th>final.output.recovery</th>\n",
       "      <th>final.output.tail_au</th>\n",
       "      <th>final.output.tail_ag</th>\n",
       "      <th>final.output.tail_pb</th>\n",
       "      <th>final.output.tail_sol</th>\n",
       "    </tr>\n",
       "    <tr>\n",
       "      <th>date</th>\n",
       "      <th></th>\n",
       "      <th></th>\n",
       "      <th></th>\n",
       "      <th></th>\n",
       "      <th></th>\n",
       "      <th></th>\n",
       "      <th></th>\n",
       "      <th></th>\n",
       "      <th></th>\n",
       "      <th></th>\n",
       "      <th></th>\n",
       "      <th></th>\n",
       "      <th></th>\n",
       "      <th></th>\n",
       "      <th></th>\n",
       "      <th></th>\n",
       "      <th></th>\n",
       "      <th></th>\n",
       "      <th></th>\n",
       "      <th></th>\n",
       "      <th></th>\n",
       "    </tr>\n",
       "  </thead>\n",
       "  <tbody>\n",
       "    <tr>\n",
       "      <th>2016-01-15 00:00:00</th>\n",
       "      <td>6.486150</td>\n",
       "      <td>6.100378</td>\n",
       "      <td>2.284912</td>\n",
       "      <td>36.808594</td>\n",
       "      <td>523.546326</td>\n",
       "      <td>55.486599</td>\n",
       "      <td>11.986616</td>\n",
       "      <td>6.007990</td>\n",
       "      <td>999.706909</td>\n",
       "      <td>-404.066986</td>\n",
       "      <td>...</td>\n",
       "      <td>8.764648</td>\n",
       "      <td>42.192020</td>\n",
       "      <td>6.055403</td>\n",
       "      <td>9.889648</td>\n",
       "      <td>5.507324</td>\n",
       "      <td>70.541216</td>\n",
       "      <td>2.143149</td>\n",
       "      <td>10.411962</td>\n",
       "      <td>0.895447</td>\n",
       "      <td>16.904297</td>\n",
       "    </tr>\n",
       "    <tr>\n",
       "      <th>2016-01-15 01:00:00</th>\n",
       "      <td>6.478583</td>\n",
       "      <td>6.161113</td>\n",
       "      <td>2.266033</td>\n",
       "      <td>35.753385</td>\n",
       "      <td>525.290581</td>\n",
       "      <td>57.278666</td>\n",
       "      <td>11.971193</td>\n",
       "      <td>6.005766</td>\n",
       "      <td>1000.286398</td>\n",
       "      <td>-400.065196</td>\n",
       "      <td>...</td>\n",
       "      <td>9.001494</td>\n",
       "      <td>42.701629</td>\n",
       "      <td>6.029369</td>\n",
       "      <td>9.968944</td>\n",
       "      <td>5.257781</td>\n",
       "      <td>69.266198</td>\n",
       "      <td>2.224930</td>\n",
       "      <td>10.462676</td>\n",
       "      <td>0.927452</td>\n",
       "      <td>16.634514</td>\n",
       "    </tr>\n",
       "  </tbody>\n",
       "</table>\n",
       "<p>2 rows × 86 columns</p>\n",
       "</div>"
      ],
      "text/plain": [
       "                     rougher.input.feed_au  rougher.input.feed_ag  \\\n",
       "date                                                                \n",
       "2016-01-15 00:00:00               6.486150               6.100378   \n",
       "2016-01-15 01:00:00               6.478583               6.161113   \n",
       "\n",
       "                     rougher.input.feed_pb  rougher.input.feed_sol  \\\n",
       "date                                                                 \n",
       "2016-01-15 00:00:00               2.284912               36.808594   \n",
       "2016-01-15 01:00:00               2.266033               35.753385   \n",
       "\n",
       "                     rougher.input.feed_rate  rougher.input.feed_size  \\\n",
       "date                                                                    \n",
       "2016-01-15 00:00:00               523.546326                55.486599   \n",
       "2016-01-15 01:00:00               525.290581                57.278666   \n",
       "\n",
       "                     rougher.input.floatbank10_sulfate  \\\n",
       "date                                                     \n",
       "2016-01-15 00:00:00                          11.986616   \n",
       "2016-01-15 01:00:00                          11.971193   \n",
       "\n",
       "                     rougher.input.floatbank10_xanthate  \\\n",
       "date                                                      \n",
       "2016-01-15 00:00:00                            6.007990   \n",
       "2016-01-15 01:00:00                            6.005766   \n",
       "\n",
       "                     rougher.state.floatbank10_a_air  \\\n",
       "date                                                   \n",
       "2016-01-15 00:00:00                       999.706909   \n",
       "2016-01-15 01:00:00                      1000.286398   \n",
       "\n",
       "                     rougher.state.floatbank10_a_level  ...  \\\n",
       "date                                                    ...   \n",
       "2016-01-15 00:00:00                        -404.066986  ...   \n",
       "2016-01-15 01:00:00                        -400.065196  ...   \n",
       "\n",
       "                     secondary_cleaner.output.tail_sol  \\\n",
       "date                                                     \n",
       "2016-01-15 00:00:00                           8.764648   \n",
       "2016-01-15 01:00:00                           9.001494   \n",
       "\n",
       "                     final.output.concentrate_au  final.output.concentrate_ag  \\\n",
       "date                                                                            \n",
       "2016-01-15 00:00:00                    42.192020                     6.055403   \n",
       "2016-01-15 01:00:00                    42.701629                     6.029369   \n",
       "\n",
       "                     final.output.concentrate_pb  \\\n",
       "date                                               \n",
       "2016-01-15 00:00:00                     9.889648   \n",
       "2016-01-15 01:00:00                     9.968944   \n",
       "\n",
       "                     final.output.concentrate_sol  final.output.recovery  \\\n",
       "date                                                                       \n",
       "2016-01-15 00:00:00                      5.507324              70.541216   \n",
       "2016-01-15 01:00:00                      5.257781              69.266198   \n",
       "\n",
       "                     final.output.tail_au  final.output.tail_ag  \\\n",
       "date                                                              \n",
       "2016-01-15 00:00:00              2.143149             10.411962   \n",
       "2016-01-15 01:00:00              2.224930             10.462676   \n",
       "\n",
       "                     final.output.tail_pb  final.output.tail_sol  \n",
       "date                                                              \n",
       "2016-01-15 00:00:00              0.895447              16.904297  \n",
       "2016-01-15 01:00:00              0.927452              16.634514  \n",
       "\n",
       "[2 rows x 86 columns]"
      ]
     },
     "execution_count": 36,
     "metadata": {},
     "output_type": "execute_result"
    }
   ],
   "source": [
    "# data_full = data_full.set_index('date')\n",
    "data_train.head(2)"
   ]
  },
  {
   "cell_type": "code",
   "execution_count": 37,
   "id": "21643a28",
   "metadata": {},
   "outputs": [
    {
     "data": {
      "image/png": "[encoded data removed]",
      "text/plain": [
       "<Figure size 864x648 with 1 Axes>"
      ]
     },
     "metadata": {
      "needs_background": "light"
     },
     "output_type": "display_data"
    }
   ],
   "source": [
    "plt.figure(figsize=[12,9])\n",
    "\n",
    "plt.hist(data_train['final.output.concentrate_au'], bins=100, label = 'final.output', alpha=.5)\n",
    "plt.hist(data_train['primary_cleaner.output.concentrate_au'], bins=100, label = 'primary_cleaner.output', alpha=.5)\n",
    "plt.hist(data_train['rougher.output.concentrate_au'], bins=100, label = 'rougher.output', alpha=.5)\n",
    "plt.hist(data_train['rougher.input.feed_au'], bins=100, label = 'rougher.input', alpha=.2)\n",
    "\n",
    "plt.xlim([0, 55])\n",
    "plt.ylim([0, 3000])\n",
    "\n",
    "plt.xlabel(\"Концентрация золота на выходе этапов\")\n",
    "plt.ylabel(\"Количество результатов\")\n",
    "\n",
    "plt.legend(loc='upper left', fontsize='x-large')\n",
    "\n",
    "plt.title(\"Гистограмма распределения концентрации золота\")\n",
    "plt.show()"
   ]
  },
  {
   "cell_type": "code",
   "execution_count": 38,
   "id": "ef8df51e",
   "metadata": {},
   "outputs": [],
   "source": [
    "data_train = data_train[data_train['final.output.concentrate_au'] >= 1]\n",
    "data_train = data_train[data_train['primary_cleaner.output.concentrate_au'] >= 1]\n",
    "data_train = data_train[data_train['rougher.output.concentrate_au'] >= 1]"
   ]
  },
  {
   "cell_type": "markdown",
   "id": "0b203f77",
   "metadata": {},
   "source": [
    "<div class=\"alert alert-danger\">\n",
    "<font size=\"4\"><b>❌ Комментарий ревьюера</b></font>\n",
    "    <br /> \n",
    "    <font size=\"3\", color = \"black\">\n",
    "<br /> \n",
    "По твоим гистограммам невозможно сделать вывод как на концентрации металлов влияет флотация. Для того, чтобы можно было это понять стоит также добавить на каждый из плотов гистограмму, соотвествующую концентрации металла в исходном сырье."
   ]
  },
  {
   "cell_type": "markdown",
   "id": "d9d57590",
   "metadata": {},
   "source": [
    "**Есть!**"
   ]
  },
  {
   "cell_type": "markdown",
   "id": "5ae8aa75",
   "metadata": {},
   "source": [
    "<div class=\"alert alert-success\">\n",
    "<font size=\"4\"><b>✔️ Комментарий ревьюера V2</b></font>\n",
    "    <br /> \n",
    "    <font size=\"3\", color = \"black\">\n",
    "<br />    \n",
    "👍"
   ]
  },
  {
   "cell_type": "markdown",
   "id": "8ac8970d",
   "metadata": {},
   "source": [
    "<div class=\"alert alert-danger\">\n",
    "<font size=\"4\"><b>❌ Комментарий ревьюера</b></font>\n",
    "    <br /> \n",
    "    <font size=\"3\", color = \"black\">\n",
    "<br /> \n",
    "Второй момент: видишь явно не вписывающиеся в картину данных столбики около нуля? И здесь, и для других металлов. Тоже ведь аномалии. А ты больше аномалии не удаляешь. Значит недоудалил. Надо посильнее вычистить от них датасет.\n",
    "\n",
    "<b>ВАЖНО:</b> нам нужно удалить строки с аномальными значениями концентраций в первую очередь из трейн датасета (заказчик считает, что если хотя бы в одном признаке значение аномальное, то вся строка - бракованная, приборы барахлили), а ты уже удалил соответствующие колонки из трейна. Есть 2 варианта как можно сделать: либо после удаления строк из фулла обновить трейн по индексам того, что в фулле осталось, либо просто удаление отсутствующих колонок перенести из начала работы ближе к концу, сделать его перед обучением моделей."
   ]
  },
  {
   "cell_type": "markdown",
   "id": "b4d28bec",
   "metadata": {},
   "source": [
    "**КОММЕНТАРИЙ СТУДЕНТА**\n",
    "\n",
    "В таком случае более системный и логичный вариант - это удаление столбцов из трейна по тету перед делением данных на трейн/валид/тест"
   ]
  },
  {
   "cell_type": "markdown",
   "id": "57bc5f64",
   "metadata": {},
   "source": [
    "Концентрация золота повышается с каждым этапом. Цель флотации и очисток увеличить концентрацию золота."
   ]
  },
  {
   "cell_type": "code",
   "execution_count": 39,
   "id": "5fd0ffb2",
   "metadata": {},
   "outputs": [
    {
     "data": {
      "image/png": "[encoded data removed]",
      "text/plain": [
       "<Figure size 864x648 with 1 Axes>"
      ]
     },
     "metadata": {
      "needs_background": "light"
     },
     "output_type": "display_data"
    }
   ],
   "source": [
    "plt.figure(figsize=[12,9])\n",
    "\n",
    "plt.hist(data_train['final.output.concentrate_ag'], bins=100, label = 'final.output', alpha=.5)\n",
    "plt.hist(data_train['primary_cleaner.output.concentrate_ag'], bins=100, label = 'primary_cleaner.output', alpha=.5)\n",
    "plt.hist(data_train['rougher.output.concentrate_ag'], bins=100, label = 'rougher.output', alpha=.5)\n",
    "plt.hist(data_train['rougher.input.feed_ag'], bins=100, label = 'rougher.input', alpha=.8)\n",
    "plt.xlim([0, 25])\n",
    "plt.ylim([0, 1500])\n",
    "\n",
    "plt.xlabel(\"Концентрация серебра на выходе этапов\")\n",
    "plt.ylabel(\"Количество результатов\")\n",
    "\n",
    "plt.legend(loc='upper left', fontsize='x-large')\n",
    "\n",
    "plt.title(\"Гистограмма распределения концентрации серебра\")\n",
    "plt.show()"
   ]
  },
  {
   "cell_type": "code",
   "execution_count": 40,
   "id": "4aacc941",
   "metadata": {},
   "outputs": [],
   "source": [
    "data_train = data_train[data_train['final.output.concentrate_ag'] >= 1]\n",
    "data_train = data_train[data_train['primary_cleaner.output.concentrate_ag'] >= 1]\n",
    "data_train = data_train[data_train['rougher.output.concentrate_ag'] >= 1]"
   ]
  },
  {
   "cell_type": "markdown",
   "id": "57f6538d",
   "metadata": {},
   "source": [
    "Конецентрация серебра понижается с каждым шагом очистки. Так как основным благородным металом является золото, то остальные металлы и соединения должны быть отфильтрованы."
   ]
  },
  {
   "cell_type": "code",
   "execution_count": 41,
   "id": "c1c376ee",
   "metadata": {},
   "outputs": [
    {
     "data": {
      "image/png": "[encoded data removed]",
      "text/plain": [
       "<Figure size 864x648 with 1 Axes>"
      ]
     },
     "metadata": {
      "needs_background": "light"
     },
     "output_type": "display_data"
    }
   ],
   "source": [
    "plt.figure(figsize=[12,9])\n",
    "\n",
    "plt.hist(data_train['final.output.concentrate_pb'], bins=100, label = 'final.output', alpha=.5)\n",
    "plt.hist(data_train['primary_cleaner.output.concentrate_pb'], bins=100, label = 'primary_cleaner.output', alpha=.5)\n",
    "plt.hist(data_train['rougher.output.concentrate_pb'], bins=100, label = 'rougher.output', alpha=.5)\n",
    "plt.hist(data_train['rougher.input.feed_pb'], bins=100, label = 'rougher.input', alpha=.8)\n",
    "plt.xlim([0, 20])\n",
    "plt.ylim([0, 1600])\n",
    "\n",
    "plt.xlabel(\"Концентрация свинца на выходе этапов\")\n",
    "plt.ylabel(\"Количество результатов\")\n",
    "\n",
    "plt.legend(loc='upper left', fontsize='x-large')\n",
    "\n",
    "plt.title(\"Гистограмма распределения концентрации свинца\")\n",
    "plt.show()"
   ]
  },
  {
   "cell_type": "code",
   "execution_count": 42,
   "id": "8c7f1985",
   "metadata": {},
   "outputs": [],
   "source": [
    "data_train = data_train[data_train['final.output.concentrate_pb'] >= 1]\n",
    "data_train = data_train[data_train['primary_cleaner.output.concentrate_pb'] >= 1]\n",
    "data_train = data_train[data_train['rougher.output.concentrate_pb'] >= 1]"
   ]
  },
  {
   "cell_type": "markdown",
   "id": "72a905e2",
   "metadata": {},
   "source": [
    "Концентрация свинца повышается после первого этапа очистки, скорее всего это может быть связано с химическими особенностями обработки золота"
   ]
  },
  {
   "cell_type": "code",
   "execution_count": 43,
   "id": "4c4e9108",
   "metadata": {},
   "outputs": [
    {
     "data": {
      "image/png": "[encoded data removed]",
      "text/plain": [
       "<Figure size 864x648 with 1 Axes>"
      ]
     },
     "metadata": {
      "needs_background": "light"
     },
     "output_type": "display_data"
    }
   ],
   "source": [
    "plt.figure(figsize=[12,9])\n",
    "\n",
    "plt.hist(data_train['rougher.input.feed_size'], bins=200, label = 'Train rougher.input.feed_size',density = True, alpha=.5)\n",
    "plt.hist(data_test['rougher.input.feed_size'], bins=200, label = 'Test rougher.input.feed_size',density = True, alpha=.5)\n",
    "\n",
    "plt.xlim([0, 200])\n",
    "plt.ylim([0, 0.1])\n",
    "\n",
    "plt.xlabel(\"Размер гранул сырья\")\n",
    "plt.ylabel(\"Количество результатов\")\n",
    "\n",
    "plt.legend(loc='upper left', fontsize='x-large')\n",
    "\n",
    "plt.title(\"Гистограмма распределения гранул сырья перед флотацией\")\n",
    "plt.show()"
   ]
  },
  {
   "cell_type": "markdown",
   "id": "e4215af8",
   "metadata": {},
   "source": [
    "Распределение гранул сырья похоже на нормальное, со смещением вправо, также наблюдается большое количество аномальных значений после отметки 120. На данном этапе пока не буду удалять эти значения"
   ]
  },
  {
   "cell_type": "code",
   "execution_count": 44,
   "id": "8876821b",
   "metadata": {},
   "outputs": [
    {
     "data": {
      "image/png": "[encoded data removed]",
      "text/plain": [
       "<Figure size 864x648 with 1 Axes>"
      ]
     },
     "metadata": {
      "needs_background": "light"
     },
     "output_type": "display_data"
    }
   ],
   "source": [
    "plt.figure(figsize=[12,9])\n",
    "\n",
    "plt.hist(data_train['primary_cleaner.input.feed_size'], bins=100,\n",
    "         label = 'Train primary_cleaner.input.feed_size', alpha=.5, density = True)\n",
    "plt.hist(data_test['primary_cleaner.input.feed_size'], bins=100, \n",
    "         label = 'Test primary_cleaner.input.feed_size', alpha=.5, density = True)\n",
    "\n",
    "plt.xlim([0, 16])\n",
    "plt.ylim([0, 1])\n",
    "\n",
    "plt.xlabel(\"Размер гранул сырья\")\n",
    "plt.ylabel(\"Количество результатов\")\n",
    "\n",
    "plt.legend(loc='upper left', fontsize='x-large')\n",
    "\n",
    "plt.title(\"Гистограмма распределения гранул сырья перед первичной очисткой\")\n",
    "plt.show()"
   ]
  },
  {
   "cell_type": "markdown",
   "id": "52cc2064",
   "metadata": {},
   "source": [
    "<div class=\"alert alert-danger\">\n",
    "<font size=\"4\"><b>❌ Комментарий ревьюера</b></font>\n",
    "    <br /> \n",
    "    <font size=\"3\", color = \"black\">\n",
    "<br /> \n",
    "Сравнивать гистограммы, построенные по отличающимся в разы объёмам данных - затея очень плохая. Чтобы сравнение было корректным надо строить такие гистограммы, что высота столбика соответствует не количеству элементов в соответствующей корзине, а доле элементов в корзине по отношению к общему объёму данных.\n",
    "\n",
    "Для этого можно просто передать параметр density=True. Сделай это для обеих пар гистограмм, пожалуйста."
   ]
  },
  {
   "cell_type": "markdown",
   "id": "c86fc2cf",
   "metadata": {},
   "source": [
    "Есть!"
   ]
  },
  {
   "cell_type": "markdown",
   "id": "42fce499",
   "metadata": {},
   "source": [
    "<div class=\"alert alert-success\">\n",
    "<font size=\"4\"><b>✔️ Комментарий ревьюера V2</b></font>\n",
    "    <br /> \n",
    "    <font size=\"3\", color = \"black\">\n",
    "<br />    \n",
    "👍"
   ]
  },
  {
   "cell_type": "markdown",
   "id": "91ea7440",
   "metadata": {},
   "source": [
    "Данные на этапе после флотации имеют нормальное распределение"
   ]
  },
  {
   "cell_type": "code",
   "execution_count": 45,
   "id": "0b58efba",
   "metadata": {},
   "outputs": [],
   "source": [
    "\n",
    "final_output_concentrate_sum_train = (data_train['final.output.concentrate_au'] + \n",
    "                                      data_train['final.output.concentrate_ag'] + \n",
    "                                      data_train['final.output.concentrate_pb'] +\n",
    "                                      data_train['final.output.concentrate_sol'])\n",
    "primary_cleaner_output_concentrate_sum_train = (data_train['primary_cleaner.output.concentrate_au'] + \n",
    "                                                data_train['primary_cleaner.output.concentrate_ag'] + \n",
    "                                                data_train['primary_cleaner.output.concentrate_pb'] +\n",
    "                                                data_train['primary_cleaner.output.concentrate_sol'])\n",
    "rougher_output_concentrate_sum_train = (data_train['rougher.output.concentrate_au'] + \n",
    "                                        data_train['rougher.output.concentrate_ag'] + \n",
    "                                        data_train['rougher.output.concentrate_pb'] +\n",
    "                                        data_train['rougher.output.concentrate_sol'])"
   ]
  },
  {
   "cell_type": "code",
   "execution_count": 46,
   "id": "ed127e7a",
   "metadata": {},
   "outputs": [
    {
     "data": {
      "image/png": "[encoded data removed]",
      "text/plain": [
       "<Figure size 864x648 with 1 Axes>"
      ]
     },
     "metadata": {
      "needs_background": "light"
     },
     "output_type": "display_data"
    }
   ],
   "source": [
    "plt.figure(figsize=[12,9])\n",
    "\n",
    "plt.hist(final_output_concentrate_sum_train, bins=100, label = 'final_output', alpha=.5)\n",
    "plt.hist(primary_cleaner_output_concentrate_sum_train, bins=100, label = 'primary_cleaner_output', alpha=.5)\n",
    "plt.hist(rougher_output_concentrate_sum_train, bins=100, label = 'rougher_output', alpha=.5)\n",
    "\n",
    "plt.xlim([0, 100])\n",
    "plt.ylim([0, 2500])\n",
    "\n",
    "plt.xlabel(\"Суммарная концентраця\")\n",
    "plt.ylabel(\"Количество результатов\")\n",
    "\n",
    "plt.legend(loc='upper left', fontsize='x-large')\n",
    "\n",
    "plt.title(\"Гистограмма распределения концентраций на разных этапах очистки\")\n",
    "plt.show()"
   ]
  },
  {
   "cell_type": "markdown",
   "id": "06ce2949",
   "metadata": {},
   "source": [
    "<div style=\"background-color: #F4E4F4; color: #4C4C4C; padding: 10px; border: 1px solid #C4C4C4; height: 200px;\">\n",
    "    \n",
    "**Вывод по этапу анализа данных**\n",
    "    \n",
    "На втором этапе были проанализированы:\n",
    "    \n",
    "1.Концетрации основных веществ на разных этапах очистки.\n",
    "    \n",
    "2.Размер гранул тестовой и обучающей выборки.\n",
    "    \n",
    "3.Суммарная концентрация веществ.\n",
    "    \n",
    "4.Аномалии были удалены. Данные готовы к обучению.\n",
    "    \n",
    "</div>"
   ]
  },
  {
   "cell_type": "markdown",
   "id": "623cc96d",
   "metadata": {},
   "source": [
    "## Модель"
   ]
  },
  {
   "cell_type": "code",
   "execution_count": 47,
   "id": "0df64af2",
   "metadata": {},
   "outputs": [],
   "source": [
    "for column in data_train.columns:\n",
    "    if column not in data_test.columns:\n",
    "        data_train = data_train.drop(column, axis = 1)"
   ]
  },
  {
   "cell_type": "markdown",
   "id": "8abaecf7",
   "metadata": {},
   "source": [
    "Теперь дропаем фичи тут !"
   ]
  },
  {
   "cell_type": "markdown",
   "id": "6320771f",
   "metadata": {},
   "source": [
    "Функция вычисления симметричного среднего абсолютного процентного отклонения."
   ]
  },
  {
   "cell_type": "markdown",
   "id": "20a0e611",
   "metadata": {},
   "source": [
    "<div class=\"alert alert-danger\">\n",
    "<font size=\"4\"><b>❌ Комментарий ревьюера</b></font>\n",
    "    <br /> \n",
    "    <font size=\"3\", color = \"black\">\n",
    "<br /> \n",
    "Возможна ситуация, что на первом таргете лучше справляется одна модель (например, лес), на втором - другая (например, линейная модель), тем более вполне реальна ситуация, что на одном таргете будут лучшими одни гиперпараметры, на другом - другие. Очевидно, если обучим две разные модели и посчитаем их итоговый взвешенный smape, то он будет лучше, чем если подбирать гиперпараметры под взвешенный smape сразу, как это делаешь ты сейчас.\n",
    "\n",
    "Искать лучшую rougher модель и лучшую final модель надо отдельно друг от друга, независимо. То есть, вместо скорера, который считает итоговый взвешенный смапе тебе нужен такой, который считает обычный (формула же одинаковая для rougher и final). Находишь лучшую модель на rougher, лучшую на final. Эти две модели берёшь в тестирование."
   ]
  },
  {
   "cell_type": "markdown",
   "id": "d1e11400",
   "metadata": {},
   "source": [
    "Поправил!"
   ]
  },
  {
   "cell_type": "code",
   "execution_count": 48,
   "id": "1dec8a37",
   "metadata": {},
   "outputs": [],
   "source": [
    "def sMAPE_score(recovery_real, recovery_predicted):\n",
    "    n = recovery_real.shape[0]\n",
    "    sMAPE = ((2 * np.abs(recovery_real - recovery_predicted) /\n",
    "              (np.abs(recovery_real) + np.abs(recovery_predicted))).sum() * 100 / n)\n",
    "    return sMAPE\n"
   ]
  },
  {
   "cell_type": "markdown",
   "id": "2e6560fb",
   "metadata": {},
   "source": [
    "<div class=\"alert alert-info\">\n",
    "<font size=\"4\">🍕<b> Комментарий ревьюера</b></font>\n",
    "    <br /> \n",
    "    <font size=\"3\", color = \"black\">\n",
    "<br />\n",
    "Вместо суммирования и деления на длину, кажется, намного проще использовать метод .mean()"
   ]
  },
  {
   "cell_type": "markdown",
   "id": "2f8e361b",
   "metadata": {},
   "source": [
    "<div class=\"alert alert-warning\">\n",
    "<font size=\"4\"><b>⚠️ Комментарий ревьюера V2</b></font>\n",
    "    <br /> \n",
    "    <font size=\"3\", color = \"black\">\n",
    "<br />\n",
    "Эти 2 функции делают абсолютно идентичные вычисления, только с разными данными ) Можно спокойно оставить одну из них и использовать и для rougher, и для final"
   ]
  },
  {
   "cell_type": "code",
   "execution_count": 49,
   "id": "d188fc6a",
   "metadata": {},
   "outputs": [],
   "source": [
    "random_state = 12345"
   ]
  },
  {
   "cell_type": "markdown",
   "id": "74d5720c",
   "metadata": {},
   "source": [
    "<div class=\"alert alert-success\">\n",
    "<font size=\"4\"><b>✔️ Комментарий ревьюера V2</b></font>\n",
    "    <br /> \n",
    "    <font size=\"3\", color = \"black\">\n",
    "<br />    \n",
    "👍"
   ]
  },
  {
   "cell_type": "code",
   "execution_count": 50,
   "id": "b78157b0",
   "metadata": {},
   "outputs": [],
   "source": [
    "# Готовим данные тренировочной выборки\n",
    "features_train = data_train.drop(columns = ['rougher.output.recovery', 'final.output.recovery'], axis = 1)\n",
    "target_rough_train = data_train['rougher.output.recovery']\n",
    "target_final_train = data_train['final.output.recovery']"
   ]
  },
  {
   "cell_type": "code",
   "execution_count": 51,
   "id": "661b6944",
   "metadata": {},
   "outputs": [],
   "source": [
    "features_rough_train, features_rough_valid, target_rough_train, target_rough_valid = train_test_split(features_train, target_rough_train, test_size = 0.25, random_state = random_state)\n",
    "\n",
    "\n",
    "features_final_train, features_final_valid, target_final_train, target_final_valid = train_test_split(features_train, target_final_train, test_size = 0.25, random_state = random_state)\n",
    "                                                    "
   ]
  },
  {
   "cell_type": "markdown",
   "id": "d10292eb",
   "metadata": {},
   "source": [
    "<div class=\"alert alert-info\">\n",
    "<font size=\"4\">🍕<b> Комментарий ревьюера</b></font>\n",
    "    <br /> \n",
    "    <font size=\"3\", color = \"black\">\n",
    "<br />\n",
    "Настоятельно тебе рекомендую рандом стейт (и другие глобальные константы) в начале работы сохранять в отдельную переменную и оперировать дальше ей. Иногда бывает нужно провести эксперимент с другим рандомом и менять по коду во всех местах где он испоьзуется явно хуже, чем одну переменную в начале поменять."
   ]
  },
  {
   "cell_type": "code",
   "execution_count": 52,
   "id": "b36fade7",
   "metadata": {},
   "outputs": [],
   "source": [
    "# Готовим данные тестовой выборки\n",
    "features_test = data_test.drop(columns = ['rougher.output.recovery', 'final.output.recovery'], axis = 1)\n",
    "target_rough_test = data_test['rougher.output.recovery']\n",
    "target_final_test = data_test['final.output.recovery']"
   ]
  },
  {
   "cell_type": "markdown",
   "id": "0cbbfbdd",
   "metadata": {},
   "source": [
    "Эти данные мы прячем для финального теста нашей модели"
   ]
  },
  {
   "cell_type": "code",
   "execution_count": 53,
   "id": "41b78f20",
   "metadata": {},
   "outputs": [
    {
     "name": "stdout",
     "output_type": "stream",
     "text": [
      "# Подбираем гиперпараметры make_scorer(sMAPE_score, greater_is_better=False)\n",
      "\n",
      "Лучшие гиперпараметры для модели:\n",
      "\n",
      "{'alpha': 100, 'solver': 'auto'}\n",
      "\n",
      "Grid scores:\n",
      "\n",
      "-4.258 (+/-0.169) for {'alpha': 0.1, 'solver': 'auto'}\n",
      "-4.258 (+/-0.169) for {'alpha': 0.1, 'solver': 'svd'}\n",
      "-4.258 (+/-0.169) for {'alpha': 0.1, 'solver': 'cholesky'}\n",
      "-4.379 (+/-0.145) for {'alpha': 0.1, 'solver': 'lsqr'}\n",
      "-4.273 (+/-0.166) for {'alpha': 0.1, 'solver': 'sparse_cg'}\n",
      "-4.258 (+/-0.169) for {'alpha': 1, 'solver': 'auto'}\n",
      "-4.258 (+/-0.169) for {'alpha': 1, 'solver': 'svd'}\n",
      "-4.258 (+/-0.169) for {'alpha': 1, 'solver': 'cholesky'}\n",
      "-4.379 (+/-0.145) for {'alpha': 1, 'solver': 'lsqr'}\n",
      "-4.272 (+/-0.165) for {'alpha': 1, 'solver': 'sparse_cg'}\n",
      "-4.257 (+/-0.169) for {'alpha': 10, 'solver': 'auto'}\n",
      "-4.257 (+/-0.169) for {'alpha': 10, 'solver': 'svd'}\n",
      "-4.257 (+/-0.169) for {'alpha': 10, 'solver': 'cholesky'}\n",
      "-4.379 (+/-0.145) for {'alpha': 10, 'solver': 'lsqr'}\n",
      "-4.269 (+/-0.169) for {'alpha': 10, 'solver': 'sparse_cg'}\n",
      "-4.256 (+/-0.168) for {'alpha': 100, 'solver': 'auto'}\n",
      "-4.256 (+/-0.168) for {'alpha': 100, 'solver': 'svd'}\n",
      "-4.256 (+/-0.168) for {'alpha': 100, 'solver': 'cholesky'}\n",
      "-4.379 (+/-0.145) for {'alpha': 100, 'solver': 'lsqr'}\n",
      "-4.269 (+/-0.168) for {'alpha': 100, 'solver': 'sparse_cg'}\n",
      "\n",
      "CPU times: user 12.3 s, sys: 15.9 s, total: 28.3 s\n",
      "Wall time: 28.2 s\n"
     ]
    }
   ],
   "source": [
    "%%time\n",
    "import itertools\n",
    "\n",
    "sMAPE_scorer = make_scorer(sMAPE_score, greater_is_better=False)\n",
    "\n",
    "regressor = Ridge()\n",
    "alphas = [0.1, 1, 10, 100]\n",
    "solvers = ['auto', 'svd', 'cholesky', 'lsqr', 'sparse_cg']\n",
    "hyperparams = {'alpha': alphas, 'solver': solvers}\n",
    "\n",
    "scores = [sMAPE_scorer]\n",
    "\n",
    "for score in scores:\n",
    "    print('# Подбираем гиперпараметры %s' % score)\n",
    "    print()\n",
    "    clf = GridSearchCV(regressor, hyperparams, scoring=score, n_jobs=-1)\n",
    "    clf.fit(features_rough_train, target_rough_train)  # Обучаем модель перед использованием\n",
    "    print(\"Лучшие гиперпараметры для модели:\")\n",
    "    print()\n",
    "    print(clf.best_params_)\n",
    "    print()\n",
    "    print(\"Grid scores:\")\n",
    "    print()\n",
    "    means = clf.cv_results_['mean_test_score']\n",
    "    stds = clf.cv_results_['std_test_score']\n",
    "    for mean, std, params in zip(means, stds, clf.cv_results_['params']):\n",
    "        print(\"%0.3f (+/-%0.03f) for %r\" % (mean, std * 2, params))\n",
    "    print()"
   ]
  },
  {
   "cell_type": "markdown",
   "id": "55cab2bc",
   "metadata": {},
   "source": [
    "<div class=\"alert alert-warning\">\n",
    "<font size=\"4\"><b>⚠️ Комментарий ревьюера</b></font>\n",
    "    <br /> \n",
    "    <font size=\"3\", color = \"black\">\n",
    "<br />\n",
    "По-моему, ты недоразобрался как работать с сеткой гиперпараметров для GridSearchCV. Можно вместо\n",
    "\n",
    "`[{'alpha':[0.1, 1, 10, 100], 'solver':['auto']},\n",
    "{'alpha':[0.1, 1, 10, 100], 'solver':['svd']}, \n",
    "{'alpha':[0.1, 1, 10, 100], 'solver':['cholesky']},\n",
    "{'alpha':[0.1, 1, 10, 100], 'solver':['lsqr']}, \n",
    "{'alpha':[0.1, 1, 10, 100], 'solver':['sparse_cg']}]`\n",
    "\n",
    "Написать так:\n",
    "\n",
    "`{'alpha':[0.1, 1, 10, 100], 'solver':['auto', 'svd', 'cholesky', 'lsqr', 'sparse_cg']}`\n",
    "\n",
    "Ну и для других моделей аналогично, по образу и подобию."
   ]
  },
  {
   "cell_type": "code",
   "execution_count": 56,
   "id": "a58a0f5f",
   "metadata": {},
   "outputs": [
    {
     "name": "stdout",
     "output_type": "stream",
     "text": [
      "# Подбираем гиперпараметры\n",
      "\n",
      "Лучшие гиперпараметры для модели:\n",
      "\n",
      "{'criterion': 'mse', 'max_depth': 14, 'random_state': 15062020}\n",
      "\n",
      "Grid scores on development set:\n",
      "\n",
      "-5.136 (+/-0.249) for {'criterion': 'mse', 'max_depth': 2, 'random_state': 15062020}\n",
      "-4.334 (+/-0.252) for {'criterion': 'mse', 'max_depth': 4, 'random_state': 15062020}\n",
      "-3.876 (+/-0.216) for {'criterion': 'mse', 'max_depth': 6, 'random_state': 15062020}\n",
      "-3.621 (+/-0.173) for {'criterion': 'mse', 'max_depth': 8, 'random_state': 15062020}\n",
      "-3.436 (+/-0.164) for {'criterion': 'mse', 'max_depth': 10, 'random_state': 15062020}\n",
      "-3.369 (+/-0.311) for {'criterion': 'mse', 'max_depth': 12, 'random_state': 15062020}\n",
      "-3.358 (+/-0.336) for {'criterion': 'mse', 'max_depth': 14, 'random_state': 15062020}\n",
      "-3.388 (+/-0.254) for {'criterion': 'mse', 'max_depth': 16, 'random_state': 15062020}\n",
      "-3.451 (+/-0.292) for {'criterion': 'mse', 'max_depth': 18, 'random_state': 15062020}\n",
      "-3.482 (+/-0.223) for {'criterion': 'mse', 'max_depth': 20, 'random_state': 15062020}\n",
      "-5.075 (+/-0.341) for {'criterion': 'mae', 'max_depth': 2, 'random_state': 15062020}\n",
      "-4.303 (+/-0.317) for {'criterion': 'mae', 'max_depth': 4, 'random_state': 15062020}\n",
      "-3.795 (+/-0.245) for {'criterion': 'mae', 'max_depth': 6, 'random_state': 15062020}\n",
      "-3.522 (+/-0.241) for {'criterion': 'mae', 'max_depth': 8, 'random_state': 15062020}\n",
      "-3.459 (+/-0.230) for {'criterion': 'mae', 'max_depth': 10, 'random_state': 15062020}\n",
      "-3.436 (+/-0.222) for {'criterion': 'mae', 'max_depth': 12, 'random_state': 15062020}\n",
      "-3.460 (+/-0.233) for {'criterion': 'mae', 'max_depth': 14, 'random_state': 15062020}\n",
      "-3.500 (+/-0.284) for {'criterion': 'mae', 'max_depth': 16, 'random_state': 15062020}\n",
      "-3.541 (+/-0.210) for {'criterion': 'mae', 'max_depth': 18, 'random_state': 15062020}\n",
      "-3.549 (+/-0.202) for {'criterion': 'mae', 'max_depth': 20, 'random_state': 15062020}\n",
      "\n"
     ]
    }
   ],
   "source": [
    "sMAPE_scorer = make_scorer(sMAPE_score, greater_is_better=False)\n",
    "\n",
    "regressor = DecisionTreeRegressor()\n",
    "max_depth_list = [x for x in range(2, 21, 2)]\n",
    "hyperparams = [{'criterion': ['mse'], 'max_depth': max_depth_list, 'random_state': [15062020]},\n",
    "               {'criterion': ['mae'], 'max_depth': max_depth_list, 'random_state': [15062020]}]\n",
    "\n",
    "print('# Подбираем гиперпараметры')\n",
    "print()\n",
    "\n",
    "scoring = {'sMAPE': sMAPE_scorer}  # Используем словарь для указания метрики и соответствующего скорера\n",
    "\n",
    "clf = GridSearchCV(regressor, hyperparams, scoring=scoring, refit='sMAPE', n_jobs=-1)\n",
    "clf.fit(features_rough_train, target_rough_train)\n",
    "\n",
    "print(\"Лучшие гиперпараметры для модели:\")\n",
    "print()\n",
    "print(clf.best_params_)\n",
    "print()\n",
    "print(\"Grid scores on development set:\")\n",
    "print()\n",
    "means = clf.cv_results_['mean_test_sMAPE']\n",
    "stds = clf.cv_results_['std_test_sMAPE']\n",
    "for mean, std, params in zip(means, stds, clf.cv_results_['params']):\n",
    "    print(\"%0.3f (+/-%0.03f) for %r\" % (mean, std * 2, params))\n",
    "print()"
   ]
  },
  {
   "cell_type": "markdown",
   "id": "d6c638c9",
   "metadata": {},
   "source": [
    "<div class=\"alert alert-warning\">\n",
    "<font size=\"4\"><b>⚠️ Комментарий ревьюера V3</b></font>\n",
    "    <br /> \n",
    "    <font size=\"3\", color = \"black\">\n",
    "<br />\n",
    "Всё ещё странная сетка гиперпараметров.\n",
    "\n",
    "`hyperparams = [{'criterion': ['mse'], 'max_depth': max_depth_list, 'random_state': [15062020]},\n",
    "               {'criterion': ['mae'], 'max_depth': max_depth_list, 'random_state': [15062020]}]`\n",
    "\n",
    "Вместо этого можно же так:\n",
    "\n",
    "`hyperparams = {'criterion': ['mse', 'mae'], 'max_depth': max_depth_list, 'random_state': [15062020]}`\n"
   ]
  },
  {
   "cell_type": "markdown",
   "id": "cc8a7c5b",
   "metadata": {},
   "source": [
    "<div class=\"alert alert-danger\">\n",
    "<font size=\"4\"><b>❌ Комментарий ревьюера</b></font>\n",
    "    <br /> \n",
    "    <font size=\"3\", color = \"black\">\n",
    "<br /> \n",
    "Здесь в GridSearchCV не передан скорер"
   ]
  },
  {
   "cell_type": "markdown",
   "id": "966568ab",
   "metadata": {},
   "source": [
    "Поправил!"
   ]
  },
  {
   "cell_type": "markdown",
   "id": "6d5e2123",
   "metadata": {},
   "source": [
    "<div class=\"alert alert-danger\">\n",
    "<font size=\"4\"><b>❌ Комментарий ревьюера V2</b></font>\n",
    "    <br /> \n",
    "    <font size=\"3\", color = \"black\">\n",
    "<br /> \n",
    "Но мы в проекте используем метрику sMAPE, а не R2 или MSE, поэтому и кросс-валидироваться нам надо по sMAPE. Чтобы использовать в кросс-валидации свою функцию, для которой нет встроенного параметра, нужно создать свой кастомный скорер с помощью функции <a href=\"https://scikit-learn.org/stable/modules/generated/sklearn.metrics.make_scorer.html\">make_scorer</a>. И не забудь, что sMAPE мы хотим найти минимальный, а не максимальный ;-) Нужно указать соответствующий параметр."
   ]
  },
  {
   "cell_type": "markdown",
   "id": "7e59e675",
   "metadata": {},
   "source": [
    "Сделал!"
   ]
  },
  {
   "cell_type": "code",
   "execution_count": 57,
   "id": "edad87bd",
   "metadata": {},
   "outputs": [],
   "source": [
    "rougher_recovery_real = data_train.loc[features_rough_valid.index,'rougher.output.recovery']\n",
    "final_recovery_real = data_train.loc[features_final_valid.index,'final.output.recovery']"
   ]
  },
  {
   "cell_type": "code",
   "execution_count": 58,
   "id": "b1acbbec",
   "metadata": {},
   "outputs": [
    {
     "name": "stdout",
     "output_type": "stream",
     "text": [
      "rough_sMAPE для линейной регресии 4.257324400359678\n",
      "final_sMAPE для линейной регресии 7.56987345212466\n",
      "rough_sMAPE для полиноминальной регресии 3.2731657285014193\n",
      "final_sMAPE для полиноминальной регресии 7.134702512079944\n",
      "rough_sMAPE для ridge модели 4.25636721232487\n",
      "final_sMAPE для ridge модели 7.567445375864002\n",
      "rough_sMAPE для DTR 3.4354343649248325\n",
      "final_sMAPE для DTR 7.346047060912898\n",
      "CPU times: user 27.7 s, sys: 27.5 s, total: 55.2 s\n",
      "Wall time: 55.4 s\n"
     ]
    }
   ],
   "source": [
    "%%time\n",
    "\n",
    "model = LinearRegression()\n",
    "model.fit(features_rough_train, target_rough_train)\n",
    "rougher_recovery_predicted = model.predict(features_rough_valid)\n",
    "model.fit(features_final_train, target_final_train)\n",
    "final_recovery_predicted = model.predict(features_final_valid)\n",
    "print('rough_sMAPE для линейной регресии',sMAPE_score(rougher_recovery_real, rougher_recovery_predicted))\n",
    "print('final_sMAPE для линейной регресии',sMAPE_score(final_recovery_real, final_recovery_predicted))\n",
    "\n",
    "regressor = LinearRegression()\n",
    "polynomial_features = PolynomialFeatures(degree=2, include_bias=False)\n",
    "model = Pipeline([(\"polynomial_features\", polynomial_features),(\"linear_regression\", regressor)])\n",
    "model.fit(features_rough_train, target_rough_train)\n",
    "rougher_recovery_predicted = model.predict(features_rough_valid)\n",
    "model.fit(features_final_train, target_final_train)\n",
    "final_recovery_predicted = model.predict(features_final_valid)\n",
    "print('rough_sMAPE для полиноминальной регресии',sMAPE_score(rougher_recovery_real, rougher_recovery_predicted))\n",
    "print('final_sMAPE для полиноминальной регресии',sMAPE_score(final_recovery_real, final_recovery_predicted))\n",
    "\n",
    "model = Ridge(alpha=100, solver='auto')\n",
    "model.fit(features_rough_train, target_rough_train)\n",
    "rougher_recovery_predicted = model.predict(features_rough_valid)\n",
    "model.fit(features_final_train, target_final_train)\n",
    "final_recovery_predicted = model.predict(features_final_valid)\n",
    "print('rough_sMAPE для ridge модели',sMAPE_score(rougher_recovery_real, rougher_recovery_predicted))\n",
    "print('final_sMAPE для ridge модели',sMAPE_score(final_recovery_real, final_recovery_predicted))\n",
    "\n",
    "model = DecisionTreeRegressor(criterion='mse', max_depth=14, random_state=15062020)\n",
    "model.fit(features_rough_train, target_rough_train)\n",
    "rougher_recovery_predicted = model.predict(features_rough_valid)\n",
    "model.fit(features_final_train, target_final_train)\n",
    "final_recovery_predicted = model.predict(features_final_valid)\n",
    "print('rough_sMAPE для DTR',sMAPE_score(rougher_recovery_real, rougher_recovery_predicted))\n",
    "print('final_sMAPE для DTR',sMAPE_score(final_recovery_real, final_recovery_predicted))                                                  \n",
    "                                                    "
   ]
  },
  {
   "cell_type": "markdown",
   "id": "d97b6190",
   "metadata": {},
   "source": [
    "**Таким образом:**\n",
    "\n",
    "    1. наилучшей rough-моделью является - полиноминальная регресия со знаением sMAPE = 3.27\n",
    "    2. наилучшей final-моделью является - полиноминальная регресия со знаением sMAPE = 7.13"
   ]
  },
  {
   "cell_type": "markdown",
   "id": "731e04b7",
   "metadata": {},
   "source": [
    "Создадим константную модель на медианных значений. Изменим код функции для подсчета.\n",
    "\n"
   ]
  },
  {
   "cell_type": "code",
   "execution_count": 59,
   "id": "5945571c",
   "metadata": {},
   "outputs": [
    {
     "name": "stdout",
     "output_type": "stream",
     "text": [
      "rough_sMAPE равен: 6.56564469005085\n",
      "final_sMAPE равен: 9.345360606097929\n"
     ]
    }
   ],
   "source": [
    "median_rougher_recovery = data_train['rougher.output.recovery'].median()\n",
    "median_final_recovery = data_train['final.output.recovery'].median()\n",
    "\n",
    "n = rougher_recovery_real.shape[0]\n",
    "rougher_sMAPE = ((2*abs(rougher_recovery_real - median_rougher_recovery)/\n",
    "                     (abs(rougher_recovery_real) + abs(median_rougher_recovery))).sum() * 100 / n)\n",
    "final_sMAPE = ((2*abs(final_recovery_real - median_final_recovery)/\n",
    "                     (abs(final_recovery_real) + abs(median_final_recovery))).sum() * 100 / n)\n",
    "print('rough_sMAPE равен:', rougher_sMAPE)\n",
    "print('final_sMAPE равен:', final_sMAPE)"
   ]
  },
  {
   "cell_type": "markdown",
   "id": "89272e75",
   "metadata": {},
   "source": [
    "Обученные модели имеют показатель sMAPE ниже, чем у константной модели, что в целом хорошо\n",
    "\n",
    "Проверим результаты на тестовой выборке"
   ]
  },
  {
   "cell_type": "code",
   "execution_count": 60,
   "id": "345d2c57",
   "metadata": {},
   "outputs": [],
   "source": [
    "median_rougher_recovery = data_test['rougher.output.recovery'].median()\n",
    "median_final_recovery = data_test['final.output.recovery'].median()\n",
    "index = set(features_test.index)"
   ]
  },
  {
   "cell_type": "markdown",
   "id": "166d8e24",
   "metadata": {},
   "source": [
    "<div class=\"alert alert-success\">\n",
    "<font size=\"4\"><b>✔️ Комментарий ревьюера</b></font>\n",
    "    <br /> \n",
    "    <font size=\"3\", color = \"black\">\n",
    "<br />    \n",
    "Молодец, что делаешь проверку адекватности модели. Ведь без этого мы не можем понимать какое значение смапе можно считать хорошим, а какое - нет. Давать заказчику работу, не понимая хорошая ли модель - сомнительная затея, поэтому сравнение с константной моделью в текущем проекте - необходимость.\n",
    "<br />\n",
    "    </font>\n",
    "</div>"
   ]
  },
  {
   "cell_type": "code",
   "execution_count": 61,
   "id": "b2b0651c",
   "metadata": {},
   "outputs": [],
   "source": [
    "rougher_recovery_real = data_test.loc[target_rough_test.index,'rougher.output.recovery']\n",
    "final_recovery_real = data_test.loc[target_final_test.index,'final.output.recovery']"
   ]
  },
  {
   "cell_type": "code",
   "execution_count": 62,
   "id": "d4ca3325",
   "metadata": {},
   "outputs": [
    {
     "name": "stdout",
     "output_type": "stream",
     "text": [
      "rough_sMAPE для полиноминальной регресии 3.826154942092239\n",
      "final_sMAPE для полиноминальной регресии 7.725409389683937\n",
      "rough_sMAPE для дамми модели 5.772999319855053\n",
      "final_sMAPE для дамми модели 8.926674224661209\n"
     ]
    }
   ],
   "source": [
    "# Лучшая модель \n",
    "regressor = LinearRegression()\n",
    "\n",
    "polynomial_features = PolynomialFeatures(degree=2, include_bias=False)\n",
    "model = Pipeline([(\"polynomial_features\", polynomial_features),(\"linear_regression\", regressor)])\n",
    "\n",
    "model.fit(features_rough_train, target_rough_train)\n",
    "rougher_recovery_predicted = model.predict(features_test)\n",
    "\n",
    "model.fit(features_final_train, target_final_train)\n",
    "final_recovery_predicted = model.predict(features_test)\n",
    "\n",
    "print('rough_sMAPE для полиноминальной регресии',sMAPE_score(rougher_recovery_real, rougher_recovery_predicted))\n",
    "print('final_sMAPE для полиноминальной регресии',sMAPE_score(final_recovery_real, final_recovery_predicted))\n",
    "\n",
    "#Дамми модель\n",
    "rough_median_predict = pd.Series(median_rougher_recovery, index=index)\n",
    "final_median_predict = pd.Series(median_final_recovery, index=index)\n",
    "\n",
    "print('rough_sMAPE для дамми модели',sMAPE_score(rougher_recovery_real, rough_median_predict))\n",
    "print('final_sMAPE для дамми модели',sMAPE_score(final_recovery_real, final_median_predict))"
   ]
  },
  {
   "cell_type": "markdown",
   "id": "95122ef9",
   "metadata": {},
   "source": [
    "<div class=\"alert alert-danger\">\n",
    "<font size=\"4\"><b>❌ Комментарий ревьюера</b></font>\n",
    "    <br /> \n",
    "    <font size=\"3\", color = \"black\">\n",
    "<br /> \n",
    "Тестирование нам, разумеется, тоже необходимо. Но почему ты на тестовой выборке вычисляешь MAE и R2, но не вычисляешь ту метрику, с которой мы в проекте работаем, sMAPE? MAE с R2 можешь оставить, если хочешь, но sMAPE должен быть обязательно."
   ]
  },
  {
   "cell_type": "markdown",
   "id": "0209560e",
   "metadata": {},
   "source": [
    "Прошу прощения за этот идиотизм! Поправил."
   ]
  },
  {
   "cell_type": "markdown",
   "id": "8ed6d6bf",
   "metadata": {},
   "source": [
    "Была написана функция для вычисления sMAPE. \n",
    "\n",
    "Каждая модель была изучена на качество с помощью методов кросс-валидации и поиска гипер параметром GridSearchCV.\n",
    "\n",
    "Была отобрана лучшая модель - TDR. Ее значение sMAPE самое низкое."
   ]
  },
  {
   "cell_type": "markdown",
   "id": "5ee51bce",
   "metadata": {},
   "source": [
    "<div style=\"background-color: #F4E4F4; color: #4C4C4C; padding: 10px; border: 1px solid #C4C4C4;\">\n",
    "Небольшой P.S. по поводу этого проекта:\n",
    "    \n",
    "во первых, большое тебе спасибо за то, что ты развернуто и понятно донес вещи, которые я недопонял!\n",
    "    \n",
    "во вторых, проект считаю ужасным (относительно предыдущих). С точки зрения самой идеи - очень круто, однако лично я из тех людей, которые, сначала стараются понять бизесс идею машинного обучения, а потом уже только начинают вникать. А тут... 86 фичей, от одного вида при которых немного бросает в дрожь.\n",
    "    \n",
    "в третьих, не могли бы посоветовать какие либо форумы/паблики/группы на тему datascience, где народ обсуждает насущные проблемы в ml? (помимо общения в пачке) мне очень нехватает общения на эту тему, а она мне очень интересна!\n",
    "    \n",
    "</div>"
   ]
  },
  {
   "cell_type": "markdown",
   "id": "30d1f124",
   "metadata": {},
   "source": [
    "<div class=\"alert alert-info\">\n",
    "<font size=\"4\">🍕<b> Комментарий ревьюера</b></font>\n",
    "    <br /> \n",
    "    <font size=\"3\", color = \"black\">\n",
    "<br />\n",
    "Подведём итог. Твоя работа на самом деле неплохая, но где-то ты был чуть невнимателен, где-то чуть-чуть недодумал, где-то может малость недопонял происходящее, и получилось не очень мало красных комментариев. Тем не менее, видно, что логика в твоих действиях есть, ты, что называется, не плаваешь в проекте, поэтому сомнений в итоговом успехе у меня нет.\n",
    "\n",
    "Что жду к следующей отправке:\n",
    "\n",
    "+ Другой подход к заполнению пропусков\n",
    "\n",
    "+ Добавление исходных концентраций сырья на гистограммы концентраций\n",
    "\n",
    "+ Доудалённые аномалии, причём удалённые только аномалии, а не хвосты распределений\n",
    "\n",
    "+ Нормализованные гистограммы размеров гранул\n",
    "\n",
    "+ Независимый поиск лучшей модели на rougher и на final таргетах\n",
    "\n",
    "+ Везде переданный скорер в кросс-валидацию\n",
    "\n",
    "+ Вычисление sMAPE на тестовой выборке\n",
    "\n",
    "Не очень мало, но это всё-таки сборный, с ним слишком легко не бывает. Но в целом очень сложных проблем не вижу, так что верю, что ты всё сделаешь. И жду новую отправку."
   ]
  },
  {
   "cell_type": "markdown",
   "id": "1f25e059",
   "metadata": {},
   "source": [
    "# Чек-лист готовности проекта"
   ]
  },
  {
   "cell_type": "markdown",
   "id": "f1c443b8",
   "metadata": {},
   "source": [
    "- [x]  Jupyter Notebook открыт\n",
    "- [ ]  Весь код выполняется без ошибок\n",
    "- [ ]  Ячейки с кодом расположены в порядке выполнения\n",
    "- [ ]  Выполнен шаг 1: данные подготовлены\n",
    "    - [ ]  Проверена формула вычисления эффективности обогащения\n",
    "    - [ ]  Проанализированы признаки, недоступные в тестовой выборке\n",
    "    - [ ]  Проведена предобработка данных\n",
    "- [ ]  Выполнен шаг 2: данные проанализированы\n",
    "    - [ ]  Исследовано изменение концентрации элементов на каждом этапе\n",
    "    - [ ]  Проанализированы распределения размеров гранул на обучающей и тестовой выборках\n",
    "    - [ ]  Исследованы суммарные концентрации\n",
    "- [ ]  Выполнен шаг 3: построена модель прогнозирования\n",
    "    - [ ]  Написана функция для вычисления итогового *sMAPE*\n",
    "    - [ ]  Обучено и проверено несколько моделей\n",
    "    - [ ]  Выбрана лучшая модель, её качество проверено на тестовой выборке"
   ]
  }
 ],
 "metadata": {
  "ExecuteTimeLog": [
   {
    "duration": 2188,
    "start_time": "2023-05-29T17:14:16.193Z"
   },
   {
    "duration": 6,
    "start_time": "2023-05-29T17:15:56.303Z"
   },
   {
    "duration": 184,
    "start_time": "2023-05-29T17:15:59.052Z"
   },
   {
    "duration": 2550,
    "start_time": "2023-05-29T17:16:24.381Z"
   },
   {
    "duration": 5,
    "start_time": "2023-05-29T17:19:10.758Z"
   },
   {
    "duration": 40,
    "start_time": "2023-05-29T17:19:12.722Z"
   },
   {
    "duration": 29,
    "start_time": "2023-05-29T17:19:13.421Z"
   },
   {
    "duration": 381,
    "start_time": "2023-05-29T17:19:13.946Z"
   },
   {
    "duration": 12,
    "start_time": "2023-05-29T17:19:14.737Z"
   },
   {
    "duration": 31,
    "start_time": "2023-05-29T17:19:15.518Z"
   },
   {
    "duration": 26,
    "start_time": "2023-05-29T17:19:15.696Z"
   },
   {
    "duration": 342,
    "start_time": "2023-05-29T17:19:16.366Z"
   },
   {
    "duration": 11,
    "start_time": "2023-05-29T17:19:17.081Z"
   },
   {
    "duration": 30,
    "start_time": "2023-05-29T17:19:18.486Z"
   },
   {
    "duration": 20,
    "start_time": "2023-05-29T17:19:19.214Z"
   },
   {
    "duration": 81,
    "start_time": "2023-05-29T17:19:19.791Z"
   },
   {
    "duration": 205,
    "start_time": "2023-05-29T17:20:12.479Z"
   },
   {
    "duration": 8,
    "start_time": "2023-05-29T17:20:13.197Z"
   },
   {
    "duration": 8,
    "start_time": "2023-05-29T17:20:18.294Z"
   },
   {
    "duration": 19,
    "start_time": "2023-05-29T17:25:13.350Z"
   },
   {
    "duration": 54,
    "start_time": "2023-05-29T17:25:14.929Z"
   },
   {
    "duration": 65,
    "start_time": "2023-05-29T17:25:59.421Z"
   },
   {
    "duration": 4,
    "start_time": "2023-05-29T17:25:59.973Z"
   },
   {
    "duration": 4,
    "start_time": "2023-05-29T17:26:59.691Z"
   },
   {
    "duration": 17,
    "start_time": "2023-05-29T17:27:10.570Z"
   },
   {
    "duration": 8,
    "start_time": "2023-05-29T17:27:10.958Z"
   },
   {
    "duration": 5119,
    "start_time": "2023-05-29T17:27:11.687Z"
   },
   {
    "duration": 441,
    "start_time": "2023-05-29T17:27:16.808Z"
   },
   {
    "duration": 12,
    "start_time": "2023-05-29T17:27:47.610Z"
   },
   {
    "duration": 5,
    "start_time": "2023-05-29T17:28:22.085Z"
   },
   {
    "duration": 459,
    "start_time": "2023-05-29T17:29:00.243Z"
   },
   {
    "duration": 7,
    "start_time": "2023-05-29T17:29:02.849Z"
   },
   {
    "duration": 5,
    "start_time": "2023-05-29T17:30:50.135Z"
   },
   {
    "duration": 453,
    "start_time": "2023-05-29T17:30:51.702Z"
   },
   {
    "duration": 10,
    "start_time": "2023-05-29T17:31:04.648Z"
   },
   {
    "duration": 31,
    "start_time": "2023-05-29T17:31:09.660Z"
   },
   {
    "duration": 911,
    "start_time": "2023-05-29T17:31:10.619Z"
   },
   {
    "duration": 991,
    "start_time": "2023-05-29T17:31:34.807Z"
   },
   {
    "duration": 1193,
    "start_time": "2023-05-29T17:31:40.237Z"
   },
   {
    "duration": 1627,
    "start_time": "2023-05-29T18:36:06.205Z"
   },
   {
    "duration": 170,
    "start_time": "2023-05-29T18:36:11.098Z"
   },
   {
    "duration": 4363,
    "start_time": "2023-05-29T18:36:33.460Z"
   },
   {
    "duration": 521,
    "start_time": "2023-05-29T21:27:45.742Z"
   },
   {
    "duration": 698,
    "start_time": "2023-05-29T21:27:53.877Z"
   },
   {
    "duration": 591,
    "start_time": "2023-05-29T21:28:00.478Z"
   },
   {
    "duration": 507,
    "start_time": "2023-05-29T21:30:26.149Z"
   },
   {
    "duration": 635,
    "start_time": "2023-05-29T21:30:46.084Z"
   },
   {
    "duration": 583,
    "start_time": "2023-05-29T21:30:53.871Z"
   },
   {
    "duration": 1677,
    "start_time": "2023-05-31T09:16:02.490Z"
   },
   {
    "duration": 3301,
    "start_time": "2023-05-31T09:16:04.170Z"
   },
   {
    "duration": 4,
    "start_time": "2023-05-31T09:16:07.473Z"
   },
   {
    "duration": 25,
    "start_time": "2023-05-31T09:16:07.850Z"
   },
   {
    "duration": 18,
    "start_time": "2023-05-31T09:16:08.402Z"
   },
   {
    "duration": 244,
    "start_time": "2023-05-31T09:16:08.687Z"
   },
   {
    "duration": 11,
    "start_time": "2023-05-31T09:16:08.933Z"
   },
   {
    "duration": 27,
    "start_time": "2023-05-31T09:16:09.703Z"
   },
   {
    "duration": 16,
    "start_time": "2023-05-31T09:16:09.863Z"
   },
   {
    "duration": 215,
    "start_time": "2023-05-31T09:16:11.849Z"
   },
   {
    "duration": 8,
    "start_time": "2023-05-31T09:16:12.065Z"
   },
   {
    "duration": 20,
    "start_time": "2023-05-31T09:16:12.718Z"
   },
   {
    "duration": 13,
    "start_time": "2023-05-31T09:16:12.899Z"
   },
   {
    "duration": 116,
    "start_time": "2023-05-31T09:16:14.367Z"
   },
   {
    "duration": 5,
    "start_time": "2023-05-31T09:16:14.484Z"
   },
   {
    "duration": 5,
    "start_time": "2023-05-31T09:16:20.773Z"
   },
   {
    "duration": 16,
    "start_time": "2023-05-31T09:16:24.831Z"
   },
   {
    "duration": 38,
    "start_time": "2023-05-31T09:16:33.198Z"
   },
   {
    "duration": 49,
    "start_time": "2023-05-31T09:16:36.928Z"
   },
   {
    "duration": 4,
    "start_time": "2023-05-31T09:16:41.397Z"
   },
   {
    "duration": 10,
    "start_time": "2023-05-31T09:19:02.020Z"
   },
   {
    "duration": 6,
    "start_time": "2023-05-31T09:19:12.651Z"
   },
   {
    "duration": 5,
    "start_time": "2023-05-31T09:35:06.039Z"
   },
   {
    "duration": 115,
    "start_time": "2023-05-31T10:03:56.612Z"
   },
   {
    "duration": 12,
    "start_time": "2023-05-31T10:04:11.752Z"
   },
   {
    "duration": 64,
    "start_time": "2023-05-31T10:04:37.502Z"
   },
   {
    "duration": 7,
    "start_time": "2023-05-31T10:04:45.840Z"
   },
   {
    "duration": 132,
    "start_time": "2023-05-31T10:07:29.924Z"
   },
   {
    "duration": 8,
    "start_time": "2023-05-31T10:07:40.003Z"
   },
   {
    "duration": 118,
    "start_time": "2023-05-31T10:07:51.242Z"
   },
   {
    "duration": 139,
    "start_time": "2023-05-31T10:09:41.558Z"
   },
   {
    "duration": 7,
    "start_time": "2023-05-31T10:09:44.895Z"
   },
   {
    "duration": 17,
    "start_time": "2023-05-31T10:11:18.354Z"
   },
   {
    "duration": 5,
    "start_time": "2023-05-31T10:11:34.054Z"
   },
   {
    "duration": 7,
    "start_time": "2023-05-31T10:11:37.642Z"
   },
   {
    "duration": 8,
    "start_time": "2023-05-31T10:12:36.649Z"
   },
   {
    "duration": 360,
    "start_time": "2023-05-31T10:14:59.495Z"
   },
   {
    "duration": 5,
    "start_time": "2023-05-31T10:15:08.086Z"
   },
   {
    "duration": 306,
    "start_time": "2023-05-31T10:15:12.321Z"
   },
   {
    "duration": 3,
    "start_time": "2023-05-31T10:17:03.632Z"
   },
   {
    "duration": 178,
    "start_time": "2023-05-31T10:17:25.182Z"
   },
   {
    "duration": 8,
    "start_time": "2023-05-31T10:17:28.792Z"
   },
   {
    "duration": 18,
    "start_time": "2023-05-31T10:17:31.001Z"
   },
   {
    "duration": 870,
    "start_time": "2023-05-31T10:20:16.842Z"
   },
   {
    "duration": 1197,
    "start_time": "2023-05-31T10:20:38.308Z"
   },
   {
    "duration": 1447,
    "start_time": "2023-05-31T10:31:18.557Z"
   },
   {
    "duration": 839,
    "start_time": "2023-05-31T10:31:20.007Z"
   },
   {
    "duration": 4,
    "start_time": "2023-05-31T10:31:20.848Z"
   },
   {
    "duration": 54,
    "start_time": "2023-05-31T10:31:20.854Z"
   },
   {
    "duration": 33,
    "start_time": "2023-05-31T10:31:20.910Z"
   },
   {
    "duration": 254,
    "start_time": "2023-05-31T10:31:21.137Z"
   },
   {
    "duration": 10,
    "start_time": "2023-05-31T10:31:21.393Z"
   },
   {
    "duration": 37,
    "start_time": "2023-05-31T10:31:21.405Z"
   },
   {
    "duration": 15,
    "start_time": "2023-05-31T10:31:21.556Z"
   },
   {
    "duration": 239,
    "start_time": "2023-05-31T10:31:22.014Z"
   },
   {
    "duration": 7,
    "start_time": "2023-05-31T10:31:22.255Z"
   },
   {
    "duration": 31,
    "start_time": "2023-05-31T10:31:22.263Z"
   },
   {
    "duration": 13,
    "start_time": "2023-05-31T10:31:22.441Z"
   },
   {
    "duration": 128,
    "start_time": "2023-05-31T10:31:22.976Z"
   },
   {
    "duration": 6,
    "start_time": "2023-05-31T10:31:23.190Z"
   },
   {
    "duration": 6,
    "start_time": "2023-05-31T10:31:24.139Z"
   },
   {
    "duration": 17,
    "start_time": "2023-05-31T10:31:24.510Z"
   },
   {
    "duration": 37,
    "start_time": "2023-05-31T10:31:24.571Z"
   },
   {
    "duration": 3,
    "start_time": "2023-05-31T10:31:24.910Z"
   },
   {
    "duration": 8,
    "start_time": "2023-05-31T10:31:25.673Z"
   },
   {
    "duration": 288,
    "start_time": "2023-05-31T10:31:27.398Z"
   },
   {
    "duration": 5,
    "start_time": "2023-05-31T10:31:31.457Z"
   },
   {
    "duration": 2,
    "start_time": "2023-05-31T10:31:31.643Z"
   },
   {
    "duration": 4,
    "start_time": "2023-05-31T10:31:33.033Z"
   },
   {
    "duration": 3,
    "start_time": "2023-05-31T10:31:34.013Z"
   },
   {
    "duration": 3,
    "start_time": "2023-05-31T10:31:34.148Z"
   },
   {
    "duration": 10,
    "start_time": "2023-05-31T10:31:35.707Z"
   },
   {
    "duration": 4,
    "start_time": "2023-05-31T10:31:39.072Z"
   },
   {
    "duration": 307,
    "start_time": "2023-05-31T10:31:41.791Z"
   },
   {
    "duration": 6,
    "start_time": "2023-05-31T10:31:46.677Z"
   },
   {
    "duration": 5,
    "start_time": "2023-05-31T10:31:52.689Z"
   },
   {
    "duration": 195,
    "start_time": "2023-05-31T10:31:52.839Z"
   },
   {
    "duration": 11,
    "start_time": "2023-05-31T10:32:02.118Z"
   },
   {
    "duration": 275,
    "start_time": "2023-05-31T10:32:07.273Z"
   },
   {
    "duration": 11,
    "start_time": "2023-05-31T10:32:14.744Z"
   },
   {
    "duration": 20,
    "start_time": "2023-05-31T10:32:16.509Z"
   },
   {
    "duration": 569,
    "start_time": "2023-05-31T10:32:17.846Z"
   },
   {
    "duration": 567,
    "start_time": "2023-05-31T10:32:19.114Z"
   },
   {
    "duration": 612,
    "start_time": "2023-05-31T10:33:21.110Z"
   },
   {
    "duration": 36,
    "start_time": "2023-05-31T10:35:19.831Z"
   },
   {
    "duration": 533,
    "start_time": "2023-05-31T10:35:23.082Z"
   },
   {
    "duration": 18,
    "start_time": "2023-05-31T10:36:08.285Z"
   },
   {
    "duration": 203,
    "start_time": "2023-05-31T10:36:54.312Z"
   },
   {
    "duration": 1405,
    "start_time": "2023-05-31T10:37:41.885Z"
   },
   {
    "duration": 842,
    "start_time": "2023-05-31T10:37:43.292Z"
   },
   {
    "duration": 5,
    "start_time": "2023-05-31T10:37:44.137Z"
   },
   {
    "duration": 38,
    "start_time": "2023-05-31T10:37:44.144Z"
   },
   {
    "duration": 44,
    "start_time": "2023-05-31T10:37:44.184Z"
   },
   {
    "duration": 307,
    "start_time": "2023-05-31T10:37:44.230Z"
   },
   {
    "duration": 9,
    "start_time": "2023-05-31T10:37:44.539Z"
   },
   {
    "duration": 19,
    "start_time": "2023-05-31T10:37:44.549Z"
   },
   {
    "duration": 21,
    "start_time": "2023-05-31T10:37:44.570Z"
   },
   {
    "duration": 309,
    "start_time": "2023-05-31T10:37:44.594Z"
   },
   {
    "duration": 9,
    "start_time": "2023-05-31T10:37:44.905Z"
   },
   {
    "duration": 34,
    "start_time": "2023-05-31T10:37:44.925Z"
   },
   {
    "duration": 16,
    "start_time": "2023-05-31T10:37:44.960Z"
   },
   {
    "duration": 156,
    "start_time": "2023-05-31T10:37:44.978Z"
   },
   {
    "duration": 8,
    "start_time": "2023-05-31T10:37:45.136Z"
   },
   {
    "duration": 7,
    "start_time": "2023-05-31T10:37:45.403Z"
   },
   {
    "duration": 15,
    "start_time": "2023-05-31T10:37:46.105Z"
   },
   {
    "duration": 37,
    "start_time": "2023-05-31T10:37:46.143Z"
   },
   {
    "duration": 4,
    "start_time": "2023-05-31T10:37:46.747Z"
   },
   {
    "duration": 8,
    "start_time": "2023-05-31T10:37:48.509Z"
   },
   {
    "duration": 308,
    "start_time": "2023-05-31T10:37:48.915Z"
   },
   {
    "duration": 6,
    "start_time": "2023-05-31T10:37:49.225Z"
   },
   {
    "duration": 3,
    "start_time": "2023-05-31T10:37:49.234Z"
   },
   {
    "duration": 19,
    "start_time": "2023-05-31T10:37:49.239Z"
   },
   {
    "duration": 14,
    "start_time": "2023-05-31T10:37:49.259Z"
   },
   {
    "duration": 5,
    "start_time": "2023-05-31T10:37:49.274Z"
   },
   {
    "duration": 11,
    "start_time": "2023-05-31T10:37:49.593Z"
   },
   {
    "duration": 4,
    "start_time": "2023-05-31T10:37:51.715Z"
   },
   {
    "duration": 292,
    "start_time": "2023-05-31T10:37:52.212Z"
   },
   {
    "duration": 8,
    "start_time": "2023-05-31T10:37:53.520Z"
   },
   {
    "duration": 6,
    "start_time": "2023-05-31T10:37:54.175Z"
   },
   {
    "duration": 212,
    "start_time": "2023-05-31T10:37:59.206Z"
   },
   {
    "duration": 8,
    "start_time": "2023-05-31T10:38:07.655Z"
   },
   {
    "duration": 18,
    "start_time": "2023-05-31T10:38:10.574Z"
   },
   {
    "duration": 655,
    "start_time": "2023-05-31T10:38:13.924Z"
   },
   {
    "duration": 16,
    "start_time": "2023-05-31T10:39:11.094Z"
   },
   {
    "duration": 564,
    "start_time": "2023-05-31T10:39:13.953Z"
   },
   {
    "duration": 15,
    "start_time": "2023-05-31T10:39:37.207Z"
   },
   {
    "duration": 709,
    "start_time": "2023-05-31T10:39:38.902Z"
   },
   {
    "duration": 21,
    "start_time": "2023-05-31T10:39:47.853Z"
   },
   {
    "duration": 555,
    "start_time": "2023-05-31T10:40:17.570Z"
   },
   {
    "duration": 16,
    "start_time": "2023-05-31T10:40:39.275Z"
   },
   {
    "duration": 569,
    "start_time": "2023-05-31T10:40:44.078Z"
   },
   {
    "duration": 5,
    "start_time": "2023-05-31T10:41:22.907Z"
   },
   {
    "duration": 820,
    "start_time": "2023-05-31T10:44:20.448Z"
   },
   {
    "duration": 567,
    "start_time": "2023-05-31T10:45:14.142Z"
   },
   {
    "duration": 1628,
    "start_time": "2023-06-02T11:46:13.765Z"
   },
   {
    "duration": 2198,
    "start_time": "2023-06-02T11:46:15.395Z"
   },
   {
    "duration": 3,
    "start_time": "2023-06-02T11:46:17.595Z"
   },
   {
    "duration": 35,
    "start_time": "2023-06-02T11:46:17.600Z"
   },
   {
    "duration": 22,
    "start_time": "2023-06-02T11:46:17.637Z"
   },
   {
    "duration": 231,
    "start_time": "2023-06-02T11:46:17.660Z"
   },
   {
    "duration": 13,
    "start_time": "2023-06-02T11:46:17.893Z"
   },
   {
    "duration": 27,
    "start_time": "2023-06-02T11:46:18.054Z"
   },
   {
    "duration": 23,
    "start_time": "2023-06-02T11:46:18.640Z"
   },
   {
    "duration": 209,
    "start_time": "2023-06-02T11:46:19.176Z"
   },
   {
    "duration": 7,
    "start_time": "2023-06-02T11:46:19.846Z"
   },
   {
    "duration": 20,
    "start_time": "2023-06-02T11:46:20.343Z"
   },
   {
    "duration": 13,
    "start_time": "2023-06-02T11:46:20.575Z"
   },
   {
    "duration": 110,
    "start_time": "2023-06-02T11:46:21.106Z"
   },
   {
    "duration": 7,
    "start_time": "2023-06-02T11:46:21.306Z"
   },
   {
    "duration": 7,
    "start_time": "2023-06-02T11:46:21.646Z"
   },
   {
    "duration": 14,
    "start_time": "2023-06-02T11:46:23.087Z"
   },
   {
    "duration": 36,
    "start_time": "2023-06-02T11:46:24.085Z"
   },
   {
    "duration": 4,
    "start_time": "2023-06-02T11:46:26.110Z"
   },
   {
    "duration": 9,
    "start_time": "2023-06-02T11:46:27.063Z"
   },
   {
    "duration": 240,
    "start_time": "2023-06-02T11:46:28.181Z"
   },
   {
    "duration": 6,
    "start_time": "2023-06-02T11:46:28.504Z"
   },
   {
    "duration": 2,
    "start_time": "2023-06-02T11:46:28.807Z"
   },
   {
    "duration": 2,
    "start_time": "2023-06-02T11:46:29.141Z"
   },
   {
    "duration": 2,
    "start_time": "2023-06-02T11:46:29.320Z"
   },
   {
    "duration": 3,
    "start_time": "2023-06-02T11:46:29.475Z"
   },
   {
    "duration": 11,
    "start_time": "2023-06-02T11:46:30.776Z"
   },
   {
    "duration": 4,
    "start_time": "2023-06-02T11:46:32.285Z"
   },
   {
    "duration": 252,
    "start_time": "2023-06-02T11:46:34.148Z"
   },
   {
    "duration": 7,
    "start_time": "2023-06-02T11:46:35.538Z"
   },
   {
    "duration": 4,
    "start_time": "2023-06-02T11:46:39.143Z"
   },
   {
    "duration": 257,
    "start_time": "2023-06-02T11:46:39.964Z"
   },
   {
    "duration": 13,
    "start_time": "2023-06-02T11:46:45.368Z"
   },
   {
    "duration": 17,
    "start_time": "2023-06-02T11:46:49.705Z"
   },
   {
    "duration": 625,
    "start_time": "2023-06-02T11:46:50.500Z"
   },
   {
    "duration": 19,
    "start_time": "2023-06-02T11:47:04.981Z"
   },
   {
    "duration": 600,
    "start_time": "2023-06-02T11:47:09.864Z"
   },
   {
    "duration": 786,
    "start_time": "2023-06-02T11:48:14.243Z"
   },
   {
    "duration": 655,
    "start_time": "2023-06-02T11:48:24.274Z"
   },
   {
    "duration": 14,
    "start_time": "2023-06-02T11:49:06.166Z"
   },
   {
    "duration": 680,
    "start_time": "2023-06-02T11:49:09.674Z"
   },
   {
    "duration": 15,
    "start_time": "2023-06-02T11:49:33.409Z"
   },
   {
    "duration": 613,
    "start_time": "2023-06-02T11:49:54.562Z"
   },
   {
    "duration": 688,
    "start_time": "2023-06-02T11:50:05.545Z"
   },
   {
    "duration": 639,
    "start_time": "2023-06-02T11:50:54.464Z"
   },
   {
    "duration": 690,
    "start_time": "2023-06-02T11:51:29.166Z"
   },
   {
    "duration": 21,
    "start_time": "2023-06-02T11:52:09.206Z"
   },
   {
    "duration": 651,
    "start_time": "2023-06-02T11:52:12.250Z"
   },
   {
    "duration": 753,
    "start_time": "2023-06-02T11:52:37.953Z"
   },
   {
    "duration": 422,
    "start_time": "2023-06-02T11:52:45.856Z"
   },
   {
    "duration": 572,
    "start_time": "2023-06-02T11:53:16.151Z"
   },
   {
    "duration": 684,
    "start_time": "2023-06-02T11:53:25.891Z"
   },
   {
    "duration": 562,
    "start_time": "2023-06-02T11:53:32.916Z"
   },
   {
    "duration": 666,
    "start_time": "2023-06-02T11:53:38.567Z"
   },
   {
    "duration": 591,
    "start_time": "2023-06-02T11:54:51.604Z"
   },
   {
    "duration": 739,
    "start_time": "2023-06-02T11:54:57.546Z"
   },
   {
    "duration": 603,
    "start_time": "2023-06-02T11:55:10.753Z"
   },
   {
    "duration": 575,
    "start_time": "2023-06-02T11:55:20.270Z"
   },
   {
    "duration": 678,
    "start_time": "2023-06-02T11:55:46.162Z"
   },
   {
    "duration": 7,
    "start_time": "2023-06-02T11:56:02.858Z"
   },
   {
    "duration": 568,
    "start_time": "2023-06-02T11:56:04.569Z"
   },
   {
    "duration": 6,
    "start_time": "2023-06-02T11:57:18.202Z"
   },
   {
    "duration": 557,
    "start_time": "2023-06-02T11:57:20.182Z"
   },
   {
    "duration": 41,
    "start_time": "2023-06-02T11:57:36.871Z"
   },
   {
    "duration": 3,
    "start_time": "2023-06-02T12:00:26.562Z"
   },
   {
    "duration": 4,
    "start_time": "2023-06-02T12:01:13.486Z"
   },
   {
    "duration": 3,
    "start_time": "2023-06-02T12:01:29.986Z"
   },
   {
    "duration": 7,
    "start_time": "2023-06-02T12:01:31.591Z"
   },
   {
    "duration": 20,
    "start_time": "2023-06-02T12:01:33.613Z"
   },
   {
    "duration": 6,
    "start_time": "2023-06-02T12:01:36.813Z"
   },
   {
    "duration": 63937,
    "start_time": "2023-06-02T12:06:39.686Z"
   },
   {
    "duration": 140,
    "start_time": "2023-06-02T12:14:16.869Z"
   },
   {
    "duration": 2729091,
    "start_time": "2023-06-02T12:14:42.411Z"
   },
   {
    "duration": 3,
    "start_time": "2023-06-02T13:00:11.503Z"
   },
   {
    "duration": 10,
    "start_time": "2023-06-02T13:00:11.508Z"
   },
   {
    "duration": 6,
    "start_time": "2023-06-02T13:16:35.505Z"
   },
   {
    "duration": 210002,
    "start_time": "2023-06-02T13:18:01.968Z"
   },
   {
    "duration": 3,
    "start_time": "2023-06-02T13:21:31.972Z"
   },
   {
    "duration": 3,
    "start_time": "2023-06-02T13:21:39.329Z"
   },
   {
    "duration": 209314,
    "start_time": "2023-06-02T13:21:42.524Z"
   },
   {
    "duration": 212145,
    "start_time": "2023-06-02T13:25:34.135Z"
   },
   {
    "duration": 9,
    "start_time": "2023-06-02T13:33:41.378Z"
   },
   {
    "duration": 8,
    "start_time": "2023-06-02T13:35:23.332Z"
   },
   {
    "duration": 5,
    "start_time": "2023-06-02T13:36:15.493Z"
   },
   {
    "duration": 5,
    "start_time": "2023-06-02T13:36:30.420Z"
   },
   {
    "duration": 17546,
    "start_time": "2023-06-02T13:37:44.776Z"
   },
   {
    "duration": 8,
    "start_time": "2023-06-02T13:38:24.718Z"
   },
   {
    "duration": 1459,
    "start_time": "2023-06-02T13:40:45.067Z"
   },
   {
    "duration": 729,
    "start_time": "2023-06-02T13:40:46.528Z"
   },
   {
    "duration": 3,
    "start_time": "2023-06-02T13:40:47.258Z"
   },
   {
    "duration": 42,
    "start_time": "2023-06-02T13:40:47.264Z"
   },
   {
    "duration": 28,
    "start_time": "2023-06-02T13:40:47.308Z"
   },
   {
    "duration": 257,
    "start_time": "2023-06-02T13:40:47.338Z"
   },
   {
    "duration": 9,
    "start_time": "2023-06-02T13:40:47.596Z"
   },
   {
    "duration": 18,
    "start_time": "2023-06-02T13:40:47.618Z"
   },
   {
    "duration": 16,
    "start_time": "2023-06-02T13:40:47.738Z"
   },
   {
    "duration": 218,
    "start_time": "2023-06-02T13:40:47.901Z"
   },
   {
    "duration": 10,
    "start_time": "2023-06-02T13:40:48.121Z"
   },
   {
    "duration": 19,
    "start_time": "2023-06-02T13:40:48.431Z"
   },
   {
    "duration": 18,
    "start_time": "2023-06-02T13:40:48.611Z"
   },
   {
    "duration": 107,
    "start_time": "2023-06-02T13:40:49.180Z"
   },
   {
    "duration": 6,
    "start_time": "2023-06-02T13:40:49.331Z"
   },
   {
    "duration": 7,
    "start_time": "2023-06-02T13:40:49.726Z"
   },
   {
    "duration": 13,
    "start_time": "2023-06-02T13:40:50.076Z"
   },
   {
    "duration": 34,
    "start_time": "2023-06-02T13:40:50.601Z"
   },
   {
    "duration": 4,
    "start_time": "2023-06-02T13:40:51.338Z"
   },
   {
    "duration": 8,
    "start_time": "2023-06-02T13:40:51.977Z"
   },
   {
    "duration": 71,
    "start_time": "2023-06-02T13:40:52.710Z"
   },
   {
    "duration": 3,
    "start_time": "2023-06-02T13:40:52.870Z"
   },
   {
    "duration": 62,
    "start_time": "2023-06-02T13:40:53.328Z"
   },
   {
    "duration": 5,
    "start_time": "2023-06-02T13:40:53.490Z"
   },
   {
    "duration": 2,
    "start_time": "2023-06-02T13:40:53.668Z"
   },
   {
    "duration": 2,
    "start_time": "2023-06-02T13:40:53.881Z"
   },
   {
    "duration": 3,
    "start_time": "2023-06-02T13:40:54.110Z"
   },
   {
    "duration": 3,
    "start_time": "2023-06-02T13:40:54.339Z"
   },
   {
    "duration": 3,
    "start_time": "2023-06-02T13:41:07.601Z"
   },
   {
    "duration": 7,
    "start_time": "2023-06-02T13:41:24.939Z"
   },
   {
    "duration": 4,
    "start_time": "2023-06-02T13:41:25.581Z"
   },
   {
    "duration": 256,
    "start_time": "2023-06-02T13:41:26.219Z"
   },
   {
    "duration": 8,
    "start_time": "2023-06-02T13:41:26.518Z"
   },
   {
    "duration": 4,
    "start_time": "2023-06-02T13:41:27.210Z"
   },
   {
    "duration": 223,
    "start_time": "2023-06-02T13:41:27.368Z"
   },
   {
    "duration": 10,
    "start_time": "2023-06-02T13:41:27.731Z"
   },
   {
    "duration": 16,
    "start_time": "2023-06-02T13:41:28.447Z"
   },
   {
    "duration": 651,
    "start_time": "2023-06-02T13:41:28.589Z"
   },
   {
    "duration": 17,
    "start_time": "2023-06-02T13:41:29.243Z"
   },
   {
    "duration": 616,
    "start_time": "2023-06-02T13:41:29.856Z"
   },
   {
    "duration": 13,
    "start_time": "2023-06-02T13:41:30.474Z"
   },
   {
    "duration": 799,
    "start_time": "2023-06-02T13:41:30.489Z"
   },
   {
    "duration": 12,
    "start_time": "2023-06-02T13:41:31.290Z"
   },
   {
    "duration": 626,
    "start_time": "2023-06-02T13:41:31.304Z"
   },
   {
    "duration": 486,
    "start_time": "2023-06-02T13:41:31.932Z"
   },
   {
    "duration": 6,
    "start_time": "2023-06-02T13:41:32.420Z"
   },
   {
    "duration": 494,
    "start_time": "2023-06-02T13:41:32.427Z"
   },
   {
    "duration": 38,
    "start_time": "2023-06-02T13:41:32.927Z"
   },
   {
    "duration": 4,
    "start_time": "2023-06-02T13:41:35.027Z"
   },
   {
    "duration": 4,
    "start_time": "2023-06-02T13:41:36.318Z"
   },
   {
    "duration": 3,
    "start_time": "2023-06-02T13:41:36.771Z"
   },
   {
    "duration": 2,
    "start_time": "2023-06-02T13:41:40.579Z"
   },
   {
    "duration": 6,
    "start_time": "2023-06-02T13:41:40.908Z"
   },
   {
    "duration": 16,
    "start_time": "2023-06-02T13:41:43.836Z"
   },
   {
    "duration": 4,
    "start_time": "2023-06-02T13:41:45.349Z"
   },
   {
    "duration": 129,
    "start_time": "2023-06-02T13:42:08.217Z"
   },
   {
    "duration": 38297,
    "start_time": "2023-06-02T13:42:51.823Z"
   },
   {
    "duration": 6,
    "start_time": "2023-06-02T13:44:00.092Z"
   },
   {
    "duration": 227594,
    "start_time": "2023-06-02T13:44:01.492Z"
   },
   {
    "duration": 9,
    "start_time": "2023-06-02T13:47:49.088Z"
   },
   {
    "duration": 18,
    "start_time": "2023-06-02T13:47:49.099Z"
   },
   {
    "duration": 5,
    "start_time": "2023-06-02T13:47:49.119Z"
   },
   {
    "duration": 35351,
    "start_time": "2023-06-02T13:47:52.867Z"
   },
   {
    "duration": 125085,
    "start_time": "2023-06-02T13:50:42.532Z"
   },
   {
    "duration": 2580,
    "start_time": "2023-06-03T10:17:11.764Z"
   },
   {
    "duration": 2779,
    "start_time": "2023-06-03T10:17:14.353Z"
   },
   {
    "duration": 4,
    "start_time": "2023-06-03T10:17:17.134Z"
   },
   {
    "duration": 62,
    "start_time": "2023-06-03T10:17:17.140Z"
   },
   {
    "duration": 17,
    "start_time": "2023-06-03T10:17:17.203Z"
   },
   {
    "duration": 292,
    "start_time": "2023-06-03T10:17:17.222Z"
   },
   {
    "duration": 8,
    "start_time": "2023-06-03T10:17:17.515Z"
   },
   {
    "duration": 48,
    "start_time": "2023-06-03T10:17:17.525Z"
   },
   {
    "duration": 30,
    "start_time": "2023-06-03T10:17:17.574Z"
   },
   {
    "duration": 245,
    "start_time": "2023-06-03T10:17:17.606Z"
   },
   {
    "duration": 14,
    "start_time": "2023-06-03T10:17:17.852Z"
   },
   {
    "duration": 40,
    "start_time": "2023-06-03T10:17:17.867Z"
   },
   {
    "duration": 16,
    "start_time": "2023-06-03T10:17:17.908Z"
   },
   {
    "duration": 145,
    "start_time": "2023-06-03T10:17:17.926Z"
   },
   {
    "duration": 8,
    "start_time": "2023-06-03T10:17:18.073Z"
   },
   {
    "duration": 18,
    "start_time": "2023-06-03T10:17:18.088Z"
   },
   {
    "duration": 34,
    "start_time": "2023-06-03T10:17:18.109Z"
   },
   {
    "duration": 40,
    "start_time": "2023-06-03T10:17:18.393Z"
   },
   {
    "duration": 4,
    "start_time": "2023-06-03T10:17:27.923Z"
   },
   {
    "duration": 9,
    "start_time": "2023-06-03T10:17:29.230Z"
   },
   {
    "duration": 93,
    "start_time": "2023-06-03T10:17:30.195Z"
   },
   {
    "duration": 4,
    "start_time": "2023-06-03T10:17:30.337Z"
   },
   {
    "duration": 90,
    "start_time": "2023-06-03T10:17:30.667Z"
   },
   {
    "duration": 8,
    "start_time": "2023-06-03T10:17:30.881Z"
   },
   {
    "duration": 2,
    "start_time": "2023-06-03T10:17:31.128Z"
   },
   {
    "duration": 2,
    "start_time": "2023-06-03T10:17:31.280Z"
   },
   {
    "duration": 3,
    "start_time": "2023-06-03T10:17:31.440Z"
   },
   {
    "duration": 3,
    "start_time": "2023-06-03T10:17:31.584Z"
   },
   {
    "duration": 10,
    "start_time": "2023-06-03T10:17:32.223Z"
   },
   {
    "duration": 4,
    "start_time": "2023-06-03T10:17:32.839Z"
   },
   {
    "duration": 315,
    "start_time": "2023-06-03T10:17:33.477Z"
   },
   {
    "duration": 9,
    "start_time": "2023-06-03T10:17:33.795Z"
   },
   {
    "duration": 4,
    "start_time": "2023-06-03T10:17:34.422Z"
   },
   {
    "duration": 225,
    "start_time": "2023-06-03T10:17:34.584Z"
   },
   {
    "duration": 12,
    "start_time": "2023-06-03T10:17:34.887Z"
   },
   {
    "duration": 27,
    "start_time": "2023-06-03T10:17:35.573Z"
   },
   {
    "duration": 927,
    "start_time": "2023-06-03T10:17:35.728Z"
   },
   {
    "duration": 21,
    "start_time": "2023-06-03T10:17:36.657Z"
   },
   {
    "duration": 800,
    "start_time": "2023-06-03T10:17:37.528Z"
   },
   {
    "duration": 42,
    "start_time": "2023-06-03T10:17:38.331Z"
   },
   {
    "duration": 893,
    "start_time": "2023-06-03T10:17:39.027Z"
   },
   {
    "duration": 14,
    "start_time": "2023-06-03T10:17:39.922Z"
   },
   {
    "duration": 766,
    "start_time": "2023-06-03T10:17:40.098Z"
   },
   {
    "duration": 592,
    "start_time": "2023-06-03T10:17:40.866Z"
   },
   {
    "duration": 13,
    "start_time": "2023-06-03T10:17:44.472Z"
   },
   {
    "duration": 656,
    "start_time": "2023-06-03T10:17:44.633Z"
   },
   {
    "duration": 29,
    "start_time": "2023-06-03T10:17:55.992Z"
   },
   {
    "duration": 146,
    "start_time": "2023-06-03T10:18:06.469Z"
   },
   {
    "duration": 5,
    "start_time": "2023-06-03T10:18:09.527Z"
   },
   {
    "duration": 27,
    "start_time": "2023-06-03T10:18:16.102Z"
   },
   {
    "duration": 4,
    "start_time": "2023-06-03T10:18:18.633Z"
   },
   {
    "duration": 6,
    "start_time": "2023-06-03T10:18:37.385Z"
   },
   {
    "duration": 2938,
    "start_time": "2023-06-03T10:18:43.689Z"
   },
   {
    "duration": 37,
    "start_time": "2023-06-03T10:18:55.273Z"
   },
   {
    "duration": 9,
    "start_time": "2023-06-03T10:18:59.881Z"
   },
   {
    "duration": 18,
    "start_time": "2023-06-03T10:19:06.737Z"
   },
   {
    "duration": 29,
    "start_time": "2023-06-03T10:19:33.347Z"
   },
   {
    "duration": 225,
    "start_time": "2023-06-03T10:19:44.383Z"
   },
   {
    "duration": 13,
    "start_time": "2023-06-03T10:19:46.794Z"
   },
   {
    "duration": 471,
    "start_time": "2023-06-03T10:19:53.284Z"
   },
   {
    "duration": 484,
    "start_time": "2023-06-03T10:19:58.137Z"
   },
   {
    "duration": 462,
    "start_time": "2023-06-03T10:20:03.464Z"
   },
   {
    "duration": 13,
    "start_time": "2023-06-03T14:43:12.478Z"
   },
   {
    "duration": 1700,
    "start_time": "2023-06-03T14:47:32.812Z"
   },
   {
    "duration": 2733,
    "start_time": "2023-06-03T14:50:04.672Z"
   },
   {
    "duration": 4,
    "start_time": "2023-06-03T14:50:07.407Z"
   },
   {
    "duration": 35,
    "start_time": "2023-06-03T14:50:07.412Z"
   },
   {
    "duration": 30,
    "start_time": "2023-06-03T14:50:07.449Z"
   },
   {
    "duration": 341,
    "start_time": "2023-06-03T14:50:07.482Z"
   },
   {
    "duration": 10,
    "start_time": "2023-06-03T14:50:07.825Z"
   },
   {
    "duration": 35,
    "start_time": "2023-06-03T14:50:07.852Z"
   },
   {
    "duration": 36,
    "start_time": "2023-06-03T14:50:07.889Z"
   },
   {
    "duration": 296,
    "start_time": "2023-06-03T14:50:07.927Z"
   },
   {
    "duration": 8,
    "start_time": "2023-06-03T14:50:08.225Z"
   },
   {
    "duration": 54,
    "start_time": "2023-06-03T14:50:08.235Z"
   },
   {
    "duration": 13,
    "start_time": "2023-06-03T14:50:08.408Z"
   },
   {
    "duration": 141,
    "start_time": "2023-06-03T14:50:08.890Z"
   },
   {
    "duration": 6,
    "start_time": "2023-06-03T14:50:09.088Z"
   },
   {
    "duration": 7,
    "start_time": "2023-06-03T14:50:09.482Z"
   },
   {
    "duration": 17,
    "start_time": "2023-06-03T14:50:09.820Z"
   },
   {
    "duration": 41,
    "start_time": "2023-06-03T14:50:10.185Z"
   },
   {
    "duration": 4,
    "start_time": "2023-06-03T14:50:10.771Z"
   },
   {
    "duration": 8,
    "start_time": "2023-06-03T14:50:11.728Z"
   },
   {
    "duration": 117,
    "start_time": "2023-06-03T14:50:12.075Z"
   },
   {
    "duration": 15,
    "start_time": "2023-06-03T14:50:12.466Z"
   },
   {
    "duration": 111,
    "start_time": "2023-06-03T14:50:12.730Z"
   },
   {
    "duration": 3,
    "start_time": "2023-06-03T14:50:12.918Z"
   },
   {
    "duration": 3,
    "start_time": "2023-06-03T14:50:13.279Z"
   },
   {
    "duration": 3,
    "start_time": "2023-06-03T14:50:13.491Z"
   },
   {
    "duration": 2,
    "start_time": "2023-06-03T14:50:13.674Z"
   },
   {
    "duration": 4,
    "start_time": "2023-06-03T14:50:13.870Z"
   },
   {
    "duration": 9,
    "start_time": "2023-06-03T14:50:14.901Z"
   },
   {
    "duration": 3,
    "start_time": "2023-06-03T14:50:16.398Z"
   },
   {
    "duration": 344,
    "start_time": "2023-06-03T14:50:26.337Z"
   },
   {
    "duration": 10,
    "start_time": "2023-06-03T14:50:27.830Z"
   },
   {
    "duration": 5,
    "start_time": "2023-06-03T14:50:29.397Z"
   },
   {
    "duration": 327,
    "start_time": "2023-06-03T14:50:29.813Z"
   },
   {
    "duration": 8,
    "start_time": "2023-06-03T14:50:30.829Z"
   },
   {
    "duration": 22,
    "start_time": "2023-06-03T14:50:32.391Z"
   },
   {
    "duration": 855,
    "start_time": "2023-06-03T14:50:33.112Z"
   },
   {
    "duration": 20,
    "start_time": "2023-06-03T14:50:34.563Z"
   },
   {
    "duration": 864,
    "start_time": "2023-06-03T14:50:36.277Z"
   },
   {
    "duration": 22,
    "start_time": "2023-06-03T14:50:37.143Z"
   },
   {
    "duration": 1020,
    "start_time": "2023-06-03T14:50:37.168Z"
   },
   {
    "duration": 13,
    "start_time": "2023-06-03T14:50:38.190Z"
   },
   {
    "duration": 815,
    "start_time": "2023-06-03T14:50:38.205Z"
   },
   {
    "duration": 647,
    "start_time": "2023-06-03T14:50:39.023Z"
   },
   {
    "duration": 7,
    "start_time": "2023-06-03T14:50:39.691Z"
   },
   {
    "duration": 655,
    "start_time": "2023-06-03T14:50:39.864Z"
   },
   {
    "duration": 56,
    "start_time": "2023-06-03T14:50:41.582Z"
   },
   {
    "duration": 4,
    "start_time": "2023-06-03T14:50:43.178Z"
   },
   {
    "duration": 3,
    "start_time": "2023-06-03T14:50:45.073Z"
   },
   {
    "duration": 3,
    "start_time": "2023-06-03T14:50:56.781Z"
   },
   {
    "duration": 3,
    "start_time": "2023-06-03T14:51:13.075Z"
   },
   {
    "duration": 7,
    "start_time": "2023-06-03T14:51:14.725Z"
   },
   {
    "duration": 18,
    "start_time": "2023-06-03T14:51:18.462Z"
   },
   {
    "duration": 6,
    "start_time": "2023-06-03T14:51:22.024Z"
   },
   {
    "duration": 223,
    "start_time": "2023-06-03T14:51:45.949Z"
   },
   {
    "duration": 86,
    "start_time": "2023-06-03T14:52:57.479Z"
   },
   {
    "duration": 4,
    "start_time": "2023-06-03T14:59:37.887Z"
   },
   {
    "duration": 660,
    "start_time": "2023-06-03T15:01:31.311Z"
   },
   {
    "duration": 613,
    "start_time": "2023-06-03T15:02:36.497Z"
   },
   {
    "duration": 635,
    "start_time": "2023-06-03T15:03:41.698Z"
   },
   {
    "duration": 659,
    "start_time": "2023-06-03T15:03:56.270Z"
   },
   {
    "duration": 4,
    "start_time": "2023-06-03T15:07:07.803Z"
   },
   {
    "duration": 4,
    "start_time": "2023-06-03T15:07:57.017Z"
   },
   {
    "duration": 718,
    "start_time": "2023-06-03T15:08:32.507Z"
   },
   {
    "duration": 500,
    "start_time": "2023-06-03T15:10:26.261Z"
   },
   {
    "duration": 7,
    "start_time": "2023-06-03T15:12:43.949Z"
   },
   {
    "duration": 20,
    "start_time": "2023-06-03T15:13:45.256Z"
   },
   {
    "duration": 36,
    "start_time": "2023-06-03T15:14:16.821Z"
   },
   {
    "duration": 440,
    "start_time": "2023-06-03T15:14:34.280Z"
   },
   {
    "duration": 8,
    "start_time": "2023-06-03T15:14:52.611Z"
   },
   {
    "duration": 4,
    "start_time": "2023-06-03T15:17:49.589Z"
   },
   {
    "duration": 3,
    "start_time": "2023-06-03T15:18:38.480Z"
   },
   {
    "duration": 263,
    "start_time": "2023-06-03T15:18:52.838Z"
   },
   {
    "duration": 4,
    "start_time": "2023-06-03T15:20:44.979Z"
   },
   {
    "duration": 12,
    "start_time": "2023-06-03T15:20:49.306Z"
   },
   {
    "duration": 210,
    "start_time": "2023-06-03T15:21:45.083Z"
   },
   {
    "duration": 371,
    "start_time": "2023-06-03T15:22:14.619Z"
   },
   {
    "duration": 457,
    "start_time": "2023-06-03T15:22:31.519Z"
   },
   {
    "duration": 366,
    "start_time": "2023-06-03T15:22:38.337Z"
   },
   {
    "duration": 1519,
    "start_time": "2023-06-03T15:22:58.032Z"
   },
   {
    "duration": 889,
    "start_time": "2023-06-03T15:22:59.555Z"
   },
   {
    "duration": 9,
    "start_time": "2023-06-03T15:23:00.446Z"
   },
   {
    "duration": 59,
    "start_time": "2023-06-03T15:23:00.460Z"
   },
   {
    "duration": 65,
    "start_time": "2023-06-03T15:23:00.520Z"
   },
   {
    "duration": 299,
    "start_time": "2023-06-03T15:23:00.587Z"
   },
   {
    "duration": 9,
    "start_time": "2023-06-03T15:23:00.888Z"
   },
   {
    "duration": 35,
    "start_time": "2023-06-03T15:23:00.899Z"
   },
   {
    "duration": 45,
    "start_time": "2023-06-03T15:23:00.937Z"
   },
   {
    "duration": 283,
    "start_time": "2023-06-03T15:23:00.985Z"
   },
   {
    "duration": 11,
    "start_time": "2023-06-03T15:23:01.270Z"
   },
   {
    "duration": 86,
    "start_time": "2023-06-03T15:23:01.283Z"
   },
   {
    "duration": 52,
    "start_time": "2023-06-03T15:23:01.372Z"
   },
   {
    "duration": 152,
    "start_time": "2023-06-03T15:23:01.698Z"
   },
   {
    "duration": 14,
    "start_time": "2023-06-03T15:23:01.854Z"
   },
   {
    "duration": 7,
    "start_time": "2023-06-03T15:23:02.161Z"
   },
   {
    "duration": 18,
    "start_time": "2023-06-03T15:23:02.466Z"
   },
   {
    "duration": 55,
    "start_time": "2023-06-03T15:23:02.806Z"
   },
   {
    "duration": 4,
    "start_time": "2023-06-03T15:23:03.314Z"
   },
   {
    "duration": 11,
    "start_time": "2023-06-03T15:23:03.887Z"
   },
   {
    "duration": 106,
    "start_time": "2023-06-03T15:23:04.229Z"
   },
   {
    "duration": 4,
    "start_time": "2023-06-03T15:23:04.393Z"
   },
   {
    "duration": 93,
    "start_time": "2023-06-03T15:23:04.790Z"
   },
   {
    "duration": 4,
    "start_time": "2023-06-03T15:23:04.966Z"
   },
   {
    "duration": 3,
    "start_time": "2023-06-03T15:23:05.298Z"
   },
   {
    "duration": 5,
    "start_time": "2023-06-03T15:23:05.453Z"
   },
   {
    "duration": 2,
    "start_time": "2023-06-03T15:23:05.624Z"
   },
   {
    "duration": 3,
    "start_time": "2023-06-03T15:23:05.795Z"
   },
   {
    "duration": 13,
    "start_time": "2023-06-03T15:23:06.500Z"
   },
   {
    "duration": 5,
    "start_time": "2023-06-03T15:23:07.425Z"
   },
   {
    "duration": 327,
    "start_time": "2023-06-03T15:23:08.131Z"
   },
   {
    "duration": 9,
    "start_time": "2023-06-03T15:23:08.493Z"
   },
   {
    "duration": 4,
    "start_time": "2023-06-03T15:23:09.222Z"
   },
   {
    "duration": 208,
    "start_time": "2023-06-03T15:23:09.388Z"
   },
   {
    "duration": 10,
    "start_time": "2023-06-03T15:23:09.717Z"
   },
   {
    "duration": 26,
    "start_time": "2023-06-03T15:23:10.617Z"
   },
   {
    "duration": 873,
    "start_time": "2023-06-03T15:23:10.791Z"
   },
   {
    "duration": 13,
    "start_time": "2023-06-03T15:23:11.667Z"
   },
   {
    "duration": 877,
    "start_time": "2023-06-03T15:23:12.638Z"
   },
   {
    "duration": 30,
    "start_time": "2023-06-03T15:23:13.518Z"
   },
   {
    "duration": 968,
    "start_time": "2023-06-03T15:23:13.552Z"
   },
   {
    "duration": 14,
    "start_time": "2023-06-03T15:23:14.522Z"
   },
   {
    "duration": 768,
    "start_time": "2023-06-03T15:23:14.546Z"
   },
   {
    "duration": 608,
    "start_time": "2023-06-03T15:23:15.316Z"
   },
   {
    "duration": 8,
    "start_time": "2023-06-03T15:23:15.926Z"
   },
   {
    "duration": 605,
    "start_time": "2023-06-03T15:23:16.025Z"
   },
   {
    "duration": 51,
    "start_time": "2023-06-03T15:23:18.161Z"
   },
   {
    "duration": 8,
    "start_time": "2023-06-03T15:23:48.871Z"
   },
   {
    "duration": 5,
    "start_time": "2023-06-03T15:23:58.298Z"
   },
   {
    "duration": 7,
    "start_time": "2023-06-03T15:24:00.261Z"
   },
   {
    "duration": 23,
    "start_time": "2023-06-03T15:24:02.317Z"
   },
   {
    "duration": 7,
    "start_time": "2023-06-03T15:24:08.248Z"
   },
   {
    "duration": 802,
    "start_time": "2023-06-03T15:24:12.926Z"
   },
   {
    "duration": 8,
    "start_time": "2023-06-03T15:24:36.264Z"
   },
   {
    "duration": 140,
    "start_time": "2023-06-03T15:25:34.589Z"
   },
   {
    "duration": 4,
    "start_time": "2023-06-03T15:25:36.460Z"
   },
   {
    "duration": 5,
    "start_time": "2023-06-03T15:25:40.912Z"
   },
   {
    "duration": 91,
    "start_time": "2023-06-03T15:25:41.499Z"
   },
   {
    "duration": 4,
    "start_time": "2023-06-03T15:25:41.766Z"
   },
   {
    "duration": 3,
    "start_time": "2023-06-03T15:25:42.262Z"
   },
   {
    "duration": 2,
    "start_time": "2023-06-03T15:25:42.667Z"
   },
   {
    "duration": 3,
    "start_time": "2023-06-03T15:25:42.824Z"
   },
   {
    "duration": 2,
    "start_time": "2023-06-03T15:25:42.988Z"
   },
   {
    "duration": 7,
    "start_time": "2023-06-03T15:25:43.561Z"
   },
   {
    "duration": 4,
    "start_time": "2023-06-03T15:25:44.164Z"
   },
   {
    "duration": 313,
    "start_time": "2023-06-03T15:25:44.768Z"
   },
   {
    "duration": 7,
    "start_time": "2023-06-03T15:25:45.083Z"
   },
   {
    "duration": 4,
    "start_time": "2023-06-03T15:25:45.661Z"
   },
   {
    "duration": 212,
    "start_time": "2023-06-03T15:25:45.828Z"
   },
   {
    "duration": 11,
    "start_time": "2023-06-03T15:25:46.125Z"
   },
   {
    "duration": 21,
    "start_time": "2023-06-03T15:25:46.712Z"
   },
   {
    "duration": 1556,
    "start_time": "2023-06-03T15:25:46.862Z"
   },
   {
    "duration": 0,
    "start_time": "2023-06-03T15:25:48.420Z"
   },
   {
    "duration": 0,
    "start_time": "2023-06-03T15:25:48.421Z"
   },
   {
    "duration": 1537,
    "start_time": "2023-06-03T15:25:48.423Z"
   },
   {
    "duration": 0,
    "start_time": "2023-06-03T15:25:49.962Z"
   },
   {
    "duration": 0,
    "start_time": "2023-06-03T15:25:49.964Z"
   },
   {
    "duration": 0,
    "start_time": "2023-06-03T15:25:49.964Z"
   },
   {
    "duration": 0,
    "start_time": "2023-06-03T15:25:49.965Z"
   },
   {
    "duration": 1346,
    "start_time": "2023-06-03T15:25:50.376Z"
   },
   {
    "duration": 0,
    "start_time": "2023-06-03T15:25:51.724Z"
   },
   {
    "duration": 0,
    "start_time": "2023-06-03T15:25:51.725Z"
   },
   {
    "duration": 3,
    "start_time": "2023-06-03T15:25:51.770Z"
   },
   {
    "duration": 2,
    "start_time": "2023-06-03T15:25:52.320Z"
   },
   {
    "duration": 6,
    "start_time": "2023-06-03T15:25:52.840Z"
   },
   {
    "duration": 16,
    "start_time": "2023-06-03T15:25:53.762Z"
   },
   {
    "duration": 9,
    "start_time": "2023-06-03T15:26:08.988Z"
   },
   {
    "duration": 6,
    "start_time": "2023-06-03T15:26:16.263Z"
   },
   {
    "duration": 54553,
    "start_time": "2023-06-03T15:26:19.397Z"
   },
   {
    "duration": 27066,
    "start_time": "2023-06-03T15:27:28.081Z"
   },
   {
    "duration": 13,
    "start_time": "2023-06-03T15:30:06.777Z"
   },
   {
    "duration": 129,
    "start_time": "2023-06-03T15:30:59.463Z"
   },
   {
    "duration": 111,
    "start_time": "2023-06-03T15:31:24.066Z"
   },
   {
    "duration": 1642,
    "start_time": "2023-06-03T15:33:19.550Z"
   },
   {
    "duration": 943,
    "start_time": "2023-06-03T15:33:21.194Z"
   },
   {
    "duration": 4,
    "start_time": "2023-06-03T15:33:22.139Z"
   },
   {
    "duration": 64,
    "start_time": "2023-06-03T15:33:22.145Z"
   },
   {
    "duration": 19,
    "start_time": "2023-06-03T15:33:22.211Z"
   },
   {
    "duration": 312,
    "start_time": "2023-06-03T15:33:22.232Z"
   },
   {
    "duration": 15,
    "start_time": "2023-06-03T15:33:22.551Z"
   },
   {
    "duration": 59,
    "start_time": "2023-06-03T15:33:22.568Z"
   },
   {
    "duration": 57,
    "start_time": "2023-06-03T15:33:22.629Z"
   },
   {
    "duration": 288,
    "start_time": "2023-06-03T15:33:22.690Z"
   },
   {
    "duration": 9,
    "start_time": "2023-06-03T15:33:22.980Z"
   },
   {
    "duration": 59,
    "start_time": "2023-06-03T15:33:22.991Z"
   },
   {
    "duration": 70,
    "start_time": "2023-06-03T15:33:23.057Z"
   },
   {
    "duration": 172,
    "start_time": "2023-06-03T15:33:23.129Z"
   },
   {
    "duration": 6,
    "start_time": "2023-06-03T15:33:23.303Z"
   },
   {
    "duration": 7,
    "start_time": "2023-06-03T15:33:23.559Z"
   },
   {
    "duration": 15,
    "start_time": "2023-06-03T15:33:23.860Z"
   },
   {
    "duration": 38,
    "start_time": "2023-06-03T15:33:24.172Z"
   },
   {
    "duration": 4,
    "start_time": "2023-06-03T15:33:24.632Z"
   },
   {
    "duration": 8,
    "start_time": "2023-06-03T15:33:25.208Z"
   },
   {
    "duration": 159,
    "start_time": "2023-06-03T15:33:25.529Z"
   },
   {
    "duration": 0,
    "start_time": "2023-06-03T15:33:25.691Z"
   },
   {
    "duration": 96,
    "start_time": "2023-06-03T15:33:25.990Z"
   },
   {
    "duration": 5,
    "start_time": "2023-06-03T15:33:26.160Z"
   },
   {
    "duration": 3,
    "start_time": "2023-06-03T15:33:26.461Z"
   },
   {
    "duration": 3,
    "start_time": "2023-06-03T15:33:26.614Z"
   },
   {
    "duration": 3,
    "start_time": "2023-06-03T15:33:26.782Z"
   },
   {
    "duration": 5,
    "start_time": "2023-06-03T15:33:26.945Z"
   },
   {
    "duration": 9,
    "start_time": "2023-06-03T15:33:27.614Z"
   },
   {
    "duration": 4,
    "start_time": "2023-06-03T15:33:28.289Z"
   },
   {
    "duration": 300,
    "start_time": "2023-06-03T15:33:28.964Z"
   },
   {
    "duration": 6,
    "start_time": "2023-06-03T15:33:29.300Z"
   },
   {
    "duration": 5,
    "start_time": "2023-06-03T15:33:29.921Z"
   },
   {
    "duration": 206,
    "start_time": "2023-06-03T15:33:30.098Z"
   },
   {
    "duration": 10,
    "start_time": "2023-06-03T15:33:30.414Z"
   },
   {
    "duration": 21,
    "start_time": "2023-06-03T15:33:31.071Z"
   },
   {
    "duration": 954,
    "start_time": "2023-06-03T15:33:31.256Z"
   },
   {
    "duration": 17,
    "start_time": "2023-06-03T15:33:32.212Z"
   },
   {
    "duration": 874,
    "start_time": "2023-06-03T15:33:32.589Z"
   },
   {
    "duration": 14,
    "start_time": "2023-06-03T15:33:33.465Z"
   },
   {
    "duration": 933,
    "start_time": "2023-06-03T15:33:33.481Z"
   },
   {
    "duration": 15,
    "start_time": "2023-06-03T15:33:34.416Z"
   },
   {
    "duration": 770,
    "start_time": "2023-06-03T15:33:34.433Z"
   },
   {
    "duration": 617,
    "start_time": "2023-06-03T15:33:35.204Z"
   },
   {
    "duration": 7,
    "start_time": "2023-06-03T15:33:35.824Z"
   },
   {
    "duration": 669,
    "start_time": "2023-06-03T15:33:35.832Z"
   },
   {
    "duration": 76,
    "start_time": "2023-06-03T15:33:36.502Z"
   },
   {
    "duration": 3,
    "start_time": "2023-06-03T15:33:36.707Z"
   },
   {
    "duration": 3,
    "start_time": "2023-06-03T15:33:37.679Z"
   },
   {
    "duration": 6,
    "start_time": "2023-06-03T15:33:38.714Z"
   },
   {
    "duration": 18,
    "start_time": "2023-06-03T15:33:38.761Z"
   },
   {
    "duration": 4,
    "start_time": "2023-06-03T15:33:39.517Z"
   },
   {
    "duration": 621,
    "start_time": "2023-06-03T15:33:40.295Z"
   },
   {
    "duration": 7,
    "start_time": "2023-06-03T15:34:08.009Z"
   },
   {
    "duration": 212,
    "start_time": "2023-06-03T15:34:32.277Z"
   },
   {
    "duration": 5,
    "start_time": "2023-06-03T15:34:35.467Z"
   },
   {
    "duration": 1694,
    "start_time": "2023-06-03T15:35:11.921Z"
   },
   {
    "duration": 921,
    "start_time": "2023-06-03T15:35:13.617Z"
   },
   {
    "duration": 4,
    "start_time": "2023-06-03T15:35:14.540Z"
   },
   {
    "duration": 74,
    "start_time": "2023-06-03T15:35:14.546Z"
   },
   {
    "duration": 19,
    "start_time": "2023-06-03T15:35:14.622Z"
   },
   {
    "duration": 294,
    "start_time": "2023-06-03T15:35:14.643Z"
   },
   {
    "duration": 18,
    "start_time": "2023-06-03T15:35:14.939Z"
   },
   {
    "duration": 27,
    "start_time": "2023-06-03T15:35:14.963Z"
   },
   {
    "duration": 72,
    "start_time": "2023-06-03T15:35:14.992Z"
   },
   {
    "duration": 249,
    "start_time": "2023-06-03T15:35:15.067Z"
   },
   {
    "duration": 8,
    "start_time": "2023-06-03T15:35:15.318Z"
   },
   {
    "duration": 21,
    "start_time": "2023-06-03T15:35:15.376Z"
   },
   {
    "duration": 17,
    "start_time": "2023-06-03T15:35:15.535Z"
   },
   {
    "duration": 143,
    "start_time": "2023-06-03T15:35:15.976Z"
   },
   {
    "duration": 6,
    "start_time": "2023-06-03T15:35:16.122Z"
   },
   {
    "duration": 7,
    "start_time": "2023-06-03T15:35:16.422Z"
   },
   {
    "duration": 24,
    "start_time": "2023-06-03T15:35:16.744Z"
   },
   {
    "duration": 48,
    "start_time": "2023-06-03T15:35:17.944Z"
   },
   {
    "duration": 7,
    "start_time": "2023-06-03T15:35:18.742Z"
   },
   {
    "duration": 10,
    "start_time": "2023-06-03T15:35:19.865Z"
   },
   {
    "duration": 377,
    "start_time": "2023-06-03T15:35:21.124Z"
   },
   {
    "duration": 6,
    "start_time": "2023-06-03T15:35:21.576Z"
   },
   {
    "duration": 99,
    "start_time": "2023-06-03T15:35:23.165Z"
   },
   {
    "duration": 5,
    "start_time": "2023-06-03T15:35:23.766Z"
   },
   {
    "duration": 3,
    "start_time": "2023-06-03T15:35:24.661Z"
   },
   {
    "duration": 3,
    "start_time": "2023-06-03T15:35:24.802Z"
   },
   {
    "duration": 3,
    "start_time": "2023-06-03T15:35:24.976Z"
   },
   {
    "duration": 3,
    "start_time": "2023-06-03T15:35:25.130Z"
   },
   {
    "duration": 10,
    "start_time": "2023-06-03T15:35:26.459Z"
   },
   {
    "duration": 4,
    "start_time": "2023-06-03T15:35:26.984Z"
   },
   {
    "duration": 316,
    "start_time": "2023-06-03T15:35:27.677Z"
   },
   {
    "duration": 10,
    "start_time": "2023-06-03T15:35:28.085Z"
   },
   {
    "duration": 5,
    "start_time": "2023-06-03T15:35:28.659Z"
   },
   {
    "duration": 241,
    "start_time": "2023-06-03T15:35:28.819Z"
   },
   {
    "duration": 7,
    "start_time": "2023-06-03T15:35:29.084Z"
   },
   {
    "duration": 20,
    "start_time": "2023-06-03T15:35:29.660Z"
   },
   {
    "duration": 856,
    "start_time": "2023-06-03T15:35:29.801Z"
   },
   {
    "duration": 18,
    "start_time": "2023-06-03T15:35:30.660Z"
   },
   {
    "duration": 861,
    "start_time": "2023-06-03T15:35:31.243Z"
   },
   {
    "duration": 14,
    "start_time": "2023-06-03T15:35:32.106Z"
   },
   {
    "duration": 1045,
    "start_time": "2023-06-03T15:35:32.253Z"
   },
   {
    "duration": 14,
    "start_time": "2023-06-03T15:35:33.300Z"
   },
   {
    "duration": 743,
    "start_time": "2023-06-03T15:35:33.316Z"
   },
   {
    "duration": 641,
    "start_time": "2023-06-03T15:35:34.062Z"
   },
   {
    "duration": 7,
    "start_time": "2023-06-03T15:35:34.706Z"
   },
   {
    "duration": 621,
    "start_time": "2023-06-03T15:35:34.715Z"
   },
   {
    "duration": 56,
    "start_time": "2023-06-03T15:35:35.801Z"
   },
   {
    "duration": 4,
    "start_time": "2023-06-03T15:35:37.392Z"
   },
   {
    "duration": 3,
    "start_time": "2023-06-03T15:35:38.490Z"
   },
   {
    "duration": 11,
    "start_time": "2023-06-03T15:35:39.441Z"
   },
   {
    "duration": 28,
    "start_time": "2023-06-03T15:35:40.339Z"
   },
   {
    "duration": 6,
    "start_time": "2023-06-03T15:35:41.698Z"
   },
   {
    "duration": 28238,
    "start_time": "2023-06-03T15:35:43.113Z"
   },
   {
    "duration": 220,
    "start_time": "2023-06-03T15:36:11.361Z"
   },
   {
    "duration": 16,
    "start_time": "2023-06-03T15:37:49.485Z"
   },
   {
    "duration": 953374,
    "start_time": "2023-06-03T15:39:27.591Z"
   },
   {
    "duration": 8,
    "start_time": "2023-06-03T16:24:07.594Z"
   },
   {
    "duration": 55452,
    "start_time": "2023-06-03T16:25:01.898Z"
   },
   {
    "duration": 11,
    "start_time": "2023-06-03T16:27:08.458Z"
   },
   {
    "duration": 6,
    "start_time": "2023-06-03T16:27:13.959Z"
   },
   {
    "duration": 6,
    "start_time": "2023-06-03T16:27:16.478Z"
   },
   {
    "duration": 64385,
    "start_time": "2023-06-03T16:27:17.982Z"
   }
  ],
  "kernelspec": {
   "display_name": "Python 3 (ipykernel)",
   "language": "python",
   "name": "python3"
  },
  "language_info": {
   "codemirror_mode": {
    "name": "ipython",
    "version": 3
   },
   "file_extension": ".py",
   "mimetype": "text/x-python",
   "name": "python",
   "nbconvert_exporter": "python",
   "pygments_lexer": "ipython3",
   "version": "3.9.5"
  },
  "toc": {
   "base_numbering": 1,
   "nav_menu": {},
   "number_sections": true,
   "sideBar": true,
   "skip_h1_title": true,
   "title_cell": "Table of Contents",
   "title_sidebar": "Contents",
   "toc_cell": false,
   "toc_position": {},
   "toc_section_display": true,
   "toc_window_display": false
  }
 },
 "nbformat": 4,
 "nbformat_minor": 5
}
